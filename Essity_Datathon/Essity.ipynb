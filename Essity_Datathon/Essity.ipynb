{
  "nbformat": 4,
  "nbformat_minor": 0,
  "metadata": {
    "colab": {
      "name": "Essity.ipynb",
      "provenance": [],
      "toc_visible": true
    },
    "kernelspec": {
      "name": "python3",
      "display_name": "Python 3"
    }
  },
  "cells": [
    {
      "cell_type": "markdown",
      "metadata": {
        "id": "BS3fX73VuZfa"
      },
      "source": [
        "# <center> IoT Dispenser Product Analysis </center>\r\n",
        "\r\n",
        "\r\n",
        "\r\n",
        "<a id=\"1\"></a>\r\n",
        "### 1. About the dataset\r\n",
        "\r\n",
        ">Essity has different kinds of sensors in its products at installed locations.  They track and store data, for example, how full or empty a dispenser is.  There are about 500 – 600 buildings with these types of connected products, including some airports.\r\n",
        "\r\n",
        "> This dataset includes 15 largest customers for 1 year, Jan. 2019 – Jan. 2020.\r\n",
        "\r\n",
        "> Some big customers have more than 100 sensors and/or more than 1000 units.  Mostly airports, amusement parks, large office buildings, etc.\r\n"
      ]
    },
    {
      "cell_type": "code",
      "metadata": {
        "id": "Aaeb2WCGHEqf"
      },
      "source": [
        "from google.colab import drive\n",
        "import os\n",
        "import pandas as pd\n",
        "from tqdm import tqdm\n",
        "import datetime\n",
        "import re\n",
        "import numpy as np\n",
        "from random import sample\n",
        "from sklearn.ensemble import RandomForestClassifier\n",
        "import seaborn as sns\n",
        "import sklearn\n",
        "from matplotlib import pyplot as plt\n",
        "from sklearn.preprocessing import StandardScaler"
      ],
      "execution_count": 1,
      "outputs": []
    },
    {
      "cell_type": "markdown",
      "metadata": {
        "id": "DfAaTFVruk_g"
      },
      "source": [
        "<a id = \"3\"></a>\r\n",
        "### 2. Importing Data"
      ]
    },
    {
      "cell_type": "code",
      "metadata": {
        "colab": {
          "base_uri": "https://localhost:8080/"
        },
        "id": "Fn1CTTyYuf5i",
        "outputId": "e5d44b4a-4e82-41f6-e198-2ecb7d4c4f84"
      },
      "source": [
        "drive.mount('/content/drive')\r\n",
        "os.listdir('/content/drive/MyDrive/Data')"
      ],
      "execution_count": 2,
      "outputs": [
        {
          "output_type": "stream",
          "text": [
            "Mounted at /content/drive\n"
          ],
          "name": "stdout"
        },
        {
          "output_type": "execute_result",
          "data": {
            "text/plain": [
              "['finishedtasks.csv',\n",
              " 'refillassortment.csv',\n",
              " 'scu_log.csv',\n",
              " 'locations.csv',\n",
              " 'plans.csv',\n",
              " 'planlocations.csv',\n",
              " 'dispensers.csv',\n",
              " 'sites.csv',\n",
              " 'sitedefaultrefills.csv',\n",
              " 'users.csv',\n",
              " 'vru_log.csv']"
            ]
          },
          "metadata": {
            "tags": []
          },
          "execution_count": 2
        }
      ]
    },
    {
      "cell_type": "code",
      "metadata": {
        "colab": {
          "base_uri": "https://localhost:8080/"
        },
        "id": "KORJ9cuHvrZz",
        "outputId": "18893e81-8227-4c5f-cbc8-8d7b3ed0c198"
      },
      "source": [
        "base_dir = '/content/drive/MyDrive/Data'\n",
        "files = os.listdir(base_dir)\n",
        "files_dic = {}\n",
        "for file in tqdm(files):\n",
        "  name = file.split('.')[0]\n",
        "  file_dir = base_dir + '/' + file\n",
        "  df_name = name + '_df'\n",
        "  files_dic[df_name] = pd.read_csv(file_dir,error_bad_lines=False,sep = ';')"
      ],
      "execution_count": 3,
      "outputs": [
        {
          "output_type": "stream",
          "text": [
            "100%|██████████| 11/11 [00:34<00:00,  3.12s/it]\n"
          ],
          "name": "stderr"
        }
      ]
    },
    {
      "cell_type": "code",
      "metadata": {
        "id": "gNciH18fu7Uf"
      },
      "source": [
        "sites = files_dic['sites_df']\r\n",
        "locations = files_dic['locations_df']\r\n",
        "dispensers = files_dic['dispensers_df']\r\n",
        "plans = files_dic['plans_df']\r\n",
        "planlocations = files_dic['planlocations_df']\r\n",
        "finishedtasks = files_dic['finishedtasks_df']\r\n",
        "users = files_dic['users_df']\r\n",
        "sitedefaultrefills = files_dic['sitedefaultrefills_df']\r\n",
        "refillassortment = files_dic['refillassortment_df']\r\n",
        "vru = files_dic['vru_log_df']\r\n",
        "scu = files_dic['scu_log_df']"
      ],
      "execution_count": 4,
      "outputs": []
    },
    {
      "cell_type": "markdown",
      "metadata": {
        "id": "KJk-yEf4O7MC"
      },
      "source": [
        "##EDA"
      ]
    },
    {
      "cell_type": "markdown",
      "metadata": {
        "id": "ZbfYOwqLv5aA"
      },
      "source": [
        "### EDA of dispensers, scu, vru, and finishedtasks dataframe\r\n",
        "\r\n",
        "> Since we choose to analyze the product insight, dispensers, scu, vru, and finishedtasks dataframes are the table needed."
      ]
    },
    {
      "cell_type": "code",
      "metadata": {
        "colab": {
          "base_uri": "https://localhost:8080/"
        },
        "id": "mu8crVo804WE",
        "outputId": "5fef1a16-8cd5-467c-db5f-88c3064b148e"
      },
      "source": [
        "#installation\r\n",
        "!pip install folium\r\n",
        "# Create a world map to show distributions of users \r\n",
        "import folium\r\n",
        "from folium.plugins import MarkerCluster\r\n",
        "#empty map\r\n",
        "world_map= folium.Map(tiles='openstreetmap')\r\n",
        "marker_cluster = MarkerCluster().add_to(world_map)"
      ],
      "execution_count": null,
      "outputs": [
        {
          "output_type": "stream",
          "text": [
            "Requirement already satisfied: folium in /usr/local/lib/python3.6/dist-packages (0.8.3)\n",
            "Requirement already satisfied: requests in /usr/local/lib/python3.6/dist-packages (from folium) (2.23.0)\n",
            "Requirement already satisfied: six in /usr/local/lib/python3.6/dist-packages (from folium) (1.15.0)\n",
            "Requirement already satisfied: branca>=0.3.0 in /usr/local/lib/python3.6/dist-packages (from folium) (0.4.2)\n",
            "Requirement already satisfied: numpy in /usr/local/lib/python3.6/dist-packages (from folium) (1.19.5)\n",
            "Requirement already satisfied: jinja2 in /usr/local/lib/python3.6/dist-packages (from folium) (2.11.2)\n",
            "Requirement already satisfied: urllib3!=1.25.0,!=1.25.1,<1.26,>=1.21.1 in /usr/local/lib/python3.6/dist-packages (from requests->folium) (1.24.3)\n",
            "Requirement already satisfied: chardet<4,>=3.0.2 in /usr/local/lib/python3.6/dist-packages (from requests->folium) (3.0.4)\n",
            "Requirement already satisfied: idna<3,>=2.5 in /usr/local/lib/python3.6/dist-packages (from requests->folium) (2.10)\n",
            "Requirement already satisfied: certifi>=2017.4.17 in /usr/local/lib/python3.6/dist-packages (from requests->folium) (2020.12.5)\n",
            "Requirement already satisfied: MarkupSafe>=0.23 in /usr/local/lib/python3.6/dist-packages (from jinja2->folium) (1.1.1)\n"
          ],
          "name": "stdout"
        }
      ]
    },
    {
      "cell_type": "code",
      "metadata": {
        "id": "PdoWLvay05MC"
      },
      "source": [
        "site_cleaned = sites.drop(columns=['SiteName', 'CreatedAt', 'UpdatedAt', 'SubscriptionName', 'SubscriptionStart', 'SubscriptionEnd', \\\r\n",
        "                   'SubscriptionIsActive', 'SubscriptionProductCode', 'SubscriptionProductName', 'SubscriptionProductDescription'], inplace=False)\r\n",
        "CountryName = ['Germany', 'Sweden', 'Sweden', 'Sweden', 'Switzerland', 'Netherlands', 'Sweden', 'Norway', 'Switzerland', \\\r\n",
        "               'United Kingdom', 'Denmark', 'Norway', 'Singapore', 'United Kingdom', 'Singapore']\r\n",
        "site_cleaned['CountryName'] = CountryName"
      ],
      "execution_count": null,
      "outputs": []
    },
    {
      "cell_type": "code",
      "metadata": {
        "id": "vkjF4XPj1F8j"
      },
      "source": [
        ""
      ],
      "execution_count": null,
      "outputs": []
    },
    {
      "cell_type": "markdown",
      "metadata": {
        "id": "GkSvquthwCmS"
      },
      "source": [
        "#### Find missing values"
      ]
    },
    {
      "cell_type": "code",
      "metadata": {
        "colab": {
          "base_uri": "https://localhost:8080/",
          "height": 328
        },
        "id": "WKudu2BSv4Vt",
        "outputId": "6597a824-578a-4d9b-cc8b-cab265e032c3"
      },
      "source": [
        "#### Find missing values\r\n",
        "missing_data = pd.DataFrame({'total_missing': dispensers.isnull().sum(), 'perc_missing': (dispensers.isnull().sum()/len(dispensers))*100})\r\n",
        "missing_data"
      ],
      "execution_count": null,
      "outputs": [
        {
          "output_type": "execute_result",
          "data": {
            "text/html": [
              "<div>\n",
              "<style scoped>\n",
              "    .dataframe tbody tr th:only-of-type {\n",
              "        vertical-align: middle;\n",
              "    }\n",
              "\n",
              "    .dataframe tbody tr th {\n",
              "        vertical-align: top;\n",
              "    }\n",
              "\n",
              "    .dataframe thead th {\n",
              "        text-align: right;\n",
              "    }\n",
              "</style>\n",
              "<table border=\"1\" class=\"dataframe\">\n",
              "  <thead>\n",
              "    <tr style=\"text-align: right;\">\n",
              "      <th></th>\n",
              "      <th>total_missing</th>\n",
              "      <th>perc_missing</th>\n",
              "    </tr>\n",
              "  </thead>\n",
              "  <tbody>\n",
              "    <tr>\n",
              "      <th>DispenserId</th>\n",
              "      <td>0</td>\n",
              "      <td>0.000000</td>\n",
              "    </tr>\n",
              "    <tr>\n",
              "      <th>LocationId</th>\n",
              "      <td>0</td>\n",
              "      <td>0.000000</td>\n",
              "    </tr>\n",
              "    <tr>\n",
              "      <th>DispenserArticleNumber</th>\n",
              "      <td>0</td>\n",
              "      <td>0.000000</td>\n",
              "    </tr>\n",
              "    <tr>\n",
              "      <th>IsProvisioned</th>\n",
              "      <td>0</td>\n",
              "      <td>0.000000</td>\n",
              "    </tr>\n",
              "    <tr>\n",
              "      <th>CreatedAt</th>\n",
              "      <td>0</td>\n",
              "      <td>0.000000</td>\n",
              "    </tr>\n",
              "    <tr>\n",
              "      <th>DispenserType</th>\n",
              "      <td>0</td>\n",
              "      <td>0.000000</td>\n",
              "    </tr>\n",
              "    <tr>\n",
              "      <th>NumberOfSensors</th>\n",
              "      <td>0</td>\n",
              "      <td>0.000000</td>\n",
              "    </tr>\n",
              "    <tr>\n",
              "      <th>ProductName</th>\n",
              "      <td>0</td>\n",
              "      <td>0.000000</td>\n",
              "    </tr>\n",
              "    <tr>\n",
              "      <th>RefillArticleNumber</th>\n",
              "      <td>739</td>\n",
              "      <td>15.834583</td>\n",
              "    </tr>\n",
              "  </tbody>\n",
              "</table>\n",
              "</div>"
            ],
            "text/plain": [
              "                        total_missing  perc_missing\n",
              "DispenserId                         0      0.000000\n",
              "LocationId                          0      0.000000\n",
              "DispenserArticleNumber              0      0.000000\n",
              "IsProvisioned                       0      0.000000\n",
              "CreatedAt                           0      0.000000\n",
              "DispenserType                       0      0.000000\n",
              "NumberOfSensors                     0      0.000000\n",
              "ProductName                         0      0.000000\n",
              "RefillArticleNumber               739     15.834583"
            ]
          },
          "metadata": {
            "tags": []
          },
          "execution_count": 10
        }
      ]
    },
    {
      "cell_type": "code",
      "metadata": {
        "colab": {
          "base_uri": "https://localhost:8080/",
          "height": 669
        },
        "id": "99F51Bzcv4Yy",
        "outputId": "76c8a384-8e41-4620-c62a-c98523ff8fa8"
      },
      "source": [
        "missing_data = pd.DataFrame({'total_missing': scu.isnull().sum(), 'perc_missing': (scu.isnull().sum()/len(scu))*100})\r\n",
        "missing_data"
      ],
      "execution_count": null,
      "outputs": [
        {
          "output_type": "execute_result",
          "data": {
            "text/html": [
              "<div>\n",
              "<style scoped>\n",
              "    .dataframe tbody tr th:only-of-type {\n",
              "        vertical-align: middle;\n",
              "    }\n",
              "\n",
              "    .dataframe tbody tr th {\n",
              "        vertical-align: top;\n",
              "    }\n",
              "\n",
              "    .dataframe thead th {\n",
              "        text-align: right;\n",
              "    }\n",
              "</style>\n",
              "<table border=\"1\" class=\"dataframe\">\n",
              "  <thead>\n",
              "    <tr style=\"text-align: right;\">\n",
              "      <th></th>\n",
              "      <th>total_missing</th>\n",
              "      <th>perc_missing</th>\n",
              "    </tr>\n",
              "  </thead>\n",
              "  <tbody>\n",
              "    <tr>\n",
              "      <th>scu_id</th>\n",
              "      <td>0</td>\n",
              "      <td>0.0</td>\n",
              "    </tr>\n",
              "    <tr>\n",
              "      <th>timestamp</th>\n",
              "      <td>0</td>\n",
              "      <td>0.0</td>\n",
              "    </tr>\n",
              "    <tr>\n",
              "      <th>manufacture_year</th>\n",
              "      <td>0</td>\n",
              "      <td>0.0</td>\n",
              "    </tr>\n",
              "    <tr>\n",
              "      <th>sensor1</th>\n",
              "      <td>0</td>\n",
              "      <td>0.0</td>\n",
              "    </tr>\n",
              "    <tr>\n",
              "      <th>sensor2</th>\n",
              "      <td>0</td>\n",
              "      <td>0.0</td>\n",
              "    </tr>\n",
              "    <tr>\n",
              "      <th>gen_counter</th>\n",
              "      <td>0</td>\n",
              "      <td>0.0</td>\n",
              "    </tr>\n",
              "    <tr>\n",
              "      <th>batterylevel</th>\n",
              "      <td>0</td>\n",
              "      <td>0.0</td>\n",
              "    </tr>\n",
              "    <tr>\n",
              "      <th>signal_quality</th>\n",
              "      <td>0</td>\n",
              "      <td>0.0</td>\n",
              "    </tr>\n",
              "    <tr>\n",
              "      <th>signal_strength</th>\n",
              "      <td>0</td>\n",
              "      <td>0.0</td>\n",
              "    </tr>\n",
              "    <tr>\n",
              "      <th>software_version</th>\n",
              "      <td>0</td>\n",
              "      <td>0.0</td>\n",
              "    </tr>\n",
              "    <tr>\n",
              "      <th>DispenserId</th>\n",
              "      <td>0</td>\n",
              "      <td>0.0</td>\n",
              "    </tr>\n",
              "    <tr>\n",
              "      <th>intervall</th>\n",
              "      <td>0</td>\n",
              "      <td>0.0</td>\n",
              "    </tr>\n",
              "    <tr>\n",
              "      <th>empty_level</th>\n",
              "      <td>0</td>\n",
              "      <td>0.0</td>\n",
              "    </tr>\n",
              "    <tr>\n",
              "      <th>full_level</th>\n",
              "      <td>0</td>\n",
              "      <td>0.0</td>\n",
              "    </tr>\n",
              "    <tr>\n",
              "      <th>hysteresis</th>\n",
              "      <td>0</td>\n",
              "      <td>0.0</td>\n",
              "    </tr>\n",
              "    <tr>\n",
              "      <th>linked_scu_id</th>\n",
              "      <td>0</td>\n",
              "      <td>0.0</td>\n",
              "    </tr>\n",
              "    <tr>\n",
              "      <th>linked_scu_manufacture_year</th>\n",
              "      <td>0</td>\n",
              "      <td>0.0</td>\n",
              "    </tr>\n",
              "    <tr>\n",
              "      <th>link_pos</th>\n",
              "      <td>0</td>\n",
              "      <td>0.0</td>\n",
              "    </tr>\n",
              "    <tr>\n",
              "      <th>dispenser_type</th>\n",
              "      <td>0</td>\n",
              "      <td>0.0</td>\n",
              "    </tr>\n",
              "    <tr>\n",
              "      <th>scuStatus</th>\n",
              "      <td>0</td>\n",
              "      <td>0.0</td>\n",
              "    </tr>\n",
              "  </tbody>\n",
              "</table>\n",
              "</div>"
            ],
            "text/plain": [
              "                             total_missing  perc_missing\n",
              "scu_id                                   0           0.0\n",
              "timestamp                                0           0.0\n",
              "manufacture_year                         0           0.0\n",
              "sensor1                                  0           0.0\n",
              "sensor2                                  0           0.0\n",
              "gen_counter                              0           0.0\n",
              "batterylevel                             0           0.0\n",
              "signal_quality                           0           0.0\n",
              "signal_strength                          0           0.0\n",
              "software_version                         0           0.0\n",
              "DispenserId                              0           0.0\n",
              "intervall                                0           0.0\n",
              "empty_level                              0           0.0\n",
              "full_level                               0           0.0\n",
              "hysteresis                               0           0.0\n",
              "linked_scu_id                            0           0.0\n",
              "linked_scu_manufacture_year              0           0.0\n",
              "link_pos                                 0           0.0\n",
              "dispenser_type                           0           0.0\n",
              "scuStatus                                0           0.0"
            ]
          },
          "metadata": {
            "tags": []
          },
          "execution_count": 11
        }
      ]
    },
    {
      "cell_type": "code",
      "metadata": {
        "colab": {
          "base_uri": "https://localhost:8080/",
          "height": 576
        },
        "id": "rCjkf_qmv4bX",
        "outputId": "a0e6396b-3928-4eda-aac1-78b82855e1b6"
      },
      "source": [
        "missing_data = pd.DataFrame({'total_missing': vru.isnull().sum(), 'perc_missing': (vru.isnull().sum()/len(vru))*100})\r\n",
        "missing_data"
      ],
      "execution_count": null,
      "outputs": [
        {
          "output_type": "execute_result",
          "data": {
            "text/html": [
              "<div>\n",
              "<style scoped>\n",
              "    .dataframe tbody tr th:only-of-type {\n",
              "        vertical-align: middle;\n",
              "    }\n",
              "\n",
              "    .dataframe tbody tr th {\n",
              "        vertical-align: top;\n",
              "    }\n",
              "\n",
              "    .dataframe thead th {\n",
              "        text-align: right;\n",
              "    }\n",
              "</style>\n",
              "<table border=\"1\" class=\"dataframe\">\n",
              "  <thead>\n",
              "    <tr style=\"text-align: right;\">\n",
              "      <th></th>\n",
              "      <th>total_missing</th>\n",
              "      <th>perc_missing</th>\n",
              "    </tr>\n",
              "  </thead>\n",
              "  <tbody>\n",
              "    <tr>\n",
              "      <th>intcnt</th>\n",
              "      <td>0</td>\n",
              "      <td>0.0</td>\n",
              "    </tr>\n",
              "    <tr>\n",
              "      <th>id</th>\n",
              "      <td>0</td>\n",
              "      <td>0.0</td>\n",
              "    </tr>\n",
              "    <tr>\n",
              "      <th>vru_id</th>\n",
              "      <td>0</td>\n",
              "      <td>0.0</td>\n",
              "    </tr>\n",
              "    <tr>\n",
              "      <th>manufacture_year</th>\n",
              "      <td>0</td>\n",
              "      <td>0.0</td>\n",
              "    </tr>\n",
              "    <tr>\n",
              "      <th>timestamp</th>\n",
              "      <td>0</td>\n",
              "      <td>0.0</td>\n",
              "    </tr>\n",
              "    <tr>\n",
              "      <th>counter_in</th>\n",
              "      <td>0</td>\n",
              "      <td>0.0</td>\n",
              "    </tr>\n",
              "    <tr>\n",
              "      <th>counter_out</th>\n",
              "      <td>0</td>\n",
              "      <td>0.0</td>\n",
              "    </tr>\n",
              "    <tr>\n",
              "      <th>batterylevel</th>\n",
              "      <td>0</td>\n",
              "      <td>0.0</td>\n",
              "    </tr>\n",
              "    <tr>\n",
              "      <th>signal_quality</th>\n",
              "      <td>0</td>\n",
              "      <td>0.0</td>\n",
              "    </tr>\n",
              "    <tr>\n",
              "      <th>signal_strength</th>\n",
              "      <td>0</td>\n",
              "      <td>0.0</td>\n",
              "    </tr>\n",
              "    <tr>\n",
              "      <th>software_version</th>\n",
              "      <td>0</td>\n",
              "      <td>0.0</td>\n",
              "    </tr>\n",
              "    <tr>\n",
              "      <th>dcu_id</th>\n",
              "      <td>0</td>\n",
              "      <td>0.0</td>\n",
              "    </tr>\n",
              "    <tr>\n",
              "      <th>dcu_version</th>\n",
              "      <td>0</td>\n",
              "      <td>0.0</td>\n",
              "    </tr>\n",
              "    <tr>\n",
              "      <th>count_in_from_sensor</th>\n",
              "      <td>0</td>\n",
              "      <td>0.0</td>\n",
              "    </tr>\n",
              "    <tr>\n",
              "      <th>count_out_from_sensor</th>\n",
              "      <td>0</td>\n",
              "      <td>0.0</td>\n",
              "    </tr>\n",
              "    <tr>\n",
              "      <th>status</th>\n",
              "      <td>0</td>\n",
              "      <td>0.0</td>\n",
              "    </tr>\n",
              "    <tr>\n",
              "      <th>PeopleCounterId</th>\n",
              "      <td>0</td>\n",
              "      <td>0.0</td>\n",
              "    </tr>\n",
              "  </tbody>\n",
              "</table>\n",
              "</div>"
            ],
            "text/plain": [
              "                       total_missing  perc_missing\n",
              "intcnt                             0           0.0\n",
              "id                                 0           0.0\n",
              "vru_id                             0           0.0\n",
              "manufacture_year                   0           0.0\n",
              "timestamp                          0           0.0\n",
              "counter_in                         0           0.0\n",
              "counter_out                        0           0.0\n",
              "batterylevel                       0           0.0\n",
              "signal_quality                     0           0.0\n",
              "signal_strength                    0           0.0\n",
              "software_version                   0           0.0\n",
              "dcu_id                             0           0.0\n",
              "dcu_version                        0           0.0\n",
              "count_in_from_sensor               0           0.0\n",
              "count_out_from_sensor              0           0.0\n",
              "status                             0           0.0\n",
              "PeopleCounterId                    0           0.0"
            ]
          },
          "metadata": {
            "tags": []
          },
          "execution_count": 12
        }
      ]
    },
    {
      "cell_type": "code",
      "metadata": {
        "colab": {
          "base_uri": "https://localhost:8080/",
          "height": 297
        },
        "id": "VsXNGid2v4dx",
        "outputId": "e27e3d9e-54a9-4070-80b0-3540e5cb476d"
      },
      "source": [
        "missing_data = pd.DataFrame({'total_mising' : finishedtasks.isnull().sum(), 'perc_missing': (finishedtasks.isnull().sum()/len(finishedtasks)*100)})\r\n",
        "missing_data"
      ],
      "execution_count": null,
      "outputs": [
        {
          "output_type": "execute_result",
          "data": {
            "text/html": [
              "<div>\n",
              "<style scoped>\n",
              "    .dataframe tbody tr th:only-of-type {\n",
              "        vertical-align: middle;\n",
              "    }\n",
              "\n",
              "    .dataframe tbody tr th {\n",
              "        vertical-align: top;\n",
              "    }\n",
              "\n",
              "    .dataframe thead th {\n",
              "        text-align: right;\n",
              "    }\n",
              "</style>\n",
              "<table border=\"1\" class=\"dataframe\">\n",
              "  <thead>\n",
              "    <tr style=\"text-align: right;\">\n",
              "      <th></th>\n",
              "      <th>total_mising</th>\n",
              "      <th>perc_missing</th>\n",
              "    </tr>\n",
              "  </thead>\n",
              "  <tbody>\n",
              "    <tr>\n",
              "      <th>CleaningRoundId</th>\n",
              "      <td>0</td>\n",
              "      <td>0.000000</td>\n",
              "    </tr>\n",
              "    <tr>\n",
              "      <th>PlanId</th>\n",
              "      <td>0</td>\n",
              "      <td>0.000000</td>\n",
              "    </tr>\n",
              "    <tr>\n",
              "      <th>CleaningMode</th>\n",
              "      <td>0</td>\n",
              "      <td>0.000000</td>\n",
              "    </tr>\n",
              "    <tr>\n",
              "      <th>CleaningRoundStartedAt</th>\n",
              "      <td>0</td>\n",
              "      <td>0.000000</td>\n",
              "    </tr>\n",
              "    <tr>\n",
              "      <th>CleaningRoundCompletedAt</th>\n",
              "      <td>9250</td>\n",
              "      <td>0.605737</td>\n",
              "    </tr>\n",
              "    <tr>\n",
              "      <th>LocationId</th>\n",
              "      <td>0</td>\n",
              "      <td>0.000000</td>\n",
              "    </tr>\n",
              "    <tr>\n",
              "      <th>TaskCompleted</th>\n",
              "      <td>0</td>\n",
              "      <td>0.000000</td>\n",
              "    </tr>\n",
              "    <tr>\n",
              "      <th>QualityAssessment</th>\n",
              "      <td>1192066</td>\n",
              "      <td>78.062507</td>\n",
              "    </tr>\n",
              "  </tbody>\n",
              "</table>\n",
              "</div>"
            ],
            "text/plain": [
              "                          total_mising  perc_missing\n",
              "CleaningRoundId                      0      0.000000\n",
              "PlanId                               0      0.000000\n",
              "CleaningMode                         0      0.000000\n",
              "CleaningRoundStartedAt               0      0.000000\n",
              "CleaningRoundCompletedAt          9250      0.605737\n",
              "LocationId                           0      0.000000\n",
              "TaskCompleted                        0      0.000000\n",
              "QualityAssessment              1192066     78.062507"
            ]
          },
          "metadata": {
            "tags": []
          },
          "execution_count": 13
        }
      ]
    },
    {
      "cell_type": "markdown",
      "metadata": {
        "id": "9dwpgK55wWnw"
      },
      "source": [
        "Luckily, there is no missing value in the key parameters.\r\n",
        "#### Find number of different type of products/dispensers using dispensers dataframe"
      ]
    },
    {
      "cell_type": "code",
      "metadata": {
        "colab": {
          "base_uri": "https://localhost:8080/",
          "height": 372
        },
        "id": "3CHM7R-7v4gD",
        "outputId": "28f5f6e5-9a1b-45c1-f8dc-e5d862a97ffd"
      },
      "source": [
        "df = dispensers.groupby(\"ProductName\")[\"DispenserType\"].count().reset_index()\r\n",
        "df.columns=[\"ProductName\", \"Number\"]\r\n",
        "df = df.sort_values(by = \"Number\", ascending=False)\r\n",
        "aab= dispensers.groupby(\"DispenserType\")[\"ProductName\"].count().reset_index()\r\n",
        "aab.sort_values(by = \"ProductName\", ascending=False)\r\n",
        "name = df[\"ProductName\"].tolist()\r\n",
        "type1 = aab[\"DispenserType\"].tolist()\r\n",
        "DispenserName = []\r\n",
        "number = df.Number.tolist()\r\n",
        "for i in range(len(name)):\r\n",
        "  new = name[i]+\"/\"+type1[i]\r\n",
        "  DispenserName.append(new)\r\n",
        "df = pd.DataFrame({\"Dispenser\": DispenserName, \"Number\":number})\r\n",
        "sns.set()\r\n",
        "plt.figure(figsize=(10,5))\r\n",
        "x_vals = df[\"Dispenser\"]\r\n",
        "y_vals = df[\"Number\"]\r\n",
        "sns.barplot(x=y_vals, y=x_vals, palette='vlag_r')\r\n",
        "plt.title(\"Total Number of Products Used In All Sites\")"
      ],
      "execution_count": null,
      "outputs": [
        {
          "output_type": "execute_result",
          "data": {
            "text/plain": [
              "Text(0.5, 1.0, 'Total Number of Products Used In All Sites')"
            ]
          },
          "metadata": {
            "tags": []
          },
          "execution_count": 15
        },
        {
          "output_type": "display_data",
          "data": {
            "image/png": "[encoded data removed]",
            "text/plain": [
              "<Figure size 720x360 with 1 Axes>"
            ]
          },
          "metadata": {
            "tags": []
          }
        }
      ]
    },
    {
      "cell_type": "markdown",
      "metadata": {
        "id": "vnz4KwC7wgmu"
      },
      "source": [
        "## Average Lag Time Analysis\r\n",
        "This part analyzed the average lag time to refill each type of dispensers in different sites.\r\n"
      ]
    },
    {
      "cell_type": "code",
      "metadata": {
        "colab": {
          "base_uri": "https://localhost:8080/",
          "height": 309
        },
        "id": "lePfaVQFv4iT",
        "outputId": "b82e0803-d227-4496-9afd-40cdc8713eb0"
      },
      "source": [
        "df = dispensers.merge(locations[[\"LocationId\",\"SiteId\"]], on = \"LocationId\")\r\n",
        "df = df[[\"DispenserId\", \"SiteId\",\"LocationId\", \"DispenserType\"]]\r\n",
        "scu_action = scu.merge(df, how = \"inner\", on = \"DispenserId\")\r\n",
        "scu_action.head()"
      ],
      "execution_count": null,
      "outputs": [
        {
          "output_type": "execute_result",
          "data": {
            "text/html": [
              "<div>\n",
              "<style scoped>\n",
              "    .dataframe tbody tr th:only-of-type {\n",
              "        vertical-align: middle;\n",
              "    }\n",
              "\n",
              "    .dataframe tbody tr th {\n",
              "        vertical-align: top;\n",
              "    }\n",
              "\n",
              "    .dataframe thead th {\n",
              "        text-align: right;\n",
              "    }\n",
              "</style>\n",
              "<table border=\"1\" class=\"dataframe\">\n",
              "  <thead>\n",
              "    <tr style=\"text-align: right;\">\n",
              "      <th></th>\n",
              "      <th>scu_id</th>\n",
              "      <th>timestamp</th>\n",
              "      <th>manufacture_year</th>\n",
              "      <th>sensor1</th>\n",
              "      <th>sensor2</th>\n",
              "      <th>gen_counter</th>\n",
              "      <th>batterylevel</th>\n",
              "      <th>signal_quality</th>\n",
              "      <th>signal_strength</th>\n",
              "      <th>software_version</th>\n",
              "      <th>DispenserId</th>\n",
              "      <th>intervall</th>\n",
              "      <th>empty_level</th>\n",
              "      <th>full_level</th>\n",
              "      <th>hysteresis</th>\n",
              "      <th>linked_scu_id</th>\n",
              "      <th>linked_scu_manufacture_year</th>\n",
              "      <th>link_pos</th>\n",
              "      <th>dispenser_type</th>\n",
              "      <th>scuStatus</th>\n",
              "      <th>SiteId</th>\n",
              "      <th>LocationId</th>\n",
              "      <th>DispenserType</th>\n",
              "    </tr>\n",
              "  </thead>\n",
              "  <tbody>\n",
              "    <tr>\n",
              "      <th>0</th>\n",
              "      <td>9617</td>\n",
              "      <td>2019-01-01 00:00:01.0000000</td>\n",
              "      <td>10</td>\n",
              "      <td>1347</td>\n",
              "      <td>64</td>\n",
              "      <td>0</td>\n",
              "      <td>2970</td>\n",
              "      <td>255</td>\n",
              "      <td>67</td>\n",
              "      <td>6</td>\n",
              "      <td>2892</td>\n",
              "      <td>30</td>\n",
              "      <td>700</td>\n",
              "      <td>250</td>\n",
              "      <td>50</td>\n",
              "      <td>0</td>\n",
              "      <td>0</td>\n",
              "      <td>0</td>\n",
              "      <td>T2TwinB</td>\n",
              "      <td>Green</td>\n",
              "      <td>9</td>\n",
              "      <td>1641</td>\n",
              "      <td>T2</td>\n",
              "    </tr>\n",
              "    <tr>\n",
              "      <th>1</th>\n",
              "      <td>9617</td>\n",
              "      <td>2019-01-02 00:00:00.0000000</td>\n",
              "      <td>10</td>\n",
              "      <td>1346</td>\n",
              "      <td>64</td>\n",
              "      <td>0</td>\n",
              "      <td>2970</td>\n",
              "      <td>255</td>\n",
              "      <td>67</td>\n",
              "      <td>6</td>\n",
              "      <td>2892</td>\n",
              "      <td>30</td>\n",
              "      <td>700</td>\n",
              "      <td>250</td>\n",
              "      <td>50</td>\n",
              "      <td>0</td>\n",
              "      <td>0</td>\n",
              "      <td>0</td>\n",
              "      <td>T2TwinB</td>\n",
              "      <td>Green</td>\n",
              "      <td>9</td>\n",
              "      <td>1641</td>\n",
              "      <td>T2</td>\n",
              "    </tr>\n",
              "    <tr>\n",
              "      <th>2</th>\n",
              "      <td>9617</td>\n",
              "      <td>2019-01-02 23:59:59.0000000</td>\n",
              "      <td>10</td>\n",
              "      <td>1340</td>\n",
              "      <td>64</td>\n",
              "      <td>0</td>\n",
              "      <td>2970</td>\n",
              "      <td>255</td>\n",
              "      <td>69</td>\n",
              "      <td>6</td>\n",
              "      <td>2892</td>\n",
              "      <td>30</td>\n",
              "      <td>700</td>\n",
              "      <td>250</td>\n",
              "      <td>50</td>\n",
              "      <td>0</td>\n",
              "      <td>0</td>\n",
              "      <td>0</td>\n",
              "      <td>T2TwinB</td>\n",
              "      <td>Green</td>\n",
              "      <td>9</td>\n",
              "      <td>1641</td>\n",
              "      <td>T2</td>\n",
              "    </tr>\n",
              "    <tr>\n",
              "      <th>3</th>\n",
              "      <td>9617</td>\n",
              "      <td>2019-01-03 07:39:57.0000000</td>\n",
              "      <td>10</td>\n",
              "      <td>62</td>\n",
              "      <td>184</td>\n",
              "      <td>0</td>\n",
              "      <td>2970</td>\n",
              "      <td>255</td>\n",
              "      <td>74</td>\n",
              "      <td>6</td>\n",
              "      <td>2892</td>\n",
              "      <td>30</td>\n",
              "      <td>700</td>\n",
              "      <td>250</td>\n",
              "      <td>50</td>\n",
              "      <td>0</td>\n",
              "      <td>0</td>\n",
              "      <td>0</td>\n",
              "      <td>T2TwinB</td>\n",
              "      <td>Red</td>\n",
              "      <td>9</td>\n",
              "      <td>1641</td>\n",
              "      <td>T2</td>\n",
              "    </tr>\n",
              "    <tr>\n",
              "      <th>4</th>\n",
              "      <td>9617</td>\n",
              "      <td>2019-01-03 23:59:58.0000000</td>\n",
              "      <td>10</td>\n",
              "      <td>62</td>\n",
              "      <td>214</td>\n",
              "      <td>0</td>\n",
              "      <td>2980</td>\n",
              "      <td>255</td>\n",
              "      <td>76</td>\n",
              "      <td>6</td>\n",
              "      <td>2892</td>\n",
              "      <td>30</td>\n",
              "      <td>700</td>\n",
              "      <td>250</td>\n",
              "      <td>50</td>\n",
              "      <td>0</td>\n",
              "      <td>0</td>\n",
              "      <td>0</td>\n",
              "      <td>T2TwinB</td>\n",
              "      <td>Red</td>\n",
              "      <td>9</td>\n",
              "      <td>1641</td>\n",
              "      <td>T2</td>\n",
              "    </tr>\n",
              "  </tbody>\n",
              "</table>\n",
              "</div>"
            ],
            "text/plain": [
              "   scu_id                    timestamp  ...  LocationId  DispenserType\n",
              "0    9617  2019-01-01 00:00:01.0000000  ...        1641             T2\n",
              "1    9617  2019-01-02 00:00:00.0000000  ...        1641             T2\n",
              "2    9617  2019-01-02 23:59:59.0000000  ...        1641             T2\n",
              "3    9617  2019-01-03 07:39:57.0000000  ...        1641             T2\n",
              "4    9617  2019-01-03 23:59:58.0000000  ...        1641             T2\n",
              "\n",
              "[5 rows x 23 columns]"
            ]
          },
          "metadata": {
            "tags": []
          },
          "execution_count": 16
        }
      ]
    },
    {
      "cell_type": "code",
      "metadata": {
        "id": "J-3JYMsXv4km"
      },
      "source": [
        "scu_action = scu_action[[\"timestamp\",\"scu_id\",\"DispenserId\", \"SiteId\",\"LocationId\", \"DispenserType\", \"dispenser_type\", 'scuStatus']]\r\n",
        "scu_action['DateTime'] = pd.to_datetime(scu_action['timestamp'])\r\n",
        "scu_action = scu_action.replace('Yellow', 'Red')"
      ],
      "execution_count": null,
      "outputs": []
    },
    {
      "cell_type": "code",
      "metadata": {
        "id": "Fzw_ags9v4nG"
      },
      "source": [
        "def avg_lag(scuStatus, DateTime):\r\n",
        "  \"\"\"Calculate the avg lag for one scu\"\"\"\r\n",
        "  i = 1\r\n",
        "  lags = []\r\n",
        "  need = 0\r\n",
        "  refill = 0\r\n",
        "  while i < len(DateTime):\r\n",
        "    if scuStatus[i-1] == 'Green' and scuStatus[i] == ('Red'):\r\n",
        "      need = DateTime[i]\r\n",
        "    if scuStatus[i-1] == ('Red') and scuStatus[i] == 'Green':\r\n",
        "      refill = DateTime[i]\r\n",
        "      if need != 0:\r\n",
        "        lag = (refill-need).total_seconds()/3600\r\n",
        "        lags.append(lag)\r\n",
        "    i +=1\r\n",
        "  return 0 if len(lags) == 0 else sum(lags)/len(lags)"
      ],
      "execution_count": null,
      "outputs": []
    },
    {
      "cell_type": "code",
      "metadata": {
        "id": "AzsHIkYsv4pz"
      },
      "source": [
        "def site_lag(site_num):\r\n",
        "  \"\"\"Calculate the avg lag time of each site\"\"\"\r\n",
        "  res = []\r\n",
        "  cond1 = scu_action[\"SiteId\"] == site_num\r\n",
        "  site9 = scu_action[cond1]\r\n",
        "  dptype = site9.DispenserType.unique()\r\n",
        "  for i in range(0, len(dptype)):\r\n",
        "    dff = site9[site9[\"DispenserType\"] == dptype[i]]\r\n",
        "    scus = dff[\"scu_id\"].unique()\r\n",
        "    avg = []\r\n",
        "    for j in range(0, len(scus)):\r\n",
        "      dfff = dff[dff[\"scu_id\"] == scus[j]]\r\n",
        "      scuStatus = dfff['scuStatus'].tolist()\r\n",
        "      DateTime = dfff['DateTime'].tolist()\r\n",
        "      a = avg_lag(scuStatus, DateTime)\r\n",
        "      avg.append(a)\r\n",
        "    res.append(avg)\r\n",
        "  lag = [sum(x)/len(x) for x in res]\r\n",
        "  site = [site_num for _ in range(len(dptype))]\r\n",
        "  return pd.DataFrame({\"SiteId\": site, \"DispenserType\":dptype, \"lag\":lag})"
      ],
      "execution_count": null,
      "outputs": []
    },
    {
      "cell_type": "code",
      "metadata": {
        "id": "sF_r1xa9w5lO"
      },
      "source": [
        "site200_lag = site_lag(200)\r\n",
        "site2388_lag = site_lag(2388)\r\n",
        "site32_lag = site_lag(32)\r\n",
        "site23_lag = site_lag(23)\r\n",
        "site2344_lag = site_lag(2344)\r\n",
        "site2284_lag = site_lag(2284)\r\n",
        "site111_lag = site_lag(111)\r\n",
        "site192_lag = site_lag(192)\r\n",
        "site28_lag = site_lag(28)\r\n",
        "site176_lag = site_lag(176)\r\n",
        "site190_lag = site_lag(190)\r\n",
        "site165_lag = site_lag(165)\r\n",
        "site2310_lag = site_lag(2310)\r\n",
        "site9_lag = site_lag(9)"
      ],
      "execution_count": null,
      "outputs": []
    },
    {
      "cell_type": "code",
      "metadata": {
        "id": "EaAfFeX0xNb5"
      },
      "source": [
        "site_lag_avg = [site2388_lag, site200_lag,  site2344_lag, site2284_lag, site111_lag, site192_lag, site176_lag, site190_lag, site2310_lag, site9_lag]\r\n",
        "result1 = pd.concat(site_lag_avg)\r\n",
        "site_lag_avg = [site23_lag, site32_lag, site28_lag, site165_lag]\r\n",
        "result2 = pd.concat(site_lag_avg)"
      ],
      "execution_count": null,
      "outputs": []
    },
    {
      "cell_type": "code",
      "metadata": {
        "colab": {
          "base_uri": "https://localhost:8080/",
          "height": 590
        },
        "id": "R7myPCeBxOO3",
        "outputId": "1f9afe6c-a2d2-4e01-c8a8-e5b3822793cc"
      },
      "source": [
        "sns.set()\r\n",
        "plt.figure(figsize=(15,9))\r\n",
        "sns.barplot(x=\"SiteId\", y=\"lag\", palette='CMRmap', hue=\"DispenserType\",data = result1, dodge = True)\r\n",
        "plt.title(\"Average Lag Time of Each Dispenser in Each Site\")"
      ],
      "execution_count": null,
      "outputs": [
        {
          "output_type": "execute_result",
          "data": {
            "text/plain": [
              "Text(0.5, 1.0, 'Average Lag Time of Each Dispenser in Each Site')"
            ]
          },
          "metadata": {
            "tags": []
          },
          "execution_count": 26
        },
        {
          "output_type": "display_data",
          "data": {
            "image/png": "[encoded data removed]",
            "text/plain": [
              "<Figure size 1080x648 with 1 Axes>"
            ]
          },
          "metadata": {
            "tags": []
          }
        }
      ]
    },
    {
      "cell_type": "code",
      "metadata": {
        "colab": {
          "base_uri": "https://localhost:8080/",
          "height": 590
        },
        "id": "SWkhyT4ExShd",
        "outputId": "b5e0ff34-f527-4cab-ec07-cce1874d8d7d"
      },
      "source": [
        "sns.set()\r\n",
        "plt.figure(figsize=(15,9))\r\n",
        "sns.barplot(x=\"SiteId\", y=\"lag\", palette='CMRmap_r', hue=\"DispenserType\",data = result2)\r\n",
        "plt.title(\"Average Lag Time of Each Dispenser in Site Locates in Sweeden\")"
      ],
      "execution_count": null,
      "outputs": [
        {
          "output_type": "execute_result",
          "data": {
            "text/plain": [
              "Text(0.5, 1.0, 'Average Lag Time of Each Dispenser in Site Locates in Sweeden')"
            ]
          },
          "metadata": {
            "tags": []
          },
          "execution_count": 27
        },
        {
          "output_type": "display_data",
          "data": {
            "image/png": "[encoded data removed]",
            "text/plain": [
              "<Figure size 1080x648 with 1 Axes>"
            ]
          },
          "metadata": {
            "tags": []
          }
        }
      ]
    },
    {
      "cell_type": "markdown",
      "metadata": {
        "id": "G0s0saHZ1763"
      },
      "source": [
        "## Sensor data prediction"
      ]
    },
    {
      "cell_type": "markdown",
      "metadata": {
        "id": "znwcE8CfO9JY"
      },
      "source": [
        "### Use one dispenser type at a particular location as an example"
      ]
    },
    {
      "cell_type": "code",
      "metadata": {
        "colab": {
          "base_uri": "https://localhost:8080/"
        },
        "id": "xcFRLT8IxTuO",
        "outputId": "e459a2b6-9d99-4c0d-dc10-45ec3a5bb007"
      },
      "source": [
        "# dispensers' types\n",
        "dispensers['DispenserType'].unique()"
      ],
      "execution_count": 7,
      "outputs": [
        {
          "output_type": "execute_result",
          "data": {
            "text/plain": [
              "array(['T6', 'H2', 'T2', 'S4', 'H5', 'H1', 'B1', 'T7', 'T9'], dtype=object)"
            ]
          },
          "metadata": {
            "tags": []
          },
          "execution_count": 7
        }
      ]
    },
    {
      "cell_type": "code",
      "metadata": {
        "colab": {
          "base_uri": "https://localhost:8080/",
          "height": 315
        },
        "id": "3FELoNyoxiON",
        "outputId": "aea2ad77-e3d4-4b4f-f8cd-d397e56b0df7"
      },
      "source": [
        "# dipenser with LocationId 234\n",
        "# In model, treat dispenser type as a categorical variable\n",
        "\n",
        "dispensers[dispensers['LocationId'] == 234]\n"
      ],
      "execution_count": 8,
      "outputs": [
        {
          "output_type": "execute_result",
          "data": {
            "text/html": [
              "<div>\n",
              "<style scoped>\n",
              "    .dataframe tbody tr th:only-of-type {\n",
              "        vertical-align: middle;\n",
              "    }\n",
              "\n",
              "    .dataframe tbody tr th {\n",
              "        vertical-align: top;\n",
              "    }\n",
              "\n",
              "    .dataframe thead th {\n",
              "        text-align: right;\n",
              "    }\n",
              "</style>\n",
              "<table border=\"1\" class=\"dataframe\">\n",
              "  <thead>\n",
              "    <tr style=\"text-align: right;\">\n",
              "      <th></th>\n",
              "      <th>DispenserId</th>\n",
              "      <th>LocationId</th>\n",
              "      <th>DispenserArticleNumber</th>\n",
              "      <th>IsProvisioned</th>\n",
              "      <th>CreatedAt</th>\n",
              "      <th>DispenserType</th>\n",
              "      <th>NumberOfSensors</th>\n",
              "      <th>ProductName</th>\n",
              "      <th>RefillArticleNumber</th>\n",
              "    </tr>\n",
              "  </thead>\n",
              "  <tbody>\n",
              "    <tr>\n",
              "      <th>2</th>\n",
              "      <td>484</td>\n",
              "      <td>234</td>\n",
              "      <td>650000</td>\n",
              "      <td>False</td>\n",
              "      <td>2015-11-19 18:21:40.4900000</td>\n",
              "      <td>H2</td>\n",
              "      <td>2</td>\n",
              "      <td>Tork Xpress® Multifold Hand Towel Dispenser</td>\n",
              "      <td>100289.0</td>\n",
              "    </tr>\n",
              "    <tr>\n",
              "      <th>13</th>\n",
              "      <td>512</td>\n",
              "      <td>234</td>\n",
              "      <td>651000</td>\n",
              "      <td>False</td>\n",
              "      <td>2015-11-19 18:21:40.6100000</td>\n",
              "      <td>T6</td>\n",
              "      <td>1</td>\n",
              "      <td>Tork Twin Mid-size Toilet Roll Dispenser</td>\n",
              "      <td>127530.0</td>\n",
              "    </tr>\n",
              "    <tr>\n",
              "      <th>306</th>\n",
              "      <td>1204</td>\n",
              "      <td>234</td>\n",
              "      <td>651600</td>\n",
              "      <td>False</td>\n",
              "      <td>2015-11-19 18:21:43.6930000</td>\n",
              "      <td>S4</td>\n",
              "      <td>1</td>\n",
              "      <td>Tork Foam Soap Dispenser with Intuition sensor</td>\n",
              "      <td>520701.0</td>\n",
              "    </tr>\n",
              "  </tbody>\n",
              "</table>\n",
              "</div>"
            ],
            "text/plain": [
              "     DispenserId  ...  RefillArticleNumber\n",
              "2            484  ...             100289.0\n",
              "13           512  ...             127530.0\n",
              "306         1204  ...             520701.0\n",
              "\n",
              "[3 rows x 9 columns]"
            ]
          },
          "metadata": {
            "tags": []
          },
          "execution_count": 8
        }
      ]
    },
    {
      "cell_type": "markdown",
      "metadata": {
        "id": "iNZYjNcxPHuU"
      },
      "source": [
        "### Find the peopleCounter sensor corresponding to that dispenser at that particular location"
      ]
    },
    {
      "cell_type": "code",
      "metadata": {
        "colab": {
          "base_uri": "https://localhost:8080/",
          "height": 117
        },
        "id": "zfLGcMSoNH7_",
        "outputId": "8d95bb39-601b-4432-d79c-0e2b3637656f"
      },
      "source": [
        "# Find PeopleCounterId at Location 234\n",
        "# Note: One location has a unique PeopleCounter\n",
        "locations = files_dic['locations_df']\n",
        "locations[locations['LocationId'] == 234]"
      ],
      "execution_count": 9,
      "outputs": [
        {
          "output_type": "execute_result",
          "data": {
            "text/html": [
              "<div>\n",
              "<style scoped>\n",
              "    .dataframe tbody tr th:only-of-type {\n",
              "        vertical-align: middle;\n",
              "    }\n",
              "\n",
              "    .dataframe tbody tr th {\n",
              "        vertical-align: top;\n",
              "    }\n",
              "\n",
              "    .dataframe thead th {\n",
              "        text-align: right;\n",
              "    }\n",
              "</style>\n",
              "<table border=\"1\" class=\"dataframe\">\n",
              "  <thead>\n",
              "    <tr style=\"text-align: right;\">\n",
              "      <th></th>\n",
              "      <th>LocationId</th>\n",
              "      <th>LocationName</th>\n",
              "      <th>SiteId</th>\n",
              "      <th>NodeLevel</th>\n",
              "      <th>NodePath</th>\n",
              "      <th>ParentNodePath</th>\n",
              "      <th>LowUrgencyThreshold</th>\n",
              "      <th>HighUrgencyThreshold</th>\n",
              "      <th>PeopleCounterId</th>\n",
              "      <th>PeopleCounterIsProvisioned</th>\n",
              "      <th>PeopleCounterCreatedAt</th>\n",
              "    </tr>\n",
              "  </thead>\n",
              "  <tbody>\n",
              "    <tr>\n",
              "      <th>217</th>\n",
              "      <td>234</td>\n",
              "      <td>Location 234</td>\n",
              "      <td>23</td>\n",
              "      <td>3</td>\n",
              "      <td>/23/1/2/</td>\n",
              "      <td>/23/1/</td>\n",
              "      <td>30.0</td>\n",
              "      <td>40.0</td>\n",
              "      <td>1931.0</td>\n",
              "      <td>True</td>\n",
              "      <td>2015-12-11 13:11:29.8930000</td>\n",
              "    </tr>\n",
              "  </tbody>\n",
              "</table>\n",
              "</div>"
            ],
            "text/plain": [
              "     LocationId  ...       PeopleCounterCreatedAt\n",
              "217         234  ...  2015-12-11 13:11:29.8930000\n",
              "\n",
              "[1 rows x 11 columns]"
            ]
          },
          "metadata": {
            "tags": []
          },
          "execution_count": 9
        }
      ]
    },
    {
      "cell_type": "markdown",
      "metadata": {
        "id": "CkirZoxVPTrP"
      },
      "source": [
        "### Get timestamp of the peopleCounter at that particular location"
      ]
    },
    {
      "cell_type": "code",
      "metadata": {
        "id": "qiIUTMHK1Jkr"
      },
      "source": [
        "# Timestap of PeopleCounter No. 1931 at Location 234\n",
        "vru = files_dic['vru_log_df']\n",
        "vru_1931 = vru[vru['PeopleCounterId'] == 1931.0]"
      ],
      "execution_count": 10,
      "outputs": []
    },
    {
      "cell_type": "code",
      "metadata": {
        "colab": {
          "base_uri": "https://localhost:8080/"
        },
        "id": "MyHUr2g3a6fb",
        "outputId": "b18c3983-b4fb-40f7-9b0c-77615b0e85a8"
      },
      "source": [
        "base_number = int(vru_1931.shift(1)[vru_1931['counter_in'].diff() < 0]['counter_in'].values[0])\n",
        "index = vru_1931[vru_1931['counter_in'].diff() < 0].index[0]\n",
        "sub_df = vru_1931.loc[index:].copy()\n",
        "vru_1931.loc[index:]['counter_in'] = sub_df['counter_in'] + base_number"
      ],
      "execution_count": 11,
      "outputs": [
        {
          "output_type": "stream",
          "text": [
            "/usr/local/lib/python3.6/dist-packages/ipykernel_launcher.py:4: SettingWithCopyWarning: \n",
            "A value is trying to be set on a copy of a slice from a DataFrame.\n",
            "Try using .loc[row_indexer,col_indexer] = value instead\n",
            "\n",
            "See the caveats in the documentation: https://pandas.pydata.org/pandas-docs/stable/user_guide/indexing.html#returning-a-view-versus-a-copy\n",
            "  after removing the cwd from sys.path.\n"
          ],
          "name": "stderr"
        }
      ]
    },
    {
      "cell_type": "markdown",
      "metadata": {
        "id": "Kz339PjSPcO8"
      },
      "source": [
        "### Do the difference of count of people for each time stamp"
      ]
    },
    {
      "cell_type": "code",
      "metadata": {
        "colab": {
          "base_uri": "https://localhost:8080/"
        },
        "id": "tAHJSDZEGbAc",
        "outputId": "a3c055e8-27d9-46a2-8298-3c1fb8465483"
      },
      "source": [
        "diff = vru_1931['counter_in'].diff()\n",
        "diff\n",
        "vru_1931['diff'] = diff"
      ],
      "execution_count": 12,
      "outputs": [
        {
          "output_type": "stream",
          "text": [
            "/usr/local/lib/python3.6/dist-packages/ipykernel_launcher.py:3: SettingWithCopyWarning: \n",
            "A value is trying to be set on a copy of a slice from a DataFrame.\n",
            "Try using .loc[row_indexer,col_indexer] = value instead\n",
            "\n",
            "See the caveats in the documentation: https://pandas.pydata.org/pandas-docs/stable/user_guide/indexing.html#returning-a-view-versus-a-copy\n",
            "  This is separate from the ipykernel package so we can avoid doing imports until\n"
          ],
          "name": "stderr"
        }
      ]
    },
    {
      "cell_type": "code",
      "metadata": {
        "id": "Z9Lji3-rF_xE"
      },
      "source": [
        "vru_1931_new = vru_1931[vru_1931['diff'] >= 0]\n",
        "# add previous one, then do difference"
      ],
      "execution_count": 13,
      "outputs": []
    },
    {
      "cell_type": "code",
      "metadata": {
        "colab": {
          "base_uri": "https://localhost:8080/",
          "height": 542
        },
        "id": "Yxw27mChE-fG",
        "outputId": "6167d89e-4f08-483b-be35-8502d01dcbcc"
      },
      "source": [
        "import plotly.express as px\n",
        "fig = px.line(vru_1931_new,x='timestamp',y='diff',title='peopleCounter No. 1931 at Location 234')\n",
        "fig.update_xaxes(rangeslider_visible=True,rangeselector=dict(buttons=list([dict(count=1,label='1mon',step='month',stepmode='backward'),\n",
        "                                                                           dict(count=2,label='2mon',step='month',stepmode='backward'),\n",
        "                                                                           dict(step='all')])))\n",
        "fig.show()"
      ],
      "execution_count": null,
      "outputs": [
        {
          "output_type": "display_data",
          "data": {
            "text/html": [
              "<html>\n",
              "<head><meta charset=\"utf-8\" /></head>\n",
              "<body>\n",
              "    <div>\n",
              "            <script src=\"https://cdnjs.cloudflare.com/ajax/libs/mathjax/2.7.5/MathJax.js?config=TeX-AMS-MML_SVG\"></script><script type=\"text/javascript\">if (window.MathJax) {MathJax.Hub.Config({SVG: {font: \"STIX-Web\"}});}</script>\n",
              "                <script type=\"text/javascript\">window.PlotlyConfig = {MathJaxConfig: 'local'};</script>\n",
              "        <script src=\"https://cdn.plot.ly/plotly-latest.min.js\"></script>    \n",
              "            <div id=\"86d786fc-8028-4c95-8c4c-ace44bdf3c6b\" class=\"plotly-graph-div\" style=\"height:525px; width:100%;\"></div>\n",
              "            <script type=\"text/javascript\">\n",
              "                \n",
              "                    window.PLOTLYENV=window.PLOTLYENV || {};\n",
              "                    \n",
              "                if (document.getElementById(\"86d786fc-8028-4c95-8c4c-ace44bdf3c6b\")) {\n",
              "                    Plotly.newPlot(\n",
              "                        '86d786fc-8028-4c95-8c4c-ace44bdf3c6b',\n",
              "                        [{\"hoverlabel\": {\"namelength\": 0}, \"hovertemplate\": \"timestamp=%{x}<br>diff=%{y}\", \"legendgroup\": \"\", \"line\": {\"color\": \"#636efa\", \"dash\": \"solid\"}, \"mode\": \"lines\", \"name\": \"\", \"showlegend\": false, \"type\": \"scattergl\", \"x\": [\"2019-01-01 11:00:00.0000000\", \"2019-01-01 12:00:00.0000000\", \"2019-01-01 13:00:00.0000000\", \"2019-01-01 14:00:00.0000000\", \"2019-01-01 15:00:00.0000000\", \"2019-01-01 16:00:00.0000000\", \"2019-01-01 17:00:00.0000000\", \"2019-01-01 22:00:00.0000000\", \"2019-01-02 06:00:00.0000000\", \"2019-01-02 07:00:00.0000000\", \"2019-01-02 08:00:00.0000000\", \"2019-01-02 09:00:00.0000000\", \"2019-01-02 10:00:00.0000000\", \"2019-01-02 11:00:00.0000000\", \"2019-01-02 12:00:00.0000000\", \"2019-01-02 13:00:00.0000000\", \"2019-01-02 14:00:00.0000000\", \"2019-01-02 15:00:00.0000000\", \"2019-01-02 16:00:00.0000000\", \"2019-01-02 17:00:00.0000000\", \"2019-01-02 18:00:00.0000000\", \"2019-01-02 19:00:00.0000000\", \"2019-01-02 20:00:00.0000000\", \"2019-01-02 22:00:00.0000000\", \"2019-01-03 04:00:00.0000000\", \"2019-01-03 05:00:00.0000000\", \"2019-01-03 06:00:00.0000000\", \"2019-01-03 07:00:00.0000000\", \"2019-01-03 08:00:00.0000000\", \"2019-01-03 09:00:00.0000000\", \"2019-01-03 10:00:00.0000000\", \"2019-01-03 11:00:00.0000000\", \"2019-01-03 12:00:00.0000000\", \"2019-01-03 14:00:00.0000000\", \"2019-01-03 15:00:00.0000000\", \"2019-01-03 16:00:00.0000000\", \"2019-01-03 17:00:00.0000000\", \"2019-01-03 18:00:00.0000000\", \"2019-01-03 19:00:00.0000000\", \"2019-01-03 20:00:00.0000000\", \"2019-01-04 00:00:00.0000000\", \"2019-01-04 05:00:00.0000000\", \"2019-01-04 06:00:00.0000000\", \"2019-01-04 09:00:00.0000000\", \"2019-01-04 10:00:00.0000000\", \"2019-01-04 11:00:00.0000000\", \"2019-01-04 12:00:00.0000000\", \"2019-01-04 13:00:00.0000000\", \"2019-01-04 14:00:00.0000000\", \"2019-01-04 15:00:00.0000000\", \"2019-01-04 16:00:00.0000000\", \"2019-01-04 17:00:00.0000000\", \"2019-01-04 18:00:00.0000000\", \"2019-01-04 19:00:00.0000000\", \"2019-01-04 20:00:00.0000000\", \"2019-01-05 00:00:00.0000000\", \"2019-01-05 08:00:00.0000000\", \"2019-01-05 09:00:00.0000000\", \"2019-01-05 10:00:00.0000000\", \"2019-01-05 11:00:00.0000000\", \"2019-01-05 12:00:00.0000000\", \"2019-01-05 13:00:00.0000000\", \"2019-01-05 14:00:00.0000000\", \"2019-01-05 15:00:00.0000000\", \"2019-01-05 16:00:00.0000000\", \"2019-01-05 18:00:00.0000000\", \"2019-01-05 19:00:00.0000000\", \"2019-01-05 22:00:00.0000000\", \"2019-01-06 08:00:00.0000000\", \"2019-01-06 09:00:00.0000000\", \"2019-01-06 10:00:00.0000000\", \"2019-01-06 11:00:00.0000000\", \"2019-01-06 12:00:00.0000000\", \"2019-01-06 13:00:00.0000000\", \"2019-01-06 14:00:00.0000000\", \"2019-01-06 15:00:00.0000000\", \"2019-01-06 16:00:00.0000000\", \"2019-01-06 17:00:00.0000000\", \"2019-01-06 18:00:00.0000000\", \"2019-01-06 22:00:00.0000000\", \"2019-01-07 05:00:00.0000000\", \"2019-01-07 06:00:00.0000000\", \"2019-01-07 07:00:00.0000000\", \"2019-01-07 08:00:00.0000000\", \"2019-01-07 09:00:00.0000000\", \"2019-01-07 10:00:00.0000000\", \"2019-01-07 11:00:00.0000000\", \"2019-01-07 12:00:00.0000000\", \"2019-01-07 13:00:00.0000000\", \"2019-01-07 14:00:00.0000000\", \"2019-01-07 15:00:00.0000000\", \"2019-01-07 16:00:00.0000000\", \"2019-01-07 17:00:00.0000000\", \"2019-01-07 18:00:00.0000000\", \"2019-01-07 19:00:00.0000000\", \"2019-01-07 20:00:00.0000000\", \"2019-01-07 21:00:00.0000000\", \"2019-01-07 23:00:00.0000000\", \"2019-01-08 05:00:00.0000000\", \"2019-01-08 06:00:00.0000000\", \"2019-01-08 07:00:00.0000000\", \"2019-01-08 08:00:00.0000000\", \"2019-01-08 09:00:00.0000000\", \"2019-01-08 10:00:00.0000000\", \"2019-01-08 11:00:00.0000000\", \"2019-01-08 12:00:00.0000000\", \"2019-01-08 13:00:00.0000000\", \"2019-01-08 14:00:00.0000000\", \"2019-01-08 15:00:00.0000000\", \"2019-01-08 16:00:00.0000000\", \"2019-01-08 17:00:00.0000000\", \"2019-01-08 18:00:00.0000000\", \"2019-01-08 19:00:00.0000000\", \"2019-01-08 20:00:00.0000000\", \"2019-01-08 21:00:00.0000000\", \"2019-01-09 00:00:00.0000000\", \"2019-01-09 05:00:00.0000000\", \"2019-01-09 06:00:00.0000000\", \"2019-01-09 07:00:00.0000000\", \"2019-01-09 08:00:00.0000000\", \"2019-01-09 09:00:00.0000000\", \"2019-01-09 10:00:00.0000000\", \"2019-01-09 11:00:00.0000000\", \"2019-01-09 12:00:00.0000000\", \"2019-01-09 13:00:00.0000000\", \"2019-01-09 14:00:00.0000000\", \"2019-01-09 15:00:00.0000000\", \"2019-01-09 16:00:00.0000000\", \"2019-01-09 17:00:00.0000000\", \"2019-01-09 18:00:00.0000000\", \"2019-01-09 19:00:00.0000000\", \"2019-01-09 21:00:00.0000000\", \"2019-01-09 23:00:00.0000000\", \"2019-01-10 00:00:00.0000000\", \"2019-01-10 05:00:00.0000000\", \"2019-01-10 06:00:00.0000000\", \"2019-01-10 07:00:00.0000000\", \"2019-01-10 08:00:00.0000000\", \"2019-01-10 09:00:00.0000000\", \"2019-01-10 10:00:00.0000000\", \"2019-01-10 11:00:00.0000000\", \"2019-01-10 12:00:00.0000000\", \"2019-01-10 13:00:00.0000000\", \"2019-01-10 14:00:00.0000000\", \"2019-01-10 15:00:00.0000000\", \"2019-01-10 16:00:00.0000000\", \"2019-01-10 17:00:00.0000000\", \"2019-01-10 18:00:00.0000000\", \"2019-01-10 19:00:00.0000000\", \"2019-01-10 20:00:00.0000000\", \"2019-01-11 00:00:00.0000000\", \"2019-01-11 05:00:00.0000000\", \"2019-01-11 06:00:00.0000000\", \"2019-01-11 07:00:00.0000000\", \"2019-01-11 08:00:00.0000000\", \"2019-01-11 09:00:00.0000000\", \"2019-01-11 10:00:00.0000000\", \"2019-01-11 11:00:00.0000000\", \"2019-01-11 12:00:00.0000000\", \"2019-01-11 13:00:00.0000000\", \"2019-01-11 14:00:00.0000000\", \"2019-01-11 15:00:00.0000000\", \"2019-01-11 16:00:00.0000000\", \"2019-01-11 17:00:00.0000000\", \"2019-01-11 18:00:00.0000000\", \"2019-01-11 19:00:00.0000000\", \"2019-01-11 22:00:00.0000000\", \"2019-01-11 23:00:00.0000000\", \"2019-01-12 07:00:00.0000000\", \"2019-01-12 08:00:00.0000000\", \"2019-01-12 09:00:00.0000000\", \"2019-01-12 10:00:00.0000000\", \"2019-01-12 11:00:00.0000000\", \"2019-01-12 12:00:00.0000000\", \"2019-01-12 13:00:00.0000000\", \"2019-01-12 14:00:00.0000000\", \"2019-01-12 15:00:00.0000000\", \"2019-01-12 16:00:00.0000000\", \"2019-01-12 17:00:00.0000000\", \"2019-01-12 22:00:00.0000000\", \"2019-01-13 07:00:00.0000000\", \"2019-01-13 08:00:00.0000000\", \"2019-01-13 09:00:00.0000000\", \"2019-01-13 10:00:00.0000000\", \"2019-01-13 11:00:00.0000000\", \"2019-01-13 12:00:00.0000000\", \"2019-01-13 13:00:00.0000000\", \"2019-01-13 14:00:00.0000000\", \"2019-01-13 15:00:00.0000000\", \"2019-01-13 16:00:00.0000000\", \"2019-01-13 17:00:00.0000000\", \"2019-01-13 18:00:00.0000000\", \"2019-01-13 19:00:00.0000000\", \"2019-01-13 20:00:00.0000000\", \"2019-01-13 22:00:00.0000000\", \"2019-01-14 04:00:00.0000000\", \"2019-01-14 05:00:00.0000000\", \"2019-01-14 06:00:00.0000000\", \"2019-01-14 07:00:00.0000000\", \"2019-01-14 08:00:00.0000000\", \"2019-01-14 09:00:00.0000000\", \"2019-01-14 10:00:00.0000000\", \"2019-01-14 11:00:00.0000000\", \"2019-01-14 12:00:00.0000000\", \"2019-01-14 13:00:00.0000000\", \"2019-01-14 14:00:00.0000000\", \"2019-01-14 15:00:00.0000000\", \"2019-01-14 16:00:00.0000000\", \"2019-01-14 17:00:00.0000000\", \"2019-01-14 18:00:00.0000000\", \"2019-01-14 19:00:00.0000000\", \"2019-01-14 20:00:00.0000000\", \"2019-01-14 21:00:00.0000000\", \"2019-01-15 00:00:00.0000000\", \"2019-01-15 01:00:00.0000000\", \"2019-01-15 04:00:00.0000000\", \"2019-01-15 05:00:00.0000000\", \"2019-01-15 06:00:00.0000000\", \"2019-01-15 07:00:00.0000000\", \"2019-01-15 08:00:00.0000000\", \"2019-01-15 09:00:00.0000000\", \"2019-01-15 10:00:00.0000000\", \"2019-01-15 11:00:00.0000000\", \"2019-01-15 12:00:00.0000000\", \"2019-01-15 13:00:00.0000000\", \"2019-01-15 14:00:00.0000000\", \"2019-01-15 15:00:00.0000000\", \"2019-01-15 16:00:00.0000000\", \"2019-01-15 17:00:00.0000000\", \"2019-01-15 18:00:00.0000000\", \"2019-01-15 19:00:00.0000000\", \"2019-01-15 20:00:00.0000000\", \"2019-01-15 21:00:00.0000000\", \"2019-01-15 22:00:00.0000000\", \"2019-01-15 23:00:00.0000000\", \"2019-01-16 00:00:00.0000000\", \"2019-01-16 05:00:00.0000000\", \"2019-01-16 06:00:00.0000000\", \"2019-01-16 07:00:00.0000000\", \"2019-01-16 08:00:00.0000000\", \"2019-01-16 09:00:00.0000000\", \"2019-01-16 10:00:00.0000000\", \"2019-01-16 11:00:00.0000000\", \"2019-01-16 12:00:00.0000000\", \"2019-01-16 13:00:00.0000000\", \"2019-01-16 14:00:00.0000000\", \"2019-01-16 15:00:00.0000000\", \"2019-01-16 16:00:00.0000000\", \"2019-01-16 17:00:00.0000000\", \"2019-01-16 18:00:00.0000000\", \"2019-01-16 19:00:00.0000000\", \"2019-01-16 20:00:00.0000000\", \"2019-01-16 21:00:00.0000000\", \"2019-01-16 22:00:00.0000000\", \"2019-01-16 23:00:00.0000000\", \"2019-01-17 02:00:00.0000000\", \"2019-01-17 04:00:00.0000000\", \"2019-01-17 05:00:00.0000000\", \"2019-01-17 06:00:00.0000000\", \"2019-01-17 07:00:00.0000000\", \"2019-01-17 08:00:00.0000000\", \"2019-01-17 09:00:00.0000000\", \"2019-01-17 10:00:00.0000000\", \"2019-01-17 11:00:00.0000000\", \"2019-01-17 12:00:00.0000000\", \"2019-01-17 13:00:00.0000000\", \"2019-01-17 14:00:00.0000000\", \"2019-01-17 15:00:00.0000000\", \"2019-01-17 16:00:00.0000000\", \"2019-01-17 17:00:00.0000000\", \"2019-01-17 18:00:00.0000000\", \"2019-01-17 19:00:00.0000000\", \"2019-01-17 20:00:00.0000000\", \"2019-01-17 22:00:00.0000000\", \"2019-01-18 00:00:00.0000000\", \"2019-01-18 05:00:00.0000000\", \"2019-01-18 06:00:00.0000000\", \"2019-01-18 07:00:00.0000000\", \"2019-01-18 08:00:00.0000000\", \"2019-01-18 09:00:00.0000000\", \"2019-01-18 10:00:00.0000000\", \"2019-01-18 11:00:00.0000000\", \"2019-01-18 12:00:00.0000000\", \"2019-01-18 13:00:00.0000000\", \"2019-01-18 14:00:00.0000000\", \"2019-01-18 15:00:00.0000000\", \"2019-01-18 16:00:00.0000000\", \"2019-01-18 17:00:00.0000000\", \"2019-01-18 18:00:00.0000000\", \"2019-01-18 19:00:00.0000000\", \"2019-01-18 20:00:00.0000000\", \"2019-01-18 22:00:00.0000000\", \"2019-01-19 06:00:00.0000000\", \"2019-01-19 07:00:00.0000000\", \"2019-01-19 08:00:00.0000000\", \"2019-01-19 09:00:00.0000000\", \"2019-01-19 10:00:00.0000000\", \"2019-01-19 11:00:00.0000000\", \"2019-01-19 12:00:00.0000000\", \"2019-01-19 13:00:00.0000000\", \"2019-01-19 14:00:00.0000000\", \"2019-01-19 15:00:00.0000000\", \"2019-01-19 16:00:00.0000000\", \"2019-01-19 17:00:00.0000000\", \"2019-01-19 18:00:00.0000000\", \"2019-01-19 22:00:00.0000000\", \"2019-01-20 03:00:00.0000000\", \"2019-01-20 05:00:00.0000000\", \"2019-01-20 07:00:00.0000000\", \"2019-01-20 08:00:00.0000000\", \"2019-01-20 09:00:00.0000000\", \"2019-01-20 10:00:00.0000000\", \"2019-01-20 11:00:00.0000000\", \"2019-01-20 12:00:00.0000000\", \"2019-01-20 13:00:00.0000000\", \"2019-01-20 14:00:00.0000000\", \"2019-01-20 15:00:00.0000000\", \"2019-01-20 16:00:00.0000000\", \"2019-01-20 17:00:00.0000000\", \"2019-01-20 18:00:00.0000000\", \"2019-01-20 19:00:00.0000000\", \"2019-01-20 20:00:00.0000000\", \"2019-01-20 21:00:00.0000000\", \"2019-01-21 01:00:00.0000000\", \"2019-01-21 05:00:00.0000000\", \"2019-01-21 06:00:00.0000000\", \"2019-01-21 07:00:00.0000000\", \"2019-01-21 08:00:00.0000000\", \"2019-01-21 09:00:00.0000000\", \"2019-01-21 10:00:00.0000000\", \"2019-01-21 11:00:00.0000000\", \"2019-01-21 12:00:00.0000000\", \"2019-01-21 13:00:00.0000000\", \"2019-01-21 14:00:00.0000000\", \"2019-01-21 15:00:00.0000000\", \"2019-01-21 16:00:00.0000000\", \"2019-01-21 17:00:00.0000000\", \"2019-01-21 18:00:00.0000000\", \"2019-01-21 19:00:00.0000000\", \"2019-01-21 20:00:00.0000000\", \"2019-01-21 21:00:00.0000000\", \"2019-01-22 00:00:00.0000000\", \"2019-01-22 01:00:00.0000000\", \"2019-01-22 02:00:00.0000000\", \"2019-01-22 05:00:00.0000000\", \"2019-01-22 06:00:00.0000000\", \"2019-01-22 07:00:00.0000000\", \"2019-01-22 08:00:00.0000000\", \"2019-01-22 09:00:00.0000000\", \"2019-01-22 10:00:00.0000000\", \"2019-01-22 11:00:00.0000000\", \"2019-01-22 12:00:00.0000000\", \"2019-01-22 13:00:00.0000000\", \"2019-01-22 14:00:00.0000000\", \"2019-01-22 15:00:00.0000000\", \"2019-01-22 16:00:00.0000000\", \"2019-01-22 17:00:00.0000000\", \"2019-01-22 18:00:00.0000000\", \"2019-01-22 19:00:00.0000000\", \"2019-01-22 20:00:00.0000000\", \"2019-01-22 21:00:00.0000000\", \"2019-01-23 00:00:00.0000000\", \"2019-01-23 01:00:00.0000000\", \"2019-01-23 05:00:00.0000000\", \"2019-01-23 06:00:00.0000000\", \"2019-01-23 07:00:00.0000000\", \"2019-01-23 08:00:00.0000000\", \"2019-01-23 09:00:00.0000000\", \"2019-01-23 10:00:00.0000000\", \"2019-01-23 11:00:00.0000000\", \"2019-01-23 12:00:00.0000000\", \"2019-01-23 13:00:00.0000000\", \"2019-01-23 14:00:00.0000000\", \"2019-01-23 15:00:00.0000000\", \"2019-01-23 16:00:00.0000000\", \"2019-01-23 17:00:00.0000000\", \"2019-01-23 18:00:00.0000000\", \"2019-01-23 19:00:00.0000000\", \"2019-01-23 20:00:00.0000000\", \"2019-01-23 21:00:00.0000000\", \"2019-01-23 22:00:00.0000000\", \"2019-01-23 23:00:00.0000000\", \"2019-01-24 00:00:00.0000000\", \"2019-01-24 02:00:00.0000000\", \"2019-01-24 05:00:00.0000000\", \"2019-01-24 06:00:00.0000000\", \"2019-01-24 07:00:00.0000000\", \"2019-01-24 08:00:00.0000000\", \"2019-01-24 09:00:00.0000000\", \"2019-01-24 10:00:00.0000000\", \"2019-01-24 11:00:00.0000000\", \"2019-01-24 12:00:00.0000000\", \"2019-01-24 13:00:00.0000000\", \"2019-01-24 14:00:00.0000000\", \"2019-01-24 15:00:00.0000000\", \"2019-01-24 16:00:00.0000000\", \"2019-01-24 17:00:00.0000000\", \"2019-01-24 18:00:00.0000000\", \"2019-01-24 19:00:00.0000000\", \"2019-01-24 20:00:00.0000000\", \"2019-01-24 21:00:00.0000000\", \"2019-01-24 22:00:00.0000000\", \"2019-01-25 02:00:00.0000000\", \"2019-01-25 05:00:00.0000000\", \"2019-01-25 06:00:00.0000000\", \"2019-01-25 07:00:00.0000000\", \"2019-01-25 08:00:00.0000000\", \"2019-01-25 09:00:00.0000000\", \"2019-01-25 10:00:00.0000000\", \"2019-01-25 11:00:00.0000000\", \"2019-01-25 12:00:00.0000000\", \"2019-01-25 13:00:00.0000000\", \"2019-01-25 14:00:00.0000000\", \"2019-01-25 15:00:00.0000000\", \"2019-01-25 16:00:00.0000000\", \"2019-01-25 17:00:00.0000000\", \"2019-01-25 18:00:00.0000000\", \"2019-01-25 20:00:00.0000000\", \"2019-01-25 21:00:00.0000000\", \"2019-01-25 22:00:00.0000000\", \"2019-01-26 00:00:00.0000000\", \"2019-01-26 04:00:00.0000000\", \"2019-01-26 05:00:00.0000000\", \"2019-01-26 07:00:00.0000000\", \"2019-01-26 08:00:00.0000000\", \"2019-01-26 09:00:00.0000000\", \"2019-01-26 10:00:00.0000000\", \"2019-01-26 11:00:00.0000000\", \"2019-01-26 12:00:00.0000000\", \"2019-01-26 13:00:00.0000000\", \"2019-01-26 14:00:00.0000000\", \"2019-01-26 15:00:00.0000000\", \"2019-01-26 16:00:00.0000000\", \"2019-01-26 17:00:00.0000000\", \"2019-01-26 18:00:00.0000000\", \"2019-01-26 21:00:00.0000000\", \"2019-01-26 22:00:00.0000000\", \"2019-01-27 03:00:00.0000000\", \"2019-01-27 06:00:00.0000000\", \"2019-01-27 07:00:00.0000000\", \"2019-01-27 08:00:00.0000000\", \"2019-01-27 09:00:00.0000000\", \"2019-01-27 10:00:00.0000000\", \"2019-01-27 11:00:00.0000000\", \"2019-01-27 12:00:00.0000000\", \"2019-01-27 13:00:00.0000000\", \"2019-01-27 14:00:00.0000000\", \"2019-01-27 15:00:00.0000000\", \"2019-01-27 16:00:00.0000000\", \"2019-01-27 17:00:00.0000000\", \"2019-01-27 18:00:00.0000000\", \"2019-01-27 19:00:00.0000000\", \"2019-01-27 22:00:00.0000000\", \"2019-01-28 05:00:00.0000000\", \"2019-01-28 06:00:00.0000000\", \"2019-01-28 07:00:00.0000000\", \"2019-01-28 08:00:00.0000000\", \"2019-01-28 09:00:00.0000000\", \"2019-01-28 10:00:00.0000000\", \"2019-01-28 11:00:00.0000000\", \"2019-01-28 12:00:00.0000000\", \"2019-01-28 13:00:00.0000000\", \"2019-01-28 14:00:00.0000000\", \"2019-01-28 15:00:00.0000000\", \"2019-01-28 16:00:00.0000000\", \"2019-01-28 17:00:00.0000000\", \"2019-01-28 18:00:00.0000000\", \"2019-01-28 19:00:00.0000000\", \"2019-01-28 20:00:00.0000000\", \"2019-01-28 21:00:00.0000000\", \"2019-01-28 22:00:00.0000000\", \"2019-01-29 05:00:00.0000000\", \"2019-01-29 06:00:00.0000000\", \"2019-01-29 09:00:00.0000000\", \"2019-01-29 10:00:00.0000000\", \"2019-01-29 11:00:00.0000000\", \"2019-01-29 12:00:00.0000000\", \"2019-01-29 13:00:00.0000000\", \"2019-01-29 14:00:00.0000000\", \"2019-01-29 15:00:00.0000000\", \"2019-01-29 16:00:00.0000000\", \"2019-01-29 17:00:00.0000000\", \"2019-01-29 18:00:00.0000000\", \"2019-01-29 19:00:00.0000000\", \"2019-01-29 20:00:00.0000000\", \"2019-01-29 21:00:00.0000000\", \"2019-01-30 00:00:00.0000000\", \"2019-01-30 05:00:00.0000000\", \"2019-01-30 06:00:00.0000000\", \"2019-01-30 07:00:00.0000000\", \"2019-01-30 08:00:00.0000000\", \"2019-01-30 09:00:00.0000000\", \"2019-01-30 10:00:00.0000000\", \"2019-01-30 11:00:00.0000000\", \"2019-01-30 12:00:00.0000000\", \"2019-01-30 13:00:00.0000000\", \"2019-01-30 14:00:00.0000000\", \"2019-01-30 15:00:00.0000000\", \"2019-01-30 16:00:00.0000000\", \"2019-01-30 17:00:00.0000000\", \"2019-01-30 18:00:00.0000000\", \"2019-01-30 19:00:00.0000000\", \"2019-01-30 20:00:00.0000000\", \"2019-01-31 01:00:00.0000000\", \"2019-01-31 05:00:00.0000000\", \"2019-01-31 06:00:00.0000000\", \"2019-01-31 07:00:00.0000000\", \"2019-01-31 08:00:00.0000000\", \"2019-01-31 09:00:00.0000000\", \"2019-01-31 10:00:00.0000000\", \"2019-01-31 11:00:00.0000000\", \"2019-01-31 12:00:00.0000000\", \"2019-01-31 13:00:00.0000000\", \"2019-01-31 14:00:00.0000000\", \"2019-01-31 15:00:00.0000000\", \"2019-01-31 16:00:00.0000000\", \"2019-01-31 17:00:00.0000000\", \"2019-01-31 18:00:00.0000000\", \"2019-01-31 19:00:00.0000000\", \"2019-01-31 20:00:00.0000000\", \"2019-01-31 21:00:00.0000000\", \"2019-01-31 22:00:00.0000000\", \"2019-02-01 05:00:00.0000000\", \"2019-02-01 06:00:00.0000000\", \"2019-02-01 07:00:00.0000000\", \"2019-02-01 08:00:00.0000000\", \"2019-02-01 09:00:00.0000000\", \"2019-02-01 10:00:00.0000000\", \"2019-02-01 11:00:00.0000000\", \"2019-02-01 12:00:00.0000000\", \"2019-02-01 13:00:00.0000000\", \"2019-02-01 14:00:00.0000000\", \"2019-02-01 15:00:00.0000000\", \"2019-02-01 16:00:00.0000000\", \"2019-02-01 17:00:00.0000000\", \"2019-02-01 18:00:00.0000000\", \"2019-02-01 19:00:00.0000000\", \"2019-02-01 20:00:00.0000000\", \"2019-02-02 00:00:00.0000000\", \"2019-02-02 06:00:00.0000000\", \"2019-02-02 07:00:00.0000000\", \"2019-02-02 08:00:00.0000000\", \"2019-02-02 09:00:00.0000000\", \"2019-02-02 10:00:00.0000000\", \"2019-02-02 11:00:00.0000000\", \"2019-02-02 12:00:00.0000000\", \"2019-02-02 13:00:00.0000000\", \"2019-02-02 14:00:00.0000000\", \"2019-02-02 15:00:00.0000000\", \"2019-02-02 16:00:00.0000000\", \"2019-02-02 17:00:00.0000000\", \"2019-02-03 00:00:00.0000000\", \"2019-02-03 07:00:00.0000000\", \"2019-02-03 08:00:00.0000000\", \"2019-02-03 09:00:00.0000000\", \"2019-02-03 10:00:00.0000000\", \"2019-02-03 11:00:00.0000000\", \"2019-02-03 12:00:00.0000000\", \"2019-02-03 13:00:00.0000000\", \"2019-02-03 14:00:00.0000000\", \"2019-02-03 15:00:00.0000000\", \"2019-02-03 16:00:00.0000000\", \"2019-02-03 17:00:00.0000000\", \"2019-02-03 18:00:00.0000000\", \"2019-02-03 19:00:00.0000000\", \"2019-02-03 20:00:00.0000000\", \"2019-02-03 21:00:00.0000000\", \"2019-02-03 22:00:00.0000000\", \"2019-02-04 05:00:00.0000000\", \"2019-02-04 06:00:00.0000000\", \"2019-02-04 07:00:00.0000000\", \"2019-02-04 08:00:00.0000000\", \"2019-02-04 09:00:00.0000000\", \"2019-02-04 10:00:00.0000000\", \"2019-02-04 11:00:00.0000000\", \"2019-02-04 12:00:00.0000000\", \"2019-02-04 13:00:00.0000000\", \"2019-02-04 14:00:00.0000000\", \"2019-02-04 15:00:00.0000000\", \"2019-02-04 16:00:00.0000000\", \"2019-02-04 17:00:00.0000000\", \"2019-02-04 18:00:00.0000000\", \"2019-02-04 19:00:00.0000000\", \"2019-02-04 20:00:00.0000000\", \"2019-02-05 00:00:00.0000000\", \"2019-02-05 04:00:00.0000000\", \"2019-02-05 05:00:00.0000000\", \"2019-02-05 06:00:00.0000000\", \"2019-02-05 07:00:00.0000000\", \"2019-02-05 08:00:00.0000000\", \"2019-02-05 09:00:00.0000000\", \"2019-02-05 10:00:00.0000000\", \"2019-02-05 11:00:00.0000000\", \"2019-02-05 12:00:00.0000000\", \"2019-02-05 13:00:00.0000000\", \"2019-02-05 14:00:00.0000000\", \"2019-02-05 15:00:00.0000000\", \"2019-02-05 16:00:00.0000000\", \"2019-02-05 17:00:00.0000000\", \"2019-02-05 18:00:00.0000000\", \"2019-02-05 19:00:00.0000000\", \"2019-02-05 20:00:00.0000000\", \"2019-02-05 21:00:00.0000000\", \"2019-02-06 00:00:00.0000000\", \"2019-02-06 04:00:00.0000000\", \"2019-02-06 05:00:00.0000000\", \"2019-02-06 06:00:00.0000000\", \"2019-02-06 07:00:00.0000000\", \"2019-02-06 08:00:00.0000000\", \"2019-02-06 09:00:00.0000000\", \"2019-02-06 10:00:00.0000000\", \"2019-02-06 11:00:00.0000000\", \"2019-02-06 12:00:00.0000000\", \"2019-02-06 13:00:00.0000000\", \"2019-02-06 14:00:00.0000000\", \"2019-02-06 15:00:00.0000000\", \"2019-02-06 16:00:00.0000000\", \"2019-02-06 17:00:00.0000000\", \"2019-02-06 18:00:00.0000000\", \"2019-02-06 19:00:00.0000000\", \"2019-02-06 20:00:00.0000000\", \"2019-02-06 22:00:00.0000000\", \"2019-02-06 23:00:00.0000000\", \"2019-02-07 05:00:00.0000000\", \"2019-02-07 06:00:00.0000000\", \"2019-02-07 07:00:00.0000000\", \"2019-02-07 08:00:00.0000000\", \"2019-02-07 09:00:00.0000000\", \"2019-02-07 10:00:00.0000000\", \"2019-02-07 11:00:00.0000000\", \"2019-02-07 12:00:00.0000000\", \"2019-02-07 13:00:00.0000000\", \"2019-02-07 14:00:00.0000000\", \"2019-02-07 15:00:00.0000000\", \"2019-02-07 16:00:00.0000000\", \"2019-02-07 17:00:00.0000000\", \"2019-02-07 18:00:00.0000000\", \"2019-02-07 19:00:00.0000000\", \"2019-02-07 20:00:00.0000000\", \"2019-02-07 23:00:00.0000000\", \"2019-02-08 00:00:00.0000000\", \"2019-02-08 01:00:00.0000000\", \"2019-02-08 05:00:00.0000000\", \"2019-02-08 06:00:00.0000000\", \"2019-02-08 07:00:00.0000000\", \"2019-02-08 08:00:00.0000000\", \"2019-02-08 09:00:00.0000000\", \"2019-02-08 10:00:00.0000000\", \"2019-02-08 11:00:00.0000000\", \"2019-02-08 12:00:00.0000000\", \"2019-02-08 13:00:00.0000000\", \"2019-02-08 14:00:00.0000000\", \"2019-02-08 15:00:00.0000000\", \"2019-02-08 16:00:00.0000000\", \"2019-02-08 17:00:00.0000000\", \"2019-02-08 18:00:00.0000000\", \"2019-02-08 19:00:00.0000000\", \"2019-02-08 20:00:00.0000000\", \"2019-02-08 23:00:00.0000000\", \"2019-02-09 00:00:00.0000000\", \"2019-02-09 07:00:00.0000000\", \"2019-02-09 08:00:00.0000000\", \"2019-02-09 09:00:00.0000000\", \"2019-02-09 10:00:00.0000000\", \"2019-02-09 11:00:00.0000000\", \"2019-02-09 12:00:00.0000000\", \"2019-02-09 13:00:00.0000000\", \"2019-02-09 14:00:00.0000000\", \"2019-02-09 15:00:00.0000000\", \"2019-02-09 16:00:00.0000000\", \"2019-02-09 17:00:00.0000000\", \"2019-02-09 18:00:00.0000000\", \"2019-02-09 20:00:00.0000000\", \"2019-02-09 21:00:00.0000000\", \"2019-02-09 22:00:00.0000000\", \"2019-02-09 23:00:00.0000000\", \"2019-02-10 07:00:00.0000000\", \"2019-02-10 08:00:00.0000000\", \"2019-02-10 09:00:00.0000000\", \"2019-02-10 10:00:00.0000000\", \"2019-02-10 11:00:00.0000000\", \"2019-02-10 12:00:00.0000000\", \"2019-02-10 13:00:00.0000000\", \"2019-02-10 14:00:00.0000000\", \"2019-02-10 15:00:00.0000000\", \"2019-02-10 16:00:00.0000000\", \"2019-02-10 17:00:00.0000000\", \"2019-02-10 18:00:00.0000000\", \"2019-02-10 19:00:00.0000000\", \"2019-02-10 20:00:00.0000000\", \"2019-02-10 23:00:00.0000000\", \"2019-02-11 00:00:00.0000000\", \"2019-02-11 05:00:00.0000000\", \"2019-02-11 06:00:00.0000000\", \"2019-02-11 07:00:00.0000000\", \"2019-02-11 08:00:00.0000000\", \"2019-02-11 09:00:00.0000000\", \"2019-02-11 10:00:00.0000000\", \"2019-02-11 11:00:00.0000000\", \"2019-02-11 12:00:00.0000000\", \"2019-02-11 13:00:00.0000000\", \"2019-02-11 14:00:00.0000000\", \"2019-02-11 15:00:00.0000000\", \"2019-02-11 16:00:00.0000000\", \"2019-02-11 17:00:00.0000000\", \"2019-02-11 18:00:00.0000000\", \"2019-02-11 19:00:00.0000000\", \"2019-02-11 20:00:00.0000000\", \"2019-02-11 21:00:00.0000000\", \"2019-02-11 22:00:00.0000000\", \"2019-02-12 05:00:00.0000000\", \"2019-02-12 06:00:00.0000000\", \"2019-02-12 07:00:00.0000000\", \"2019-02-12 08:00:00.0000000\", \"2019-02-12 09:00:00.0000000\", \"2019-02-12 10:00:00.0000000\", \"2019-02-12 11:00:00.0000000\", \"2019-02-12 12:00:00.0000000\", \"2019-02-12 13:00:00.0000000\", \"2019-02-12 14:00:00.0000000\", \"2019-02-12 15:00:00.0000000\", \"2019-02-12 16:00:00.0000000\", \"2019-02-12 17:00:00.0000000\", \"2019-02-12 18:00:00.0000000\", \"2019-02-12 19:00:00.0000000\", \"2019-02-12 20:00:00.0000000\", \"2019-02-13 00:00:00.0000000\", \"2019-02-13 03:00:00.0000000\", \"2019-02-13 05:00:00.0000000\", \"2019-02-13 06:00:00.0000000\", \"2019-02-13 07:00:00.0000000\", \"2019-02-13 08:00:00.0000000\", \"2019-02-13 09:00:00.0000000\", \"2019-02-13 10:00:00.0000000\", \"2019-02-13 11:00:00.0000000\", \"2019-02-13 12:00:00.0000000\", \"2019-02-13 13:00:00.0000000\", \"2019-02-13 14:00:00.0000000\", \"2019-02-13 15:00:00.0000000\", \"2019-02-13 16:00:00.0000000\", \"2019-02-13 17:00:00.0000000\", \"2019-02-13 18:00:00.0000000\", \"2019-02-13 19:00:00.0000000\", \"2019-02-13 20:00:00.0000000\", \"2019-02-13 21:00:00.0000000\", \"2019-02-13 22:00:00.0000000\", \"2019-02-14 05:00:00.0000000\", \"2019-02-14 06:00:00.0000000\", \"2019-02-14 07:00:00.0000000\", \"2019-02-14 08:00:00.0000000\", \"2019-02-14 09:00:00.0000000\", \"2019-02-14 10:00:00.0000000\", \"2019-02-14 11:00:00.0000000\", \"2019-02-14 12:00:00.0000000\", \"2019-02-14 13:00:00.0000000\", \"2019-02-14 14:00:00.0000000\", \"2019-02-14 15:00:00.0000000\", \"2019-02-14 16:00:00.0000000\", \"2019-02-14 17:00:00.0000000\", \"2019-02-14 18:00:00.0000000\", \"2019-02-14 19:00:00.0000000\", \"2019-02-14 20:00:00.0000000\", \"2019-02-15 00:00:00.0000000\", \"2019-02-15 05:00:00.0000000\", \"2019-02-15 06:00:00.0000000\", \"2019-02-15 07:00:00.0000000\", \"2019-02-15 08:00:00.0000000\", \"2019-02-15 09:00:00.0000000\", \"2019-02-15 10:00:00.0000000\", \"2019-02-15 11:00:00.0000000\", \"2019-02-15 12:00:00.0000000\", \"2019-02-15 13:00:00.0000000\", \"2019-02-15 14:00:00.0000000\", \"2019-02-15 15:00:00.0000000\", \"2019-02-15 16:00:00.0000000\", \"2019-02-15 17:00:00.0000000\", \"2019-02-15 18:00:00.0000000\", \"2019-02-15 19:00:00.0000000\", \"2019-02-15 20:00:00.0000000\", \"2019-02-15 23:00:00.0000000\", \"2019-02-16 00:00:00.0000000\", \"2019-02-16 06:00:00.0000000\", \"2019-02-16 07:00:00.0000000\", \"2019-02-16 08:00:00.0000000\", \"2019-02-16 09:00:00.0000000\", \"2019-02-16 10:00:00.0000000\", \"2019-02-16 11:00:00.0000000\", \"2019-02-16 12:00:00.0000000\", \"2019-02-16 13:00:00.0000000\", \"2019-02-16 14:00:00.0000000\", \"2019-02-16 15:00:00.0000000\", \"2019-02-16 16:00:00.0000000\", \"2019-02-16 17:00:00.0000000\", \"2019-02-16 18:00:00.0000000\", \"2019-02-17 00:00:00.0000000\", \"2019-02-17 06:00:00.0000000\", \"2019-02-17 07:00:00.0000000\", \"2019-02-17 08:00:00.0000000\", \"2019-02-17 09:00:00.0000000\", \"2019-02-17 10:00:00.0000000\", \"2019-02-17 11:00:00.0000000\", \"2019-02-17 12:00:00.0000000\", \"2019-02-17 13:00:00.0000000\", \"2019-02-17 14:00:00.0000000\", \"2019-02-17 15:00:00.0000000\", \"2019-02-17 16:00:00.0000000\", \"2019-02-17 17:00:00.0000000\", \"2019-02-17 18:00:00.0000000\", \"2019-02-17 19:00:00.0000000\", \"2019-02-17 20:00:00.0000000\", \"2019-02-17 21:00:00.0000000\", \"2019-02-17 23:00:00.0000000\", \"2019-02-18 00:00:00.0000000\", \"2019-02-18 05:00:00.0000000\", \"2019-02-18 06:00:00.0000000\", \"2019-02-18 07:00:00.0000000\", \"2019-02-18 08:00:00.0000000\", \"2019-02-18 09:00:00.0000000\", \"2019-02-18 10:00:00.0000000\", \"2019-02-18 11:00:00.0000000\", \"2019-02-18 12:00:00.0000000\", \"2019-02-18 13:00:00.0000000\", \"2019-02-18 14:00:00.0000000\", \"2019-02-18 15:00:00.0000000\", \"2019-02-18 16:00:00.0000000\", \"2019-02-18 17:00:00.0000000\", \"2019-02-18 18:00:00.0000000\", \"2019-02-18 19:00:00.0000000\", \"2019-02-18 20:00:00.0000000\", \"2019-02-18 21:00:00.0000000\", \"2019-02-18 23:00:00.0000000\", \"2019-02-19 01:00:00.0000000\", \"2019-02-19 05:00:00.0000000\", \"2019-02-19 06:00:00.0000000\", \"2019-02-19 07:00:00.0000000\", \"2019-02-19 08:00:00.0000000\", \"2019-02-19 09:00:00.0000000\", \"2019-02-19 10:00:00.0000000\", \"2019-02-19 11:00:00.0000000\", \"2019-02-19 12:00:00.0000000\", \"2019-02-19 13:00:00.0000000\", \"2019-02-19 14:00:00.0000000\", \"2019-02-19 15:00:00.0000000\", \"2019-02-19 16:00:00.0000000\", \"2019-02-19 17:00:00.0000000\", \"2019-02-19 18:00:00.0000000\", \"2019-02-19 19:00:00.0000000\", \"2019-02-19 20:00:00.0000000\", \"2019-02-19 21:00:00.0000000\", \"2019-02-19 23:00:00.0000000\", \"2019-02-20 05:00:00.0000000\", \"2019-02-20 06:00:00.0000000\", \"2019-02-20 07:00:00.0000000\", \"2019-02-20 08:00:00.0000000\", \"2019-02-20 09:00:00.0000000\", \"2019-02-20 10:00:00.0000000\", \"2019-02-20 11:00:00.0000000\", \"2019-02-20 12:00:00.0000000\", \"2019-02-20 13:00:00.0000000\", \"2019-02-20 14:00:00.0000000\", \"2019-02-20 15:00:00.0000000\", \"2019-02-20 16:00:00.0000000\", \"2019-02-20 17:00:00.0000000\", \"2019-02-20 18:00:00.0000000\", \"2019-02-20 19:00:00.0000000\", \"2019-02-20 20:00:00.0000000\", \"2019-02-20 21:00:00.0000000\", \"2019-02-20 23:00:00.0000000\", \"2019-02-21 01:00:00.0000000\", \"2019-02-21 05:00:00.0000000\", \"2019-02-21 06:00:00.0000000\", \"2019-02-21 07:00:00.0000000\", \"2019-02-21 08:00:00.0000000\", \"2019-02-21 09:00:00.0000000\", \"2019-02-21 10:00:00.0000000\", \"2019-02-21 11:00:00.0000000\", \"2019-02-21 12:00:00.0000000\", \"2019-02-21 13:00:00.0000000\", \"2019-02-21 14:00:00.0000000\", \"2019-02-21 15:00:00.0000000\", \"2019-02-21 16:00:00.0000000\", \"2019-02-21 17:00:00.0000000\", \"2019-02-21 18:00:00.0000000\", \"2019-02-21 19:00:00.0000000\", \"2019-02-21 20:00:00.0000000\", \"2019-02-21 23:00:00.0000000\", \"2019-02-22 00:00:00.0000000\", \"2019-02-22 01:00:00.0000000\", \"2019-02-22 05:00:00.0000000\", \"2019-02-22 06:00:00.0000000\", \"2019-02-22 07:00:00.0000000\", \"2019-02-22 08:00:00.0000000\", \"2019-02-22 09:00:00.0000000\", \"2019-02-22 10:00:00.0000000\", \"2019-02-22 11:00:00.0000000\", \"2019-02-22 12:00:00.0000000\", \"2019-02-22 13:00:00.0000000\", \"2019-02-22 14:00:00.0000000\", \"2019-02-22 15:00:00.0000000\", \"2019-02-22 16:00:00.0000000\", \"2019-02-22 17:00:00.0000000\", \"2019-02-22 18:00:00.0000000\", \"2019-02-22 19:00:00.0000000\", \"2019-02-22 20:00:00.0000000\", \"2019-02-22 23:00:00.0000000\", \"2019-02-23 01:00:00.0000000\", \"2019-02-23 06:00:00.0000000\", \"2019-02-23 07:00:00.0000000\", \"2019-02-23 08:00:00.0000000\", \"2019-02-23 09:00:00.0000000\", \"2019-02-23 10:00:00.0000000\", \"2019-02-23 11:00:00.0000000\", \"2019-02-23 12:00:00.0000000\", \"2019-02-23 13:00:00.0000000\", \"2019-02-23 14:00:00.0000000\", \"2019-02-23 15:00:00.0000000\", \"2019-02-23 16:00:00.0000000\", \"2019-02-23 17:00:00.0000000\", \"2019-02-23 21:00:00.0000000\", \"2019-02-24 00:00:00.0000000\", \"2019-02-24 07:00:00.0000000\", \"2019-02-24 08:00:00.0000000\", \"2019-02-24 09:00:00.0000000\", \"2019-02-24 10:00:00.0000000\", \"2019-02-24 11:00:00.0000000\", \"2019-02-24 12:00:00.0000000\", \"2019-02-24 13:00:00.0000000\", \"2019-02-24 14:00:00.0000000\", \"2019-02-24 15:00:00.0000000\", \"2019-02-24 16:00:00.0000000\", \"2019-02-24 17:00:00.0000000\", \"2019-02-24 18:00:00.0000000\", \"2019-02-24 19:00:00.0000000\", \"2019-02-24 20:00:00.0000000\", \"2019-02-24 21:00:00.0000000\", \"2019-02-24 22:00:00.0000000\", \"2019-02-25 00:00:00.0000000\", \"2019-02-25 05:00:00.0000000\", \"2019-02-25 06:00:00.0000000\", \"2019-02-25 07:00:00.0000000\", \"2019-02-25 08:00:00.0000000\", \"2019-02-25 09:00:00.0000000\", \"2019-02-25 10:00:00.0000000\", \"2019-02-25 11:00:00.0000000\", \"2019-02-25 12:00:00.0000000\", \"2019-02-25 13:00:00.0000000\", \"2019-02-25 14:00:00.0000000\", \"2019-02-25 15:00:00.0000000\", \"2019-02-25 16:00:00.0000000\", \"2019-02-25 17:00:00.0000000\", \"2019-02-25 18:00:00.0000000\", \"2019-02-25 19:00:00.0000000\", \"2019-02-25 20:00:00.0000000\", \"2019-02-25 21:00:00.0000000\", \"2019-02-25 23:00:00.0000000\", \"2019-02-26 00:00:00.0000000\", \"2019-02-26 05:00:00.0000000\", \"2019-02-26 06:00:00.0000000\", \"2019-02-26 07:00:00.0000000\", \"2019-02-26 08:00:00.0000000\", \"2019-02-26 09:00:00.0000000\", \"2019-02-26 10:00:00.0000000\", \"2019-02-26 11:00:00.0000000\", \"2019-02-26 12:00:00.0000000\", \"2019-02-26 13:00:00.0000000\", \"2019-02-26 14:00:00.0000000\", \"2019-02-26 15:00:00.0000000\", \"2019-02-26 16:00:00.0000000\", \"2019-02-26 17:00:00.0000000\", \"2019-02-26 18:00:00.0000000\", \"2019-02-26 19:00:00.0000000\", \"2019-02-26 20:00:00.0000000\", \"2019-02-26 22:00:00.0000000\", \"2019-02-26 23:00:00.0000000\", \"2019-02-27 00:00:00.0000000\", \"2019-02-27 05:00:00.0000000\", \"2019-02-27 06:00:00.0000000\", \"2019-02-27 07:00:00.0000000\", \"2019-02-27 08:00:00.0000000\", \"2019-02-27 09:00:00.0000000\", \"2019-02-27 10:00:00.0000000\", \"2019-02-27 11:00:00.0000000\", \"2019-02-27 12:00:00.0000000\", \"2019-02-27 13:00:00.0000000\", \"2019-02-27 14:00:00.0000000\", \"2019-02-27 15:00:00.0000000\", \"2019-02-27 16:00:00.0000000\", \"2019-02-27 17:00:00.0000000\", \"2019-02-27 18:00:00.0000000\", \"2019-02-27 19:00:00.0000000\", \"2019-02-27 20:00:00.0000000\", \"2019-02-27 21:00:00.0000000\", \"2019-02-27 23:00:00.0000000\", \"2019-02-28 00:00:00.0000000\", \"2019-02-28 05:00:00.0000000\", \"2019-02-28 06:00:00.0000000\", \"2019-02-28 07:00:00.0000000\", \"2019-02-28 08:00:00.0000000\", \"2019-02-28 09:00:00.0000000\", \"2019-02-28 10:00:00.0000000\", \"2019-02-28 11:00:00.0000000\", \"2019-02-28 12:00:00.0000000\", \"2019-02-28 13:00:00.0000000\", \"2019-02-28 14:00:00.0000000\", \"2019-02-28 15:00:00.0000000\", \"2019-02-28 16:00:00.0000000\", \"2019-02-28 17:00:00.0000000\", \"2019-02-28 18:00:00.0000000\", \"2019-02-28 19:00:00.0000000\", \"2019-02-28 20:00:00.0000000\", \"2019-02-28 22:00:00.0000000\", \"2019-03-01 00:00:00.0000000\", \"2019-03-01 05:00:00.0000000\", \"2019-03-01 06:00:00.0000000\", \"2019-03-01 07:00:00.0000000\", \"2019-03-01 08:00:00.0000000\", \"2019-03-01 09:00:00.0000000\", \"2019-03-01 10:00:00.0000000\", \"2019-03-01 11:00:00.0000000\", \"2019-03-01 12:00:00.0000000\", \"2019-03-01 13:00:00.0000000\", \"2019-03-01 14:00:00.0000000\", \"2019-03-01 15:00:00.0000000\", \"2019-03-01 16:00:00.0000000\", \"2019-03-01 17:00:00.0000000\", \"2019-03-01 22:00:00.0000000\", \"2019-03-02 00:00:00.0000000\", \"2019-03-02 06:00:00.0000000\", \"2019-03-02 07:00:00.0000000\", \"2019-03-02 08:00:00.0000000\", \"2019-03-02 09:00:00.0000000\", \"2019-03-02 10:00:00.0000000\", \"2019-03-02 11:00:00.0000000\", \"2019-03-02 12:00:00.0000000\", \"2019-03-02 13:00:00.0000000\", \"2019-03-02 14:00:00.0000000\", \"2019-03-02 15:00:00.0000000\", \"2019-03-02 16:00:00.0000000\", \"2019-03-02 17:00:00.0000000\", \"2019-03-02 18:00:00.0000000\", \"2019-03-02 19:00:00.0000000\", \"2019-03-02 22:00:00.0000000\", \"2019-03-03 00:00:00.0000000\", \"2019-03-03 06:00:00.0000000\", \"2019-03-03 07:00:00.0000000\", \"2019-03-03 08:00:00.0000000\", \"2019-03-03 09:00:00.0000000\", \"2019-03-03 10:00:00.0000000\", \"2019-03-03 11:00:00.0000000\", \"2019-03-03 12:00:00.0000000\", \"2019-03-03 13:00:00.0000000\", \"2019-03-03 14:00:00.0000000\", \"2019-03-03 15:00:00.0000000\", \"2019-03-03 16:00:00.0000000\", \"2019-03-03 17:00:00.0000000\", \"2019-03-03 18:00:00.0000000\", \"2019-03-03 19:00:00.0000000\", \"2019-03-03 20:00:00.0000000\", \"2019-03-03 23:00:00.0000000\", \"2019-03-04 00:00:00.0000000\", \"2019-03-04 05:00:00.0000000\", \"2019-03-04 06:00:00.0000000\", \"2019-03-04 07:00:00.0000000\", \"2019-03-04 08:00:00.0000000\", \"2019-03-04 09:00:00.0000000\", \"2019-03-04 10:00:00.0000000\", \"2019-03-04 11:00:00.0000000\", \"2019-03-04 12:00:00.0000000\", \"2019-03-04 13:00:00.0000000\", \"2019-03-04 14:00:00.0000000\", \"2019-03-04 15:00:00.0000000\", \"2019-03-04 16:00:00.0000000\", \"2019-03-04 17:00:00.0000000\", \"2019-03-04 18:00:00.0000000\", \"2019-03-04 19:00:00.0000000\", \"2019-03-04 20:00:00.0000000\", \"2019-03-04 21:00:00.0000000\", \"2019-03-04 22:00:00.0000000\", \"2019-03-04 23:00:00.0000000\", \"2019-03-05 05:00:00.0000000\", \"2019-03-05 06:00:00.0000000\", \"2019-03-05 07:00:00.0000000\", \"2019-03-05 08:00:00.0000000\", \"2019-03-05 09:00:00.0000000\", \"2019-03-05 10:00:00.0000000\", \"2019-03-05 11:00:00.0000000\", \"2019-03-05 12:00:00.0000000\", \"2019-03-05 13:00:00.0000000\", \"2019-03-05 14:00:00.0000000\", \"2019-03-05 15:00:00.0000000\", \"2019-03-05 16:00:00.0000000\", \"2019-03-05 17:00:00.0000000\", \"2019-03-05 18:00:00.0000000\", \"2019-03-05 19:00:00.0000000\", \"2019-03-05 20:00:00.0000000\", \"2019-03-05 21:00:00.0000000\", \"2019-03-05 22:00:00.0000000\", \"2019-03-05 23:00:00.0000000\", \"2019-03-06 05:00:00.0000000\", \"2019-03-06 06:00:00.0000000\", \"2019-03-06 07:00:00.0000000\", \"2019-03-06 08:00:00.0000000\", \"2019-03-06 09:00:00.0000000\", \"2019-03-06 10:00:00.0000000\", \"2019-03-06 11:00:00.0000000\", \"2019-03-06 12:00:00.0000000\", \"2019-03-06 13:00:00.0000000\", \"2019-03-06 14:00:00.0000000\", \"2019-03-06 15:00:00.0000000\", \"2019-03-06 16:00:00.0000000\", \"2019-03-06 17:00:00.0000000\", \"2019-03-06 18:00:00.0000000\", \"2019-03-06 19:00:00.0000000\", \"2019-03-06 20:00:00.0000000\", \"2019-03-06 21:00:00.0000000\", \"2019-03-06 23:00:00.0000000\", \"2019-03-07 05:00:00.0000000\", \"2019-03-07 06:00:00.0000000\", \"2019-03-07 07:00:00.0000000\", \"2019-03-07 08:00:00.0000000\", \"2019-03-07 09:00:00.0000000\", \"2019-03-07 10:00:00.0000000\", \"2019-03-07 11:00:00.0000000\", \"2019-03-07 12:00:00.0000000\", \"2019-03-07 13:00:00.0000000\", \"2019-03-07 14:00:00.0000000\", \"2019-03-07 15:00:00.0000000\", \"2019-03-07 16:00:00.0000000\", \"2019-03-07 17:00:00.0000000\", \"2019-03-07 18:00:00.0000000\", \"2019-03-07 19:00:00.0000000\", \"2019-03-07 20:00:00.0000000\", \"2019-03-07 23:00:00.0000000\", \"2019-03-08 00:00:00.0000000\", \"2019-03-08 05:00:00.0000000\", \"2019-03-08 06:00:00.0000000\", \"2019-03-08 07:00:00.0000000\", \"2019-03-08 08:00:00.0000000\", \"2019-03-08 09:00:00.0000000\", \"2019-03-08 10:00:00.0000000\", \"2019-03-08 11:00:00.0000000\", \"2019-03-08 12:00:00.0000000\", \"2019-03-08 13:00:00.0000000\", \"2019-03-08 14:00:00.0000000\", \"2019-03-08 15:00:00.0000000\", \"2019-03-08 16:00:00.0000000\", \"2019-03-08 17:00:00.0000000\", \"2019-03-08 18:00:00.0000000\", \"2019-03-08 19:00:00.0000000\", \"2019-03-08 22:00:00.0000000\", \"2019-03-08 23:00:00.0000000\", \"2019-03-09 00:00:00.0000000\", \"2019-03-09 01:00:00.0000000\", \"2019-03-09 06:00:00.0000000\", \"2019-03-09 07:00:00.0000000\", \"2019-03-09 08:00:00.0000000\", \"2019-03-09 09:00:00.0000000\", \"2019-03-09 10:00:00.0000000\", \"2019-03-09 11:00:00.0000000\", \"2019-03-09 12:00:00.0000000\", \"2019-03-09 13:00:00.0000000\", \"2019-03-09 14:00:00.0000000\", \"2019-03-09 15:00:00.0000000\", \"2019-03-09 17:00:00.0000000\", \"2019-03-09 22:00:00.0000000\", \"2019-03-10 00:00:00.0000000\", \"2019-03-10 07:00:00.0000000\", \"2019-03-10 08:00:00.0000000\", \"2019-03-10 09:00:00.0000000\", \"2019-03-10 10:00:00.0000000\", \"2019-03-10 11:00:00.0000000\", \"2019-03-10 12:00:00.0000000\", \"2019-03-10 13:00:00.0000000\", \"2019-03-10 14:00:00.0000000\", \"2019-03-10 15:00:00.0000000\", \"2019-03-10 16:00:00.0000000\", \"2019-03-10 17:00:00.0000000\", \"2019-03-10 18:00:00.0000000\", \"2019-03-10 19:00:00.0000000\", \"2019-03-11 00:00:00.0000000\", \"2019-03-11 02:00:00.0000000\", \"2019-03-11 05:00:00.0000000\", \"2019-03-11 06:00:00.0000000\", \"2019-03-11 07:00:00.0000000\", \"2019-03-11 08:00:00.0000000\", \"2019-03-11 09:00:00.0000000\", \"2019-03-11 10:00:00.0000000\", \"2019-03-11 11:00:00.0000000\", \"2019-03-11 12:00:00.0000000\", \"2019-03-11 13:00:00.0000000\", \"2019-03-11 14:00:00.0000000\", \"2019-03-11 15:00:00.0000000\", \"2019-03-11 16:00:00.0000000\", \"2019-03-11 17:00:00.0000000\", \"2019-03-11 18:00:00.0000000\", \"2019-03-11 19:00:00.0000000\", \"2019-03-11 20:00:00.0000000\", \"2019-03-11 21:00:00.0000000\", \"2019-03-11 22:00:00.0000000\", \"2019-03-12 00:00:00.0000000\", \"2019-03-12 05:00:00.0000000\", \"2019-03-12 06:00:00.0000000\", \"2019-03-12 07:00:00.0000000\", \"2019-03-12 08:00:00.0000000\", \"2019-03-12 09:00:00.0000000\", \"2019-03-12 10:00:00.0000000\", \"2019-03-12 11:00:00.0000000\", \"2019-03-12 12:00:00.0000000\", \"2019-03-12 13:00:00.0000000\", \"2019-03-12 14:00:00.0000000\", \"2019-03-12 15:00:00.0000000\", \"2019-03-12 16:00:00.0000000\", \"2019-03-12 17:00:00.0000000\", \"2019-03-12 18:00:00.0000000\", \"2019-03-12 19:00:00.0000000\", \"2019-03-12 20:00:00.0000000\", \"2019-03-12 21:00:00.0000000\", \"2019-03-12 22:00:00.0000000\", \"2019-03-12 23:00:00.0000000\", \"2019-03-13 00:00:00.0000000\", \"2019-03-13 05:00:00.0000000\", \"2019-03-13 06:00:00.0000000\", \"2019-03-13 07:00:00.0000000\", \"2019-03-13 08:00:00.0000000\", \"2019-03-13 09:00:00.0000000\", \"2019-03-13 10:00:00.0000000\", \"2019-03-13 11:00:00.0000000\", \"2019-03-13 12:00:00.0000000\", \"2019-03-13 13:00:00.0000000\", \"2019-03-13 14:00:00.0000000\", \"2019-03-13 15:00:00.0000000\", \"2019-03-13 16:00:00.0000000\", \"2019-03-13 17:00:00.0000000\", \"2019-03-13 18:00:00.0000000\", \"2019-03-13 19:00:00.0000000\", \"2019-03-13 21:00:00.0000000\", \"2019-03-14 05:00:00.0000000\", \"2019-03-14 06:00:00.0000000\", \"2019-03-14 07:00:00.0000000\", \"2019-03-14 08:00:00.0000000\", \"2019-03-14 09:00:00.0000000\", \"2019-03-14 10:00:00.0000000\", \"2019-03-14 11:00:00.0000000\", \"2019-03-14 12:00:00.0000000\", \"2019-03-14 13:00:00.0000000\", \"2019-03-14 14:00:00.0000000\", \"2019-03-14 15:00:00.0000000\", \"2019-03-14 16:00:00.0000000\", \"2019-03-14 17:00:00.0000000\", \"2019-03-14 18:00:00.0000000\", \"2019-03-14 19:00:00.0000000\", \"2019-03-14 20:00:00.0000000\", \"2019-03-15 00:00:00.0000000\", \"2019-03-15 05:00:00.0000000\", \"2019-03-15 06:00:00.0000000\", \"2019-03-15 07:00:00.0000000\", \"2019-03-15 08:00:00.0000000\", \"2019-03-15 09:00:00.0000000\", \"2019-03-15 10:00:00.0000000\", \"2019-03-15 11:00:00.0000000\", \"2019-03-15 12:00:00.0000000\", \"2019-03-15 13:00:00.0000000\", \"2019-03-15 14:00:00.0000000\", \"2019-03-15 15:00:00.0000000\", \"2019-03-15 16:00:00.0000000\", \"2019-03-15 17:00:00.0000000\", \"2019-03-15 18:00:00.0000000\", \"2019-03-15 19:00:00.0000000\", \"2019-03-15 21:00:00.0000000\", \"2019-03-15 22:00:00.0000000\", \"2019-03-15 23:00:00.0000000\", \"2019-03-16 00:00:00.0000000\", \"2019-03-16 07:00:00.0000000\", \"2019-03-16 08:00:00.0000000\", \"2019-03-16 09:00:00.0000000\", \"2019-03-16 10:00:00.0000000\", \"2019-03-16 11:00:00.0000000\", \"2019-03-16 12:00:00.0000000\", \"2019-03-16 13:00:00.0000000\", \"2019-03-16 14:00:00.0000000\", \"2019-03-16 15:00:00.0000000\", \"2019-03-16 16:00:00.0000000\", \"2019-03-16 17:00:00.0000000\", \"2019-03-16 18:00:00.0000000\", \"2019-03-16 20:00:00.0000000\", \"2019-03-16 21:00:00.0000000\", \"2019-03-17 00:00:00.0000000\", \"2019-03-17 01:00:00.0000000\", \"2019-03-17 04:00:00.0000000\", \"2019-03-17 08:00:00.0000000\", \"2019-03-17 09:00:00.0000000\", \"2019-03-17 10:00:00.0000000\", \"2019-03-17 11:00:00.0000000\", \"2019-03-17 12:00:00.0000000\", \"2019-03-17 13:00:00.0000000\", \"2019-03-17 14:00:00.0000000\", \"2019-03-17 15:00:00.0000000\", \"2019-03-17 16:00:00.0000000\", \"2019-03-17 17:00:00.0000000\", \"2019-03-17 18:00:00.0000000\", \"2019-03-17 19:00:00.0000000\", \"2019-03-17 20:00:00.0000000\", \"2019-03-17 21:00:00.0000000\", \"2019-03-18 05:00:00.0000000\", \"2019-03-18 06:00:00.0000000\", \"2019-03-18 07:00:00.0000000\", \"2019-03-18 08:00:00.0000000\", \"2019-03-18 09:00:00.0000000\", \"2019-03-18 10:00:00.0000000\", \"2019-03-18 11:00:00.0000000\", \"2019-03-18 12:00:00.0000000\", \"2019-03-18 13:00:00.0000000\", \"2019-03-18 14:00:00.0000000\", \"2019-03-18 15:00:00.0000000\", \"2019-03-18 16:00:00.0000000\", \"2019-03-18 17:00:00.0000000\", \"2019-03-18 18:00:00.0000000\", \"2019-03-18 19:00:00.0000000\", \"2019-03-18 20:00:00.0000000\", \"2019-03-18 21:00:00.0000000\", \"2019-03-19 04:00:00.0000000\", \"2019-03-19 05:00:00.0000000\", \"2019-03-19 06:00:00.0000000\", \"2019-03-19 07:00:00.0000000\", \"2019-03-19 08:00:00.0000000\", \"2019-03-19 09:00:00.0000000\", \"2019-03-19 10:00:00.0000000\", \"2019-03-19 11:00:00.0000000\", \"2019-03-19 12:00:00.0000000\", \"2019-03-19 13:00:00.0000000\", \"2019-03-19 14:00:00.0000000\", \"2019-03-19 15:00:00.0000000\", \"2019-03-19 16:00:00.0000000\", \"2019-03-19 17:00:00.0000000\", \"2019-03-19 18:00:00.0000000\", \"2019-03-19 19:00:00.0000000\", \"2019-03-19 20:00:00.0000000\", \"2019-03-19 21:00:00.0000000\", \"2019-03-19 23:00:00.0000000\", \"2019-03-20 05:00:00.0000000\", \"2019-03-20 06:00:00.0000000\", \"2019-03-20 07:00:00.0000000\", \"2019-03-20 08:00:00.0000000\", \"2019-03-20 09:00:00.0000000\", \"2019-03-20 10:00:00.0000000\", \"2019-03-20 11:00:00.0000000\", \"2019-03-20 12:00:00.0000000\", \"2019-03-20 13:00:00.0000000\", \"2019-03-20 14:00:00.0000000\", \"2019-03-20 15:00:00.0000000\", \"2019-03-20 16:00:00.0000000\", \"2019-03-20 17:00:00.0000000\", \"2019-03-20 18:00:00.0000000\", \"2019-03-20 19:00:00.0000000\", \"2019-03-20 20:00:00.0000000\", \"2019-03-21 05:00:00.0000000\", \"2019-03-21 07:00:00.0000000\", \"2019-03-21 08:00:00.0000000\", \"2019-03-21 09:00:00.0000000\", \"2019-03-21 10:00:00.0000000\", \"2019-03-21 11:00:00.0000000\", \"2019-03-21 12:00:00.0000000\", \"2019-03-21 13:00:00.0000000\", \"2019-03-21 14:00:00.0000000\", \"2019-03-21 15:00:00.0000000\", \"2019-03-21 16:00:00.0000000\", \"2019-03-21 17:00:00.0000000\", \"2019-03-21 18:00:00.0000000\", \"2019-03-21 19:00:00.0000000\", \"2019-03-21 20:00:00.0000000\", \"2019-03-22 05:00:00.0000000\", \"2019-03-22 06:00:00.0000000\", \"2019-03-22 07:00:00.0000000\", \"2019-03-22 08:00:00.0000000\", \"2019-03-22 09:00:00.0000000\", \"2019-03-22 10:00:00.0000000\", \"2019-03-22 11:00:00.0000000\", \"2019-03-22 12:00:00.0000000\", \"2019-03-22 13:00:00.0000000\", \"2019-03-22 14:00:00.0000000\", \"2019-03-22 15:00:00.0000000\", \"2019-03-22 16:00:00.0000000\", \"2019-03-22 17:00:00.0000000\", \"2019-03-22 18:00:00.0000000\", \"2019-03-22 19:00:00.0000000\", \"2019-03-22 21:00:00.0000000\", \"2019-03-22 23:00:00.0000000\", \"2019-03-23 06:00:00.0000000\", \"2019-03-23 07:00:00.0000000\", \"2019-03-23 08:00:00.0000000\", \"2019-03-23 09:00:00.0000000\", \"2019-03-23 10:00:00.0000000\", \"2019-03-23 11:00:00.0000000\", \"2019-03-23 12:00:00.0000000\", \"2019-03-23 13:00:00.0000000\", \"2019-03-23 14:00:00.0000000\", \"2019-03-23 15:00:00.0000000\", \"2019-03-23 16:00:00.0000000\", \"2019-03-23 18:00:00.0000000\", \"2019-03-23 21:00:00.0000000\", \"2019-03-23 23:00:00.0000000\", \"2019-03-24 06:00:00.0000000\", \"2019-03-24 07:00:00.0000000\", \"2019-03-24 08:00:00.0000000\", \"2019-03-24 09:00:00.0000000\", \"2019-03-24 10:00:00.0000000\", \"2019-03-24 11:00:00.0000000\", \"2019-03-24 12:00:00.0000000\", \"2019-03-24 13:00:00.0000000\", \"2019-03-24 14:00:00.0000000\", \"2019-03-24 15:00:00.0000000\", \"2019-03-24 16:00:00.0000000\", \"2019-03-24 17:00:00.0000000\", \"2019-03-24 18:00:00.0000000\", \"2019-03-24 19:00:00.0000000\", \"2019-03-24 23:00:00.0000000\", \"2019-03-25 00:00:00.0000000\", \"2019-03-25 05:00:00.0000000\", \"2019-03-25 06:00:00.0000000\", \"2019-03-25 07:00:00.0000000\", \"2019-03-25 08:00:00.0000000\", \"2019-03-25 09:00:00.0000000\", \"2019-03-25 10:00:00.0000000\", \"2019-03-25 11:00:00.0000000\", \"2019-03-25 12:00:00.0000000\", \"2019-03-25 13:00:00.0000000\", \"2019-03-25 14:00:00.0000000\", \"2019-03-25 15:00:00.0000000\", \"2019-03-25 16:00:00.0000000\", \"2019-03-25 17:00:00.0000000\", \"2019-03-25 18:00:00.0000000\", \"2019-03-25 19:00:00.0000000\", \"2019-03-25 20:00:00.0000000\", \"2019-03-25 21:00:00.0000000\", \"2019-03-26 00:00:00.0000000\", \"2019-03-26 06:00:00.0000000\", \"2019-03-26 07:00:00.0000000\", \"2019-03-26 08:00:00.0000000\", \"2019-03-26 09:00:00.0000000\", \"2019-03-26 10:00:00.0000000\", \"2019-03-26 11:00:00.0000000\", \"2019-03-26 12:00:00.0000000\", \"2019-03-26 13:00:00.0000000\", \"2019-03-26 14:00:00.0000000\", \"2019-03-26 15:00:00.0000000\", \"2019-03-26 16:00:00.0000000\", \"2019-03-26 17:00:00.0000000\", \"2019-03-26 18:00:00.0000000\", \"2019-03-26 19:00:00.0000000\", \"2019-03-26 20:00:00.0000000\", \"2019-03-26 21:00:00.0000000\", \"2019-03-27 05:00:00.0000000\", \"2019-03-27 06:00:00.0000000\", \"2019-03-27 07:00:00.0000000\", \"2019-03-27 08:00:00.0000000\", \"2019-03-27 09:00:00.0000000\", \"2019-03-27 10:00:00.0000000\", \"2019-03-27 11:00:00.0000000\", \"2019-03-27 12:00:00.0000000\", \"2019-03-27 13:00:00.0000000\", \"2019-03-27 14:00:00.0000000\", \"2019-03-27 15:00:00.0000000\", \"2019-03-27 16:00:00.0000000\", \"2019-03-27 17:00:00.0000000\", \"2019-03-27 18:00:00.0000000\", \"2019-03-27 19:00:00.0000000\", \"2019-03-27 20:00:00.0000000\", \"2019-03-28 01:00:00.0000000\", \"2019-03-28 05:00:00.0000000\", \"2019-03-28 06:00:00.0000000\", \"2019-03-28 07:00:00.0000000\", \"2019-03-28 08:00:00.0000000\", \"2019-03-28 09:00:00.0000000\", \"2019-03-28 10:00:00.0000000\", \"2019-03-28 11:00:00.0000000\", \"2019-03-28 12:00:00.0000000\", \"2019-03-28 13:00:00.0000000\", \"2019-03-28 14:00:00.0000000\", \"2019-03-28 15:00:00.0000000\", \"2019-03-28 16:00:00.0000000\", \"2019-03-28 17:00:00.0000000\", \"2019-03-28 18:00:00.0000000\", \"2019-03-28 19:00:00.0000000\", \"2019-03-28 20:00:00.0000000\", \"2019-03-28 21:00:00.0000000\", \"2019-03-28 22:00:00.0000000\", \"2019-03-29 02:00:00.0000000\", \"2019-03-29 03:00:00.0000000\", \"2019-03-29 04:00:00.0000000\", \"2019-03-29 05:00:00.0000000\", \"2019-03-29 06:00:00.0000000\", \"2019-03-29 07:00:00.0000000\", \"2019-03-29 08:00:00.0000000\", \"2019-03-29 09:00:00.0000000\", \"2019-03-29 10:00:00.0000000\", \"2019-03-29 11:00:00.0000000\", \"2019-03-29 12:00:00.0000000\", \"2019-03-29 13:00:00.0000000\", \"2019-03-29 14:00:00.0000000\", \"2019-03-29 15:00:00.0000000\", \"2019-03-29 16:00:00.0000000\", \"2019-03-29 17:00:00.0000000\", \"2019-03-29 18:00:00.0000000\", \"2019-03-29 19:00:00.0000000\", \"2019-03-30 00:00:00.0000000\", \"2019-03-30 07:00:00.0000000\", \"2019-03-30 08:00:00.0000000\", \"2019-03-30 09:00:00.0000000\", \"2019-03-30 10:00:00.0000000\", \"2019-03-30 11:00:00.0000000\", \"2019-03-30 12:00:00.0000000\", \"2019-03-30 13:00:00.0000000\", \"2019-03-30 14:00:00.0000000\", \"2019-03-30 15:00:00.0000000\", \"2019-03-30 16:00:00.0000000\", \"2019-03-30 17:00:00.0000000\", \"2019-03-30 18:00:00.0000000\", \"2019-03-30 19:00:00.0000000\", \"2019-03-30 20:00:00.0000000\", \"2019-03-30 21:00:00.0000000\", \"2019-03-30 22:00:00.0000000\", \"2019-03-30 23:00:00.0000000\", \"2019-03-31 00:00:00.0000000\", \"2019-03-31 01:00:00.0000000\", \"2019-03-31 02:00:00.0000000\", \"2019-03-31 03:00:00.0000000\", \"2019-03-31 05:00:00.0000000\", \"2019-03-31 06:00:00.0000000\", \"2019-03-31 07:00:00.0000000\", \"2019-03-31 08:00:00.0000000\", \"2019-03-31 09:00:00.0000000\", \"2019-03-31 10:00:00.0000000\", \"2019-03-31 11:00:00.0000000\", \"2019-03-31 12:00:00.0000000\", \"2019-03-31 13:00:00.0000000\", \"2019-03-31 14:00:00.0000000\", \"2019-03-31 15:00:00.0000000\", \"2019-03-31 16:00:00.0000000\", \"2019-03-31 17:00:00.0000000\", \"2019-03-31 18:00:00.0000000\", \"2019-03-31 19:00:00.0000000\", \"2019-03-31 22:00:00.0000000\", \"2019-04-01 01:00:00.0000000\", \"2019-04-01 04:00:00.0000000\", \"2019-04-01 05:00:00.0000000\", \"2019-04-01 06:00:00.0000000\", \"2019-04-01 07:00:00.0000000\", \"2019-04-01 08:00:00.0000000\", \"2019-04-01 09:00:00.0000000\", \"2019-04-01 10:00:00.0000000\", \"2019-04-01 11:00:00.0000000\", \"2019-04-01 12:00:00.0000000\", \"2019-04-01 13:00:00.0000000\", \"2019-04-01 14:00:00.0000000\", \"2019-04-01 15:00:00.0000000\", \"2019-04-01 16:00:00.0000000\", \"2019-04-01 17:00:00.0000000\", \"2019-04-01 18:00:00.0000000\", \"2019-04-01 19:00:00.0000000\", \"2019-04-01 20:00:00.0000000\", \"2019-04-01 23:00:00.0000000\", \"2019-04-02 04:00:00.0000000\", \"2019-04-02 05:00:00.0000000\", \"2019-04-02 06:00:00.0000000\", \"2019-04-02 07:00:00.0000000\", \"2019-04-02 08:00:00.0000000\", \"2019-04-02 09:00:00.0000000\", \"2019-04-02 10:00:00.0000000\", \"2019-04-02 11:00:00.0000000\", \"2019-04-02 12:00:00.0000000\", \"2019-04-02 13:00:00.0000000\", \"2019-04-02 14:00:00.0000000\", \"2019-04-02 15:00:00.0000000\", \"2019-04-02 16:00:00.0000000\", \"2019-04-02 17:00:00.0000000\", \"2019-04-02 18:00:00.0000000\", \"2019-04-02 19:00:00.0000000\", \"2019-04-02 20:00:00.0000000\", \"2019-04-02 21:00:00.0000000\", \"2019-04-03 04:00:00.0000000\", \"2019-04-03 05:00:00.0000000\", \"2019-04-03 06:00:00.0000000\", \"2019-04-03 07:00:00.0000000\", \"2019-04-03 08:00:00.0000000\", \"2019-04-03 09:00:00.0000000\", \"2019-04-03 10:00:00.0000000\", \"2019-04-03 11:00:00.0000000\", \"2019-04-03 12:00:00.0000000\", \"2019-04-03 13:00:00.0000000\", \"2019-04-03 14:00:00.0000000\", \"2019-04-03 15:00:00.0000000\", \"2019-04-03 16:00:00.0000000\", \"2019-04-03 17:00:00.0000000\", \"2019-04-03 18:00:00.0000000\", \"2019-04-03 19:00:00.0000000\", \"2019-04-03 20:00:00.0000000\", \"2019-04-03 22:00:00.0000000\", \"2019-04-03 23:00:00.0000000\", \"2019-04-04 00:00:00.0000000\", \"2019-04-04 04:00:00.0000000\", \"2019-04-04 05:00:00.0000000\", \"2019-04-04 06:00:00.0000000\", \"2019-04-04 07:00:00.0000000\", \"2019-04-04 08:00:00.0000000\", \"2019-04-04 09:00:00.0000000\", \"2019-04-04 10:00:00.0000000\", \"2019-04-04 11:00:00.0000000\", \"2019-04-04 12:00:00.0000000\", \"2019-04-04 13:00:00.0000000\", \"2019-04-04 14:00:00.0000000\", \"2019-04-04 15:00:00.0000000\", \"2019-04-04 16:00:00.0000000\", \"2019-04-04 17:00:00.0000000\", \"2019-04-04 18:00:00.0000000\", \"2019-04-04 19:00:00.0000000\", \"2019-04-04 20:00:00.0000000\", \"2019-04-05 04:00:00.0000000\", \"2019-04-05 05:00:00.0000000\", \"2019-04-05 06:00:00.0000000\", \"2019-04-05 07:00:00.0000000\", \"2019-04-05 08:00:00.0000000\", \"2019-04-05 09:00:00.0000000\", \"2019-04-05 10:00:00.0000000\", \"2019-04-05 11:00:00.0000000\", \"2019-04-05 12:00:00.0000000\", \"2019-04-05 13:00:00.0000000\", \"2019-04-05 14:00:00.0000000\", \"2019-04-05 15:00:00.0000000\", \"2019-04-05 16:00:00.0000000\", \"2019-04-05 17:00:00.0000000\", \"2019-04-05 18:00:00.0000000\", \"2019-04-05 23:00:00.0000000\", \"2019-04-06 01:00:00.0000000\", \"2019-04-06 06:00:00.0000000\", \"2019-04-06 07:00:00.0000000\", \"2019-04-06 08:00:00.0000000\", \"2019-04-06 09:00:00.0000000\", \"2019-04-06 10:00:00.0000000\", \"2019-04-06 11:00:00.0000000\", \"2019-04-06 12:00:00.0000000\", \"2019-04-06 13:00:00.0000000\", \"2019-04-06 14:00:00.0000000\", \"2019-04-06 15:00:00.0000000\", \"2019-04-06 16:00:00.0000000\", \"2019-04-06 17:00:00.0000000\", \"2019-04-06 21:00:00.0000000\", \"2019-04-07 06:00:00.0000000\", \"2019-04-07 07:00:00.0000000\", \"2019-04-07 08:00:00.0000000\", \"2019-04-07 09:00:00.0000000\", \"2019-04-07 10:00:00.0000000\", \"2019-04-07 11:00:00.0000000\", \"2019-04-07 12:00:00.0000000\", \"2019-04-07 13:00:00.0000000\", \"2019-04-07 14:00:00.0000000\", \"2019-04-07 15:00:00.0000000\", \"2019-04-07 16:00:00.0000000\", \"2019-04-07 17:00:00.0000000\", \"2019-04-07 18:00:00.0000000\", \"2019-04-07 19:00:00.0000000\", \"2019-04-07 23:00:00.0000000\", \"2019-04-08 04:00:00.0000000\", \"2019-04-08 05:00:00.0000000\", \"2019-04-08 06:00:00.0000000\", \"2019-04-08 07:00:00.0000000\", \"2019-04-08 08:00:00.0000000\", \"2019-04-08 09:00:00.0000000\", \"2019-04-08 10:00:00.0000000\", \"2019-04-08 11:00:00.0000000\", \"2019-04-08 12:00:00.0000000\", \"2019-04-08 13:00:00.0000000\", \"2019-04-08 14:00:00.0000000\", \"2019-04-08 15:00:00.0000000\", \"2019-04-08 16:00:00.0000000\", \"2019-04-08 17:00:00.0000000\", \"2019-04-08 18:00:00.0000000\", \"2019-04-08 19:00:00.0000000\", \"2019-04-08 20:00:00.0000000\", \"2019-04-09 00:00:00.0000000\", \"2019-04-09 04:00:00.0000000\", \"2019-04-09 05:00:00.0000000\", \"2019-04-09 06:00:00.0000000\", \"2019-04-09 07:00:00.0000000\", \"2019-04-09 08:00:00.0000000\", \"2019-04-09 09:00:00.0000000\", \"2019-04-09 10:00:00.0000000\", \"2019-04-09 11:00:00.0000000\", \"2019-04-09 12:00:00.0000000\", \"2019-04-09 13:00:00.0000000\", \"2019-04-09 14:00:00.0000000\", \"2019-04-09 15:00:00.0000000\", \"2019-04-09 16:00:00.0000000\", \"2019-04-09 17:00:00.0000000\", \"2019-04-09 18:00:00.0000000\", \"2019-04-09 19:00:00.0000000\", \"2019-04-09 21:00:00.0000000\", \"2019-04-10 04:00:00.0000000\", \"2019-04-10 05:00:00.0000000\", \"2019-04-10 06:00:00.0000000\", \"2019-04-10 07:00:00.0000000\", \"2019-04-10 08:00:00.0000000\", \"2019-04-10 09:00:00.0000000\", \"2019-04-10 10:00:00.0000000\", \"2019-04-10 11:00:00.0000000\", \"2019-04-10 12:00:00.0000000\", \"2019-04-10 13:00:00.0000000\", \"2019-04-10 14:00:00.0000000\", \"2019-04-10 15:00:00.0000000\", \"2019-04-10 16:00:00.0000000\", \"2019-04-10 17:00:00.0000000\", \"2019-04-10 18:00:00.0000000\", \"2019-04-10 19:00:00.0000000\", \"2019-04-10 20:00:00.0000000\", \"2019-04-10 23:00:00.0000000\", \"2019-04-11 04:00:00.0000000\", \"2019-04-11 05:00:00.0000000\", \"2019-04-11 06:00:00.0000000\", \"2019-04-11 07:00:00.0000000\", \"2019-04-11 08:00:00.0000000\", \"2019-04-11 09:00:00.0000000\", \"2019-04-11 10:00:00.0000000\", \"2019-04-11 11:00:00.0000000\", \"2019-04-11 12:00:00.0000000\", \"2019-04-11 13:00:00.0000000\", \"2019-04-11 14:00:00.0000000\", \"2019-04-11 15:00:00.0000000\", \"2019-04-11 16:00:00.0000000\", \"2019-04-11 17:00:00.0000000\", \"2019-04-11 18:00:00.0000000\", \"2019-04-11 19:00:00.0000000\", \"2019-04-11 20:00:00.0000000\", \"2019-04-11 21:00:00.0000000\", \"2019-04-11 22:00:00.0000000\", \"2019-04-11 23:00:00.0000000\", \"2019-04-12 00:00:00.0000000\", \"2019-04-12 01:00:00.0000000\", \"2019-04-12 02:00:00.0000000\", \"2019-04-12 03:00:00.0000000\", \"2019-04-12 04:00:00.0000000\", \"2019-04-12 05:00:00.0000000\", \"2019-04-12 06:00:00.0000000\", \"2019-04-12 07:00:00.0000000\", \"2019-04-12 08:00:00.0000000\", \"2019-04-12 09:00:00.0000000\", \"2019-04-12 10:00:00.0000000\", \"2019-04-12 11:00:00.0000000\", \"2019-04-12 12:00:00.0000000\", \"2019-04-12 13:00:00.0000000\", \"2019-04-12 14:00:00.0000000\", \"2019-04-12 15:00:00.0000000\", \"2019-04-12 16:00:00.0000000\", \"2019-04-12 17:00:00.0000000\", \"2019-04-12 18:00:00.0000000\", \"2019-04-12 23:00:00.0000000\", \"2019-04-13 00:00:00.0000000\", \"2019-04-13 01:00:00.0000000\", \"2019-04-13 02:00:00.0000000\", \"2019-04-13 05:00:00.0000000\", \"2019-04-13 06:00:00.0000000\", \"2019-04-13 07:00:00.0000000\", \"2019-04-13 08:00:00.0000000\", \"2019-04-13 09:00:00.0000000\", \"2019-04-13 10:00:00.0000000\", \"2019-04-13 11:00:00.0000000\", \"2019-04-13 12:00:00.0000000\", \"2019-04-13 13:00:00.0000000\", \"2019-04-13 14:00:00.0000000\", \"2019-04-13 15:00:00.0000000\", \"2019-04-13 16:00:00.0000000\", \"2019-04-13 17:00:00.0000000\", \"2019-04-13 18:00:00.0000000\", \"2019-04-13 23:00:00.0000000\", \"2019-04-14 04:00:00.0000000\", \"2019-04-14 06:00:00.0000000\", \"2019-04-14 07:00:00.0000000\", \"2019-04-14 08:00:00.0000000\", \"2019-04-14 09:00:00.0000000\", \"2019-04-14 10:00:00.0000000\", \"2019-04-14 11:00:00.0000000\", \"2019-04-14 12:00:00.0000000\", \"2019-04-14 13:00:00.0000000\", \"2019-04-14 14:00:00.0000000\", \"2019-04-14 15:00:00.0000000\", \"2019-04-14 16:00:00.0000000\", \"2019-04-14 17:00:00.0000000\", \"2019-04-14 18:00:00.0000000\", \"2019-04-14 19:00:00.0000000\", \"2019-04-14 20:00:00.0000000\", \"2019-04-15 00:00:00.0000000\", \"2019-04-15 01:00:00.0000000\", \"2019-04-15 04:00:00.0000000\", \"2019-04-15 05:00:00.0000000\", \"2019-04-15 06:00:00.0000000\", \"2019-04-15 07:00:00.0000000\", \"2019-04-15 08:00:00.0000000\", \"2019-04-15 09:00:00.0000000\", \"2019-04-15 10:00:00.0000000\", \"2019-04-15 11:00:00.0000000\", \"2019-04-15 12:00:00.0000000\", \"2019-04-15 13:00:00.0000000\", \"2019-04-15 14:00:00.0000000\", \"2019-04-15 15:00:00.0000000\", \"2019-04-15 16:00:00.0000000\", \"2019-04-15 17:00:00.0000000\", \"2019-04-15 18:00:00.0000000\", \"2019-04-15 19:00:00.0000000\", \"2019-04-15 20:00:00.0000000\", \"2019-04-15 23:00:00.0000000\", \"2019-04-16 04:00:00.0000000\", \"2019-04-16 05:00:00.0000000\", \"2019-04-16 06:00:00.0000000\", \"2019-04-16 07:00:00.0000000\", \"2019-04-16 08:00:00.0000000\", \"2019-04-16 09:00:00.0000000\", \"2019-04-16 10:00:00.0000000\", \"2019-04-16 11:00:00.0000000\", \"2019-04-16 12:00:00.0000000\", \"2019-04-16 13:00:00.0000000\", \"2019-04-16 14:00:00.0000000\", \"2019-04-16 15:00:00.0000000\", \"2019-04-16 16:00:00.0000000\", \"2019-04-16 17:00:00.0000000\", \"2019-04-16 18:00:00.0000000\", \"2019-04-16 19:00:00.0000000\", \"2019-04-16 20:00:00.0000000\", \"2019-04-16 23:00:00.0000000\", \"2019-04-17 04:00:00.0000000\", \"2019-04-17 05:00:00.0000000\", \"2019-04-17 06:00:00.0000000\", \"2019-04-17 07:00:00.0000000\", \"2019-04-17 08:00:00.0000000\", \"2019-04-17 09:00:00.0000000\", \"2019-04-17 10:00:00.0000000\", \"2019-04-17 11:00:00.0000000\", \"2019-04-17 12:00:00.0000000\", \"2019-04-17 13:00:00.0000000\", \"2019-04-17 14:00:00.0000000\", \"2019-04-17 15:00:00.0000000\", \"2019-04-17 16:00:00.0000000\", \"2019-04-17 17:00:00.0000000\", \"2019-04-17 18:00:00.0000000\", \"2019-04-17 19:00:00.0000000\", \"2019-04-17 20:00:00.0000000\", \"2019-04-18 00:00:00.0000000\", \"2019-04-18 04:00:00.0000000\", \"2019-04-18 05:00:00.0000000\", \"2019-04-18 06:00:00.0000000\", \"2019-04-18 07:00:00.0000000\", \"2019-04-18 08:00:00.0000000\", \"2019-04-18 09:00:00.0000000\", \"2019-04-18 10:00:00.0000000\", \"2019-04-18 11:00:00.0000000\", \"2019-04-18 12:00:00.0000000\", \"2019-04-18 13:00:00.0000000\", \"2019-04-18 14:00:00.0000000\", \"2019-04-18 15:00:00.0000000\", \"2019-04-18 16:00:00.0000000\", \"2019-04-18 23:00:00.0000000\", \"2019-04-19 06:00:00.0000000\", \"2019-04-19 07:00:00.0000000\", \"2019-04-19 08:00:00.0000000\", \"2019-04-19 09:00:00.0000000\", \"2019-04-19 10:00:00.0000000\", \"2019-04-19 11:00:00.0000000\", \"2019-04-19 12:00:00.0000000\", \"2019-04-19 13:00:00.0000000\", \"2019-04-19 14:00:00.0000000\", \"2019-04-19 15:00:00.0000000\", \"2019-04-19 16:00:00.0000000\", \"2019-04-19 17:00:00.0000000\", \"2019-04-19 19:00:00.0000000\", \"2019-04-19 21:00:00.0000000\", \"2019-04-20 06:00:00.0000000\", \"2019-04-20 07:00:00.0000000\", \"2019-04-20 08:00:00.0000000\", \"2019-04-20 09:00:00.0000000\", \"2019-04-20 10:00:00.0000000\", \"2019-04-20 11:00:00.0000000\", \"2019-04-20 13:00:00.0000000\", \"2019-04-20 14:00:00.0000000\", \"2019-04-20 17:00:00.0000000\", \"2019-04-20 18:00:00.0000000\", \"2019-04-20 19:00:00.0000000\", \"2019-04-20 21:00:00.0000000\", \"2019-04-20 23:00:00.0000000\", \"2019-04-21 05:00:00.0000000\", \"2019-04-21 06:00:00.0000000\", \"2019-04-21 07:00:00.0000000\", \"2019-04-21 08:00:00.0000000\", \"2019-04-21 09:00:00.0000000\", \"2019-04-21 10:00:00.0000000\", \"2019-04-21 11:00:00.0000000\", \"2019-04-21 12:00:00.0000000\", \"2019-04-21 13:00:00.0000000\", \"2019-04-21 14:00:00.0000000\", \"2019-04-21 15:00:00.0000000\", \"2019-04-21 16:00:00.0000000\", \"2019-04-21 17:00:00.0000000\", \"2019-04-21 23:00:00.0000000\", \"2019-04-22 06:00:00.0000000\", \"2019-04-22 07:00:00.0000000\", \"2019-04-22 08:00:00.0000000\", \"2019-04-22 09:00:00.0000000\", \"2019-04-22 10:00:00.0000000\", \"2019-04-22 11:00:00.0000000\", \"2019-04-22 12:00:00.0000000\", \"2019-04-22 13:00:00.0000000\", \"2019-04-22 14:00:00.0000000\", \"2019-04-22 15:00:00.0000000\", \"2019-04-22 16:00:00.0000000\", \"2019-04-22 17:00:00.0000000\", \"2019-04-22 18:00:00.0000000\", \"2019-04-22 21:00:00.0000000\", \"2019-04-23 04:00:00.0000000\", \"2019-04-23 05:00:00.0000000\", \"2019-04-23 06:00:00.0000000\", \"2019-04-23 07:00:00.0000000\", \"2019-04-23 08:00:00.0000000\", \"2019-04-23 09:00:00.0000000\", \"2019-04-23 10:00:00.0000000\", \"2019-04-23 11:00:00.0000000\", \"2019-04-23 12:00:00.0000000\", \"2019-04-23 13:00:00.0000000\", \"2019-04-23 14:00:00.0000000\", \"2019-04-23 15:00:00.0000000\", \"2019-04-23 16:00:00.0000000\", \"2019-04-23 17:00:00.0000000\", \"2019-04-23 18:00:00.0000000\", \"2019-04-23 19:00:00.0000000\", \"2019-04-23 21:00:00.0000000\", \"2019-04-23 22:00:00.0000000\", \"2019-04-23 23:00:00.0000000\", \"2019-04-24 00:00:00.0000000\", \"2019-04-24 03:00:00.0000000\", \"2019-04-24 04:00:00.0000000\", \"2019-04-24 05:00:00.0000000\", \"2019-04-24 06:00:00.0000000\", \"2019-04-24 07:00:00.0000000\", \"2019-04-24 08:00:00.0000000\", \"2019-04-24 09:00:00.0000000\", \"2019-04-24 10:00:00.0000000\", \"2019-04-24 11:00:00.0000000\", \"2019-04-24 12:00:00.0000000\", \"2019-04-24 13:00:00.0000000\", \"2019-04-24 14:00:00.0000000\", \"2019-04-24 15:00:00.0000000\", \"2019-04-24 16:00:00.0000000\", \"2019-04-24 17:00:00.0000000\", \"2019-04-24 18:00:00.0000000\", \"2019-04-24 19:00:00.0000000\", \"2019-04-24 23:00:00.0000000\", \"2019-04-25 04:00:00.0000000\", \"2019-04-25 05:00:00.0000000\", \"2019-04-25 06:00:00.0000000\", \"2019-04-25 07:00:00.0000000\", \"2019-04-25 08:00:00.0000000\", \"2019-04-25 09:00:00.0000000\", \"2019-04-25 10:00:00.0000000\", \"2019-04-25 11:00:00.0000000\", \"2019-04-25 12:00:00.0000000\", \"2019-04-25 13:00:00.0000000\", \"2019-04-25 14:00:00.0000000\", \"2019-04-25 15:00:00.0000000\", \"2019-04-25 16:00:00.0000000\", \"2019-04-25 17:00:00.0000000\", \"2019-04-25 18:00:00.0000000\", \"2019-04-25 19:00:00.0000000\", \"2019-04-25 22:00:00.0000000\", \"2019-04-26 04:00:00.0000000\", \"2019-04-26 05:00:00.0000000\", \"2019-04-26 06:00:00.0000000\", \"2019-04-26 07:00:00.0000000\", \"2019-04-26 08:00:00.0000000\", \"2019-04-26 09:00:00.0000000\", \"2019-04-26 10:00:00.0000000\", \"2019-04-26 11:00:00.0000000\", \"2019-04-26 12:00:00.0000000\", \"2019-04-26 13:00:00.0000000\", \"2019-04-26 14:00:00.0000000\", \"2019-04-26 15:00:00.0000000\", \"2019-04-26 16:00:00.0000000\", \"2019-04-26 17:00:00.0000000\", \"2019-04-26 18:00:00.0000000\", \"2019-04-26 21:00:00.0000000\", \"2019-04-26 22:00:00.0000000\", \"2019-04-27 06:00:00.0000000\", \"2019-04-27 07:00:00.0000000\", \"2019-04-27 08:00:00.0000000\", \"2019-04-27 09:00:00.0000000\", \"2019-04-27 10:00:00.0000000\", \"2019-04-27 11:00:00.0000000\", \"2019-04-27 12:00:00.0000000\", \"2019-04-27 13:00:00.0000000\", \"2019-04-27 14:00:00.0000000\", \"2019-04-27 15:00:00.0000000\", \"2019-04-27 16:00:00.0000000\", \"2019-04-27 17:00:00.0000000\", \"2019-04-27 18:00:00.0000000\", \"2019-04-27 19:00:00.0000000\", \"2019-04-27 21:00:00.0000000\", \"2019-04-27 22:00:00.0000000\", \"2019-04-28 06:00:00.0000000\", \"2019-04-28 07:00:00.0000000\", \"2019-04-28 08:00:00.0000000\", \"2019-04-28 09:00:00.0000000\", \"2019-04-28 10:00:00.0000000\", \"2019-04-28 11:00:00.0000000\", \"2019-04-28 12:00:00.0000000\", \"2019-04-28 13:00:00.0000000\", \"2019-04-28 14:00:00.0000000\", \"2019-04-28 15:00:00.0000000\", \"2019-04-28 16:00:00.0000000\", \"2019-04-28 17:00:00.0000000\", \"2019-04-28 18:00:00.0000000\", \"2019-04-28 19:00:00.0000000\", \"2019-04-28 20:00:00.0000000\", \"2019-04-28 21:00:00.0000000\", \"2019-04-28 22:00:00.0000000\", \"2019-04-29 00:00:00.0000000\", \"2019-04-29 04:00:00.0000000\", \"2019-04-29 05:00:00.0000000\", \"2019-04-29 06:00:00.0000000\", \"2019-04-29 07:00:00.0000000\", \"2019-04-29 08:00:00.0000000\", \"2019-04-29 09:00:00.0000000\", \"2019-04-29 10:00:00.0000000\", \"2019-04-29 11:00:00.0000000\", \"2019-04-29 12:00:00.0000000\", \"2019-04-29 13:00:00.0000000\", \"2019-04-29 14:00:00.0000000\", \"2019-04-29 15:00:00.0000000\", \"2019-04-29 16:00:00.0000000\", \"2019-04-29 17:00:00.0000000\", \"2019-04-29 18:00:00.0000000\", \"2019-04-29 19:00:00.0000000\", \"2019-04-29 20:00:00.0000000\", \"2019-04-29 23:00:00.0000000\", \"2019-04-30 04:00:00.0000000\", \"2019-04-30 05:00:00.0000000\", \"2019-04-30 06:00:00.0000000\", \"2019-04-30 07:00:00.0000000\", \"2019-04-30 08:00:00.0000000\", \"2019-04-30 09:00:00.0000000\", \"2019-04-30 10:00:00.0000000\", \"2019-04-30 11:00:00.0000000\", \"2019-04-30 12:00:00.0000000\", \"2019-04-30 13:00:00.0000000\", \"2019-04-30 14:00:00.0000000\", \"2019-04-30 15:00:00.0000000\", \"2019-04-30 16:00:00.0000000\", \"2019-04-30 17:00:00.0000000\", \"2019-04-30 18:00:00.0000000\", \"2019-04-30 22:00:00.0000000\", \"2019-05-01 06:00:00.0000000\", \"2019-05-01 07:00:00.0000000\", \"2019-05-01 08:00:00.0000000\", \"2019-05-01 09:00:00.0000000\", \"2019-05-01 10:00:00.0000000\", \"2019-05-01 11:00:00.0000000\", \"2019-05-01 12:00:00.0000000\", \"2019-05-01 13:00:00.0000000\", \"2019-05-01 14:00:00.0000000\", \"2019-05-01 15:00:00.0000000\", \"2019-05-01 16:00:00.0000000\", \"2019-05-01 17:00:00.0000000\", \"2019-05-01 18:00:00.0000000\", \"2019-05-01 23:00:00.0000000\", \"2019-05-02 04:00:00.0000000\", \"2019-05-02 05:00:00.0000000\", \"2019-05-02 06:00:00.0000000\", \"2019-05-02 07:00:00.0000000\", \"2019-05-02 08:00:00.0000000\", \"2019-05-02 09:00:00.0000000\", \"2019-05-02 10:00:00.0000000\", \"2019-05-02 11:00:00.0000000\", \"2019-05-02 12:00:00.0000000\", \"2019-05-02 13:00:00.0000000\", \"2019-05-02 14:00:00.0000000\", \"2019-05-02 15:00:00.0000000\", \"2019-05-02 16:00:00.0000000\", \"2019-05-02 17:00:00.0000000\", \"2019-05-02 18:00:00.0000000\", \"2019-05-02 19:00:00.0000000\", \"2019-05-02 22:00:00.0000000\", \"2019-05-02 23:00:00.0000000\", \"2019-05-03 04:00:00.0000000\", \"2019-05-03 05:00:00.0000000\", \"2019-05-03 06:00:00.0000000\", \"2019-05-03 07:00:00.0000000\", \"2019-05-03 08:00:00.0000000\", \"2019-05-03 09:00:00.0000000\", \"2019-05-03 10:00:00.0000000\", \"2019-05-03 11:00:00.0000000\", \"2019-05-03 12:00:00.0000000\", \"2019-05-03 13:00:00.0000000\", \"2019-05-03 14:00:00.0000000\", \"2019-05-03 15:00:00.0000000\", \"2019-05-03 16:00:00.0000000\", \"2019-05-03 17:00:00.0000000\", \"2019-05-03 18:00:00.0000000\", \"2019-05-03 23:00:00.0000000\", \"2019-05-04 05:00:00.0000000\", \"2019-05-04 06:00:00.0000000\", \"2019-05-04 07:00:00.0000000\", \"2019-05-04 08:00:00.0000000\", \"2019-05-04 09:00:00.0000000\", \"2019-05-04 10:00:00.0000000\", \"2019-05-04 11:00:00.0000000\", \"2019-05-04 12:00:00.0000000\", \"2019-05-04 13:00:00.0000000\", \"2019-05-04 14:00:00.0000000\", \"2019-05-04 15:00:00.0000000\", \"2019-05-04 16:00:00.0000000\", \"2019-05-04 17:00:00.0000000\", \"2019-05-04 23:00:00.0000000\", \"2019-05-05 00:00:00.0000000\", \"2019-05-05 05:00:00.0000000\", \"2019-05-05 06:00:00.0000000\", \"2019-05-05 07:00:00.0000000\", \"2019-05-05 08:00:00.0000000\", \"2019-05-05 09:00:00.0000000\", \"2019-05-05 10:00:00.0000000\", \"2019-05-05 11:00:00.0000000\", \"2019-05-05 12:00:00.0000000\", \"2019-05-05 13:00:00.0000000\", \"2019-05-05 14:00:00.0000000\", \"2019-05-05 15:00:00.0000000\", \"2019-05-05 16:00:00.0000000\", \"2019-05-05 17:00:00.0000000\", \"2019-05-05 18:00:00.0000000\", \"2019-05-05 19:00:00.0000000\", \"2019-05-05 22:00:00.0000000\", \"2019-05-05 23:00:00.0000000\", \"2019-05-06 04:00:00.0000000\", \"2019-05-06 05:00:00.0000000\", \"2019-05-06 06:00:00.0000000\", \"2019-05-06 07:00:00.0000000\", \"2019-05-06 08:00:00.0000000\", \"2019-05-06 09:00:00.0000000\", \"2019-05-06 10:00:00.0000000\", \"2019-05-06 11:00:00.0000000\", \"2019-05-06 12:00:00.0000000\", \"2019-05-06 13:00:00.0000000\", \"2019-05-06 14:00:00.0000000\", \"2019-05-06 15:00:00.0000000\", \"2019-05-06 16:00:00.0000000\", \"2019-05-06 17:00:00.0000000\", \"2019-05-06 18:00:00.0000000\", \"2019-05-06 19:00:00.0000000\", \"2019-05-06 20:00:00.0000000\", \"2019-05-06 21:00:00.0000000\", \"2019-05-06 22:00:00.0000000\", \"2019-05-06 23:00:00.0000000\", \"2019-05-07 00:00:00.0000000\", \"2019-05-07 01:00:00.0000000\", \"2019-05-07 02:00:00.0000000\", \"2019-05-07 05:00:00.0000000\", \"2019-05-07 06:00:00.0000000\", \"2019-05-07 07:00:00.0000000\", \"2019-05-07 08:00:00.0000000\", \"2019-05-07 09:00:00.0000000\", \"2019-05-07 10:00:00.0000000\", \"2019-05-07 11:00:00.0000000\", \"2019-05-07 12:00:00.0000000\", \"2019-05-07 13:00:00.0000000\", \"2019-05-07 14:00:00.0000000\", \"2019-05-07 15:00:00.0000000\", \"2019-05-07 16:00:00.0000000\", \"2019-05-07 17:00:00.0000000\", \"2019-05-07 18:00:00.0000000\", \"2019-05-07 19:00:00.0000000\", \"2019-05-07 20:00:00.0000000\", \"2019-05-07 23:00:00.0000000\", \"2019-05-08 04:00:00.0000000\", \"2019-05-08 05:00:00.0000000\", \"2019-05-08 06:00:00.0000000\", \"2019-05-08 07:00:00.0000000\", \"2019-05-08 08:00:00.0000000\", \"2019-05-08 09:00:00.0000000\", \"2019-05-08 10:00:00.0000000\", \"2019-05-08 11:00:00.0000000\", \"2019-05-08 12:00:00.0000000\", \"2019-05-08 13:00:00.0000000\", \"2019-05-08 14:00:00.0000000\", \"2019-05-08 15:00:00.0000000\", \"2019-05-08 16:00:00.0000000\", \"2019-05-08 17:00:00.0000000\", \"2019-05-08 18:00:00.0000000\", \"2019-05-08 19:00:00.0000000\", \"2019-05-08 20:00:00.0000000\", \"2019-05-08 21:00:00.0000000\", \"2019-05-09 04:00:00.0000000\", \"2019-05-09 05:00:00.0000000\", \"2019-05-09 06:00:00.0000000\", \"2019-05-09 07:00:00.0000000\", \"2019-05-09 08:00:00.0000000\", \"2019-05-09 09:00:00.0000000\", \"2019-05-09 10:00:00.0000000\", \"2019-05-09 11:00:00.0000000\", \"2019-05-09 12:00:00.0000000\", \"2019-05-09 13:00:00.0000000\", \"2019-05-09 14:00:00.0000000\", \"2019-05-09 15:00:00.0000000\", \"2019-05-09 16:00:00.0000000\", \"2019-05-09 17:00:00.0000000\", \"2019-05-09 18:00:00.0000000\", \"2019-05-09 19:00:00.0000000\", \"2019-05-09 20:00:00.0000000\", \"2019-05-09 21:00:00.0000000\", \"2019-05-09 22:00:00.0000000\", \"2019-05-10 02:00:00.0000000\", \"2019-05-10 03:00:00.0000000\", \"2019-05-10 04:00:00.0000000\", \"2019-05-10 05:00:00.0000000\", \"2019-05-10 06:00:00.0000000\", \"2019-05-10 07:00:00.0000000\", \"2019-05-10 08:00:00.0000000\", \"2019-05-10 09:00:00.0000000\", \"2019-05-10 10:00:00.0000000\", \"2019-05-10 11:00:00.0000000\", \"2019-05-10 12:00:00.0000000\", \"2019-05-10 13:00:00.0000000\", \"2019-05-10 14:00:00.0000000\", \"2019-05-10 15:00:00.0000000\", \"2019-05-10 16:00:00.0000000\", \"2019-05-10 17:00:00.0000000\", \"2019-05-10 18:00:00.0000000\", \"2019-05-10 19:00:00.0000000\", \"2019-05-10 20:00:00.0000000\", \"2019-05-10 21:00:00.0000000\", \"2019-05-10 22:00:00.0000000\", \"2019-05-10 23:00:00.0000000\", \"2019-05-11 00:00:00.0000000\", \"2019-05-11 02:00:00.0000000\", \"2019-05-11 03:00:00.0000000\", \"2019-05-11 04:00:00.0000000\", \"2019-05-11 05:00:00.0000000\", \"2019-05-11 06:00:00.0000000\", \"2019-05-11 07:00:00.0000000\", \"2019-05-11 08:00:00.0000000\", \"2019-05-11 09:00:00.0000000\", \"2019-05-11 10:00:00.0000000\", \"2019-05-11 11:00:00.0000000\", \"2019-05-11 12:00:00.0000000\", \"2019-05-11 13:00:00.0000000\", \"2019-05-11 14:00:00.0000000\", \"2019-05-11 15:00:00.0000000\", \"2019-05-11 16:00:00.0000000\", \"2019-05-11 18:00:00.0000000\", \"2019-05-11 23:00:00.0000000\", \"2019-05-12 06:00:00.0000000\", \"2019-05-12 07:00:00.0000000\", \"2019-05-12 08:00:00.0000000\", \"2019-05-12 09:00:00.0000000\", \"2019-05-12 10:00:00.0000000\", \"2019-05-12 11:00:00.0000000\", \"2019-05-12 12:00:00.0000000\", \"2019-05-12 13:00:00.0000000\", \"2019-05-12 14:00:00.0000000\", \"2019-05-12 15:00:00.0000000\", \"2019-05-12 16:00:00.0000000\", \"2019-05-12 17:00:00.0000000\", \"2019-05-12 23:00:00.0000000\", \"2019-05-13 04:00:00.0000000\", \"2019-05-13 05:00:00.0000000\", \"2019-05-13 06:00:00.0000000\", \"2019-05-13 07:00:00.0000000\", \"2019-05-13 08:00:00.0000000\", \"2019-05-13 09:00:00.0000000\", \"2019-05-13 10:00:00.0000000\", \"2019-05-13 11:00:00.0000000\", \"2019-05-13 12:00:00.0000000\", \"2019-05-13 13:00:00.0000000\", \"2019-05-13 14:00:00.0000000\", \"2019-05-13 15:00:00.0000000\", \"2019-05-13 16:00:00.0000000\", \"2019-05-13 17:00:00.0000000\", \"2019-05-13 18:00:00.0000000\", \"2019-05-13 19:00:00.0000000\", \"2019-05-13 20:00:00.0000000\", \"2019-05-13 23:00:00.0000000\", \"2019-05-14 02:00:00.0000000\", \"2019-05-14 04:00:00.0000000\", \"2019-05-14 05:00:00.0000000\", \"2019-05-14 06:00:00.0000000\", \"2019-05-14 07:00:00.0000000\", \"2019-05-14 08:00:00.0000000\", \"2019-05-14 09:00:00.0000000\", \"2019-05-14 10:00:00.0000000\", \"2019-05-14 11:00:00.0000000\", \"2019-05-14 12:00:00.0000000\", \"2019-05-14 13:00:00.0000000\", \"2019-05-14 14:00:00.0000000\", \"2019-05-14 15:00:00.0000000\", \"2019-05-14 16:00:00.0000000\", \"2019-05-14 17:00:00.0000000\", \"2019-05-14 18:00:00.0000000\", \"2019-05-14 20:00:00.0000000\", \"2019-05-15 04:00:00.0000000\", \"2019-05-15 05:00:00.0000000\", \"2019-05-15 06:00:00.0000000\", \"2019-05-15 07:00:00.0000000\", \"2019-05-15 08:00:00.0000000\", \"2019-05-15 09:00:00.0000000\", \"2019-05-15 10:00:00.0000000\", \"2019-05-15 11:00:00.0000000\", \"2019-05-15 12:00:00.0000000\", \"2019-05-15 13:00:00.0000000\", \"2019-05-15 14:00:00.0000000\", \"2019-05-15 15:00:00.0000000\", \"2019-05-15 16:00:00.0000000\", \"2019-05-15 17:00:00.0000000\", \"2019-05-15 18:00:00.0000000\", \"2019-05-15 19:00:00.0000000\", \"2019-05-15 20:00:00.0000000\", \"2019-05-15 23:00:00.0000000\", \"2019-05-16 04:00:00.0000000\", \"2019-05-16 05:00:00.0000000\", \"2019-05-16 06:00:00.0000000\", \"2019-05-16 07:00:00.0000000\", \"2019-05-16 08:00:00.0000000\", \"2019-05-16 09:00:00.0000000\", \"2019-05-16 10:00:00.0000000\", \"2019-05-16 11:00:00.0000000\", \"2019-05-16 12:00:00.0000000\", \"2019-05-16 13:00:00.0000000\", \"2019-05-16 14:00:00.0000000\", \"2019-05-16 15:00:00.0000000\", \"2019-05-16 16:00:00.0000000\", \"2019-05-16 17:00:00.0000000\", \"2019-05-16 18:00:00.0000000\", \"2019-05-16 19:00:00.0000000\", \"2019-05-17 00:00:00.0000000\", \"2019-05-17 04:00:00.0000000\", \"2019-05-17 05:00:00.0000000\", \"2019-05-17 06:00:00.0000000\", \"2019-05-17 07:00:00.0000000\", \"2019-05-17 08:00:00.0000000\", \"2019-05-17 09:00:00.0000000\", \"2019-05-17 10:00:00.0000000\", \"2019-05-17 11:00:00.0000000\", \"2019-05-17 12:00:00.0000000\", \"2019-05-17 13:00:00.0000000\", \"2019-05-17 14:00:00.0000000\", \"2019-05-17 15:00:00.0000000\", \"2019-05-17 16:00:00.0000000\", \"2019-05-17 17:00:00.0000000\", \"2019-05-17 18:00:00.0000000\", \"2019-05-17 21:00:00.0000000\", \"2019-05-18 05:00:00.0000000\", \"2019-05-18 06:00:00.0000000\", \"2019-05-18 07:00:00.0000000\", \"2019-05-18 08:00:00.0000000\", \"2019-05-18 09:00:00.0000000\", \"2019-05-18 10:00:00.0000000\", \"2019-05-18 11:00:00.0000000\", \"2019-05-18 12:00:00.0000000\", \"2019-05-18 14:00:00.0000000\", \"2019-05-18 15:00:00.0000000\", \"2019-05-18 16:00:00.0000000\", \"2019-05-18 17:00:00.0000000\", \"2019-05-18 21:00:00.0000000\", \"2019-05-19 05:00:00.0000000\", \"2019-05-19 07:00:00.0000000\", \"2019-05-19 08:00:00.0000000\", \"2019-05-19 09:00:00.0000000\", \"2019-05-19 10:00:00.0000000\", \"2019-05-19 11:00:00.0000000\", \"2019-05-19 12:00:00.0000000\", \"2019-05-19 13:00:00.0000000\", \"2019-05-19 14:00:00.0000000\", \"2019-05-19 15:00:00.0000000\", \"2019-05-19 16:00:00.0000000\", \"2019-05-19 17:00:00.0000000\", \"2019-05-19 18:00:00.0000000\", \"2019-05-19 23:00:00.0000000\", \"2019-05-20 04:00:00.0000000\", \"2019-05-20 05:00:00.0000000\", \"2019-05-20 06:00:00.0000000\", \"2019-05-20 07:00:00.0000000\", \"2019-05-20 08:00:00.0000000\", \"2019-05-20 09:00:00.0000000\", \"2019-05-20 10:00:00.0000000\", \"2019-05-20 11:00:00.0000000\", \"2019-05-20 13:00:00.0000000\", \"2019-05-20 14:00:00.0000000\", \"2019-05-20 15:00:00.0000000\", \"2019-05-20 16:00:00.0000000\", \"2019-05-20 17:00:00.0000000\", \"2019-05-20 18:00:00.0000000\", \"2019-05-20 19:00:00.0000000\", \"2019-05-20 20:00:00.0000000\", \"2019-05-20 21:00:00.0000000\", \"2019-05-21 04:00:00.0000000\", \"2019-05-21 05:00:00.0000000\", \"2019-05-21 06:00:00.0000000\", \"2019-05-21 07:00:00.0000000\", \"2019-05-21 08:00:00.0000000\", \"2019-05-21 09:00:00.0000000\", \"2019-05-21 10:00:00.0000000\", \"2019-05-21 11:00:00.0000000\", \"2019-05-21 12:00:00.0000000\", \"2019-05-21 13:00:00.0000000\", \"2019-05-21 14:00:00.0000000\", \"2019-05-21 15:00:00.0000000\", \"2019-05-21 16:00:00.0000000\", \"2019-05-21 17:00:00.0000000\", \"2019-05-21 18:00:00.0000000\", \"2019-05-21 19:00:00.0000000\", \"2019-05-21 23:00:00.0000000\", \"2019-05-22 04:00:00.0000000\", \"2019-05-22 05:00:00.0000000\", \"2019-05-22 06:00:00.0000000\", \"2019-05-22 07:00:00.0000000\", \"2019-05-22 08:00:00.0000000\", \"2019-05-22 09:00:00.0000000\", \"2019-05-22 10:00:00.0000000\", \"2019-05-22 11:00:00.0000000\", \"2019-05-22 12:00:00.0000000\", \"2019-05-22 13:00:00.0000000\", \"2019-05-22 14:00:00.0000000\", \"2019-05-22 15:00:00.0000000\", \"2019-05-22 16:00:00.0000000\", \"2019-05-22 17:00:00.0000000\", \"2019-05-22 18:00:00.0000000\", \"2019-05-22 19:00:00.0000000\", \"2019-05-22 20:00:00.0000000\", \"2019-05-22 22:00:00.0000000\", \"2019-05-23 01:00:00.0000000\", \"2019-05-23 04:00:00.0000000\", \"2019-05-23 05:00:00.0000000\", \"2019-05-23 06:00:00.0000000\", \"2019-05-23 07:00:00.0000000\", \"2019-05-23 08:00:00.0000000\", \"2019-05-23 09:00:00.0000000\", \"2019-05-23 10:00:00.0000000\", \"2019-05-23 11:00:00.0000000\", \"2019-05-23 12:00:00.0000000\", \"2019-05-23 13:00:00.0000000\", \"2019-05-23 14:00:00.0000000\", \"2019-05-23 15:00:00.0000000\", \"2019-05-23 16:00:00.0000000\", \"2019-05-23 17:00:00.0000000\", \"2019-05-23 18:00:00.0000000\", \"2019-05-23 19:00:00.0000000\", \"2019-05-23 20:00:00.0000000\", \"2019-05-23 21:00:00.0000000\", \"2019-05-23 22:00:00.0000000\", \"2019-05-23 23:00:00.0000000\", \"2019-05-24 04:00:00.0000000\", \"2019-05-24 05:00:00.0000000\", \"2019-05-24 06:00:00.0000000\", \"2019-05-24 07:00:00.0000000\", \"2019-05-24 08:00:00.0000000\", \"2019-05-24 09:00:00.0000000\", \"2019-05-24 10:00:00.0000000\", \"2019-05-24 11:00:00.0000000\", \"2019-05-24 12:00:00.0000000\", \"2019-05-24 13:00:00.0000000\", \"2019-05-24 14:00:00.0000000\", \"2019-05-24 15:00:00.0000000\", \"2019-05-24 16:00:00.0000000\", \"2019-05-24 17:00:00.0000000\", \"2019-05-24 23:00:00.0000000\", \"2019-05-25 06:00:00.0000000\", \"2019-05-25 07:00:00.0000000\", \"2019-05-25 08:00:00.0000000\", \"2019-05-25 09:00:00.0000000\", \"2019-05-25 10:00:00.0000000\", \"2019-05-25 11:00:00.0000000\", \"2019-05-25 12:00:00.0000000\", \"2019-05-25 13:00:00.0000000\", \"2019-05-25 14:00:00.0000000\", \"2019-05-25 15:00:00.0000000\", \"2019-05-25 16:00:00.0000000\", \"2019-05-25 17:00:00.0000000\", \"2019-05-25 18:00:00.0000000\", \"2019-05-25 21:00:00.0000000\", \"2019-05-26 04:00:00.0000000\", \"2019-05-26 05:00:00.0000000\", \"2019-05-26 06:00:00.0000000\", \"2019-05-26 07:00:00.0000000\", \"2019-05-26 08:00:00.0000000\", \"2019-05-26 09:00:00.0000000\", \"2019-05-26 10:00:00.0000000\", \"2019-05-26 11:00:00.0000000\", \"2019-05-26 12:00:00.0000000\", \"2019-05-26 13:00:00.0000000\", \"2019-05-26 14:00:00.0000000\", \"2019-05-26 15:00:00.0000000\", \"2019-05-26 16:00:00.0000000\", \"2019-05-26 17:00:00.0000000\", \"2019-05-26 18:00:00.0000000\", \"2019-05-26 19:00:00.0000000\", \"2019-05-26 20:00:00.0000000\", \"2019-05-26 23:00:00.0000000\", \"2019-05-27 04:00:00.0000000\", \"2019-05-27 05:00:00.0000000\", \"2019-05-27 06:00:00.0000000\", \"2019-05-27 07:00:00.0000000\", \"2019-05-27 08:00:00.0000000\", \"2019-05-27 09:00:00.0000000\", \"2019-05-27 10:00:00.0000000\", \"2019-05-27 11:00:00.0000000\", \"2019-05-27 12:00:00.0000000\", \"2019-05-27 13:00:00.0000000\", \"2019-05-27 14:00:00.0000000\", \"2019-05-27 15:00:00.0000000\", \"2019-05-27 16:00:00.0000000\", \"2019-05-27 17:00:00.0000000\", \"2019-05-27 18:00:00.0000000\", \"2019-05-27 19:00:00.0000000\", \"2019-05-27 20:00:00.0000000\", \"2019-05-27 23:00:00.0000000\", \"2019-05-28 00:00:00.0000000\", \"2019-05-28 04:00:00.0000000\", \"2019-05-28 05:00:00.0000000\", \"2019-05-28 06:00:00.0000000\", \"2019-05-28 07:00:00.0000000\", \"2019-05-28 08:00:00.0000000\", \"2019-05-28 09:00:00.0000000\", \"2019-05-28 10:00:00.0000000\", \"2019-05-28 11:00:00.0000000\", \"2019-05-28 12:00:00.0000000\", \"2019-05-28 13:00:00.0000000\", \"2019-05-28 14:00:00.0000000\", \"2019-05-28 15:00:00.0000000\", \"2019-05-28 16:00:00.0000000\", \"2019-05-28 17:00:00.0000000\", \"2019-05-28 18:00:00.0000000\", \"2019-05-28 19:00:00.0000000\", \"2019-05-28 20:00:00.0000000\", \"2019-05-28 22:00:00.0000000\", \"2019-05-28 23:00:00.0000000\", \"2019-05-29 04:00:00.0000000\", \"2019-05-29 05:00:00.0000000\", \"2019-05-29 06:00:00.0000000\", \"2019-05-29 07:00:00.0000000\", \"2019-05-29 08:00:00.0000000\", \"2019-05-29 09:00:00.0000000\", \"2019-05-29 10:00:00.0000000\", \"2019-05-29 11:00:00.0000000\", \"2019-05-29 12:00:00.0000000\", \"2019-05-29 13:00:00.0000000\", \"2019-05-29 14:00:00.0000000\", \"2019-05-29 15:00:00.0000000\", \"2019-05-29 16:00:00.0000000\", \"2019-05-29 17:00:00.0000000\", \"2019-05-29 18:00:00.0000000\", \"2019-05-29 19:00:00.0000000\", \"2019-05-29 23:00:00.0000000\", \"2019-05-30 06:00:00.0000000\", \"2019-05-30 07:00:00.0000000\", \"2019-05-30 08:00:00.0000000\", \"2019-05-30 09:00:00.0000000\", \"2019-05-30 10:00:00.0000000\", \"2019-05-30 11:00:00.0000000\", \"2019-05-30 13:00:00.0000000\", \"2019-05-30 14:00:00.0000000\", \"2019-05-30 15:00:00.0000000\", \"2019-05-30 16:00:00.0000000\", \"2019-05-30 17:00:00.0000000\", \"2019-05-30 18:00:00.0000000\", \"2019-05-30 22:00:00.0000000\", \"2019-05-30 23:00:00.0000000\", \"2019-05-31 05:00:00.0000000\", \"2019-05-31 06:00:00.0000000\", \"2019-05-31 07:00:00.0000000\", \"2019-05-31 08:00:00.0000000\", \"2019-05-31 09:00:00.0000000\", \"2019-05-31 10:00:00.0000000\", \"2019-05-31 11:00:00.0000000\", \"2019-05-31 13:00:00.0000000\", \"2019-05-31 14:00:00.0000000\", \"2019-05-31 15:00:00.0000000\", \"2019-05-31 16:00:00.0000000\", \"2019-05-31 17:00:00.0000000\", \"2019-05-31 18:00:00.0000000\", \"2019-05-31 23:00:00.0000000\", \"2019-06-01 06:00:00.0000000\", \"2019-06-01 07:00:00.0000000\", \"2019-06-01 08:00:00.0000000\", \"2019-06-01 09:00:00.0000000\", \"2019-06-01 10:00:00.0000000\", \"2019-06-01 11:00:00.0000000\", \"2019-06-01 12:00:00.0000000\", \"2019-06-01 13:00:00.0000000\", \"2019-06-01 14:00:00.0000000\", \"2019-06-01 15:00:00.0000000\", \"2019-06-01 22:00:00.0000000\", \"2019-06-01 23:00:00.0000000\", \"2019-06-02 05:00:00.0000000\", \"2019-06-02 06:00:00.0000000\", \"2019-06-02 07:00:00.0000000\", \"2019-06-02 08:00:00.0000000\", \"2019-06-02 09:00:00.0000000\", \"2019-06-02 10:00:00.0000000\", \"2019-06-02 12:00:00.0000000\", \"2019-06-02 13:00:00.0000000\", \"2019-06-02 14:00:00.0000000\", \"2019-06-02 15:00:00.0000000\", \"2019-06-02 16:00:00.0000000\", \"2019-06-02 18:00:00.0000000\", \"2019-06-02 21:00:00.0000000\", \"2019-06-03 04:00:00.0000000\", \"2019-06-03 05:00:00.0000000\", \"2019-06-03 06:00:00.0000000\", \"2019-06-03 07:00:00.0000000\", \"2019-06-03 08:00:00.0000000\", \"2019-06-03 09:00:00.0000000\", \"2019-06-03 10:00:00.0000000\", \"2019-06-03 11:00:00.0000000\", \"2019-06-03 12:00:00.0000000\", \"2019-06-03 13:00:00.0000000\", \"2019-06-03 14:00:00.0000000\", \"2019-06-03 15:00:00.0000000\", \"2019-06-03 16:00:00.0000000\", \"2019-06-03 17:00:00.0000000\", \"2019-06-03 18:00:00.0000000\", \"2019-06-03 19:00:00.0000000\", \"2019-06-04 00:00:00.0000000\", \"2019-06-04 01:00:00.0000000\", \"2019-06-04 04:00:00.0000000\", \"2019-06-04 05:00:00.0000000\", \"2019-06-04 06:00:00.0000000\", \"2019-06-04 07:00:00.0000000\", \"2019-06-04 08:00:00.0000000\", \"2019-06-04 09:00:00.0000000\", \"2019-06-04 10:00:00.0000000\", \"2019-06-04 11:00:00.0000000\", \"2019-06-04 12:00:00.0000000\", \"2019-06-04 13:00:00.0000000\", \"2019-06-04 14:00:00.0000000\", \"2019-06-04 15:00:00.0000000\", \"2019-06-04 16:00:00.0000000\", \"2019-06-04 17:00:00.0000000\", \"2019-06-04 18:00:00.0000000\", \"2019-06-04 19:00:00.0000000\", \"2019-06-04 23:00:00.0000000\", \"2019-06-05 04:00:00.0000000\", \"2019-06-05 05:00:00.0000000\", \"2019-06-05 06:00:00.0000000\", \"2019-06-05 07:00:00.0000000\", \"2019-06-05 08:00:00.0000000\", \"2019-06-05 09:00:00.0000000\", \"2019-06-05 10:00:00.0000000\", \"2019-06-05 11:00:00.0000000\", \"2019-06-05 12:00:00.0000000\", \"2019-06-05 13:00:00.0000000\", \"2019-06-05 14:00:00.0000000\", \"2019-06-05 15:00:00.0000000\", \"2019-06-05 16:00:00.0000000\", \"2019-06-05 17:00:00.0000000\", \"2019-06-05 18:00:00.0000000\", \"2019-06-05 20:00:00.0000000\", \"2019-06-05 21:00:00.0000000\", \"2019-06-05 22:00:00.0000000\", \"2019-06-06 05:00:00.0000000\", \"2019-06-06 06:00:00.0000000\", \"2019-06-06 07:00:00.0000000\", \"2019-06-06 08:00:00.0000000\", \"2019-06-06 09:00:00.0000000\", \"2019-06-06 10:00:00.0000000\", \"2019-06-06 11:00:00.0000000\", \"2019-06-06 12:00:00.0000000\", \"2019-06-06 13:00:00.0000000\", \"2019-06-06 14:00:00.0000000\", \"2019-06-06 15:00:00.0000000\", \"2019-06-06 16:00:00.0000000\", \"2019-06-06 17:00:00.0000000\", \"2019-06-06 18:00:00.0000000\", \"2019-06-06 20:00:00.0000000\", \"2019-06-06 21:00:00.0000000\", \"2019-06-06 22:00:00.0000000\", \"2019-06-06 23:00:00.0000000\", \"2019-06-07 04:00:00.0000000\", \"2019-06-07 05:00:00.0000000\", \"2019-06-07 06:00:00.0000000\", \"2019-06-07 07:00:00.0000000\", \"2019-06-07 08:00:00.0000000\", \"2019-06-07 09:00:00.0000000\", \"2019-06-07 10:00:00.0000000\", \"2019-06-07 11:00:00.0000000\", \"2019-06-07 12:00:00.0000000\", \"2019-06-07 13:00:00.0000000\", \"2019-06-07 14:00:00.0000000\", \"2019-06-07 15:00:00.0000000\", \"2019-06-07 16:00:00.0000000\", \"2019-06-07 17:00:00.0000000\", \"2019-06-07 18:00:00.0000000\", \"2019-06-07 23:00:00.0000000\", \"2019-06-08 00:00:00.0000000\", \"2019-06-08 01:00:00.0000000\", \"2019-06-08 02:00:00.0000000\", \"2019-06-08 03:00:00.0000000\", \"2019-06-08 05:00:00.0000000\", \"2019-06-08 06:00:00.0000000\", \"2019-06-08 07:00:00.0000000\", \"2019-06-08 08:00:00.0000000\", \"2019-06-08 09:00:00.0000000\", \"2019-06-08 10:00:00.0000000\", \"2019-06-08 11:00:00.0000000\", \"2019-06-08 13:00:00.0000000\", \"2019-06-08 14:00:00.0000000\", \"2019-06-08 15:00:00.0000000\", \"2019-06-08 17:00:00.0000000\", \"2019-06-08 18:00:00.0000000\", \"2019-06-08 19:00:00.0000000\", \"2019-06-09 04:00:00.0000000\", \"2019-06-09 06:00:00.0000000\", \"2019-06-09 07:00:00.0000000\", \"2019-06-09 08:00:00.0000000\", \"2019-06-09 09:00:00.0000000\", \"2019-06-09 10:00:00.0000000\", \"2019-06-09 11:00:00.0000000\", \"2019-06-09 12:00:00.0000000\", \"2019-06-09 13:00:00.0000000\", \"2019-06-09 14:00:00.0000000\", \"2019-06-09 15:00:00.0000000\", \"2019-06-09 16:00:00.0000000\", \"2019-06-09 17:00:00.0000000\", \"2019-06-09 18:00:00.0000000\", \"2019-06-09 20:00:00.0000000\", \"2019-06-09 21:00:00.0000000\", \"2019-06-09 22:00:00.0000000\", \"2019-06-09 23:00:00.0000000\", \"2019-06-10 04:00:00.0000000\", \"2019-06-10 05:00:00.0000000\", \"2019-06-10 07:00:00.0000000\", \"2019-06-10 08:00:00.0000000\", \"2019-06-10 09:00:00.0000000\", \"2019-06-10 10:00:00.0000000\", \"2019-06-10 11:00:00.0000000\", \"2019-06-10 12:00:00.0000000\", \"2019-06-10 13:00:00.0000000\", \"2019-06-10 14:00:00.0000000\", \"2019-06-10 15:00:00.0000000\", \"2019-06-10 16:00:00.0000000\", \"2019-06-10 17:00:00.0000000\", \"2019-06-10 18:00:00.0000000\", \"2019-06-10 19:00:00.0000000\", \"2019-06-10 20:00:00.0000000\", \"2019-06-11 00:00:00.0000000\", \"2019-06-11 01:00:00.0000000\", \"2019-06-11 03:00:00.0000000\", \"2019-06-11 04:00:00.0000000\", \"2019-06-11 05:00:00.0000000\", \"2019-06-11 06:00:00.0000000\", \"2019-06-11 07:00:00.0000000\", \"2019-06-11 08:00:00.0000000\", \"2019-06-11 09:00:00.0000000\", \"2019-06-11 10:00:00.0000000\", \"2019-06-11 11:00:00.0000000\", \"2019-06-11 12:00:00.0000000\", \"2019-06-11 13:00:00.0000000\", \"2019-06-11 14:00:00.0000000\", \"2019-06-11 15:00:00.0000000\", \"2019-06-11 16:00:00.0000000\", \"2019-06-11 17:00:00.0000000\", \"2019-06-11 18:00:00.0000000\", \"2019-06-11 19:00:00.0000000\", \"2019-06-11 20:00:00.0000000\", \"2019-06-11 21:00:00.0000000\", \"2019-06-12 04:00:00.0000000\", \"2019-06-12 05:00:00.0000000\", \"2019-06-12 06:00:00.0000000\", \"2019-06-12 07:00:00.0000000\", \"2019-06-12 08:00:00.0000000\", \"2019-06-12 09:00:00.0000000\", \"2019-06-12 10:00:00.0000000\", \"2019-06-12 11:00:00.0000000\", \"2019-06-12 12:00:00.0000000\", \"2019-06-12 13:00:00.0000000\", \"2019-06-12 14:00:00.0000000\", \"2019-06-12 15:00:00.0000000\", \"2019-06-12 16:00:00.0000000\", \"2019-06-12 17:00:00.0000000\", \"2019-06-12 18:00:00.0000000\", \"2019-06-12 23:00:00.0000000\", \"2019-06-13 00:00:00.0000000\", \"2019-06-13 06:00:00.0000000\", \"2019-06-13 08:00:00.0000000\", \"2019-06-13 09:00:00.0000000\", \"2019-06-13 10:00:00.0000000\", \"2019-06-13 11:00:00.0000000\", \"2019-06-13 13:00:00.0000000\", \"2019-06-13 14:00:00.0000000\", \"2019-06-13 15:00:00.0000000\", \"2019-06-13 16:00:00.0000000\", \"2019-06-13 17:00:00.0000000\", \"2019-06-13 18:00:00.0000000\", \"2019-06-14 02:00:00.0000000\", \"2019-06-14 03:00:00.0000000\", \"2019-06-14 04:00:00.0000000\", \"2019-06-14 05:00:00.0000000\", \"2019-06-14 06:00:00.0000000\", \"2019-06-14 07:00:00.0000000\", \"2019-06-14 09:00:00.0000000\", \"2019-06-14 10:00:00.0000000\", \"2019-06-14 11:00:00.0000000\", \"2019-06-14 12:00:00.0000000\", \"2019-06-14 13:00:00.0000000\", \"2019-06-14 14:00:00.0000000\", \"2019-06-14 15:00:00.0000000\", \"2019-06-14 16:00:00.0000000\", \"2019-06-14 18:00:00.0000000\", \"2019-06-14 21:00:00.0000000\", \"2019-06-14 23:00:00.0000000\", \"2019-06-15 06:00:00.0000000\", \"2019-06-15 07:00:00.0000000\", \"2019-06-15 08:00:00.0000000\", \"2019-06-15 09:00:00.0000000\", \"2019-06-15 10:00:00.0000000\", \"2019-06-15 11:00:00.0000000\", \"2019-06-15 13:00:00.0000000\", \"2019-06-15 14:00:00.0000000\", \"2019-06-15 15:00:00.0000000\", \"2019-06-15 16:00:00.0000000\", \"2019-06-15 17:00:00.0000000\", \"2019-06-15 18:00:00.0000000\", \"2019-06-15 19:00:00.0000000\", \"2019-06-15 21:00:00.0000000\", \"2019-06-15 22:00:00.0000000\", \"2019-06-16 04:00:00.0000000\", \"2019-06-16 05:00:00.0000000\", \"2019-06-16 07:00:00.0000000\", \"2019-06-16 08:00:00.0000000\", \"2019-06-16 09:00:00.0000000\", \"2019-06-16 10:00:00.0000000\", \"2019-06-16 11:00:00.0000000\", \"2019-06-16 12:00:00.0000000\", \"2019-06-16 13:00:00.0000000\", \"2019-06-16 14:00:00.0000000\", \"2019-06-16 15:00:00.0000000\", \"2019-06-16 16:00:00.0000000\", \"2019-06-16 17:00:00.0000000\", \"2019-06-16 19:00:00.0000000\", \"2019-06-16 20:00:00.0000000\", \"2019-06-16 21:00:00.0000000\", \"2019-06-17 04:00:00.0000000\", \"2019-06-17 05:00:00.0000000\", \"2019-06-17 06:00:00.0000000\", \"2019-06-17 07:00:00.0000000\", \"2019-06-17 08:00:00.0000000\", \"2019-06-17 09:00:00.0000000\", \"2019-06-17 10:00:00.0000000\", \"2019-06-17 13:00:00.0000000\", \"2019-06-17 14:00:00.0000000\", \"2019-06-17 15:00:00.0000000\", \"2019-06-17 16:00:00.0000000\", \"2019-06-17 17:00:00.0000000\", \"2019-06-17 18:00:00.0000000\", \"2019-06-17 19:00:00.0000000\", \"2019-06-17 20:00:00.0000000\", \"2019-06-17 21:00:00.0000000\", \"2019-06-17 22:00:00.0000000\", \"2019-06-17 23:00:00.0000000\", \"2019-06-18 04:00:00.0000000\", \"2019-06-18 05:00:00.0000000\", \"2019-06-18 07:00:00.0000000\", \"2019-06-18 08:00:00.0000000\", \"2019-06-18 09:00:00.0000000\", \"2019-06-18 10:00:00.0000000\", \"2019-06-18 12:00:00.0000000\", \"2019-06-18 13:00:00.0000000\", \"2019-06-18 14:00:00.0000000\", \"2019-06-18 15:00:00.0000000\", \"2019-06-18 16:00:00.0000000\", \"2019-06-18 17:00:00.0000000\", \"2019-06-18 18:00:00.0000000\", \"2019-06-18 19:00:00.0000000\", \"2019-06-18 23:00:00.0000000\", \"2019-06-19 00:00:00.0000000\", \"2019-06-19 04:00:00.0000000\", \"2019-06-19 05:00:00.0000000\", \"2019-06-19 06:00:00.0000000\", \"2019-06-19 07:00:00.0000000\", \"2019-06-19 08:00:00.0000000\", \"2019-06-19 09:00:00.0000000\", \"2019-06-19 10:00:00.0000000\", \"2019-06-19 11:00:00.0000000\", \"2019-06-19 12:00:00.0000000\", \"2019-06-19 13:00:00.0000000\", \"2019-06-19 14:00:00.0000000\", \"2019-06-19 15:00:00.0000000\", \"2019-06-19 16:00:00.0000000\", \"2019-06-19 17:00:00.0000000\", \"2019-06-19 18:00:00.0000000\", \"2019-06-19 19:00:00.0000000\", \"2019-06-19 20:00:00.0000000\", \"2019-06-19 23:00:00.0000000\", \"2019-06-20 04:00:00.0000000\", \"2019-06-20 05:00:00.0000000\", \"2019-06-20 06:00:00.0000000\", \"2019-06-20 07:00:00.0000000\", \"2019-06-20 08:00:00.0000000\", \"2019-06-20 09:00:00.0000000\", \"2019-06-20 10:00:00.0000000\", \"2019-06-20 13:00:00.0000000\", \"2019-06-20 14:00:00.0000000\", \"2019-06-20 15:00:00.0000000\", \"2019-06-20 16:00:00.0000000\", \"2019-06-20 17:00:00.0000000\", \"2019-06-20 18:00:00.0000000\", \"2019-06-20 19:00:00.0000000\", \"2019-06-20 21:00:00.0000000\", \"2019-06-20 22:00:00.0000000\", \"2019-06-20 23:00:00.0000000\", \"2019-06-21 00:00:00.0000000\", \"2019-06-21 01:00:00.0000000\", \"2019-06-21 02:00:00.0000000\", \"2019-06-21 03:00:00.0000000\", \"2019-06-21 04:00:00.0000000\", \"2019-06-21 05:00:00.0000000\", \"2019-06-21 07:00:00.0000000\", \"2019-06-21 08:00:00.0000000\", \"2019-06-21 09:00:00.0000000\", \"2019-06-21 10:00:00.0000000\", \"2019-06-21 11:00:00.0000000\", \"2019-06-21 12:00:00.0000000\", \"2019-06-21 15:00:00.0000000\", \"2019-06-21 18:00:00.0000000\", \"2019-06-21 19:00:00.0000000\", \"2019-06-21 20:00:00.0000000\", \"2019-06-21 21:00:00.0000000\", \"2019-06-21 23:00:00.0000000\", \"2019-06-22 00:00:00.0000000\", \"2019-06-22 01:00:00.0000000\", \"2019-06-22 02:00:00.0000000\", \"2019-06-22 03:00:00.0000000\", \"2019-06-22 04:00:00.0000000\", \"2019-06-22 05:00:00.0000000\", \"2019-06-22 06:00:00.0000000\", \"2019-06-22 07:00:00.0000000\", \"2019-06-22 08:00:00.0000000\", \"2019-06-22 11:00:00.0000000\", \"2019-06-22 13:00:00.0000000\", \"2019-06-22 14:00:00.0000000\", \"2019-06-22 15:00:00.0000000\", \"2019-06-22 16:00:00.0000000\", \"2019-06-22 17:00:00.0000000\", \"2019-06-22 18:00:00.0000000\", \"2019-06-22 19:00:00.0000000\", \"2019-06-22 20:00:00.0000000\", \"2019-06-22 21:00:00.0000000\", \"2019-06-22 22:00:00.0000000\", \"2019-06-22 23:00:00.0000000\", \"2019-06-23 00:00:00.0000000\", \"2019-06-23 01:00:00.0000000\", \"2019-06-23 03:00:00.0000000\", \"2019-06-23 05:00:00.0000000\", \"2019-06-23 06:00:00.0000000\", \"2019-06-23 07:00:00.0000000\", \"2019-06-23 08:00:00.0000000\", \"2019-06-23 09:00:00.0000000\", \"2019-06-23 10:00:00.0000000\", \"2019-06-23 11:00:00.0000000\", \"2019-06-23 12:00:00.0000000\", \"2019-06-23 13:00:00.0000000\", \"2019-06-23 14:00:00.0000000\", \"2019-06-23 15:00:00.0000000\", \"2019-06-23 16:00:00.0000000\", \"2019-06-23 17:00:00.0000000\", \"2019-06-23 18:00:00.0000000\", \"2019-06-23 19:00:00.0000000\", \"2019-06-23 20:00:00.0000000\", \"2019-06-23 21:00:00.0000000\", \"2019-06-23 23:00:00.0000000\", \"2019-06-24 00:00:00.0000000\", \"2019-06-24 04:00:00.0000000\", \"2019-06-24 05:00:00.0000000\", \"2019-06-24 07:00:00.0000000\", \"2019-06-24 08:00:00.0000000\", \"2019-06-24 09:00:00.0000000\", \"2019-06-24 10:00:00.0000000\", \"2019-06-24 12:00:00.0000000\", \"2019-06-24 14:00:00.0000000\", \"2019-06-24 15:00:00.0000000\", \"2019-06-24 16:00:00.0000000\", \"2019-06-24 17:00:00.0000000\", \"2019-06-24 18:00:00.0000000\", \"2019-06-24 19:00:00.0000000\", \"2019-06-24 20:00:00.0000000\", \"2019-06-24 21:00:00.0000000\", \"2019-06-24 22:00:00.0000000\", \"2019-06-25 01:00:00.0000000\", \"2019-06-25 04:00:00.0000000\", \"2019-06-25 05:00:00.0000000\", \"2019-06-25 06:00:00.0000000\", \"2019-06-25 07:00:00.0000000\", \"2019-06-25 08:00:00.0000000\", \"2019-06-25 09:00:00.0000000\", \"2019-06-25 10:00:00.0000000\", \"2019-06-25 12:00:00.0000000\", \"2019-06-25 13:00:00.0000000\", \"2019-06-25 14:00:00.0000000\", \"2019-06-25 15:00:00.0000000\", \"2019-06-25 16:00:00.0000000\", \"2019-06-25 17:00:00.0000000\", \"2019-06-25 18:00:00.0000000\", \"2019-06-25 19:00:00.0000000\", \"2019-06-26 04:00:00.0000000\", \"2019-06-26 05:00:00.0000000\", \"2019-06-26 06:00:00.0000000\", \"2019-06-26 07:00:00.0000000\", \"2019-06-26 08:00:00.0000000\", \"2019-06-26 09:00:00.0000000\", \"2019-06-26 10:00:00.0000000\", \"2019-06-26 11:00:00.0000000\", \"2019-06-26 12:00:00.0000000\", \"2019-06-26 13:00:00.0000000\", \"2019-06-26 14:00:00.0000000\", \"2019-06-26 15:00:00.0000000\", \"2019-06-26 16:00:00.0000000\", \"2019-06-26 17:00:00.0000000\", \"2019-06-26 18:00:00.0000000\", \"2019-06-26 19:00:00.0000000\", \"2019-06-27 07:00:00.0000000\", \"2019-06-27 08:00:00.0000000\", \"2019-06-27 09:00:00.0000000\", \"2019-06-27 10:00:00.0000000\", \"2019-06-27 11:00:00.0000000\", \"2019-06-27 12:00:00.0000000\", \"2019-06-27 13:00:00.0000000\", \"2019-06-27 14:00:00.0000000\", \"2019-06-27 15:00:00.0000000\", \"2019-06-27 16:00:00.0000000\", \"2019-06-27 17:00:00.0000000\", \"2019-06-27 18:00:00.0000000\", \"2019-06-27 19:00:00.0000000\", \"2019-06-27 20:00:00.0000000\", \"2019-06-28 04:00:00.0000000\", \"2019-06-28 05:00:00.0000000\", \"2019-06-28 06:00:00.0000000\", \"2019-06-28 07:00:00.0000000\", \"2019-06-28 08:00:00.0000000\", \"2019-06-28 09:00:00.0000000\", \"2019-06-28 10:00:00.0000000\", \"2019-06-28 11:00:00.0000000\", \"2019-06-28 13:00:00.0000000\", \"2019-06-28 14:00:00.0000000\", \"2019-06-28 15:00:00.0000000\", \"2019-06-28 16:00:00.0000000\", \"2019-06-28 17:00:00.0000000\", \"2019-06-28 19:00:00.0000000\", \"2019-06-28 21:00:00.0000000\", \"2019-06-29 06:00:00.0000000\", \"2019-06-29 07:00:00.0000000\", \"2019-06-29 08:00:00.0000000\", \"2019-06-29 09:00:00.0000000\", \"2019-06-29 10:00:00.0000000\", \"2019-06-29 13:00:00.0000000\", \"2019-06-29 14:00:00.0000000\", \"2019-06-29 15:00:00.0000000\", \"2019-06-29 16:00:00.0000000\", \"2019-06-29 17:00:00.0000000\", \"2019-06-29 18:00:00.0000000\", \"2019-06-29 20:00:00.0000000\", \"2019-06-30 07:00:00.0000000\", \"2019-06-30 08:00:00.0000000\", \"2019-06-30 09:00:00.0000000\", \"2019-06-30 10:00:00.0000000\", \"2019-06-30 11:00:00.0000000\", \"2019-06-30 13:00:00.0000000\", \"2019-06-30 14:00:00.0000000\", \"2019-06-30 15:00:00.0000000\", \"2019-06-30 16:00:00.0000000\", \"2019-06-30 17:00:00.0000000\", \"2019-06-30 18:00:00.0000000\", \"2019-06-30 19:00:00.0000000\", \"2019-06-30 20:00:00.0000000\", \"2019-07-01 04:00:00.0000000\", \"2019-07-01 05:00:00.0000000\", \"2019-07-01 06:00:00.0000000\", \"2019-07-01 07:00:00.0000000\", \"2019-07-01 08:00:00.0000000\", \"2019-07-01 09:00:00.0000000\", \"2019-07-01 10:00:00.0000000\", \"2019-07-01 11:00:00.0000000\", \"2019-07-01 12:00:00.0000000\", \"2019-07-01 13:00:00.0000000\", \"2019-07-01 14:00:00.0000000\", \"2019-07-01 15:00:00.0000000\", \"2019-07-01 16:00:00.0000000\", \"2019-07-01 17:00:00.0000000\", \"2019-07-01 18:00:00.0000000\", \"2019-07-01 19:00:00.0000000\", \"2019-07-01 20:00:00.0000000\", \"2019-07-01 23:00:00.0000000\", \"2019-07-02 04:00:00.0000000\", \"2019-07-02 05:00:00.0000000\", \"2019-07-02 06:00:00.0000000\", \"2019-07-02 07:00:00.0000000\", \"2019-07-02 08:00:00.0000000\", \"2019-07-02 09:00:00.0000000\", \"2019-07-02 10:00:00.0000000\", \"2019-07-02 11:00:00.0000000\", \"2019-07-02 12:00:00.0000000\", \"2019-07-02 13:00:00.0000000\", \"2019-07-02 14:00:00.0000000\", \"2019-07-02 15:00:00.0000000\", \"2019-07-02 16:00:00.0000000\", \"2019-07-02 17:00:00.0000000\", \"2019-07-02 18:00:00.0000000\", \"2019-07-02 19:00:00.0000000\", \"2019-07-02 23:00:00.0000000\", \"2019-07-03 00:00:00.0000000\", \"2019-07-03 04:00:00.0000000\", \"2019-07-03 05:00:00.0000000\", \"2019-07-03 06:00:00.0000000\", \"2019-07-03 07:00:00.0000000\", \"2019-07-03 08:00:00.0000000\", \"2019-07-03 09:00:00.0000000\", \"2019-07-03 10:00:00.0000000\", \"2019-07-03 11:00:00.0000000\", \"2019-07-03 12:00:00.0000000\", \"2019-07-03 13:00:00.0000000\", \"2019-07-03 14:00:00.0000000\", \"2019-07-03 15:00:00.0000000\", \"2019-07-03 16:00:00.0000000\", \"2019-07-03 17:00:00.0000000\", \"2019-07-03 18:00:00.0000000\", \"2019-07-03 19:00:00.0000000\", \"2019-07-03 20:00:00.0000000\", \"2019-07-03 21:00:00.0000000\", \"2019-07-04 02:00:00.0000000\", \"2019-07-04 04:00:00.0000000\", \"2019-07-04 05:00:00.0000000\", \"2019-07-04 06:00:00.0000000\", \"2019-07-04 07:00:00.0000000\", \"2019-07-04 08:00:00.0000000\", \"2019-07-04 09:00:00.0000000\", \"2019-07-04 10:00:00.0000000\", \"2019-07-04 11:00:00.0000000\", \"2019-07-04 12:00:00.0000000\", \"2019-07-04 14:00:00.0000000\", \"2019-07-04 15:00:00.0000000\", \"2019-07-04 16:00:00.0000000\", \"2019-07-04 17:00:00.0000000\", \"2019-07-04 18:00:00.0000000\", \"2019-07-04 19:00:00.0000000\", \"2019-07-04 23:00:00.0000000\", \"2019-07-05 04:00:00.0000000\", \"2019-07-05 05:00:00.0000000\", \"2019-07-05 06:00:00.0000000\", \"2019-07-05 07:00:00.0000000\", \"2019-07-05 08:00:00.0000000\", \"2019-07-05 09:00:00.0000000\", \"2019-07-05 10:00:00.0000000\", \"2019-07-05 11:00:00.0000000\", \"2019-07-05 12:00:00.0000000\", \"2019-07-05 13:00:00.0000000\", \"2019-07-05 14:00:00.0000000\", \"2019-07-05 15:00:00.0000000\", \"2019-07-05 16:00:00.0000000\", \"2019-07-05 17:00:00.0000000\", \"2019-07-05 18:00:00.0000000\", \"2019-07-06 01:00:00.0000000\", \"2019-07-06 06:00:00.0000000\", \"2019-07-06 07:00:00.0000000\", \"2019-07-06 08:00:00.0000000\", \"2019-07-06 09:00:00.0000000\", \"2019-07-06 10:00:00.0000000\", \"2019-07-06 11:00:00.0000000\", \"2019-07-06 12:00:00.0000000\", \"2019-07-06 13:00:00.0000000\", \"2019-07-06 14:00:00.0000000\", \"2019-07-06 15:00:00.0000000\", \"2019-07-06 16:00:00.0000000\", \"2019-07-06 17:00:00.0000000\", \"2019-07-06 18:00:00.0000000\", \"2019-07-06 19:00:00.0000000\", \"2019-07-07 00:00:00.0000000\", \"2019-07-07 03:00:00.0000000\", \"2019-07-07 05:00:00.0000000\", \"2019-07-07 07:00:00.0000000\", \"2019-07-07 08:00:00.0000000\", \"2019-07-07 09:00:00.0000000\", \"2019-07-07 10:00:00.0000000\", \"2019-07-07 11:00:00.0000000\", \"2019-07-07 12:00:00.0000000\", \"2019-07-07 13:00:00.0000000\", \"2019-07-07 14:00:00.0000000\", \"2019-07-07 15:00:00.0000000\", \"2019-07-07 16:00:00.0000000\", \"2019-07-07 17:00:00.0000000\", \"2019-07-07 18:00:00.0000000\", \"2019-07-07 19:00:00.0000000\", \"2019-07-07 20:00:00.0000000\", \"2019-07-07 21:00:00.0000000\", \"2019-07-08 02:00:00.0000000\", \"2019-07-08 03:00:00.0000000\", \"2019-07-08 04:00:00.0000000\", \"2019-07-08 05:00:00.0000000\", \"2019-07-08 06:00:00.0000000\", \"2019-07-08 07:00:00.0000000\", \"2019-07-08 08:00:00.0000000\", \"2019-07-08 09:00:00.0000000\", \"2019-07-08 10:00:00.0000000\", \"2019-07-08 11:00:00.0000000\", \"2019-07-08 12:00:00.0000000\", \"2019-07-08 13:00:00.0000000\", \"2019-07-08 14:00:00.0000000\", \"2019-07-08 15:00:00.0000000\", \"2019-07-08 16:00:00.0000000\", \"2019-07-08 17:00:00.0000000\", \"2019-07-08 18:00:00.0000000\", \"2019-07-08 19:00:00.0000000\", \"2019-07-08 20:00:00.0000000\", \"2019-07-08 23:00:00.0000000\", \"2019-07-09 00:00:00.0000000\", \"2019-07-09 02:00:00.0000000\", \"2019-07-09 04:00:00.0000000\", \"2019-07-09 05:00:00.0000000\", \"2019-07-09 06:00:00.0000000\", \"2019-07-09 07:00:00.0000000\", \"2019-07-09 08:00:00.0000000\", \"2019-07-09 09:00:00.0000000\", \"2019-07-09 10:00:00.0000000\", \"2019-07-09 11:00:00.0000000\", \"2019-07-09 12:00:00.0000000\", \"2019-07-09 13:00:00.0000000\", \"2019-07-09 14:00:00.0000000\", \"2019-07-09 15:00:00.0000000\", \"2019-07-09 16:00:00.0000000\", \"2019-07-09 17:00:00.0000000\", \"2019-07-09 18:00:00.0000000\", \"2019-07-09 19:00:00.0000000\", \"2019-07-09 20:00:00.0000000\", \"2019-07-09 21:00:00.0000000\", \"2019-07-10 00:00:00.0000000\", \"2019-07-10 04:00:00.0000000\", \"2019-07-10 05:00:00.0000000\", \"2019-07-10 06:00:00.0000000\", \"2019-07-10 07:00:00.0000000\", \"2019-07-10 08:00:00.0000000\", \"2019-07-10 09:00:00.0000000\", \"2019-07-10 10:00:00.0000000\", \"2019-07-10 11:00:00.0000000\", \"2019-07-10 12:00:00.0000000\", \"2019-07-10 13:00:00.0000000\", \"2019-07-10 14:00:00.0000000\", \"2019-07-10 15:00:00.0000000\", \"2019-07-10 16:00:00.0000000\", \"2019-07-10 17:00:00.0000000\", \"2019-07-10 18:00:00.0000000\", \"2019-07-10 19:00:00.0000000\", \"2019-07-10 20:00:00.0000000\", \"2019-07-10 21:00:00.0000000\", \"2019-07-10 22:00:00.0000000\", \"2019-07-10 23:00:00.0000000\", \"2019-07-11 00:00:00.0000000\", \"2019-07-11 01:00:00.0000000\", \"2019-07-11 02:00:00.0000000\", \"2019-07-11 03:00:00.0000000\", \"2019-07-11 04:00:00.0000000\", \"2019-07-11 05:00:00.0000000\", \"2019-07-11 06:00:00.0000000\", \"2019-07-11 07:00:00.0000000\", \"2019-07-11 08:00:00.0000000\", \"2019-07-11 09:00:00.0000000\", \"2019-07-11 10:00:00.0000000\", \"2019-07-11 11:00:00.0000000\", \"2019-07-11 13:00:00.0000000\", \"2019-07-11 14:00:00.0000000\", \"2019-07-11 15:00:00.0000000\", \"2019-07-11 16:00:00.0000000\", \"2019-07-11 17:00:00.0000000\", \"2019-07-11 18:00:00.0000000\", \"2019-07-11 19:00:00.0000000\", \"2019-07-11 20:00:00.0000000\", \"2019-07-11 21:00:00.0000000\", \"2019-07-11 23:00:00.0000000\", \"2019-07-12 06:00:00.0000000\", \"2019-07-12 07:00:00.0000000\", \"2019-07-12 08:00:00.0000000\", \"2019-07-12 09:00:00.0000000\", \"2019-07-12 10:00:00.0000000\", \"2019-07-12 11:00:00.0000000\", \"2019-07-12 12:00:00.0000000\", \"2019-07-12 13:00:00.0000000\", \"2019-07-12 14:00:00.0000000\", \"2019-07-12 15:00:00.0000000\", \"2019-07-12 16:00:00.0000000\", \"2019-07-12 17:00:00.0000000\", \"2019-07-12 18:00:00.0000000\", \"2019-07-12 19:00:00.0000000\", \"2019-07-12 20:00:00.0000000\", \"2019-07-13 05:00:00.0000000\", \"2019-07-13 06:00:00.0000000\", \"2019-07-13 07:00:00.0000000\", \"2019-07-13 08:00:00.0000000\", \"2019-07-13 09:00:00.0000000\", \"2019-07-13 10:00:00.0000000\", \"2019-07-13 11:00:00.0000000\", \"2019-07-13 12:00:00.0000000\", \"2019-07-13 14:00:00.0000000\", \"2019-07-13 16:00:00.0000000\", \"2019-07-13 17:00:00.0000000\", \"2019-07-13 18:00:00.0000000\", \"2019-07-13 20:00:00.0000000\", \"2019-07-14 05:00:00.0000000\", \"2019-07-14 06:00:00.0000000\", \"2019-07-14 07:00:00.0000000\", \"2019-07-14 08:00:00.0000000\", \"2019-07-14 09:00:00.0000000\", \"2019-07-14 10:00:00.0000000\", \"2019-07-14 11:00:00.0000000\", \"2019-07-14 12:00:00.0000000\", \"2019-07-14 13:00:00.0000000\", \"2019-07-14 14:00:00.0000000\", \"2019-07-14 15:00:00.0000000\", \"2019-07-14 16:00:00.0000000\", \"2019-07-14 17:00:00.0000000\", \"2019-07-15 04:00:00.0000000\", \"2019-07-15 05:00:00.0000000\", \"2019-07-15 06:00:00.0000000\", \"2019-07-15 07:00:00.0000000\", \"2019-07-15 08:00:00.0000000\", \"2019-07-15 09:00:00.0000000\", \"2019-07-15 10:00:00.0000000\", \"2019-07-15 11:00:00.0000000\", \"2019-07-15 12:00:00.0000000\", \"2019-07-15 13:00:00.0000000\", \"2019-07-15 14:00:00.0000000\", \"2019-07-15 15:00:00.0000000\", \"2019-07-15 16:00:00.0000000\", \"2019-07-15 17:00:00.0000000\", \"2019-07-15 18:00:00.0000000\", \"2019-07-15 19:00:00.0000000\", \"2019-07-16 00:00:00.0000000\", \"2019-07-16 01:00:00.0000000\", \"2019-07-16 06:00:00.0000000\", \"2019-07-16 07:00:00.0000000\", \"2019-07-16 08:00:00.0000000\", \"2019-07-16 09:00:00.0000000\", \"2019-07-16 10:00:00.0000000\", \"2019-07-16 11:00:00.0000000\", \"2019-07-16 13:00:00.0000000\", \"2019-07-16 14:00:00.0000000\", \"2019-07-16 15:00:00.0000000\", \"2019-07-16 16:00:00.0000000\", \"2019-07-16 17:00:00.0000000\", \"2019-07-16 18:00:00.0000000\", \"2019-07-16 19:00:00.0000000\", \"2019-07-16 20:00:00.0000000\", \"2019-07-16 21:00:00.0000000\", \"2019-07-16 22:00:00.0000000\", \"2019-07-16 23:00:00.0000000\", \"2019-07-17 00:00:00.0000000\", \"2019-07-17 01:00:00.0000000\", \"2019-07-17 02:00:00.0000000\", \"2019-07-17 03:00:00.0000000\", \"2019-07-17 05:00:00.0000000\", \"2019-07-17 06:00:00.0000000\", \"2019-07-17 07:00:00.0000000\", \"2019-07-17 08:00:00.0000000\", \"2019-07-17 09:00:00.0000000\", \"2019-07-17 10:00:00.0000000\", \"2019-07-17 11:00:00.0000000\", \"2019-07-17 13:00:00.0000000\", \"2019-07-17 14:00:00.0000000\", \"2019-07-17 15:00:00.0000000\", \"2019-07-17 16:00:00.0000000\", \"2019-07-17 17:00:00.0000000\", \"2019-07-17 18:00:00.0000000\", \"2019-07-17 19:00:00.0000000\", \"2019-07-17 21:00:00.0000000\", \"2019-07-17 22:00:00.0000000\", \"2019-07-17 23:00:00.0000000\", \"2019-07-18 02:00:00.0000000\", \"2019-07-18 03:00:00.0000000\", \"2019-07-18 04:00:00.0000000\", \"2019-07-18 05:00:00.0000000\", \"2019-07-18 06:00:00.0000000\", \"2019-07-18 07:00:00.0000000\", \"2019-07-18 08:00:00.0000000\", \"2019-07-18 09:00:00.0000000\", \"2019-07-18 10:00:00.0000000\", \"2019-07-18 11:00:00.0000000\", \"2019-07-18 12:00:00.0000000\", \"2019-07-18 13:00:00.0000000\", \"2019-07-18 14:00:00.0000000\", \"2019-07-18 15:00:00.0000000\", \"2019-07-18 16:00:00.0000000\", \"2019-07-18 17:00:00.0000000\", \"2019-07-18 18:00:00.0000000\", \"2019-07-18 19:00:00.0000000\", \"2019-07-18 20:00:00.0000000\", \"2019-07-18 21:00:00.0000000\", \"2019-07-18 23:00:00.0000000\", \"2019-07-19 00:00:00.0000000\", \"2019-07-19 01:00:00.0000000\", \"2019-07-19 02:00:00.0000000\", \"2019-07-19 03:00:00.0000000\", \"2019-07-19 04:00:00.0000000\", \"2019-07-19 05:00:00.0000000\", \"2019-07-19 06:00:00.0000000\", \"2019-07-19 07:00:00.0000000\", \"2019-07-19 08:00:00.0000000\", \"2019-07-19 09:00:00.0000000\", \"2019-07-19 10:00:00.0000000\", \"2019-07-19 11:00:00.0000000\", \"2019-07-19 13:00:00.0000000\", \"2019-07-19 14:00:00.0000000\", \"2019-07-19 15:00:00.0000000\", \"2019-07-19 16:00:00.0000000\", \"2019-07-19 18:00:00.0000000\", \"2019-07-19 19:00:00.0000000\", \"2019-07-19 20:00:00.0000000\", \"2019-07-19 21:00:00.0000000\", \"2019-07-19 22:00:00.0000000\", \"2019-07-19 23:00:00.0000000\", \"2019-07-20 00:00:00.0000000\", \"2019-07-20 01:00:00.0000000\", \"2019-07-20 02:00:00.0000000\", \"2019-07-20 03:00:00.0000000\", \"2019-07-20 04:00:00.0000000\", \"2019-07-20 05:00:00.0000000\", \"2019-07-20 06:00:00.0000000\", \"2019-07-20 07:00:00.0000000\", \"2019-07-20 08:00:00.0000000\", \"2019-07-20 09:00:00.0000000\", \"2019-07-20 10:00:00.0000000\", \"2019-07-20 11:00:00.0000000\", \"2019-07-20 12:00:00.0000000\", \"2019-07-20 13:00:00.0000000\", \"2019-07-20 14:00:00.0000000\", \"2019-07-20 15:00:00.0000000\", \"2019-07-20 16:00:00.0000000\", \"2019-07-20 17:00:00.0000000\", \"2019-07-20 18:00:00.0000000\", \"2019-07-20 19:00:00.0000000\", \"2019-07-20 20:00:00.0000000\", \"2019-07-20 21:00:00.0000000\", \"2019-07-20 22:00:00.0000000\", \"2019-07-20 23:00:00.0000000\", \"2019-07-21 01:00:00.0000000\", \"2019-07-21 02:00:00.0000000\", \"2019-07-21 03:00:00.0000000\", \"2019-07-21 05:00:00.0000000\", \"2019-07-21 06:00:00.0000000\", \"2019-07-21 07:00:00.0000000\", \"2019-07-21 08:00:00.0000000\", \"2019-07-21 09:00:00.0000000\", \"2019-07-21 10:00:00.0000000\", \"2019-07-21 11:00:00.0000000\", \"2019-07-21 12:00:00.0000000\", \"2019-07-21 13:00:00.0000000\", \"2019-07-21 14:00:00.0000000\", \"2019-07-21 15:00:00.0000000\", \"2019-07-21 16:00:00.0000000\", \"2019-07-21 17:00:00.0000000\", \"2019-07-21 18:00:00.0000000\", \"2019-07-21 19:00:00.0000000\", \"2019-07-21 20:00:00.0000000\", \"2019-07-21 21:00:00.0000000\", \"2019-07-22 04:00:00.0000000\", \"2019-07-22 05:00:00.0000000\", \"2019-07-22 07:00:00.0000000\", \"2019-07-22 08:00:00.0000000\", \"2019-07-22 09:00:00.0000000\", \"2019-07-22 10:00:00.0000000\", \"2019-07-22 11:00:00.0000000\", \"2019-07-22 12:00:00.0000000\", \"2019-07-22 13:00:00.0000000\", \"2019-07-22 14:00:00.0000000\", \"2019-07-22 15:00:00.0000000\", \"2019-07-22 16:00:00.0000000\", \"2019-07-22 17:00:00.0000000\", \"2019-07-22 18:00:00.0000000\", \"2019-07-22 19:00:00.0000000\", \"2019-07-22 20:00:00.0000000\", \"2019-07-22 23:00:00.0000000\", \"2019-07-23 04:00:00.0000000\", \"2019-07-23 05:00:00.0000000\", \"2019-07-23 06:00:00.0000000\", \"2019-07-23 07:00:00.0000000\", \"2019-07-23 08:00:00.0000000\", \"2019-07-23 09:00:00.0000000\", \"2019-07-23 10:00:00.0000000\", \"2019-07-23 11:00:00.0000000\", \"2019-07-23 12:00:00.0000000\", \"2019-07-23 13:00:00.0000000\", \"2019-07-23 14:00:00.0000000\", \"2019-07-23 15:00:00.0000000\", \"2019-07-23 16:00:00.0000000\", \"2019-07-23 17:00:00.0000000\", \"2019-07-23 18:00:00.0000000\", \"2019-07-23 19:00:00.0000000\", \"2019-07-23 20:00:00.0000000\", \"2019-07-23 21:00:00.0000000\", \"2019-07-23 22:00:00.0000000\", \"2019-07-23 23:00:00.0000000\", \"2019-07-24 00:00:00.0000000\", \"2019-07-24 03:00:00.0000000\", \"2019-07-24 04:00:00.0000000\", \"2019-07-24 05:00:00.0000000\", \"2019-07-24 06:00:00.0000000\", \"2019-07-24 07:00:00.0000000\", \"2019-07-24 08:00:00.0000000\", \"2019-07-24 09:00:00.0000000\", \"2019-07-24 10:00:00.0000000\", \"2019-07-24 11:00:00.0000000\", \"2019-07-24 12:00:00.0000000\", \"2019-07-24 13:00:00.0000000\", \"2019-07-24 14:00:00.0000000\", \"2019-07-24 15:00:00.0000000\", \"2019-07-24 16:00:00.0000000\", \"2019-07-24 17:00:00.0000000\", \"2019-07-24 18:00:00.0000000\", \"2019-07-24 19:00:00.0000000\", \"2019-07-24 20:00:00.0000000\", \"2019-07-25 00:00:00.0000000\", \"2019-07-25 04:00:00.0000000\", \"2019-07-25 05:00:00.0000000\", \"2019-07-25 06:00:00.0000000\", \"2019-07-25 07:00:00.0000000\", \"2019-07-25 08:00:00.0000000\", \"2019-07-25 09:00:00.0000000\", \"2019-07-25 10:00:00.0000000\", \"2019-07-25 11:00:00.0000000\", \"2019-07-25 12:00:00.0000000\", \"2019-07-25 13:00:00.0000000\", \"2019-07-25 14:00:00.0000000\", \"2019-07-25 15:00:00.0000000\", \"2019-07-25 16:00:00.0000000\", \"2019-07-25 17:00:00.0000000\", \"2019-07-25 18:00:00.0000000\", \"2019-07-25 19:00:00.0000000\", \"2019-07-25 20:00:00.0000000\", \"2019-07-25 21:00:00.0000000\", \"2019-07-26 04:00:00.0000000\", \"2019-07-26 05:00:00.0000000\", \"2019-07-26 06:00:00.0000000\", \"2019-07-26 07:00:00.0000000\", \"2019-07-26 08:00:00.0000000\", \"2019-07-26 09:00:00.0000000\", \"2019-07-26 10:00:00.0000000\", \"2019-07-26 11:00:00.0000000\", \"2019-07-26 12:00:00.0000000\", \"2019-07-26 13:00:00.0000000\", \"2019-07-26 14:00:00.0000000\", \"2019-07-26 15:00:00.0000000\", \"2019-07-26 16:00:00.0000000\", \"2019-07-26 17:00:00.0000000\", \"2019-07-26 18:00:00.0000000\", \"2019-07-26 23:00:00.0000000\", \"2019-07-27 00:00:00.0000000\", \"2019-07-27 04:00:00.0000000\", \"2019-07-27 06:00:00.0000000\", \"2019-07-27 07:00:00.0000000\", \"2019-07-27 08:00:00.0000000\", \"2019-07-27 09:00:00.0000000\", \"2019-07-27 10:00:00.0000000\", \"2019-07-27 11:00:00.0000000\", \"2019-07-27 13:00:00.0000000\", \"2019-07-27 14:00:00.0000000\", \"2019-07-27 15:00:00.0000000\", \"2019-07-27 17:00:00.0000000\", \"2019-07-27 18:00:00.0000000\", \"2019-07-27 21:00:00.0000000\", \"2019-07-28 04:00:00.0000000\", \"2019-07-28 06:00:00.0000000\", \"2019-07-28 07:00:00.0000000\", \"2019-07-28 08:00:00.0000000\", \"2019-07-28 09:00:00.0000000\", \"2019-07-28 11:00:00.0000000\", \"2019-07-28 12:00:00.0000000\", \"2019-07-28 13:00:00.0000000\", \"2019-07-28 14:00:00.0000000\", \"2019-07-28 15:00:00.0000000\", \"2019-07-28 16:00:00.0000000\", \"2019-07-28 18:00:00.0000000\", \"2019-07-28 19:00:00.0000000\", \"2019-07-28 20:00:00.0000000\", \"2019-07-29 00:00:00.0000000\", \"2019-07-29 04:00:00.0000000\", \"2019-07-29 05:00:00.0000000\", \"2019-07-29 06:00:00.0000000\", \"2019-07-29 07:00:00.0000000\", \"2019-07-29 08:00:00.0000000\", \"2019-07-29 09:00:00.0000000\", \"2019-07-29 10:00:00.0000000\", \"2019-07-29 11:00:00.0000000\", \"2019-07-29 12:00:00.0000000\", \"2019-07-29 13:00:00.0000000\", \"2019-07-29 14:00:00.0000000\", \"2019-07-29 15:00:00.0000000\", \"2019-07-29 16:00:00.0000000\", \"2019-07-29 17:00:00.0000000\", \"2019-07-29 18:00:00.0000000\", \"2019-07-29 19:00:00.0000000\", \"2019-07-29 20:00:00.0000000\", \"2019-07-29 23:00:00.0000000\", \"2019-07-30 04:00:00.0000000\", \"2019-07-30 05:00:00.0000000\", \"2019-07-30 06:00:00.0000000\", \"2019-07-30 07:00:00.0000000\", \"2019-07-30 08:00:00.0000000\", \"2019-07-30 09:00:00.0000000\", \"2019-07-30 10:00:00.0000000\", \"2019-07-30 11:00:00.0000000\", \"2019-07-30 12:00:00.0000000\", \"2019-07-30 13:00:00.0000000\", \"2019-07-30 14:00:00.0000000\", \"2019-07-30 15:00:00.0000000\", \"2019-07-30 16:00:00.0000000\", \"2019-07-30 17:00:00.0000000\", \"2019-07-30 18:00:00.0000000\", \"2019-07-30 19:00:00.0000000\", \"2019-07-31 02:00:00.0000000\", \"2019-07-31 03:00:00.0000000\", \"2019-07-31 04:00:00.0000000\", \"2019-07-31 05:00:00.0000000\", \"2019-07-31 06:00:00.0000000\", \"2019-07-31 07:00:00.0000000\", \"2019-07-31 08:00:00.0000000\", \"2019-07-31 09:00:00.0000000\", \"2019-07-31 10:00:00.0000000\", \"2019-07-31 11:00:00.0000000\", \"2019-07-31 12:00:00.0000000\", \"2019-07-31 13:00:00.0000000\", \"2019-07-31 14:00:00.0000000\", \"2019-07-31 15:00:00.0000000\", \"2019-07-31 16:00:00.0000000\", \"2019-07-31 17:00:00.0000000\", \"2019-07-31 18:00:00.0000000\", \"2019-07-31 19:00:00.0000000\", \"2019-07-31 20:00:00.0000000\", \"2019-07-31 21:00:00.0000000\", \"2019-07-31 23:00:00.0000000\", \"2019-08-01 03:00:00.0000000\", \"2019-08-01 04:00:00.0000000\", \"2019-08-01 05:00:00.0000000\", \"2019-08-01 06:00:00.0000000\", \"2019-08-01 07:00:00.0000000\", \"2019-08-01 08:00:00.0000000\", \"2019-08-01 09:00:00.0000000\", \"2019-08-01 10:00:00.0000000\", \"2019-08-01 11:00:00.0000000\", \"2019-08-01 13:00:00.0000000\", \"2019-08-01 14:00:00.0000000\", \"2019-08-01 15:00:00.0000000\", \"2019-08-01 16:00:00.0000000\", \"2019-08-01 17:00:00.0000000\", \"2019-08-01 18:00:00.0000000\", \"2019-08-01 20:00:00.0000000\", \"2019-08-02 00:00:00.0000000\", \"2019-08-02 04:00:00.0000000\", \"2019-08-02 05:00:00.0000000\", \"2019-08-02 06:00:00.0000000\", \"2019-08-02 07:00:00.0000000\", \"2019-08-02 08:00:00.0000000\", \"2019-08-02 09:00:00.0000000\", \"2019-08-02 10:00:00.0000000\", \"2019-08-02 11:00:00.0000000\", \"2019-08-02 12:00:00.0000000\", \"2019-08-02 13:00:00.0000000\", \"2019-08-02 14:00:00.0000000\", \"2019-08-02 15:00:00.0000000\", \"2019-08-02 16:00:00.0000000\", \"2019-08-02 17:00:00.0000000\", \"2019-08-02 18:00:00.0000000\", \"2019-08-02 19:00:00.0000000\", \"2019-08-02 23:00:00.0000000\", \"2019-08-03 06:00:00.0000000\", \"2019-08-03 07:00:00.0000000\", \"2019-08-03 08:00:00.0000000\", \"2019-08-03 09:00:00.0000000\", \"2019-08-03 10:00:00.0000000\", \"2019-08-03 11:00:00.0000000\", \"2019-08-03 12:00:00.0000000\", \"2019-08-03 13:00:00.0000000\", \"2019-08-03 14:00:00.0000000\", \"2019-08-03 15:00:00.0000000\", \"2019-08-03 17:00:00.0000000\", \"2019-08-03 18:00:00.0000000\", \"2019-08-03 19:00:00.0000000\", \"2019-08-04 01:00:00.0000000\", \"2019-08-04 07:00:00.0000000\", \"2019-08-04 08:00:00.0000000\", \"2019-08-04 09:00:00.0000000\", \"2019-08-04 10:00:00.0000000\", \"2019-08-04 11:00:00.0000000\", \"2019-08-04 12:00:00.0000000\", \"2019-08-04 13:00:00.0000000\", \"2019-08-04 14:00:00.0000000\", \"2019-08-04 15:00:00.0000000\", \"2019-08-04 16:00:00.0000000\", \"2019-08-04 18:00:00.0000000\", \"2019-08-04 19:00:00.0000000\", \"2019-08-05 00:00:00.0000000\", \"2019-08-05 01:00:00.0000000\", \"2019-08-05 02:00:00.0000000\", \"2019-08-05 04:00:00.0000000\", \"2019-08-05 07:00:00.0000000\", \"2019-08-05 08:00:00.0000000\", \"2019-08-05 09:00:00.0000000\", \"2019-08-05 10:00:00.0000000\", \"2019-08-05 11:00:00.0000000\", \"2019-08-05 12:00:00.0000000\", \"2019-08-05 13:00:00.0000000\", \"2019-08-05 14:00:00.0000000\", \"2019-08-05 15:00:00.0000000\", \"2019-08-05 16:00:00.0000000\", \"2019-08-05 17:00:00.0000000\", \"2019-08-05 18:00:00.0000000\", \"2019-08-05 19:00:00.0000000\", \"2019-08-05 23:00:00.0000000\", \"2019-08-06 00:00:00.0000000\", \"2019-08-06 01:00:00.0000000\", \"2019-08-06 04:00:00.0000000\", \"2019-08-06 05:00:00.0000000\", \"2019-08-06 06:00:00.0000000\", \"2019-08-06 07:00:00.0000000\", \"2019-08-06 08:00:00.0000000\", \"2019-08-06 09:00:00.0000000\", \"2019-08-06 10:00:00.0000000\", \"2019-08-06 11:00:00.0000000\", \"2019-08-06 12:00:00.0000000\", \"2019-08-06 13:00:00.0000000\", \"2019-08-06 14:00:00.0000000\", \"2019-08-06 15:00:00.0000000\", \"2019-08-06 16:00:00.0000000\", \"2019-08-06 17:00:00.0000000\", \"2019-08-06 18:00:00.0000000\", \"2019-08-06 19:00:00.0000000\", \"2019-08-06 20:00:00.0000000\", \"2019-08-07 01:00:00.0000000\", \"2019-08-07 04:00:00.0000000\", \"2019-08-07 05:00:00.0000000\", \"2019-08-07 06:00:00.0000000\", \"2019-08-07 07:00:00.0000000\", \"2019-08-07 08:00:00.0000000\", \"2019-08-07 09:00:00.0000000\", \"2019-08-07 10:00:00.0000000\", \"2019-08-07 11:00:00.0000000\", \"2019-08-07 12:00:00.0000000\", \"2019-08-07 13:00:00.0000000\", \"2019-08-07 14:00:00.0000000\", \"2019-08-07 15:00:00.0000000\", \"2019-08-07 16:00:00.0000000\", \"2019-08-07 17:00:00.0000000\", \"2019-08-07 18:00:00.0000000\", \"2019-08-07 19:00:00.0000000\", \"2019-08-07 20:00:00.0000000\", \"2019-08-07 21:00:00.0000000\", \"2019-08-07 22:00:00.0000000\", \"2019-08-07 23:00:00.0000000\", \"2019-08-08 02:00:00.0000000\", \"2019-08-08 03:00:00.0000000\", \"2019-08-08 04:00:00.0000000\", \"2019-08-08 05:00:00.0000000\", \"2019-08-08 06:00:00.0000000\", \"2019-08-08 08:00:00.0000000\", \"2019-08-08 09:00:00.0000000\", \"2019-08-08 10:00:00.0000000\", \"2019-08-08 11:00:00.0000000\", \"2019-08-08 12:00:00.0000000\", \"2019-08-08 13:00:00.0000000\", \"2019-08-08 14:00:00.0000000\", \"2019-08-08 15:00:00.0000000\", \"2019-08-08 16:00:00.0000000\", \"2019-08-08 17:00:00.0000000\", \"2019-08-08 18:00:00.0000000\", \"2019-08-08 19:00:00.0000000\", \"2019-08-08 20:00:00.0000000\", \"2019-08-08 21:00:00.0000000\", \"2019-08-09 00:00:00.0000000\", \"2019-08-09 01:00:00.0000000\", \"2019-08-09 02:00:00.0000000\", \"2019-08-09 04:00:00.0000000\", \"2019-08-09 05:00:00.0000000\", \"2019-08-09 06:00:00.0000000\", \"2019-08-09 07:00:00.0000000\", \"2019-08-09 08:00:00.0000000\", \"2019-08-09 09:00:00.0000000\", \"2019-08-09 10:00:00.0000000\", \"2019-08-09 11:00:00.0000000\", \"2019-08-09 12:00:00.0000000\", \"2019-08-09 13:00:00.0000000\", \"2019-08-09 14:00:00.0000000\", \"2019-08-09 15:00:00.0000000\", \"2019-08-09 16:00:00.0000000\", \"2019-08-09 17:00:00.0000000\", \"2019-08-09 18:00:00.0000000\", \"2019-08-09 19:00:00.0000000\", \"2019-08-10 00:00:00.0000000\", \"2019-08-10 02:00:00.0000000\", \"2019-08-10 06:00:00.0000000\", \"2019-08-10 07:00:00.0000000\", \"2019-08-10 08:00:00.0000000\", \"2019-08-10 09:00:00.0000000\", \"2019-08-10 10:00:00.0000000\", \"2019-08-10 11:00:00.0000000\", \"2019-08-10 12:00:00.0000000\", \"2019-08-10 13:00:00.0000000\", \"2019-08-10 14:00:00.0000000\", \"2019-08-10 15:00:00.0000000\", \"2019-08-10 16:00:00.0000000\", \"2019-08-10 17:00:00.0000000\", \"2019-08-10 18:00:00.0000000\", \"2019-08-10 23:00:00.0000000\", \"2019-08-11 02:00:00.0000000\", \"2019-08-11 06:00:00.0000000\", \"2019-08-11 07:00:00.0000000\", \"2019-08-11 08:00:00.0000000\", \"2019-08-11 09:00:00.0000000\", \"2019-08-11 10:00:00.0000000\", \"2019-08-11 11:00:00.0000000\", \"2019-08-11 12:00:00.0000000\", \"2019-08-11 13:00:00.0000000\", \"2019-08-11 14:00:00.0000000\", \"2019-08-11 15:00:00.0000000\", \"2019-08-11 16:00:00.0000000\", \"2019-08-11 17:00:00.0000000\", \"2019-08-11 18:00:00.0000000\", \"2019-08-11 19:00:00.0000000\", \"2019-08-11 23:00:00.0000000\", \"2019-08-12 00:00:00.0000000\", \"2019-08-12 01:00:00.0000000\", \"2019-08-12 02:00:00.0000000\", \"2019-08-12 04:00:00.0000000\", \"2019-08-12 05:00:00.0000000\", \"2019-08-12 06:00:00.0000000\", \"2019-08-12 07:00:00.0000000\", \"2019-08-12 08:00:00.0000000\", \"2019-08-12 09:00:00.0000000\", \"2019-08-12 10:00:00.0000000\", \"2019-08-12 11:00:00.0000000\", \"2019-08-12 12:00:00.0000000\", \"2019-08-12 13:00:00.0000000\", \"2019-08-12 14:00:00.0000000\", \"2019-08-12 15:00:00.0000000\", \"2019-08-12 16:00:00.0000000\", \"2019-08-12 17:00:00.0000000\", \"2019-08-12 18:00:00.0000000\", \"2019-08-12 19:00:00.0000000\", \"2019-08-12 20:00:00.0000000\", \"2019-08-12 21:00:00.0000000\", \"2019-08-13 01:00:00.0000000\", \"2019-08-13 02:00:00.0000000\", \"2019-08-13 03:00:00.0000000\", \"2019-08-13 04:00:00.0000000\", \"2019-08-13 05:00:00.0000000\", \"2019-08-13 06:00:00.0000000\", \"2019-08-13 07:00:00.0000000\", \"2019-08-13 08:00:00.0000000\", \"2019-08-13 09:00:00.0000000\", \"2019-08-13 10:00:00.0000000\", \"2019-08-13 11:00:00.0000000\", \"2019-08-13 12:00:00.0000000\", \"2019-08-13 13:00:00.0000000\", \"2019-08-13 14:00:00.0000000\", \"2019-08-13 15:00:00.0000000\", \"2019-08-13 16:00:00.0000000\", \"2019-08-13 17:00:00.0000000\", \"2019-08-13 18:00:00.0000000\", \"2019-08-13 19:00:00.0000000\", \"2019-08-13 20:00:00.0000000\", \"2019-08-14 04:00:00.0000000\", \"2019-08-14 05:00:00.0000000\", \"2019-08-14 06:00:00.0000000\", \"2019-08-14 07:00:00.0000000\", \"2019-08-14 08:00:00.0000000\", \"2019-08-14 09:00:00.0000000\", \"2019-08-14 10:00:00.0000000\", \"2019-08-14 11:00:00.0000000\", \"2019-08-14 13:00:00.0000000\", \"2019-08-14 14:00:00.0000000\", \"2019-08-14 15:00:00.0000000\", \"2019-08-14 16:00:00.0000000\", \"2019-08-14 17:00:00.0000000\", \"2019-08-14 18:00:00.0000000\", \"2019-08-14 19:00:00.0000000\", \"2019-08-14 23:00:00.0000000\", \"2019-08-15 05:00:00.0000000\", \"2019-08-15 06:00:00.0000000\", \"2019-08-15 07:00:00.0000000\", \"2019-08-15 08:00:00.0000000\", \"2019-08-15 09:00:00.0000000\", \"2019-08-15 10:00:00.0000000\", \"2019-08-15 11:00:00.0000000\", \"2019-08-15 12:00:00.0000000\", \"2019-08-15 13:00:00.0000000\", \"2019-08-15 14:00:00.0000000\", \"2019-08-15 15:00:00.0000000\", \"2019-08-15 16:00:00.0000000\", \"2019-08-15 17:00:00.0000000\", \"2019-08-15 18:00:00.0000000\", \"2019-08-15 23:00:00.0000000\", \"2019-08-16 04:00:00.0000000\", \"2019-08-16 05:00:00.0000000\", \"2019-08-16 06:00:00.0000000\", \"2019-08-16 07:00:00.0000000\", \"2019-08-16 08:00:00.0000000\", \"2019-08-16 09:00:00.0000000\", \"2019-08-16 10:00:00.0000000\", \"2019-08-16 11:00:00.0000000\", \"2019-08-16 12:00:00.0000000\", \"2019-08-16 13:00:00.0000000\", \"2019-08-16 14:00:00.0000000\", \"2019-08-16 15:00:00.0000000\", \"2019-08-16 16:00:00.0000000\", \"2019-08-16 17:00:00.0000000\", \"2019-08-16 19:00:00.0000000\", \"2019-08-16 22:00:00.0000000\", \"2019-08-17 05:00:00.0000000\", \"2019-08-17 06:00:00.0000000\", \"2019-08-17 07:00:00.0000000\", \"2019-08-17 08:00:00.0000000\", \"2019-08-17 09:00:00.0000000\", \"2019-08-17 10:00:00.0000000\", \"2019-08-17 11:00:00.0000000\", \"2019-08-17 12:00:00.0000000\", \"2019-08-17 13:00:00.0000000\", \"2019-08-17 14:00:00.0000000\", \"2019-08-17 15:00:00.0000000\", \"2019-08-17 16:00:00.0000000\", \"2019-08-17 17:00:00.0000000\", \"2019-08-17 18:00:00.0000000\", \"2019-08-17 22:00:00.0000000\", \"2019-08-17 23:00:00.0000000\", \"2019-08-18 03:00:00.0000000\", \"2019-08-18 05:00:00.0000000\", \"2019-08-18 06:00:00.0000000\", \"2019-08-18 07:00:00.0000000\", \"2019-08-18 08:00:00.0000000\", \"2019-08-18 09:00:00.0000000\", \"2019-08-18 10:00:00.0000000\", \"2019-08-18 11:00:00.0000000\", \"2019-08-18 12:00:00.0000000\", \"2019-08-18 13:00:00.0000000\", \"2019-08-18 14:00:00.0000000\", \"2019-08-18 15:00:00.0000000\", \"2019-08-18 16:00:00.0000000\", \"2019-08-18 17:00:00.0000000\", \"2019-08-18 18:00:00.0000000\", \"2019-08-18 19:00:00.0000000\", \"2019-08-19 00:00:00.0000000\", \"2019-08-19 04:00:00.0000000\", \"2019-08-19 05:00:00.0000000\", \"2019-08-19 06:00:00.0000000\", \"2019-08-19 07:00:00.0000000\", \"2019-08-19 08:00:00.0000000\", \"2019-08-19 09:00:00.0000000\", \"2019-08-19 10:00:00.0000000\", \"2019-08-19 11:00:00.0000000\", \"2019-08-19 12:00:00.0000000\", \"2019-08-19 13:00:00.0000000\", \"2019-08-19 14:00:00.0000000\", \"2019-08-19 15:00:00.0000000\", \"2019-08-19 16:00:00.0000000\", \"2019-08-19 17:00:00.0000000\", \"2019-08-19 18:00:00.0000000\", \"2019-08-19 19:00:00.0000000\", \"2019-08-19 23:00:00.0000000\", \"2019-08-20 05:00:00.0000000\", \"2019-08-20 06:00:00.0000000\", \"2019-08-20 07:00:00.0000000\", \"2019-08-20 08:00:00.0000000\", \"2019-08-20 09:00:00.0000000\", \"2019-08-20 10:00:00.0000000\", \"2019-08-20 11:00:00.0000000\", \"2019-08-20 12:00:00.0000000\", \"2019-08-20 13:00:00.0000000\", \"2019-08-20 14:00:00.0000000\", \"2019-08-20 15:00:00.0000000\", \"2019-08-20 16:00:00.0000000\", \"2019-08-20 17:00:00.0000000\", \"2019-08-20 18:00:00.0000000\", \"2019-08-20 19:00:00.0000000\", \"2019-08-20 23:00:00.0000000\", \"2019-08-21 04:00:00.0000000\", \"2019-08-21 05:00:00.0000000\", \"2019-08-21 06:00:00.0000000\", \"2019-08-21 07:00:00.0000000\", \"2019-08-21 08:00:00.0000000\", \"2019-08-21 09:00:00.0000000\", \"2019-08-21 10:00:00.0000000\", \"2019-08-21 11:00:00.0000000\", \"2019-08-21 12:00:00.0000000\", \"2019-08-21 13:00:00.0000000\", \"2019-08-21 14:00:00.0000000\", \"2019-08-21 15:00:00.0000000\", \"2019-08-21 16:00:00.0000000\", \"2019-08-21 17:00:00.0000000\", \"2019-08-21 18:00:00.0000000\", \"2019-08-21 19:00:00.0000000\", \"2019-08-21 23:00:00.0000000\", \"2019-08-22 00:00:00.0000000\", \"2019-08-22 04:00:00.0000000\", \"2019-08-22 05:00:00.0000000\", \"2019-08-22 06:00:00.0000000\", \"2019-08-22 07:00:00.0000000\", \"2019-08-22 08:00:00.0000000\", \"2019-08-22 09:00:00.0000000\", \"2019-08-22 10:00:00.0000000\", \"2019-08-22 11:00:00.0000000\", \"2019-08-22 12:00:00.0000000\", \"2019-08-22 13:00:00.0000000\", \"2019-08-22 14:00:00.0000000\", \"2019-08-22 15:00:00.0000000\", \"2019-08-22 16:00:00.0000000\", \"2019-08-22 17:00:00.0000000\", \"2019-08-22 18:00:00.0000000\", \"2019-08-22 19:00:00.0000000\", \"2019-08-22 23:00:00.0000000\", \"2019-08-23 00:00:00.0000000\", \"2019-08-23 04:00:00.0000000\", \"2019-08-23 05:00:00.0000000\", \"2019-08-23 06:00:00.0000000\", \"2019-08-23 07:00:00.0000000\", \"2019-08-23 08:00:00.0000000\", \"2019-08-23 09:00:00.0000000\", \"2019-08-23 10:00:00.0000000\", \"2019-08-23 11:00:00.0000000\", \"2019-08-23 12:00:00.0000000\", \"2019-08-23 13:00:00.0000000\", \"2019-08-23 14:00:00.0000000\", \"2019-08-23 15:00:00.0000000\", \"2019-08-23 16:00:00.0000000\", \"2019-08-23 17:00:00.0000000\", \"2019-08-23 18:00:00.0000000\", \"2019-08-23 23:00:00.0000000\", \"2019-08-24 06:00:00.0000000\", \"2019-08-24 07:00:00.0000000\", \"2019-08-24 08:00:00.0000000\", \"2019-08-24 09:00:00.0000000\", \"2019-08-24 10:00:00.0000000\", \"2019-08-24 12:00:00.0000000\", \"2019-08-24 13:00:00.0000000\", \"2019-08-24 14:00:00.0000000\", \"2019-08-24 15:00:00.0000000\", \"2019-08-24 17:00:00.0000000\", \"2019-08-24 18:00:00.0000000\", \"2019-08-25 00:00:00.0000000\", \"2019-08-25 05:00:00.0000000\", \"2019-08-25 07:00:00.0000000\", \"2019-08-25 08:00:00.0000000\", \"2019-08-25 09:00:00.0000000\", \"2019-08-25 10:00:00.0000000\", \"2019-08-25 11:00:00.0000000\", \"2019-08-25 12:00:00.0000000\", \"2019-08-25 13:00:00.0000000\", \"2019-08-25 14:00:00.0000000\", \"2019-08-25 15:00:00.0000000\", \"2019-08-25 16:00:00.0000000\", \"2019-08-26 00:00:00.0000000\", \"2019-08-26 01:00:00.0000000\", \"2019-08-26 04:00:00.0000000\", \"2019-08-26 05:00:00.0000000\", \"2019-08-26 06:00:00.0000000\", \"2019-08-26 07:00:00.0000000\", \"2019-08-26 08:00:00.0000000\", \"2019-08-26 09:00:00.0000000\", \"2019-08-26 10:00:00.0000000\", \"2019-08-26 11:00:00.0000000\", \"2019-08-26 12:00:00.0000000\", \"2019-08-26 13:00:00.0000000\", \"2019-08-26 14:00:00.0000000\", \"2019-08-26 15:00:00.0000000\", \"2019-08-26 16:00:00.0000000\", \"2019-08-26 17:00:00.0000000\", \"2019-08-26 18:00:00.0000000\", \"2019-08-26 19:00:00.0000000\", \"2019-08-26 23:00:00.0000000\", \"2019-08-27 04:00:00.0000000\", \"2019-08-27 05:00:00.0000000\", \"2019-08-27 06:00:00.0000000\", \"2019-08-27 07:00:00.0000000\", \"2019-08-27 08:00:00.0000000\", \"2019-08-27 09:00:00.0000000\", \"2019-08-27 10:00:00.0000000\", \"2019-08-27 11:00:00.0000000\", \"2019-08-27 12:00:00.0000000\", \"2019-08-27 13:00:00.0000000\", \"2019-08-27 14:00:00.0000000\", \"2019-08-27 15:00:00.0000000\", \"2019-08-27 16:00:00.0000000\", \"2019-08-27 17:00:00.0000000\", \"2019-08-27 18:00:00.0000000\", \"2019-08-27 19:00:00.0000000\", \"2019-08-27 20:00:00.0000000\", \"2019-08-28 00:00:00.0000000\", \"2019-08-28 04:00:00.0000000\", \"2019-08-28 05:00:00.0000000\", \"2019-08-28 06:00:00.0000000\", \"2019-08-28 07:00:00.0000000\", \"2019-08-28 08:00:00.0000000\", \"2019-08-28 09:00:00.0000000\", \"2019-08-28 10:00:00.0000000\", \"2019-08-28 11:00:00.0000000\", \"2019-08-28 12:00:00.0000000\", \"2019-08-28 13:00:00.0000000\", \"2019-08-28 14:00:00.0000000\", \"2019-08-28 15:00:00.0000000\", \"2019-08-28 16:00:00.0000000\", \"2019-08-28 17:00:00.0000000\", \"2019-08-28 18:00:00.0000000\", \"2019-08-28 19:00:00.0000000\", \"2019-08-28 20:00:00.0000000\", \"2019-08-28 21:00:00.0000000\", \"2019-08-28 23:00:00.0000000\", \"2019-08-29 04:00:00.0000000\", \"2019-08-29 05:00:00.0000000\", \"2019-08-29 06:00:00.0000000\", \"2019-08-29 07:00:00.0000000\", \"2019-08-29 08:00:00.0000000\", \"2019-08-29 09:00:00.0000000\", \"2019-08-29 10:00:00.0000000\", \"2019-08-29 11:00:00.0000000\", \"2019-08-29 12:00:00.0000000\", \"2019-08-29 13:00:00.0000000\", \"2019-08-29 14:00:00.0000000\", \"2019-08-29 15:00:00.0000000\", \"2019-08-29 16:00:00.0000000\", \"2019-08-29 17:00:00.0000000\", \"2019-08-29 18:00:00.0000000\", \"2019-08-29 19:00:00.0000000\", \"2019-08-29 20:00:00.0000000\", \"2019-08-29 23:00:00.0000000\", \"2019-08-30 04:00:00.0000000\", \"2019-08-30 05:00:00.0000000\", \"2019-08-30 06:00:00.0000000\", \"2019-08-30 07:00:00.0000000\", \"2019-08-30 08:00:00.0000000\", \"2019-08-30 09:00:00.0000000\", \"2019-08-30 10:00:00.0000000\", \"2019-08-30 11:00:00.0000000\", \"2019-08-30 12:00:00.0000000\", \"2019-08-30 13:00:00.0000000\", \"2019-08-30 14:00:00.0000000\", \"2019-08-30 15:00:00.0000000\", \"2019-08-30 16:00:00.0000000\", \"2019-08-30 20:00:00.0000000\", \"2019-08-30 21:00:00.0000000\", \"2019-08-30 22:00:00.0000000\", \"2019-08-30 23:00:00.0000000\", \"2019-08-31 05:00:00.0000000\", \"2019-08-31 06:00:00.0000000\", \"2019-08-31 07:00:00.0000000\", \"2019-08-31 08:00:00.0000000\", \"2019-08-31 09:00:00.0000000\", \"2019-08-31 10:00:00.0000000\", \"2019-08-31 11:00:00.0000000\", \"2019-08-31 13:00:00.0000000\", \"2019-08-31 14:00:00.0000000\", \"2019-08-31 15:00:00.0000000\", \"2019-08-31 16:00:00.0000000\", \"2019-08-31 17:00:00.0000000\", \"2019-08-31 18:00:00.0000000\", \"2019-08-31 23:00:00.0000000\", \"2019-09-01 06:00:00.0000000\", \"2019-09-01 07:00:00.0000000\", \"2019-09-01 08:00:00.0000000\", \"2019-09-01 09:00:00.0000000\", \"2019-09-01 10:00:00.0000000\", \"2019-09-01 11:00:00.0000000\", \"2019-09-01 12:00:00.0000000\", \"2019-09-01 13:00:00.0000000\", \"2019-09-01 14:00:00.0000000\", \"2019-09-01 15:00:00.0000000\", \"2019-09-01 16:00:00.0000000\", \"2019-09-01 17:00:00.0000000\", \"2019-09-01 18:00:00.0000000\", \"2019-09-01 19:00:00.0000000\", \"2019-09-01 20:00:00.0000000\", \"2019-09-01 21:00:00.0000000\", \"2019-09-02 04:00:00.0000000\", \"2019-09-02 05:00:00.0000000\", \"2019-09-02 06:00:00.0000000\", \"2019-09-02 07:00:00.0000000\", \"2019-09-02 08:00:00.0000000\", \"2019-09-02 09:00:00.0000000\", \"2019-09-02 10:00:00.0000000\", \"2019-09-02 11:00:00.0000000\", \"2019-09-02 12:00:00.0000000\", \"2019-09-02 13:00:00.0000000\", \"2019-09-02 14:00:00.0000000\", \"2019-09-02 15:00:00.0000000\", \"2019-09-02 16:00:00.0000000\", \"2019-09-02 17:00:00.0000000\", \"2019-09-02 18:00:00.0000000\", \"2019-09-02 19:00:00.0000000\", \"2019-09-02 20:00:00.0000000\", \"2019-09-02 23:00:00.0000000\", \"2019-09-03 04:00:00.0000000\", \"2019-09-03 05:00:00.0000000\", \"2019-09-03 06:00:00.0000000\", \"2019-09-03 07:00:00.0000000\", \"2019-09-03 08:00:00.0000000\", \"2019-09-03 09:00:00.0000000\", \"2019-09-03 10:00:00.0000000\", \"2019-09-03 11:00:00.0000000\", \"2019-09-03 12:00:00.0000000\", \"2019-09-03 13:00:00.0000000\", \"2019-09-03 14:00:00.0000000\", \"2019-09-03 15:00:00.0000000\", \"2019-09-03 16:00:00.0000000\", \"2019-09-03 17:00:00.0000000\", \"2019-09-03 18:00:00.0000000\", \"2019-09-03 19:00:00.0000000\", \"2019-09-03 23:00:00.0000000\", \"2019-09-04 04:00:00.0000000\", \"2019-09-04 05:00:00.0000000\", \"2019-09-04 06:00:00.0000000\", \"2019-09-04 07:00:00.0000000\", \"2019-09-04 08:00:00.0000000\", \"2019-09-04 09:00:00.0000000\", \"2019-09-04 10:00:00.0000000\", \"2019-09-04 11:00:00.0000000\", \"2019-09-04 12:00:00.0000000\", \"2019-09-04 13:00:00.0000000\", \"2019-09-04 14:00:00.0000000\", \"2019-09-04 15:00:00.0000000\", \"2019-09-04 16:00:00.0000000\", \"2019-09-04 17:00:00.0000000\", \"2019-09-04 18:00:00.0000000\", \"2019-09-04 19:00:00.0000000\", \"2019-09-04 20:00:00.0000000\", \"2019-09-04 23:00:00.0000000\", \"2019-09-05 04:00:00.0000000\", \"2019-09-05 05:00:00.0000000\", \"2019-09-05 06:00:00.0000000\", \"2019-09-05 07:00:00.0000000\", \"2019-09-05 08:00:00.0000000\", \"2019-09-05 09:00:00.0000000\", \"2019-09-05 10:00:00.0000000\", \"2019-09-05 11:00:00.0000000\", \"2019-09-05 12:00:00.0000000\", \"2019-09-05 13:00:00.0000000\", \"2019-09-05 14:00:00.0000000\", \"2019-09-05 15:00:00.0000000\", \"2019-09-05 16:00:00.0000000\", \"2019-09-05 17:00:00.0000000\", \"2019-09-05 18:00:00.0000000\", \"2019-09-05 19:00:00.0000000\", \"2019-09-05 20:00:00.0000000\", \"2019-09-06 04:00:00.0000000\", \"2019-09-06 05:00:00.0000000\", \"2019-09-06 06:00:00.0000000\", \"2019-09-06 07:00:00.0000000\", \"2019-09-06 08:00:00.0000000\", \"2019-09-06 09:00:00.0000000\", \"2019-09-06 10:00:00.0000000\", \"2019-09-06 11:00:00.0000000\", \"2019-09-06 12:00:00.0000000\", \"2019-09-06 13:00:00.0000000\", \"2019-09-06 14:00:00.0000000\", \"2019-09-06 15:00:00.0000000\", \"2019-09-06 16:00:00.0000000\", \"2019-09-06 17:00:00.0000000\", \"2019-09-06 18:00:00.0000000\", \"2019-09-06 23:00:00.0000000\", \"2019-09-07 04:00:00.0000000\", \"2019-09-07 05:00:00.0000000\", \"2019-09-07 06:00:00.0000000\", \"2019-09-07 07:00:00.0000000\", \"2019-09-07 08:00:00.0000000\", \"2019-09-07 09:00:00.0000000\", \"2019-09-07 10:00:00.0000000\", \"2019-09-07 11:00:00.0000000\", \"2019-09-07 12:00:00.0000000\", \"2019-09-07 13:00:00.0000000\", \"2019-09-07 14:00:00.0000000\", \"2019-09-07 15:00:00.0000000\", \"2019-09-07 16:00:00.0000000\", \"2019-09-07 17:00:00.0000000\", \"2019-09-07 18:00:00.0000000\", \"2019-09-07 20:00:00.0000000\", \"2019-09-07 21:00:00.0000000\", \"2019-09-07 22:00:00.0000000\", \"2019-09-07 23:00:00.0000000\", \"2019-09-08 00:00:00.0000000\", \"2019-09-08 02:00:00.0000000\", \"2019-09-08 05:00:00.0000000\", \"2019-09-08 06:00:00.0000000\", \"2019-09-08 07:00:00.0000000\", \"2019-09-08 08:00:00.0000000\", \"2019-09-08 09:00:00.0000000\", \"2019-09-08 10:00:00.0000000\", \"2019-09-08 11:00:00.0000000\", \"2019-09-08 12:00:00.0000000\", \"2019-09-08 13:00:00.0000000\", \"2019-09-08 14:00:00.0000000\", \"2019-09-08 15:00:00.0000000\", \"2019-09-08 16:00:00.0000000\", \"2019-09-08 17:00:00.0000000\", \"2019-09-08 18:00:00.0000000\", \"2019-09-08 19:00:00.0000000\", \"2019-09-08 20:00:00.0000000\", \"2019-09-08 23:00:00.0000000\", \"2019-09-09 04:00:00.0000000\", \"2019-09-09 05:00:00.0000000\", \"2019-09-09 06:00:00.0000000\", \"2019-09-09 07:00:00.0000000\", \"2019-09-09 08:00:00.0000000\", \"2019-09-09 09:00:00.0000000\", \"2019-09-09 10:00:00.0000000\", \"2019-09-09 11:00:00.0000000\", \"2019-09-09 12:00:00.0000000\", \"2019-09-09 13:00:00.0000000\", \"2019-09-09 14:00:00.0000000\", \"2019-09-09 15:00:00.0000000\", \"2019-09-09 16:00:00.0000000\", \"2019-09-09 17:00:00.0000000\", \"2019-09-09 18:00:00.0000000\", \"2019-09-09 19:00:00.0000000\", \"2019-09-09 20:00:00.0000000\", \"2019-09-09 21:00:00.0000000\", \"2019-09-09 23:00:00.0000000\", \"2019-09-10 03:00:00.0000000\", \"2019-09-10 04:00:00.0000000\", \"2019-09-10 05:00:00.0000000\", \"2019-09-10 06:00:00.0000000\", \"2019-09-10 07:00:00.0000000\", \"2019-09-10 08:00:00.0000000\", \"2019-09-10 09:00:00.0000000\", \"2019-09-10 10:00:00.0000000\", \"2019-09-10 11:00:00.0000000\", \"2019-09-10 12:00:00.0000000\", \"2019-09-10 13:00:00.0000000\", \"2019-09-10 14:00:00.0000000\", \"2019-09-10 15:00:00.0000000\", \"2019-09-10 16:00:00.0000000\", \"2019-09-10 17:00:00.0000000\", \"2019-09-10 18:00:00.0000000\", \"2019-09-10 19:00:00.0000000\", \"2019-09-10 20:00:00.0000000\", \"2019-09-10 23:00:00.0000000\", \"2019-09-11 04:00:00.0000000\", \"2019-09-11 05:00:00.0000000\", \"2019-09-11 06:00:00.0000000\", \"2019-09-11 07:00:00.0000000\", \"2019-09-11 08:00:00.0000000\", \"2019-09-11 09:00:00.0000000\", \"2019-09-11 10:00:00.0000000\", \"2019-09-11 11:00:00.0000000\", \"2019-09-11 12:00:00.0000000\", \"2019-09-11 13:00:00.0000000\", \"2019-09-11 14:00:00.0000000\", \"2019-09-11 15:00:00.0000000\", \"2019-09-11 16:00:00.0000000\", \"2019-09-11 17:00:00.0000000\", \"2019-09-11 18:00:00.0000000\", \"2019-09-11 19:00:00.0000000\", \"2019-09-11 20:00:00.0000000\", \"2019-09-11 23:00:00.0000000\", \"2019-09-12 04:00:00.0000000\", \"2019-09-12 05:00:00.0000000\", \"2019-09-12 06:00:00.0000000\", \"2019-09-12 07:00:00.0000000\", \"2019-09-12 08:00:00.0000000\", \"2019-09-12 09:00:00.0000000\", \"2019-09-12 10:00:00.0000000\", \"2019-09-12 11:00:00.0000000\", \"2019-09-12 12:00:00.0000000\", \"2019-09-12 13:00:00.0000000\", \"2019-09-12 14:00:00.0000000\", \"2019-09-12 15:00:00.0000000\", \"2019-09-12 16:00:00.0000000\", \"2019-09-12 17:00:00.0000000\", \"2019-09-12 18:00:00.0000000\", \"2019-09-12 19:00:00.0000000\", \"2019-09-12 20:00:00.0000000\", \"2019-09-13 00:00:00.0000000\", \"2019-09-13 04:00:00.0000000\", \"2019-09-13 05:00:00.0000000\", \"2019-09-13 06:00:00.0000000\", \"2019-09-13 07:00:00.0000000\", \"2019-09-13 08:00:00.0000000\", \"2019-09-13 09:00:00.0000000\", \"2019-09-13 10:00:00.0000000\", \"2019-09-13 11:00:00.0000000\", \"2019-09-13 12:00:00.0000000\", \"2019-09-13 13:00:00.0000000\", \"2019-09-13 14:00:00.0000000\", \"2019-09-13 15:00:00.0000000\", \"2019-09-13 16:00:00.0000000\", \"2019-09-13 17:00:00.0000000\", \"2019-09-13 18:00:00.0000000\", \"2019-09-13 23:00:00.0000000\", \"2019-09-14 06:00:00.0000000\", \"2019-09-14 07:00:00.0000000\", \"2019-09-14 08:00:00.0000000\", \"2019-09-14 09:00:00.0000000\", \"2019-09-14 10:00:00.0000000\", \"2019-09-14 11:00:00.0000000\", \"2019-09-14 12:00:00.0000000\", \"2019-09-14 13:00:00.0000000\", \"2019-09-14 14:00:00.0000000\", \"2019-09-14 15:00:00.0000000\", \"2019-09-14 16:00:00.0000000\", \"2019-09-14 17:00:00.0000000\", \"2019-09-14 18:00:00.0000000\", \"2019-09-14 21:00:00.0000000\", \"2019-09-14 22:00:00.0000000\", \"2019-09-14 23:00:00.0000000\", \"2019-09-15 06:00:00.0000000\", \"2019-09-15 07:00:00.0000000\", \"2019-09-15 08:00:00.0000000\", \"2019-09-15 09:00:00.0000000\", \"2019-09-15 10:00:00.0000000\", \"2019-09-15 11:00:00.0000000\", \"2019-09-15 12:00:00.0000000\", \"2019-09-15 13:00:00.0000000\", \"2019-09-15 14:00:00.0000000\", \"2019-09-15 15:00:00.0000000\", \"2019-09-15 16:00:00.0000000\", \"2019-09-15 17:00:00.0000000\", \"2019-09-15 18:00:00.0000000\", \"2019-09-15 19:00:00.0000000\", \"2019-09-15 20:00:00.0000000\", \"2019-09-15 21:00:00.0000000\", \"2019-09-16 04:00:00.0000000\", \"2019-09-16 05:00:00.0000000\", \"2019-09-16 06:00:00.0000000\", \"2019-09-16 07:00:00.0000000\", \"2019-09-16 08:00:00.0000000\", \"2019-09-16 09:00:00.0000000\", \"2019-09-16 10:00:00.0000000\", \"2019-09-16 11:00:00.0000000\", \"2019-09-16 12:00:00.0000000\", \"2019-09-16 13:00:00.0000000\", \"2019-09-16 14:00:00.0000000\", \"2019-09-16 15:00:00.0000000\", \"2019-09-16 16:00:00.0000000\", \"2019-09-16 17:00:00.0000000\", \"2019-09-16 18:00:00.0000000\", \"2019-09-16 19:00:00.0000000\", \"2019-09-16 20:00:00.0000000\", \"2019-09-17 16:00:00.0000000\", \"2019-09-17 17:00:00.0000000\", \"2019-09-17 18:00:00.0000000\", \"2019-09-17 19:00:00.0000000\", \"2019-09-17 23:00:00.0000000\", \"2019-09-18 04:00:00.0000000\", \"2019-09-18 05:00:00.0000000\", \"2019-09-18 06:00:00.0000000\", \"2019-09-18 07:00:00.0000000\", \"2019-09-18 08:00:00.0000000\", \"2019-09-18 09:00:00.0000000\", \"2019-09-18 10:00:00.0000000\", \"2019-09-18 11:00:00.0000000\", \"2019-09-18 12:00:00.0000000\", \"2019-09-18 13:00:00.0000000\", \"2019-09-18 14:00:00.0000000\", \"2019-09-18 15:00:00.0000000\", \"2019-09-18 16:00:00.0000000\", \"2019-09-18 17:00:00.0000000\", \"2019-09-18 18:00:00.0000000\", \"2019-09-18 19:00:00.0000000\", \"2019-09-18 21:00:00.0000000\", \"2019-09-18 22:00:00.0000000\", \"2019-09-18 23:00:00.0000000\", \"2019-09-19 00:00:00.0000000\", \"2019-09-19 04:00:00.0000000\", \"2019-09-19 05:00:00.0000000\", \"2019-09-19 06:00:00.0000000\", \"2019-09-19 07:00:00.0000000\", \"2019-09-19 08:00:00.0000000\", \"2019-09-19 09:00:00.0000000\", \"2019-09-19 10:00:00.0000000\", \"2019-09-19 11:00:00.0000000\", \"2019-09-19 12:00:00.0000000\", \"2019-09-19 13:00:00.0000000\", \"2019-09-19 14:00:00.0000000\", \"2019-09-19 15:00:00.0000000\", \"2019-09-19 16:00:00.0000000\", \"2019-09-19 17:00:00.0000000\", \"2019-09-19 18:00:00.0000000\", \"2019-09-19 19:00:00.0000000\", \"2019-09-19 20:00:00.0000000\", \"2019-09-19 21:00:00.0000000\", \"2019-09-19 22:00:00.0000000\", \"2019-09-20 04:00:00.0000000\", \"2019-09-20 05:00:00.0000000\", \"2019-09-20 06:00:00.0000000\", \"2019-09-20 07:00:00.0000000\", \"2019-09-20 08:00:00.0000000\", \"2019-09-20 09:00:00.0000000\", \"2019-09-20 10:00:00.0000000\", \"2019-09-20 11:00:00.0000000\", \"2019-09-20 12:00:00.0000000\", \"2019-09-20 13:00:00.0000000\", \"2019-09-20 14:00:00.0000000\", \"2019-09-20 15:00:00.0000000\", \"2019-09-20 16:00:00.0000000\", \"2019-09-20 17:00:00.0000000\", \"2019-09-20 18:00:00.0000000\", \"2019-09-20 19:00:00.0000000\", \"2019-09-20 21:00:00.0000000\", \"2019-09-20 23:00:00.0000000\", \"2019-09-21 05:00:00.0000000\", \"2019-09-21 06:00:00.0000000\", \"2019-09-21 07:00:00.0000000\", \"2019-09-21 08:00:00.0000000\", \"2019-09-21 09:00:00.0000000\", \"2019-09-21 10:00:00.0000000\", \"2019-09-21 11:00:00.0000000\", \"2019-09-21 12:00:00.0000000\", \"2019-09-21 13:00:00.0000000\", \"2019-09-21 14:00:00.0000000\", \"2019-09-21 15:00:00.0000000\", \"2019-09-21 16:00:00.0000000\", \"2019-09-21 17:00:00.0000000\", \"2019-09-21 18:00:00.0000000\", \"2019-09-21 19:00:00.0000000\", \"2019-09-21 23:00:00.0000000\", \"2019-09-22 05:00:00.0000000\", \"2019-09-22 06:00:00.0000000\", \"2019-09-22 07:00:00.0000000\", \"2019-09-22 08:00:00.0000000\", \"2019-09-22 09:00:00.0000000\", \"2019-09-22 10:00:00.0000000\", \"2019-09-22 11:00:00.0000000\", \"2019-09-22 12:00:00.0000000\", \"2019-09-22 13:00:00.0000000\", \"2019-09-22 14:00:00.0000000\", \"2019-09-22 15:00:00.0000000\", \"2019-09-22 16:00:00.0000000\", \"2019-09-22 17:00:00.0000000\", \"2019-09-22 18:00:00.0000000\", \"2019-09-22 19:00:00.0000000\", \"2019-09-22 20:00:00.0000000\", \"2019-09-22 23:00:00.0000000\", \"2019-09-23 04:00:00.0000000\", \"2019-09-23 05:00:00.0000000\", \"2019-09-23 06:00:00.0000000\", \"2019-09-23 07:00:00.0000000\", \"2019-09-23 08:00:00.0000000\", \"2019-09-23 09:00:00.0000000\", \"2019-09-23 10:00:00.0000000\", \"2019-09-23 11:00:00.0000000\", \"2019-09-23 12:00:00.0000000\", \"2019-09-23 13:00:00.0000000\", \"2019-09-23 14:00:00.0000000\", \"2019-09-23 15:00:00.0000000\", \"2019-09-23 16:00:00.0000000\", \"2019-09-23 17:00:00.0000000\", \"2019-09-23 18:00:00.0000000\", \"2019-09-23 19:00:00.0000000\", \"2019-09-23 20:00:00.0000000\", \"2019-09-24 00:00:00.0000000\", \"2019-09-24 04:00:00.0000000\", \"2019-09-24 05:00:00.0000000\", \"2019-09-24 06:00:00.0000000\", \"2019-09-24 07:00:00.0000000\", \"2019-09-24 08:00:00.0000000\", \"2019-09-24 09:00:00.0000000\", \"2019-09-24 10:00:00.0000000\", \"2019-09-24 11:00:00.0000000\", \"2019-09-24 12:00:00.0000000\", \"2019-09-24 13:00:00.0000000\", \"2019-09-24 14:00:00.0000000\", \"2019-09-24 15:00:00.0000000\", \"2019-09-24 16:00:00.0000000\", \"2019-09-24 17:00:00.0000000\", \"2019-09-24 18:00:00.0000000\", \"2019-09-24 19:00:00.0000000\", \"2019-09-24 20:00:00.0000000\", \"2019-09-24 23:00:00.0000000\", \"2019-09-25 00:00:00.0000000\", \"2019-09-25 04:00:00.0000000\", \"2019-09-25 05:00:00.0000000\", \"2019-09-25 06:00:00.0000000\", \"2019-09-25 07:00:00.0000000\", \"2019-09-25 08:00:00.0000000\", \"2019-09-25 09:00:00.0000000\", \"2019-09-25 10:00:00.0000000\", \"2019-09-25 11:00:00.0000000\", \"2019-09-25 12:00:00.0000000\", \"2019-09-25 13:00:00.0000000\", \"2019-09-25 14:00:00.0000000\", \"2019-09-25 15:00:00.0000000\", \"2019-09-25 16:00:00.0000000\", \"2019-09-25 17:00:00.0000000\", \"2019-09-25 18:00:00.0000000\", \"2019-09-25 19:00:00.0000000\", \"2019-09-25 20:00:00.0000000\", \"2019-09-26 00:00:00.0000000\", \"2019-09-26 01:00:00.0000000\", \"2019-09-26 02:00:00.0000000\", \"2019-09-26 03:00:00.0000000\", \"2019-09-26 04:00:00.0000000\", \"2019-09-26 05:00:00.0000000\", \"2019-09-26 06:00:00.0000000\", \"2019-09-26 07:00:00.0000000\", \"2019-09-26 08:00:00.0000000\", \"2019-09-26 09:00:00.0000000\", \"2019-09-26 10:00:00.0000000\", \"2019-09-26 11:00:00.0000000\", \"2019-09-26 12:00:00.0000000\", \"2019-09-26 13:00:00.0000000\", \"2019-09-26 14:00:00.0000000\", \"2019-09-26 15:00:00.0000000\", \"2019-09-26 16:00:00.0000000\", \"2019-09-26 17:00:00.0000000\", \"2019-09-26 18:00:00.0000000\", \"2019-09-26 19:00:00.0000000\", \"2019-09-26 20:00:00.0000000\", \"2019-09-26 23:00:00.0000000\", \"2019-09-27 00:00:00.0000000\", \"2019-09-27 04:00:00.0000000\", \"2019-09-27 05:00:00.0000000\", \"2019-09-27 06:00:00.0000000\", \"2019-09-27 07:00:00.0000000\", \"2019-09-27 08:00:00.0000000\", \"2019-09-27 09:00:00.0000000\", \"2019-09-27 10:00:00.0000000\", \"2019-09-27 11:00:00.0000000\", \"2019-09-27 12:00:00.0000000\", \"2019-09-27 13:00:00.0000000\", \"2019-09-27 14:00:00.0000000\", \"2019-09-27 15:00:00.0000000\", \"2019-09-27 16:00:00.0000000\", \"2019-09-27 17:00:00.0000000\", \"2019-09-27 18:00:00.0000000\", \"2019-09-27 19:00:00.0000000\", \"2019-09-27 23:00:00.0000000\", \"2019-09-28 00:00:00.0000000\", \"2019-09-28 01:00:00.0000000\", \"2019-09-28 04:00:00.0000000\", \"2019-09-28 06:00:00.0000000\", \"2019-09-28 07:00:00.0000000\", \"2019-09-28 08:00:00.0000000\", \"2019-09-28 09:00:00.0000000\", \"2019-09-28 10:00:00.0000000\", \"2019-09-28 11:00:00.0000000\", \"2019-09-28 12:00:00.0000000\", \"2019-09-28 13:00:00.0000000\", \"2019-09-28 14:00:00.0000000\", \"2019-09-28 15:00:00.0000000\", \"2019-09-28 16:00:00.0000000\", \"2019-09-28 17:00:00.0000000\", \"2019-09-28 18:00:00.0000000\", \"2019-09-29 00:00:00.0000000\", \"2019-09-29 04:00:00.0000000\", \"2019-09-29 06:00:00.0000000\", \"2019-09-29 07:00:00.0000000\", \"2019-09-29 08:00:00.0000000\", \"2019-09-29 09:00:00.0000000\", \"2019-09-29 10:00:00.0000000\", \"2019-09-29 11:00:00.0000000\", \"2019-09-29 12:00:00.0000000\", \"2019-09-29 13:00:00.0000000\", \"2019-09-29 14:00:00.0000000\", \"2019-09-29 15:00:00.0000000\", \"2019-09-29 16:00:00.0000000\", \"2019-09-29 17:00:00.0000000\", \"2019-09-29 18:00:00.0000000\", \"2019-09-29 19:00:00.0000000\", \"2019-09-29 20:00:00.0000000\", \"2019-09-29 21:00:00.0000000\", \"2019-09-29 22:00:00.0000000\", \"2019-09-29 23:00:00.0000000\", \"2019-09-30 00:00:00.0000000\", \"2019-09-30 01:00:00.0000000\", \"2019-09-30 02:00:00.0000000\", \"2019-09-30 03:00:00.0000000\", \"2019-09-30 04:00:00.0000000\", \"2019-09-30 05:00:00.0000000\", \"2019-09-30 06:00:00.0000000\", \"2019-09-30 07:00:00.0000000\", \"2019-09-30 08:00:00.0000000\", \"2019-09-30 09:00:00.0000000\", \"2019-09-30 10:00:00.0000000\", \"2019-09-30 11:00:00.0000000\", \"2019-09-30 12:00:00.0000000\", \"2019-09-30 13:00:00.0000000\", \"2019-09-30 14:00:00.0000000\", \"2019-09-30 15:00:00.0000000\", \"2019-09-30 16:00:00.0000000\", \"2019-09-30 17:00:00.0000000\", \"2019-09-30 18:00:00.0000000\", \"2019-09-30 19:00:00.0000000\", \"2019-09-30 20:00:00.0000000\", \"2019-09-30 21:00:00.0000000\", \"2019-09-30 22:00:00.0000000\", \"2019-09-30 23:00:00.0000000\", \"2019-10-01 00:00:00.0000000\", \"2019-10-01 01:00:00.0000000\", \"2019-10-01 03:00:00.0000000\", \"2019-10-01 04:00:00.0000000\", \"2019-10-01 05:00:00.0000000\", \"2019-10-01 06:00:00.0000000\", \"2019-10-01 07:00:00.0000000\", \"2019-10-01 08:00:00.0000000\", \"2019-10-01 09:00:00.0000000\", \"2019-10-01 10:00:00.0000000\", \"2019-10-01 11:00:00.0000000\", \"2019-10-01 12:00:00.0000000\", \"2019-10-01 13:00:00.0000000\", \"2019-10-01 14:00:00.0000000\", \"2019-10-01 15:00:00.0000000\", \"2019-10-01 16:00:00.0000000\", \"2019-10-01 17:00:00.0000000\", \"2019-10-01 18:00:00.0000000\", \"2019-10-01 19:00:00.0000000\", \"2019-10-01 20:00:00.0000000\", \"2019-10-02 00:00:00.0000000\", \"2019-10-02 01:00:00.0000000\", \"2019-10-02 04:00:00.0000000\", \"2019-10-02 05:00:00.0000000\", \"2019-10-02 06:00:00.0000000\", \"2019-10-02 07:00:00.0000000\", \"2019-10-02 08:00:00.0000000\", \"2019-10-02 09:00:00.0000000\", \"2019-10-02 10:00:00.0000000\", \"2019-10-02 11:00:00.0000000\", \"2019-10-02 12:00:00.0000000\", \"2019-10-02 13:00:00.0000000\", \"2019-10-02 14:00:00.0000000\", \"2019-10-02 15:00:00.0000000\", \"2019-10-02 16:00:00.0000000\", \"2019-10-02 17:00:00.0000000\", \"2019-10-02 18:00:00.0000000\", \"2019-10-02 19:00:00.0000000\", \"2019-10-02 21:00:00.0000000\", \"2019-10-03 04:00:00.0000000\", \"2019-10-03 05:00:00.0000000\", \"2019-10-03 06:00:00.0000000\", \"2019-10-03 07:00:00.0000000\", \"2019-10-03 08:00:00.0000000\", \"2019-10-03 09:00:00.0000000\", \"2019-10-03 10:00:00.0000000\", \"2019-10-03 11:00:00.0000000\", \"2019-10-03 12:00:00.0000000\", \"2019-10-03 13:00:00.0000000\", \"2019-10-03 14:00:00.0000000\", \"2019-10-03 15:00:00.0000000\", \"2019-10-03 16:00:00.0000000\", \"2019-10-03 17:00:00.0000000\", \"2019-10-03 18:00:00.0000000\", \"2019-10-03 19:00:00.0000000\", \"2019-10-03 20:00:00.0000000\", \"2019-10-03 23:00:00.0000000\", \"2019-10-04 04:00:00.0000000\", \"2019-10-04 05:00:00.0000000\", \"2019-10-04 06:00:00.0000000\", \"2019-10-04 07:00:00.0000000\", \"2019-10-04 08:00:00.0000000\", \"2019-10-04 09:00:00.0000000\", \"2019-10-04 10:00:00.0000000\", \"2019-10-04 11:00:00.0000000\", \"2019-10-04 12:00:00.0000000\", \"2019-10-04 13:00:00.0000000\", \"2019-10-04 14:00:00.0000000\", \"2019-10-04 15:00:00.0000000\", \"2019-10-04 16:00:00.0000000\", \"2019-10-04 17:00:00.0000000\", \"2019-10-04 18:00:00.0000000\", \"2019-10-04 19:00:00.0000000\", \"2019-10-05 00:00:00.0000000\", \"2019-10-05 05:00:00.0000000\", \"2019-10-05 06:00:00.0000000\", \"2019-10-05 07:00:00.0000000\", \"2019-10-05 08:00:00.0000000\", \"2019-10-05 09:00:00.0000000\", \"2019-10-05 10:00:00.0000000\", \"2019-10-05 11:00:00.0000000\", \"2019-10-05 12:00:00.0000000\", \"2019-10-05 13:00:00.0000000\", \"2019-10-05 14:00:00.0000000\", \"2019-10-05 16:00:00.0000000\", \"2019-10-05 17:00:00.0000000\", \"2019-10-05 18:00:00.0000000\", \"2019-10-05 19:00:00.0000000\", \"2019-10-05 21:00:00.0000000\", \"2019-10-05 23:00:00.0000000\", \"2019-10-06 03:00:00.0000000\", \"2019-10-06 05:00:00.0000000\", \"2019-10-06 06:00:00.0000000\", \"2019-10-06 07:00:00.0000000\", \"2019-10-06 08:00:00.0000000\", \"2019-10-06 09:00:00.0000000\", \"2019-10-06 10:00:00.0000000\", \"2019-10-06 11:00:00.0000000\", \"2019-10-06 12:00:00.0000000\", \"2019-10-06 13:00:00.0000000\", \"2019-10-06 14:00:00.0000000\", \"2019-10-06 15:00:00.0000000\", \"2019-10-06 16:00:00.0000000\", \"2019-10-06 17:00:00.0000000\", \"2019-10-06 18:00:00.0000000\", \"2019-10-06 19:00:00.0000000\", \"2019-10-06 20:00:00.0000000\", \"2019-10-06 21:00:00.0000000\", \"2019-10-07 03:00:00.0000000\", \"2019-10-07 04:00:00.0000000\", \"2019-10-07 05:00:00.0000000\", \"2019-10-07 06:00:00.0000000\", \"2019-10-07 07:00:00.0000000\", \"2019-10-07 08:00:00.0000000\", \"2019-10-07 09:00:00.0000000\", \"2019-10-07 10:00:00.0000000\", \"2019-10-07 11:00:00.0000000\", \"2019-10-07 12:00:00.0000000\", \"2019-10-07 13:00:00.0000000\", \"2019-10-07 14:00:00.0000000\", \"2019-10-07 15:00:00.0000000\", \"2019-10-07 16:00:00.0000000\", \"2019-10-07 17:00:00.0000000\", \"2019-10-07 18:00:00.0000000\", \"2019-10-07 19:00:00.0000000\", \"2019-10-07 20:00:00.0000000\", \"2019-10-07 21:00:00.0000000\", \"2019-10-07 22:00:00.0000000\", \"2019-10-08 04:00:00.0000000\", \"2019-10-08 05:00:00.0000000\", \"2019-10-08 06:00:00.0000000\", \"2019-10-08 07:00:00.0000000\", \"2019-10-08 08:00:00.0000000\", \"2019-10-08 09:00:00.0000000\", \"2019-10-08 10:00:00.0000000\", \"2019-10-08 11:00:00.0000000\", \"2019-10-08 12:00:00.0000000\", \"2019-10-08 13:00:00.0000000\", \"2019-10-08 14:00:00.0000000\", \"2019-10-08 15:00:00.0000000\", \"2019-10-08 16:00:00.0000000\", \"2019-10-08 17:00:00.0000000\", \"2019-10-08 18:00:00.0000000\", \"2019-10-08 19:00:00.0000000\", \"2019-10-08 23:00:00.0000000\", \"2019-10-09 04:00:00.0000000\", \"2019-10-09 05:00:00.0000000\", \"2019-10-09 06:00:00.0000000\", \"2019-10-09 07:00:00.0000000\", \"2019-10-09 08:00:00.0000000\", \"2019-10-09 09:00:00.0000000\", \"2019-10-09 10:00:00.0000000\", \"2019-10-09 11:00:00.0000000\", \"2019-10-09 12:00:00.0000000\", \"2019-10-09 13:00:00.0000000\", \"2019-10-09 14:00:00.0000000\", \"2019-10-09 15:00:00.0000000\", \"2019-10-09 16:00:00.0000000\", \"2019-10-09 17:00:00.0000000\", \"2019-10-09 18:00:00.0000000\", \"2019-10-09 19:00:00.0000000\", \"2019-10-09 20:00:00.0000000\", \"2019-10-09 21:00:00.0000000\", \"2019-10-09 22:00:00.0000000\", \"2019-10-10 04:00:00.0000000\", \"2019-10-10 05:00:00.0000000\", \"2019-10-10 06:00:00.0000000\", \"2019-10-10 07:00:00.0000000\", \"2019-10-10 08:00:00.0000000\", \"2019-10-10 09:00:00.0000000\", \"2019-10-10 10:00:00.0000000\", \"2019-10-10 11:00:00.0000000\", \"2019-10-10 12:00:00.0000000\", \"2019-10-11 07:00:00.0000000\", \"2019-10-11 08:00:00.0000000\", \"2019-10-11 09:00:00.0000000\", \"2019-10-11 10:00:00.0000000\", \"2019-10-11 11:00:00.0000000\", \"2019-10-11 12:00:00.0000000\", \"2019-10-11 13:00:00.0000000\", \"2019-10-11 14:00:00.0000000\", \"2019-10-11 15:00:00.0000000\", \"2019-10-11 16:00:00.0000000\", \"2019-10-11 17:00:00.0000000\", \"2019-10-11 21:00:00.0000000\", \"2019-10-12 06:00:00.0000000\", \"2019-10-12 07:00:00.0000000\", \"2019-10-12 08:00:00.0000000\", \"2019-10-12 09:00:00.0000000\", \"2019-10-12 10:00:00.0000000\", \"2019-10-12 11:00:00.0000000\", \"2019-10-12 12:00:00.0000000\", \"2019-10-12 13:00:00.0000000\", \"2019-10-12 14:00:00.0000000\", \"2019-10-12 15:00:00.0000000\", \"2019-10-12 16:00:00.0000000\", \"2019-10-12 17:00:00.0000000\", \"2019-10-12 18:00:00.0000000\", \"2019-10-12 22:00:00.0000000\", \"2019-10-12 23:00:00.0000000\", \"2019-10-13 00:00:00.0000000\", \"2019-10-13 01:00:00.0000000\", \"2019-10-13 06:00:00.0000000\", \"2019-10-13 07:00:00.0000000\", \"2019-10-13 08:00:00.0000000\", \"2019-10-13 09:00:00.0000000\", \"2019-10-13 10:00:00.0000000\", \"2019-10-13 11:00:00.0000000\", \"2019-10-13 12:00:00.0000000\", \"2019-10-13 13:00:00.0000000\", \"2019-10-13 14:00:00.0000000\", \"2019-10-13 15:00:00.0000000\", \"2019-10-13 16:00:00.0000000\", \"2019-10-13 17:00:00.0000000\", \"2019-10-13 18:00:00.0000000\", \"2019-10-13 19:00:00.0000000\", \"2019-10-13 20:00:00.0000000\", \"2019-10-13 21:00:00.0000000\", \"2019-10-13 23:00:00.0000000\", \"2019-10-14 04:00:00.0000000\", \"2019-10-14 05:00:00.0000000\", \"2019-10-14 06:00:00.0000000\", \"2019-10-14 07:00:00.0000000\", \"2019-10-14 08:00:00.0000000\", \"2019-10-14 09:00:00.0000000\", \"2019-10-14 10:00:00.0000000\", \"2019-10-14 11:00:00.0000000\", \"2019-10-14 12:00:00.0000000\", \"2019-10-14 13:00:00.0000000\", \"2019-10-14 14:00:00.0000000\", \"2019-10-14 15:00:00.0000000\", \"2019-10-14 16:00:00.0000000\", \"2019-10-14 17:00:00.0000000\", \"2019-10-14 18:00:00.0000000\", \"2019-10-14 19:00:00.0000000\", \"2019-10-14 21:00:00.0000000\", \"2019-10-14 23:00:00.0000000\", \"2019-10-15 04:00:00.0000000\", \"2019-10-15 05:00:00.0000000\", \"2019-10-15 06:00:00.0000000\", \"2019-10-15 07:00:00.0000000\", \"2019-10-15 08:00:00.0000000\", \"2019-10-15 09:00:00.0000000\", \"2019-10-15 10:00:00.0000000\", \"2019-10-15 11:00:00.0000000\", \"2019-10-15 12:00:00.0000000\", \"2019-10-15 13:00:00.0000000\", \"2019-10-15 14:00:00.0000000\", \"2019-10-15 15:00:00.0000000\", \"2019-10-15 16:00:00.0000000\", \"2019-10-15 17:00:00.0000000\", \"2019-10-15 18:00:00.0000000\", \"2019-10-15 19:00:00.0000000\", \"2019-10-15 20:00:00.0000000\", \"2019-10-15 22:00:00.0000000\", \"2019-10-15 23:00:00.0000000\", \"2019-10-16 04:00:00.0000000\", \"2019-10-16 05:00:00.0000000\", \"2019-10-16 06:00:00.0000000\", \"2019-10-16 07:00:00.0000000\", \"2019-10-16 08:00:00.0000000\", \"2019-10-16 09:00:00.0000000\", \"2019-10-16 10:00:00.0000000\", \"2019-10-16 11:00:00.0000000\", \"2019-10-16 12:00:00.0000000\", \"2019-10-16 13:00:00.0000000\", \"2019-10-16 14:00:00.0000000\", \"2019-10-16 15:00:00.0000000\", \"2019-10-16 16:00:00.0000000\", \"2019-10-16 17:00:00.0000000\", \"2019-10-16 18:00:00.0000000\", \"2019-10-16 19:00:00.0000000\", \"2019-10-16 20:00:00.0000000\", \"2019-10-16 22:00:00.0000000\", \"2019-10-16 23:00:00.0000000\", \"2019-10-17 00:00:00.0000000\", \"2019-10-17 02:00:00.0000000\", \"2019-10-17 04:00:00.0000000\", \"2019-10-17 05:00:00.0000000\", \"2019-10-17 06:00:00.0000000\", \"2019-10-17 07:00:00.0000000\", \"2019-10-17 08:00:00.0000000\", \"2019-10-17 09:00:00.0000000\", \"2019-10-17 10:00:00.0000000\", \"2019-10-17 11:00:00.0000000\", \"2019-10-17 12:00:00.0000000\", \"2019-10-17 13:00:00.0000000\", \"2019-10-17 14:00:00.0000000\", \"2019-10-17 15:00:00.0000000\", \"2019-10-17 16:00:00.0000000\", \"2019-10-17 17:00:00.0000000\", \"2019-10-17 18:00:00.0000000\", \"2019-10-17 19:00:00.0000000\", \"2019-10-17 20:00:00.0000000\", \"2019-10-18 00:00:00.0000000\", \"2019-10-18 04:00:00.0000000\", \"2019-10-18 05:00:00.0000000\", \"2019-10-18 06:00:00.0000000\", \"2019-10-18 07:00:00.0000000\", \"2019-10-18 08:00:00.0000000\", \"2019-10-18 09:00:00.0000000\", \"2019-10-18 10:00:00.0000000\", \"2019-10-18 11:00:00.0000000\", \"2019-10-18 12:00:00.0000000\", \"2019-10-18 13:00:00.0000000\", \"2019-10-18 14:00:00.0000000\", \"2019-10-18 15:00:00.0000000\", \"2019-10-18 16:00:00.0000000\", \"2019-10-18 17:00:00.0000000\", \"2019-10-18 18:00:00.0000000\", \"2019-10-18 19:00:00.0000000\", \"2019-10-19 00:00:00.0000000\", \"2019-10-19 06:00:00.0000000\", \"2019-10-19 07:00:00.0000000\", \"2019-10-19 08:00:00.0000000\", \"2019-10-19 09:00:00.0000000\", \"2019-10-19 10:00:00.0000000\", \"2019-10-19 11:00:00.0000000\", \"2019-10-19 12:00:00.0000000\", \"2019-10-19 13:00:00.0000000\", \"2019-10-19 14:00:00.0000000\", \"2019-10-19 15:00:00.0000000\", \"2019-10-19 16:00:00.0000000\", \"2019-10-19 18:00:00.0000000\", \"2019-10-19 23:00:00.0000000\", \"2019-10-20 06:00:00.0000000\", \"2019-10-20 07:00:00.0000000\", \"2019-10-20 08:00:00.0000000\", \"2019-10-20 09:00:00.0000000\", \"2019-10-20 10:00:00.0000000\", \"2019-10-20 11:00:00.0000000\", \"2019-10-20 12:00:00.0000000\", \"2019-10-20 13:00:00.0000000\", \"2019-10-20 14:00:00.0000000\", \"2019-10-20 15:00:00.0000000\", \"2019-10-20 16:00:00.0000000\", \"2019-10-20 17:00:00.0000000\", \"2019-10-20 18:00:00.0000000\", \"2019-10-20 19:00:00.0000000\", \"2019-10-20 20:00:00.0000000\", \"2019-10-20 21:00:00.0000000\", \"2019-10-21 04:00:00.0000000\", \"2019-10-21 05:00:00.0000000\", \"2019-10-21 06:00:00.0000000\", \"2019-10-21 07:00:00.0000000\", \"2019-10-21 08:00:00.0000000\", \"2019-10-21 09:00:00.0000000\", \"2019-10-21 10:00:00.0000000\", \"2019-10-21 11:00:00.0000000\", \"2019-10-21 12:00:00.0000000\", \"2019-10-21 13:00:00.0000000\", \"2019-10-21 14:00:00.0000000\", \"2019-10-21 15:00:00.0000000\", \"2019-10-21 16:00:00.0000000\", \"2019-10-21 17:00:00.0000000\", \"2019-10-21 18:00:00.0000000\", \"2019-10-21 19:00:00.0000000\", \"2019-10-21 20:00:00.0000000\", \"2019-10-21 23:00:00.0000000\", \"2019-10-22 04:00:00.0000000\", \"2019-10-22 05:00:00.0000000\", \"2019-10-22 06:00:00.0000000\", \"2019-10-22 07:00:00.0000000\", \"2019-10-22 08:00:00.0000000\", \"2019-10-22 09:00:00.0000000\", \"2019-10-22 10:00:00.0000000\", \"2019-10-22 11:00:00.0000000\", \"2019-10-22 12:00:00.0000000\", \"2019-10-22 13:00:00.0000000\", \"2019-10-22 14:00:00.0000000\", \"2019-10-22 15:00:00.0000000\", \"2019-10-22 16:00:00.0000000\", \"2019-10-22 17:00:00.0000000\", \"2019-10-22 18:00:00.0000000\", \"2019-10-22 19:00:00.0000000\", \"2019-10-22 20:00:00.0000000\", \"2019-10-22 21:00:00.0000000\", \"2019-10-22 23:00:00.0000000\", \"2019-10-23 04:00:00.0000000\", \"2019-10-23 05:00:00.0000000\", \"2019-10-23 06:00:00.0000000\", \"2019-10-23 07:00:00.0000000\", \"2019-10-23 08:00:00.0000000\", \"2019-10-23 09:00:00.0000000\", \"2019-10-23 10:00:00.0000000\", \"2019-10-23 11:00:00.0000000\", \"2019-10-23 12:00:00.0000000\", \"2019-10-23 13:00:00.0000000\", \"2019-10-23 14:00:00.0000000\", \"2019-10-23 15:00:00.0000000\", \"2019-10-23 16:00:00.0000000\", \"2019-10-23 17:00:00.0000000\", \"2019-10-23 18:00:00.0000000\", \"2019-10-23 19:00:00.0000000\", \"2019-10-23 20:00:00.0000000\", \"2019-10-23 23:00:00.0000000\", \"2019-10-24 00:00:00.0000000\", \"2019-10-24 01:00:00.0000000\", \"2019-10-24 02:00:00.0000000\", \"2019-10-24 04:00:00.0000000\", \"2019-10-24 05:00:00.0000000\", \"2019-10-24 06:00:00.0000000\", \"2019-10-24 07:00:00.0000000\", \"2019-10-24 08:00:00.0000000\", \"2019-10-24 09:00:00.0000000\", \"2019-10-24 10:00:00.0000000\", \"2019-10-24 11:00:00.0000000\", \"2019-10-24 12:00:00.0000000\", \"2019-10-24 13:00:00.0000000\", \"2019-10-24 14:00:00.0000000\", \"2019-10-24 15:00:00.0000000\", \"2019-10-24 16:00:00.0000000\", \"2019-10-24 17:00:00.0000000\", \"2019-10-24 18:00:00.0000000\", \"2019-10-24 19:00:00.0000000\", \"2019-10-24 20:00:00.0000000\", \"2019-10-24 21:00:00.0000000\", \"2019-10-24 22:00:00.0000000\", \"2019-10-24 23:00:00.0000000\", \"2019-10-25 04:00:00.0000000\", \"2019-10-25 05:00:00.0000000\", \"2019-10-25 06:00:00.0000000\", \"2019-10-25 07:00:00.0000000\", \"2019-10-25 08:00:00.0000000\", \"2019-10-25 09:00:00.0000000\", \"2019-10-25 10:00:00.0000000\", \"2019-10-25 11:00:00.0000000\", \"2019-10-25 12:00:00.0000000\", \"2019-10-25 13:00:00.0000000\", \"2019-10-25 14:00:00.0000000\", \"2019-10-25 15:00:00.0000000\", \"2019-10-25 16:00:00.0000000\", \"2019-10-25 17:00:00.0000000\", \"2019-10-25 18:00:00.0000000\", \"2019-10-25 19:00:00.0000000\", \"2019-10-25 23:00:00.0000000\", \"2019-10-26 00:00:00.0000000\", \"2019-10-26 02:00:00.0000000\", \"2019-10-26 06:00:00.0000000\", \"2019-10-26 07:00:00.0000000\", \"2019-10-26 08:00:00.0000000\", \"2019-10-26 09:00:00.0000000\", \"2019-10-26 10:00:00.0000000\", \"2019-10-26 11:00:00.0000000\", \"2019-10-26 12:00:00.0000000\", \"2019-10-26 13:00:00.0000000\", \"2019-10-26 14:00:00.0000000\", \"2019-10-26 15:00:00.0000000\", \"2019-10-26 16:00:00.0000000\", \"2019-10-26 17:00:00.0000000\", \"2019-10-26 23:00:00.0000000\", \"2019-10-27 01:00:00.0000000\", \"2019-10-27 07:00:00.0000000\", \"2019-10-27 08:00:00.0000000\", \"2019-10-27 09:00:00.0000000\", \"2019-10-27 10:00:00.0000000\", \"2019-10-27 11:00:00.0000000\", \"2019-10-27 12:00:00.0000000\", \"2019-10-27 13:00:00.0000000\", \"2019-10-27 14:00:00.0000000\", \"2019-10-27 15:00:00.0000000\", \"2019-10-27 16:00:00.0000000\", \"2019-10-27 17:00:00.0000000\", \"2019-10-27 18:00:00.0000000\", \"2019-10-27 19:00:00.0000000\", \"2019-10-27 20:00:00.0000000\", \"2019-10-27 21:00:00.0000000\", \"2019-10-27 23:00:00.0000000\", \"2019-10-28 01:00:00.0000000\", \"2019-10-28 05:00:00.0000000\", \"2019-10-28 06:00:00.0000000\", \"2019-10-28 07:00:00.0000000\", \"2019-10-28 08:00:00.0000000\", \"2019-10-28 09:00:00.0000000\", \"2019-10-28 10:00:00.0000000\", \"2019-10-28 11:00:00.0000000\", \"2019-10-28 12:00:00.0000000\", \"2019-10-28 13:00:00.0000000\", \"2019-10-28 14:00:00.0000000\", \"2019-10-28 15:00:00.0000000\", \"2019-10-28 16:00:00.0000000\", \"2019-10-28 17:00:00.0000000\", \"2019-10-28 18:00:00.0000000\", \"2019-10-28 19:00:00.0000000\", \"2019-10-28 20:00:00.0000000\", \"2019-10-28 23:00:00.0000000\", \"2019-10-29 00:00:00.0000000\", \"2019-10-29 05:00:00.0000000\", \"2019-10-29 06:00:00.0000000\", \"2019-10-29 07:00:00.0000000\", \"2019-10-29 08:00:00.0000000\", \"2019-10-29 09:00:00.0000000\", \"2019-10-29 10:00:00.0000000\", \"2019-10-29 11:00:00.0000000\", \"2019-10-29 12:00:00.0000000\", \"2019-10-29 13:00:00.0000000\", \"2019-10-29 14:00:00.0000000\", \"2019-10-29 15:00:00.0000000\", \"2019-10-29 16:00:00.0000000\", \"2019-10-29 17:00:00.0000000\", \"2019-10-29 18:00:00.0000000\", \"2019-10-29 19:00:00.0000000\", \"2019-10-29 20:00:00.0000000\", \"2019-10-29 21:00:00.0000000\", \"2019-10-29 23:00:00.0000000\", \"2019-10-30 01:00:00.0000000\", \"2019-10-30 05:00:00.0000000\", \"2019-10-30 06:00:00.0000000\", \"2019-10-30 07:00:00.0000000\", \"2019-10-30 08:00:00.0000000\", \"2019-10-30 09:00:00.0000000\", \"2019-10-30 10:00:00.0000000\", \"2019-10-30 11:00:00.0000000\", \"2019-10-30 12:00:00.0000000\", \"2019-10-30 13:00:00.0000000\", \"2019-10-30 14:00:00.0000000\", \"2019-10-30 15:00:00.0000000\", \"2019-10-30 16:00:00.0000000\", \"2019-10-30 17:00:00.0000000\", \"2019-10-30 18:00:00.0000000\", \"2019-10-30 19:00:00.0000000\", \"2019-10-30 20:00:00.0000000\", \"2019-10-30 21:00:00.0000000\", \"2019-10-30 22:00:00.0000000\", \"2019-10-31 05:00:00.0000000\", \"2019-10-31 06:00:00.0000000\", \"2019-10-31 07:00:00.0000000\", \"2019-10-31 08:00:00.0000000\", \"2019-10-31 09:00:00.0000000\", \"2019-10-31 10:00:00.0000000\", \"2019-10-31 11:00:00.0000000\", \"2019-10-31 12:00:00.0000000\", \"2019-10-31 13:00:00.0000000\", \"2019-10-31 14:00:00.0000000\", \"2019-10-31 15:00:00.0000000\", \"2019-10-31 16:00:00.0000000\", \"2019-10-31 17:00:00.0000000\", \"2019-10-31 18:00:00.0000000\", \"2019-10-31 19:00:00.0000000\", \"2019-10-31 20:00:00.0000000\", \"2019-10-31 21:00:00.0000000\", \"2019-11-01 01:00:00.0000000\", \"2019-11-01 05:00:00.0000000\", \"2019-11-01 06:00:00.0000000\", \"2019-11-01 07:00:00.0000000\", \"2019-11-01 08:00:00.0000000\", \"2019-11-01 09:00:00.0000000\", \"2019-11-01 10:00:00.0000000\", \"2019-11-01 11:00:00.0000000\", \"2019-11-01 12:00:00.0000000\", \"2019-11-01 13:00:00.0000000\", \"2019-11-01 14:00:00.0000000\", \"2019-11-01 15:00:00.0000000\", \"2019-11-01 16:00:00.0000000\", \"2019-11-01 17:00:00.0000000\", \"2019-11-01 18:00:00.0000000\", \"2019-11-01 19:00:00.0000000\", \"2019-11-01 21:00:00.0000000\", \"2019-11-02 01:00:00.0000000\", \"2019-11-02 04:00:00.0000000\", \"2019-11-02 07:00:00.0000000\", \"2019-11-02 08:00:00.0000000\", \"2019-11-02 09:00:00.0000000\", \"2019-11-02 10:00:00.0000000\", \"2019-11-02 11:00:00.0000000\", \"2019-11-02 12:00:00.0000000\", \"2019-11-02 13:00:00.0000000\", \"2019-11-02 14:00:00.0000000\", \"2019-11-02 15:00:00.0000000\", \"2019-11-02 16:00:00.0000000\", \"2019-11-03 00:00:00.0000000\", \"2019-11-03 04:00:00.0000000\", \"2019-11-03 06:00:00.0000000\", \"2019-11-03 07:00:00.0000000\", \"2019-11-03 08:00:00.0000000\", \"2019-11-03 09:00:00.0000000\", \"2019-11-03 10:00:00.0000000\", \"2019-11-03 11:00:00.0000000\", \"2019-11-03 12:00:00.0000000\", \"2019-11-03 13:00:00.0000000\", \"2019-11-03 14:00:00.0000000\", \"2019-11-03 15:00:00.0000000\", \"2019-11-03 16:00:00.0000000\", \"2019-11-03 17:00:00.0000000\", \"2019-11-03 18:00:00.0000000\", \"2019-11-03 19:00:00.0000000\", \"2019-11-03 20:00:00.0000000\", \"2019-11-03 21:00:00.0000000\", \"2019-11-04 01:00:00.0000000\", \"2019-11-04 04:00:00.0000000\", \"2019-11-04 05:00:00.0000000\", \"2019-11-04 06:00:00.0000000\", \"2019-11-04 07:00:00.0000000\", \"2019-11-04 08:00:00.0000000\", \"2019-11-04 09:00:00.0000000\", \"2019-11-04 10:00:00.0000000\", \"2019-11-04 11:00:00.0000000\", \"2019-11-04 12:00:00.0000000\", \"2019-11-04 13:00:00.0000000\", \"2019-11-04 14:00:00.0000000\", \"2019-11-04 15:00:00.0000000\", \"2019-11-04 16:00:00.0000000\", \"2019-11-04 17:00:00.0000000\", \"2019-11-04 18:00:00.0000000\", \"2019-11-04 19:00:00.0000000\", \"2019-11-04 20:00:00.0000000\", \"2019-11-04 21:00:00.0000000\", \"2019-11-04 22:00:00.0000000\", \"2019-11-05 00:00:00.0000000\", \"2019-11-05 04:00:00.0000000\", \"2019-11-05 05:00:00.0000000\", \"2019-11-05 06:00:00.0000000\", \"2019-11-05 07:00:00.0000000\", \"2019-11-05 08:00:00.0000000\", \"2019-11-05 09:00:00.0000000\", \"2019-11-05 10:00:00.0000000\", \"2019-11-05 11:00:00.0000000\", \"2019-11-05 12:00:00.0000000\", \"2019-11-05 13:00:00.0000000\", \"2019-11-05 14:00:00.0000000\", \"2019-11-05 15:00:00.0000000\", \"2019-11-05 16:00:00.0000000\", \"2019-11-05 17:00:00.0000000\", \"2019-11-05 18:00:00.0000000\", \"2019-11-05 19:00:00.0000000\", \"2019-11-05 20:00:00.0000000\", \"2019-11-05 21:00:00.0000000\", \"2019-11-05 22:00:00.0000000\", \"2019-11-06 04:00:00.0000000\", \"2019-11-06 05:00:00.0000000\", \"2019-11-06 06:00:00.0000000\", \"2019-11-06 07:00:00.0000000\", \"2019-11-06 08:00:00.0000000\", \"2019-11-06 09:00:00.0000000\", \"2019-11-06 10:00:00.0000000\", \"2019-11-06 11:00:00.0000000\", \"2019-11-06 12:00:00.0000000\", \"2019-11-06 13:00:00.0000000\", \"2019-11-06 14:00:00.0000000\", \"2019-11-06 15:00:00.0000000\", \"2019-11-06 16:00:00.0000000\", \"2019-11-06 17:00:00.0000000\", \"2019-11-06 18:00:00.0000000\", \"2019-11-06 19:00:00.0000000\", \"2019-11-06 20:00:00.0000000\", \"2019-11-07 00:00:00.0000000\", \"2019-11-07 01:00:00.0000000\", \"2019-11-07 05:00:00.0000000\", \"2019-11-07 06:00:00.0000000\", \"2019-11-07 07:00:00.0000000\", \"2019-11-07 08:00:00.0000000\", \"2019-11-07 09:00:00.0000000\", \"2019-11-07 10:00:00.0000000\", \"2019-11-07 11:00:00.0000000\", \"2019-11-07 12:00:00.0000000\", \"2019-11-07 13:00:00.0000000\", \"2019-11-07 14:00:00.0000000\", \"2019-11-07 15:00:00.0000000\", \"2019-11-07 16:00:00.0000000\", \"2019-11-07 17:00:00.0000000\", \"2019-11-07 18:00:00.0000000\", \"2019-11-07 19:00:00.0000000\", \"2019-11-07 20:00:00.0000000\", \"2019-11-07 22:00:00.0000000\", \"2019-11-08 01:00:00.0000000\", \"2019-11-08 05:00:00.0000000\", \"2019-11-08 06:00:00.0000000\", \"2019-11-08 07:00:00.0000000\", \"2019-11-08 08:00:00.0000000\", \"2019-11-08 09:00:00.0000000\", \"2019-11-08 10:00:00.0000000\", \"2019-11-08 11:00:00.0000000\", \"2019-11-08 12:00:00.0000000\", \"2019-11-08 13:00:00.0000000\", \"2019-11-08 14:00:00.0000000\", \"2019-11-08 15:00:00.0000000\", \"2019-11-08 16:00:00.0000000\", \"2019-11-08 17:00:00.0000000\", \"2019-11-08 18:00:00.0000000\", \"2019-11-08 19:00:00.0000000\", \"2019-11-09 01:00:00.0000000\", \"2019-11-09 02:00:00.0000000\", \"2019-11-09 06:00:00.0000000\", \"2019-11-09 07:00:00.0000000\", \"2019-11-09 08:00:00.0000000\", \"2019-11-09 09:00:00.0000000\", \"2019-11-09 10:00:00.0000000\", \"2019-11-09 11:00:00.0000000\", \"2019-11-09 12:00:00.0000000\", \"2019-11-09 13:00:00.0000000\", \"2019-11-09 14:00:00.0000000\", \"2019-11-09 15:00:00.0000000\", \"2019-11-09 16:00:00.0000000\", \"2019-11-09 17:00:00.0000000\", \"2019-11-09 19:00:00.0000000\", \"2019-11-09 21:00:00.0000000\", \"2019-11-10 01:00:00.0000000\", \"2019-11-10 07:00:00.0000000\", \"2019-11-10 08:00:00.0000000\", \"2019-11-10 09:00:00.0000000\", \"2019-11-10 10:00:00.0000000\", \"2019-11-10 11:00:00.0000000\", \"2019-11-10 12:00:00.0000000\", \"2019-11-10 13:00:00.0000000\", \"2019-11-10 14:00:00.0000000\", \"2019-11-10 15:00:00.0000000\", \"2019-11-10 16:00:00.0000000\", \"2019-11-10 17:00:00.0000000\", \"2019-11-10 18:00:00.0000000\", \"2019-11-10 19:00:00.0000000\", \"2019-11-10 20:00:00.0000000\", \"2019-11-10 21:00:00.0000000\", \"2019-11-11 01:00:00.0000000\", \"2019-11-11 05:00:00.0000000\", \"2019-11-11 06:00:00.0000000\", \"2019-11-11 07:00:00.0000000\", \"2019-11-11 08:00:00.0000000\", \"2019-11-11 09:00:00.0000000\", \"2019-11-11 10:00:00.0000000\", \"2019-11-11 11:00:00.0000000\", \"2019-11-11 12:00:00.0000000\", \"2019-11-11 13:00:00.0000000\", \"2019-11-11 14:00:00.0000000\", \"2019-11-11 15:00:00.0000000\", \"2019-11-11 16:00:00.0000000\", \"2019-11-11 17:00:00.0000000\", \"2019-11-11 18:00:00.0000000\", \"2019-11-11 19:00:00.0000000\", \"2019-11-11 20:00:00.0000000\", \"2019-11-11 21:00:00.0000000\", \"2019-11-12 00:00:00.0000000\", \"2019-11-12 01:00:00.0000000\", \"2019-11-12 05:00:00.0000000\", \"2019-11-12 06:00:00.0000000\", \"2019-11-12 07:00:00.0000000\", \"2019-11-12 08:00:00.0000000\", \"2019-11-12 09:00:00.0000000\", \"2019-11-12 10:00:00.0000000\", \"2019-11-12 11:00:00.0000000\", \"2019-11-12 12:00:00.0000000\", \"2019-11-12 13:00:00.0000000\", \"2019-11-12 14:00:00.0000000\", \"2019-11-12 15:00:00.0000000\", \"2019-11-12 16:00:00.0000000\", \"2019-11-12 17:00:00.0000000\", \"2019-11-12 18:00:00.0000000\", \"2019-11-12 19:00:00.0000000\", \"2019-11-12 20:00:00.0000000\", \"2019-11-12 22:00:00.0000000\", \"2019-11-13 00:00:00.0000000\", \"2019-11-13 01:00:00.0000000\", \"2019-11-13 05:00:00.0000000\", \"2019-11-13 06:00:00.0000000\", \"2019-11-13 07:00:00.0000000\", \"2019-11-13 08:00:00.0000000\", \"2019-11-13 09:00:00.0000000\", \"2019-11-13 10:00:00.0000000\", \"2019-11-13 11:00:00.0000000\", \"2019-11-13 12:00:00.0000000\", \"2019-11-13 13:00:00.0000000\", \"2019-11-13 14:00:00.0000000\", \"2019-11-13 15:00:00.0000000\", \"2019-11-13 16:00:00.0000000\", \"2019-11-13 17:00:00.0000000\", \"2019-11-13 18:00:00.0000000\", \"2019-11-13 19:00:00.0000000\", \"2019-11-13 20:00:00.0000000\", \"2019-11-13 23:00:00.0000000\", \"2019-11-14 00:00:00.0000000\", \"2019-11-14 05:00:00.0000000\", \"2019-11-14 06:00:00.0000000\", \"2019-11-14 07:00:00.0000000\", \"2019-11-14 08:00:00.0000000\", \"2019-11-14 09:00:00.0000000\", \"2019-11-14 10:00:00.0000000\", \"2019-11-14 11:00:00.0000000\", \"2019-11-14 12:00:00.0000000\", \"2019-11-14 13:00:00.0000000\", \"2019-11-14 14:00:00.0000000\", \"2019-11-14 15:00:00.0000000\", \"2019-11-14 16:00:00.0000000\", \"2019-11-14 17:00:00.0000000\", \"2019-11-14 18:00:00.0000000\", \"2019-11-14 19:00:00.0000000\", \"2019-11-14 20:00:00.0000000\", \"2019-11-14 22:00:00.0000000\", \"2019-11-14 23:00:00.0000000\", \"2019-11-15 03:00:00.0000000\", \"2019-11-15 05:00:00.0000000\", \"2019-11-15 06:00:00.0000000\", \"2019-11-15 07:00:00.0000000\", \"2019-11-15 08:00:00.0000000\", \"2019-11-15 09:00:00.0000000\", \"2019-11-15 10:00:00.0000000\", \"2019-11-15 11:00:00.0000000\", \"2019-11-15 12:00:00.0000000\", \"2019-11-15 13:00:00.0000000\", \"2019-11-15 14:00:00.0000000\", \"2019-11-15 15:00:00.0000000\", \"2019-11-15 16:00:00.0000000\", \"2019-11-15 17:00:00.0000000\", \"2019-11-15 18:00:00.0000000\", \"2019-11-15 19:00:00.0000000\", \"2019-11-15 22:00:00.0000000\", \"2019-11-16 07:00:00.0000000\", \"2019-11-16 08:00:00.0000000\", \"2019-11-16 09:00:00.0000000\", \"2019-11-16 10:00:00.0000000\", \"2019-11-16 11:00:00.0000000\", \"2019-11-16 12:00:00.0000000\", \"2019-11-16 13:00:00.0000000\", \"2019-11-16 14:00:00.0000000\", \"2019-11-16 15:00:00.0000000\", \"2019-11-16 16:00:00.0000000\", \"2019-11-16 17:00:00.0000000\", \"2019-11-16 18:00:00.0000000\", \"2019-11-16 19:00:00.0000000\", \"2019-11-16 20:00:00.0000000\", \"2019-11-17 00:00:00.0000000\", \"2019-11-17 03:00:00.0000000\", \"2019-11-17 07:00:00.0000000\", \"2019-11-17 08:00:00.0000000\", \"2019-11-17 09:00:00.0000000\", \"2019-11-17 10:00:00.0000000\", \"2019-11-17 11:00:00.0000000\", \"2019-11-17 12:00:00.0000000\", \"2019-11-17 13:00:00.0000000\", \"2019-11-17 14:00:00.0000000\", \"2019-11-17 15:00:00.0000000\", \"2019-11-17 16:00:00.0000000\", \"2019-11-17 17:00:00.0000000\", \"2019-11-17 18:00:00.0000000\", \"2019-11-17 19:00:00.0000000\", \"2019-11-17 20:00:00.0000000\", \"2019-11-17 22:00:00.0000000\", \"2019-11-18 00:00:00.0000000\", \"2019-11-18 01:00:00.0000000\", \"2019-11-18 05:00:00.0000000\", \"2019-11-18 06:00:00.0000000\", \"2019-11-18 07:00:00.0000000\", \"2019-11-18 08:00:00.0000000\", \"2019-11-18 09:00:00.0000000\", \"2019-11-18 10:00:00.0000000\", \"2019-11-18 11:00:00.0000000\", \"2019-11-18 12:00:00.0000000\", \"2019-11-18 13:00:00.0000000\", \"2019-11-18 14:00:00.0000000\", \"2019-11-18 15:00:00.0000000\", \"2019-11-18 16:00:00.0000000\", \"2019-11-18 17:00:00.0000000\", \"2019-11-18 18:00:00.0000000\", \"2019-11-18 19:00:00.0000000\", \"2019-11-18 20:00:00.0000000\", \"2019-11-18 21:00:00.0000000\", \"2019-11-19 00:00:00.0000000\", \"2019-11-19 05:00:00.0000000\", \"2019-11-19 06:00:00.0000000\", \"2019-11-19 07:00:00.0000000\", \"2019-11-19 08:00:00.0000000\", \"2019-11-19 09:00:00.0000000\", \"2019-11-19 10:00:00.0000000\", \"2019-11-19 11:00:00.0000000\", \"2019-11-19 12:00:00.0000000\", \"2019-11-19 13:00:00.0000000\", \"2019-11-19 14:00:00.0000000\", \"2019-11-19 15:00:00.0000000\", \"2019-11-19 16:00:00.0000000\", \"2019-11-19 17:00:00.0000000\", \"2019-11-19 18:00:00.0000000\", \"2019-11-19 19:00:00.0000000\", \"2019-11-19 20:00:00.0000000\", \"2019-11-19 21:00:00.0000000\", \"2019-11-19 22:00:00.0000000\", \"2019-11-19 23:00:00.0000000\", \"2019-11-20 00:00:00.0000000\", \"2019-11-20 01:00:00.0000000\", \"2019-11-20 02:00:00.0000000\", \"2019-11-20 04:00:00.0000000\", \"2019-11-20 05:00:00.0000000\", \"2019-11-20 06:00:00.0000000\", \"2019-11-20 07:00:00.0000000\", \"2019-11-20 08:00:00.0000000\", \"2019-11-20 09:00:00.0000000\", \"2019-11-20 10:00:00.0000000\", \"2019-11-20 11:00:00.0000000\", \"2019-11-20 12:00:00.0000000\", \"2019-11-20 13:00:00.0000000\", \"2019-11-20 14:00:00.0000000\", \"2019-11-20 15:00:00.0000000\", \"2019-11-20 16:00:00.0000000\", \"2019-11-20 17:00:00.0000000\", \"2019-11-20 18:00:00.0000000\", \"2019-11-20 19:00:00.0000000\", \"2019-11-20 20:00:00.0000000\", \"2019-11-20 21:00:00.0000000\", \"2019-11-21 02:00:00.0000000\", \"2019-11-21 03:00:00.0000000\", \"2019-11-21 04:00:00.0000000\", \"2019-11-21 05:00:00.0000000\", \"2019-11-21 06:00:00.0000000\", \"2019-11-21 07:00:00.0000000\", \"2019-11-21 08:00:00.0000000\", \"2019-11-21 09:00:00.0000000\", \"2019-11-21 10:00:00.0000000\", \"2019-11-21 11:00:00.0000000\", \"2019-11-21 12:00:00.0000000\", \"2019-11-21 13:00:00.0000000\", \"2019-11-21 14:00:00.0000000\", \"2019-11-21 15:00:00.0000000\", \"2019-11-21 16:00:00.0000000\", \"2019-11-21 17:00:00.0000000\", \"2019-11-21 18:00:00.0000000\", \"2019-11-21 19:00:00.0000000\", \"2019-11-21 20:00:00.0000000\", \"2019-11-22 00:00:00.0000000\", \"2019-11-22 02:00:00.0000000\", \"2019-11-22 05:00:00.0000000\", \"2019-11-22 06:00:00.0000000\", \"2019-11-22 07:00:00.0000000\", \"2019-11-22 08:00:00.0000000\", \"2019-11-22 09:00:00.0000000\", \"2019-11-22 10:00:00.0000000\", \"2019-11-22 11:00:00.0000000\", \"2019-11-22 12:00:00.0000000\", \"2019-11-22 13:00:00.0000000\", \"2019-11-22 14:00:00.0000000\", \"2019-11-22 15:00:00.0000000\", \"2019-11-22 16:00:00.0000000\", \"2019-11-22 17:00:00.0000000\", \"2019-11-22 18:00:00.0000000\", \"2019-11-22 19:00:00.0000000\", \"2019-11-22 20:00:00.0000000\", \"2019-11-23 00:00:00.0000000\", \"2019-11-23 06:00:00.0000000\", \"2019-11-23 07:00:00.0000000\", \"2019-11-23 08:00:00.0000000\", \"2019-11-23 09:00:00.0000000\", \"2019-11-23 10:00:00.0000000\", \"2019-11-23 11:00:00.0000000\", \"2019-11-23 12:00:00.0000000\", \"2019-11-23 13:00:00.0000000\", \"2019-11-23 14:00:00.0000000\", \"2019-11-23 15:00:00.0000000\", \"2019-11-23 16:00:00.0000000\", \"2019-11-23 17:00:00.0000000\", \"2019-11-23 18:00:00.0000000\", \"2019-11-23 19:00:00.0000000\", \"2019-11-24 00:00:00.0000000\", \"2019-11-24 01:00:00.0000000\", \"2019-11-24 06:00:00.0000000\", \"2019-11-24 07:00:00.0000000\", \"2019-11-24 08:00:00.0000000\", \"2019-11-24 09:00:00.0000000\", \"2019-11-24 10:00:00.0000000\", \"2019-11-24 11:00:00.0000000\", \"2019-11-24 12:00:00.0000000\", \"2019-11-24 13:00:00.0000000\", \"2019-11-24 14:00:00.0000000\", \"2019-11-24 15:00:00.0000000\", \"2019-11-24 16:00:00.0000000\", \"2019-11-24 17:00:00.0000000\", \"2019-11-24 18:00:00.0000000\", \"2019-11-24 19:00:00.0000000\", \"2019-11-24 20:00:00.0000000\", \"2019-11-24 21:00:00.0000000\", \"2019-11-25 01:00:00.0000000\", \"2019-11-25 05:00:00.0000000\", \"2019-11-25 06:00:00.0000000\", \"2019-11-25 07:00:00.0000000\", \"2019-11-25 08:00:00.0000000\", \"2019-11-25 09:00:00.0000000\", \"2019-11-25 10:00:00.0000000\", \"2019-11-25 11:00:00.0000000\", \"2019-11-25 12:00:00.0000000\", \"2019-11-25 13:00:00.0000000\", \"2019-11-25 14:00:00.0000000\", \"2019-11-25 15:00:00.0000000\", \"2019-11-25 16:00:00.0000000\", \"2019-11-25 17:00:00.0000000\", \"2019-11-25 18:00:00.0000000\", \"2019-11-25 19:00:00.0000000\", \"2019-11-25 20:00:00.0000000\", \"2019-11-25 21:00:00.0000000\", \"2019-11-26 00:00:00.0000000\", \"2019-11-26 05:00:00.0000000\", \"2019-11-26 06:00:00.0000000\", \"2019-11-26 07:00:00.0000000\", \"2019-11-26 08:00:00.0000000\", \"2019-11-26 09:00:00.0000000\", \"2019-11-26 10:00:00.0000000\", \"2019-11-26 11:00:00.0000000\", \"2019-11-26 12:00:00.0000000\", \"2019-11-26 13:00:00.0000000\", \"2019-11-26 14:00:00.0000000\", \"2019-11-26 15:00:00.0000000\", \"2019-11-26 16:00:00.0000000\", \"2019-11-26 17:00:00.0000000\", \"2019-11-26 18:00:00.0000000\", \"2019-11-26 19:00:00.0000000\", \"2019-11-26 20:00:00.0000000\", \"2019-11-26 22:00:00.0000000\", \"2019-11-27 00:00:00.0000000\", \"2019-11-27 05:00:00.0000000\", \"2019-11-27 06:00:00.0000000\", \"2019-11-27 07:00:00.0000000\", \"2019-11-27 08:00:00.0000000\", \"2019-11-27 09:00:00.0000000\", \"2019-11-27 10:00:00.0000000\", \"2019-11-27 11:00:00.0000000\", \"2019-11-27 12:00:00.0000000\", \"2019-11-27 13:00:00.0000000\", \"2019-11-27 14:00:00.0000000\", \"2019-11-27 15:00:00.0000000\", \"2019-11-27 16:00:00.0000000\", \"2019-11-27 17:00:00.0000000\", \"2019-11-27 18:00:00.0000000\", \"2019-11-27 19:00:00.0000000\", \"2019-11-27 20:00:00.0000000\", \"2019-11-28 00:00:00.0000000\", \"2019-11-28 05:00:00.0000000\", \"2019-11-28 06:00:00.0000000\", \"2019-11-28 07:00:00.0000000\", \"2019-11-28 08:00:00.0000000\", \"2019-11-28 09:00:00.0000000\", \"2019-11-28 10:00:00.0000000\", \"2019-11-28 11:00:00.0000000\", \"2019-11-28 12:00:00.0000000\", \"2019-11-28 13:00:00.0000000\", \"2019-11-28 14:00:00.0000000\", \"2019-11-28 15:00:00.0000000\", \"2019-11-28 16:00:00.0000000\", \"2019-11-28 17:00:00.0000000\", \"2019-11-28 18:00:00.0000000\", \"2019-11-28 19:00:00.0000000\", \"2019-11-28 20:00:00.0000000\", \"2019-11-28 21:00:00.0000000\", \"2019-11-28 22:00:00.0000000\", \"2019-11-29 05:00:00.0000000\", \"2019-11-29 06:00:00.0000000\", \"2019-11-29 07:00:00.0000000\", \"2019-11-29 08:00:00.0000000\", \"2019-11-29 09:00:00.0000000\", \"2019-11-29 10:00:00.0000000\", \"2019-11-29 11:00:00.0000000\", \"2019-11-29 12:00:00.0000000\", \"2019-11-29 13:00:00.0000000\", \"2019-11-29 14:00:00.0000000\", \"2019-11-29 15:00:00.0000000\", \"2019-11-29 16:00:00.0000000\", \"2019-11-29 17:00:00.0000000\", \"2019-11-29 18:00:00.0000000\", \"2019-11-29 19:00:00.0000000\", \"2019-11-29 22:00:00.0000000\", \"2019-11-30 05:00:00.0000000\", \"2019-11-30 07:00:00.0000000\", \"2019-11-30 08:00:00.0000000\", \"2019-11-30 09:00:00.0000000\", \"2019-11-30 10:00:00.0000000\", \"2019-11-30 11:00:00.0000000\", \"2019-11-30 12:00:00.0000000\", \"2019-11-30 13:00:00.0000000\", \"2019-11-30 14:00:00.0000000\", \"2019-11-30 15:00:00.0000000\", \"2019-11-30 16:00:00.0000000\", \"2019-11-30 17:00:00.0000000\", \"2019-11-30 18:00:00.0000000\", \"2019-11-30 19:00:00.0000000\", \"2019-11-30 20:00:00.0000000\", \"2019-12-01 00:00:00.0000000\", \"2019-12-01 05:00:00.0000000\", \"2019-12-01 07:00:00.0000000\", \"2019-12-01 08:00:00.0000000\", \"2019-12-01 09:00:00.0000000\", \"2019-12-01 10:00:00.0000000\", \"2019-12-01 11:00:00.0000000\", \"2019-12-01 12:00:00.0000000\", \"2019-12-01 13:00:00.0000000\", \"2019-12-01 14:00:00.0000000\", \"2019-12-01 15:00:00.0000000\", \"2019-12-01 16:00:00.0000000\", \"2019-12-01 17:00:00.0000000\", \"2019-12-01 18:00:00.0000000\", \"2019-12-01 19:00:00.0000000\", \"2019-12-01 20:00:00.0000000\", \"2019-12-02 00:00:00.0000000\", \"2019-12-02 05:00:00.0000000\", \"2019-12-02 06:00:00.0000000\", \"2019-12-02 07:00:00.0000000\", \"2019-12-02 08:00:00.0000000\", \"2019-12-02 09:00:00.0000000\", \"2019-12-02 10:00:00.0000000\", \"2019-12-02 11:00:00.0000000\", \"2019-12-02 12:00:00.0000000\", \"2019-12-02 13:00:00.0000000\", \"2019-12-02 14:00:00.0000000\", \"2019-12-02 15:00:00.0000000\", \"2019-12-02 16:00:00.0000000\", \"2019-12-02 17:00:00.0000000\", \"2019-12-02 18:00:00.0000000\", \"2019-12-02 19:00:00.0000000\", \"2019-12-02 20:00:00.0000000\", \"2019-12-03 00:00:00.0000000\", \"2019-12-03 04:00:00.0000000\", \"2019-12-03 05:00:00.0000000\", \"2019-12-03 06:00:00.0000000\", \"2019-12-03 07:00:00.0000000\", \"2019-12-03 08:00:00.0000000\", \"2019-12-03 09:00:00.0000000\", \"2019-12-03 10:00:00.0000000\", \"2019-12-03 11:00:00.0000000\", \"2019-12-03 12:00:00.0000000\", \"2019-12-03 13:00:00.0000000\", \"2019-12-03 14:00:00.0000000\", \"2019-12-03 15:00:00.0000000\", \"2019-12-03 16:00:00.0000000\", \"2019-12-03 17:00:00.0000000\", \"2019-12-03 18:00:00.0000000\", \"2019-12-03 19:00:00.0000000\", \"2019-12-03 20:00:00.0000000\", \"2019-12-04 01:00:00.0000000\", \"2019-12-04 04:00:00.0000000\", \"2019-12-04 05:00:00.0000000\", \"2019-12-04 06:00:00.0000000\", \"2019-12-04 07:00:00.0000000\", \"2019-12-04 08:00:00.0000000\", \"2019-12-04 09:00:00.0000000\", \"2019-12-04 10:00:00.0000000\", \"2019-12-04 11:00:00.0000000\", \"2019-12-04 12:00:00.0000000\", \"2019-12-04 13:00:00.0000000\", \"2019-12-04 14:00:00.0000000\", \"2019-12-04 15:00:00.0000000\", \"2019-12-04 16:00:00.0000000\", \"2019-12-04 17:00:00.0000000\", \"2019-12-04 18:00:00.0000000\", \"2019-12-04 19:00:00.0000000\", \"2019-12-04 20:00:00.0000000\", \"2019-12-04 21:00:00.0000000\", \"2019-12-05 01:00:00.0000000\", \"2019-12-05 05:00:00.0000000\", \"2019-12-05 06:00:00.0000000\", \"2019-12-05 07:00:00.0000000\", \"2019-12-05 08:00:00.0000000\", \"2019-12-05 09:00:00.0000000\", \"2019-12-05 10:00:00.0000000\", \"2019-12-05 11:00:00.0000000\", \"2019-12-05 12:00:00.0000000\", \"2019-12-05 13:00:00.0000000\", \"2019-12-05 14:00:00.0000000\", \"2019-12-05 15:00:00.0000000\", \"2019-12-05 16:00:00.0000000\", \"2019-12-05 17:00:00.0000000\", \"2019-12-05 18:00:00.0000000\", \"2019-12-05 19:00:00.0000000\", \"2019-12-05 20:00:00.0000000\", \"2019-12-05 21:00:00.0000000\", \"2019-12-06 05:00:00.0000000\", \"2019-12-06 06:00:00.0000000\", \"2019-12-06 07:00:00.0000000\", \"2019-12-06 08:00:00.0000000\", \"2019-12-06 09:00:00.0000000\", \"2019-12-06 10:00:00.0000000\", \"2019-12-06 11:00:00.0000000\", \"2019-12-06 12:00:00.0000000\", \"2019-12-06 13:00:00.0000000\", \"2019-12-06 14:00:00.0000000\", \"2019-12-06 15:00:00.0000000\", \"2019-12-06 16:00:00.0000000\", \"2019-12-06 17:00:00.0000000\", \"2019-12-06 18:00:00.0000000\", \"2019-12-06 19:00:00.0000000\", \"2019-12-06 20:00:00.0000000\", \"2019-12-06 21:00:00.0000000\", \"2019-12-07 00:00:00.0000000\", \"2019-12-07 07:00:00.0000000\", \"2019-12-07 08:00:00.0000000\", \"2019-12-07 09:00:00.0000000\", \"2019-12-07 10:00:00.0000000\", \"2019-12-07 11:00:00.0000000\", \"2019-12-07 12:00:00.0000000\", \"2019-12-07 13:00:00.0000000\", \"2019-12-07 14:00:00.0000000\", \"2019-12-07 15:00:00.0000000\", \"2019-12-07 16:00:00.0000000\", \"2019-12-07 17:00:00.0000000\", \"2019-12-07 18:00:00.0000000\", \"2019-12-07 19:00:00.0000000\", \"2019-12-07 20:00:00.0000000\", \"2019-12-07 21:00:00.0000000\", \"2019-12-07 22:00:00.0000000\", \"2019-12-08 00:00:00.0000000\", \"2019-12-08 01:00:00.0000000\", \"2019-12-08 02:00:00.0000000\", \"2019-12-08 03:00:00.0000000\", \"2019-12-08 04:00:00.0000000\", \"2019-12-08 05:00:00.0000000\", \"2019-12-08 06:00:00.0000000\", \"2019-12-08 07:00:00.0000000\", \"2019-12-08 08:00:00.0000000\", \"2019-12-08 09:00:00.0000000\", \"2019-12-08 10:00:00.0000000\", \"2019-12-08 11:00:00.0000000\", \"2019-12-08 12:00:00.0000000\", \"2019-12-08 13:00:00.0000000\", \"2019-12-08 14:00:00.0000000\", \"2019-12-08 15:00:00.0000000\", \"2019-12-08 16:00:00.0000000\", \"2019-12-08 17:00:00.0000000\", \"2019-12-08 18:00:00.0000000\", \"2019-12-08 19:00:00.0000000\", \"2019-12-08 20:00:00.0000000\", \"2019-12-08 21:00:00.0000000\", \"2019-12-08 22:00:00.0000000\", \"2019-12-08 23:00:00.0000000\", \"2019-12-09 05:00:00.0000000\", \"2019-12-09 06:00:00.0000000\", \"2019-12-09 07:00:00.0000000\", \"2019-12-09 08:00:00.0000000\", \"2019-12-09 09:00:00.0000000\", \"2019-12-09 10:00:00.0000000\", \"2019-12-09 11:00:00.0000000\", \"2019-12-09 12:00:00.0000000\", \"2019-12-09 13:00:00.0000000\", \"2019-12-09 14:00:00.0000000\", \"2019-12-09 15:00:00.0000000\", \"2019-12-09 16:00:00.0000000\", \"2019-12-09 17:00:00.0000000\", \"2019-12-09 18:00:00.0000000\", \"2019-12-09 19:00:00.0000000\", \"2019-12-09 20:00:00.0000000\", \"2019-12-09 21:00:00.0000000\", \"2019-12-09 23:00:00.0000000\", \"2019-12-10 00:00:00.0000000\", \"2019-12-10 02:00:00.0000000\", \"2019-12-10 05:00:00.0000000\", \"2019-12-10 06:00:00.0000000\", \"2019-12-10 07:00:00.0000000\", \"2019-12-10 08:00:00.0000000\", \"2019-12-10 09:00:00.0000000\", \"2019-12-10 10:00:00.0000000\", \"2019-12-10 11:00:00.0000000\", \"2019-12-10 12:00:00.0000000\", \"2019-12-10 13:00:00.0000000\", \"2019-12-10 14:00:00.0000000\", \"2019-12-10 15:00:00.0000000\", \"2019-12-10 16:00:00.0000000\", \"2019-12-10 17:00:00.0000000\", \"2019-12-10 18:00:00.0000000\", \"2019-12-10 19:00:00.0000000\", \"2019-12-10 20:00:00.0000000\", \"2019-12-11 00:00:00.0000000\", \"2019-12-11 02:00:00.0000000\", \"2019-12-11 05:00:00.0000000\", \"2019-12-11 06:00:00.0000000\", \"2019-12-11 07:00:00.0000000\", \"2019-12-11 08:00:00.0000000\", \"2019-12-11 09:00:00.0000000\", \"2019-12-11 10:00:00.0000000\", \"2019-12-11 11:00:00.0000000\", \"2019-12-11 12:00:00.0000000\", \"2019-12-11 13:00:00.0000000\", \"2019-12-11 14:00:00.0000000\", \"2019-12-11 15:00:00.0000000\", \"2019-12-11 16:00:00.0000000\", \"2019-12-11 17:00:00.0000000\", \"2019-12-11 18:00:00.0000000\", \"2019-12-11 19:00:00.0000000\", \"2019-12-11 20:00:00.0000000\", \"2019-12-11 21:00:00.0000000\", \"2019-12-12 02:00:00.0000000\", \"2019-12-12 05:00:00.0000000\", \"2019-12-12 06:00:00.0000000\", \"2019-12-12 07:00:00.0000000\", \"2019-12-12 08:00:00.0000000\", \"2019-12-12 09:00:00.0000000\", \"2019-12-12 10:00:00.0000000\", \"2019-12-12 11:00:00.0000000\", \"2019-12-12 12:00:00.0000000\", \"2019-12-12 13:00:00.0000000\", \"2019-12-12 14:00:00.0000000\", \"2019-12-12 15:00:00.0000000\", \"2019-12-12 16:00:00.0000000\", \"2019-12-12 17:00:00.0000000\", \"2019-12-12 18:00:00.0000000\", \"2019-12-12 19:00:00.0000000\", \"2019-12-12 20:00:00.0000000\", \"2019-12-12 21:00:00.0000000\", \"2019-12-13 00:00:00.0000000\", \"2019-12-13 02:00:00.0000000\", \"2019-12-13 05:00:00.0000000\", \"2019-12-13 06:00:00.0000000\", \"2019-12-13 07:00:00.0000000\", \"2019-12-13 08:00:00.0000000\", \"2019-12-13 09:00:00.0000000\", \"2019-12-13 10:00:00.0000000\", \"2019-12-13 11:00:00.0000000\", \"2019-12-13 12:00:00.0000000\", \"2019-12-13 13:00:00.0000000\", \"2019-12-13 14:00:00.0000000\", \"2019-12-13 15:00:00.0000000\", \"2019-12-13 16:00:00.0000000\", \"2019-12-13 17:00:00.0000000\", \"2019-12-13 18:00:00.0000000\", \"2019-12-13 19:00:00.0000000\", \"2019-12-14 01:00:00.0000000\", \"2019-12-14 02:00:00.0000000\", \"2019-12-14 07:00:00.0000000\", \"2019-12-14 08:00:00.0000000\", \"2019-12-14 09:00:00.0000000\", \"2019-12-14 10:00:00.0000000\", \"2019-12-14 11:00:00.0000000\", \"2019-12-14 12:00:00.0000000\", \"2019-12-14 13:00:00.0000000\", \"2019-12-14 14:00:00.0000000\", \"2019-12-14 15:00:00.0000000\", \"2019-12-14 16:00:00.0000000\", \"2019-12-14 17:00:00.0000000\", \"2019-12-14 18:00:00.0000000\", \"2019-12-14 19:00:00.0000000\", \"2019-12-15 00:00:00.0000000\", \"2019-12-15 02:00:00.0000000\", \"2019-12-15 08:00:00.0000000\", \"2019-12-15 09:00:00.0000000\", \"2019-12-15 10:00:00.0000000\", \"2019-12-15 11:00:00.0000000\", \"2019-12-15 12:00:00.0000000\", \"2019-12-15 13:00:00.0000000\", \"2019-12-15 14:00:00.0000000\", \"2019-12-15 15:00:00.0000000\", \"2019-12-15 16:00:00.0000000\", \"2019-12-15 17:00:00.0000000\", \"2019-12-15 18:00:00.0000000\", \"2019-12-15 19:00:00.0000000\", \"2019-12-15 20:00:00.0000000\", \"2019-12-15 21:00:00.0000000\", \"2019-12-16 01:00:00.0000000\", \"2019-12-16 02:00:00.0000000\", \"2019-12-16 05:00:00.0000000\", \"2019-12-16 06:00:00.0000000\", \"2019-12-16 07:00:00.0000000\", \"2019-12-16 08:00:00.0000000\", \"2019-12-16 09:00:00.0000000\", \"2019-12-16 10:00:00.0000000\", \"2019-12-16 11:00:00.0000000\", \"2019-12-16 12:00:00.0000000\", \"2019-12-16 13:00:00.0000000\", \"2019-12-16 14:00:00.0000000\", \"2019-12-16 15:00:00.0000000\", \"2019-12-16 16:00:00.0000000\", \"2019-12-16 17:00:00.0000000\", \"2019-12-16 18:00:00.0000000\", \"2019-12-16 19:00:00.0000000\", \"2019-12-16 20:00:00.0000000\", \"2019-12-16 21:00:00.0000000\", \"2019-12-16 22:00:00.0000000\", \"2019-12-17 02:00:00.0000000\", \"2019-12-17 05:00:00.0000000\", \"2019-12-17 06:00:00.0000000\", \"2019-12-17 07:00:00.0000000\", \"2019-12-17 08:00:00.0000000\", \"2019-12-17 09:00:00.0000000\", \"2019-12-17 10:00:00.0000000\", \"2019-12-17 11:00:00.0000000\", \"2019-12-17 12:00:00.0000000\", \"2019-12-17 13:00:00.0000000\", \"2019-12-17 14:00:00.0000000\", \"2019-12-17 15:00:00.0000000\", \"2019-12-17 16:00:00.0000000\", \"2019-12-17 17:00:00.0000000\", \"2019-12-17 18:00:00.0000000\", \"2019-12-17 19:00:00.0000000\", \"2019-12-17 20:00:00.0000000\", \"2019-12-17 21:00:00.0000000\", \"2019-12-17 22:00:00.0000000\", \"2019-12-18 01:00:00.0000000\", \"2019-12-18 02:00:00.0000000\", \"2019-12-18 05:00:00.0000000\", \"2019-12-18 06:00:00.0000000\", \"2019-12-18 07:00:00.0000000\", \"2019-12-18 08:00:00.0000000\", \"2019-12-18 09:00:00.0000000\", \"2019-12-18 10:00:00.0000000\", \"2019-12-18 11:00:00.0000000\", \"2019-12-18 12:00:00.0000000\", \"2019-12-18 13:00:00.0000000\", \"2019-12-18 14:00:00.0000000\", \"2019-12-18 15:00:00.0000000\", \"2019-12-18 16:00:00.0000000\", \"2019-12-18 17:00:00.0000000\", \"2019-12-18 18:00:00.0000000\", \"2019-12-18 19:00:00.0000000\", \"2019-12-18 20:00:00.0000000\", \"2019-12-18 21:00:00.0000000\", \"2019-12-18 22:00:00.0000000\", \"2019-12-19 02:00:00.0000000\", \"2019-12-19 04:00:00.0000000\", \"2019-12-19 05:00:00.0000000\", \"2019-12-19 06:00:00.0000000\", \"2019-12-19 07:00:00.0000000\", \"2019-12-19 08:00:00.0000000\", \"2019-12-19 09:00:00.0000000\", \"2019-12-19 10:00:00.0000000\", \"2019-12-19 11:00:00.0000000\", \"2019-12-19 12:00:00.0000000\", \"2019-12-19 13:00:00.0000000\", \"2019-12-19 14:00:00.0000000\", \"2019-12-19 15:00:00.0000000\", \"2019-12-19 16:00:00.0000000\", \"2019-12-19 17:00:00.0000000\", \"2019-12-19 18:00:00.0000000\", \"2019-12-19 19:00:00.0000000\", \"2019-12-19 20:00:00.0000000\", \"2019-12-19 21:00:00.0000000\", \"2019-12-20 00:00:00.0000000\", \"2019-12-20 02:00:00.0000000\", \"2019-12-20 05:00:00.0000000\", \"2019-12-20 06:00:00.0000000\", \"2019-12-20 07:00:00.0000000\", \"2019-12-20 08:00:00.0000000\", \"2019-12-20 09:00:00.0000000\", \"2019-12-20 10:00:00.0000000\", \"2019-12-20 11:00:00.0000000\", \"2019-12-20 12:00:00.0000000\", \"2019-12-20 13:00:00.0000000\", \"2019-12-20 14:00:00.0000000\", \"2019-12-20 15:00:00.0000000\", \"2019-12-20 16:00:00.0000000\", \"2019-12-20 17:00:00.0000000\", \"2019-12-20 18:00:00.0000000\", \"2019-12-20 19:00:00.0000000\", \"2019-12-20 20:00:00.0000000\", \"2019-12-20 22:00:00.0000000\", \"2019-12-21 02:00:00.0000000\", \"2019-12-21 07:00:00.0000000\", \"2019-12-21 08:00:00.0000000\", \"2019-12-21 09:00:00.0000000\", \"2019-12-21 10:00:00.0000000\", \"2019-12-21 11:00:00.0000000\", \"2019-12-21 12:00:00.0000000\", \"2019-12-21 13:00:00.0000000\", \"2019-12-21 14:00:00.0000000\", \"2019-12-21 15:00:00.0000000\", \"2019-12-21 16:00:00.0000000\", \"2019-12-21 17:00:00.0000000\", \"2019-12-21 18:00:00.0000000\", \"2019-12-21 19:00:00.0000000\", \"2019-12-22 00:00:00.0000000\", \"2019-12-22 01:00:00.0000000\", \"2019-12-22 07:00:00.0000000\", \"2019-12-22 08:00:00.0000000\", \"2019-12-22 09:00:00.0000000\", \"2019-12-22 10:00:00.0000000\", \"2019-12-22 11:00:00.0000000\", \"2019-12-22 12:00:00.0000000\", \"2019-12-22 13:00:00.0000000\", \"2019-12-22 14:00:00.0000000\", \"2019-12-22 15:00:00.0000000\", \"2019-12-22 16:00:00.0000000\", \"2019-12-22 17:00:00.0000000\", \"2019-12-22 18:00:00.0000000\", \"2019-12-22 19:00:00.0000000\", \"2019-12-22 20:00:00.0000000\", \"2019-12-22 21:00:00.0000000\", \"2019-12-23 00:00:00.0000000\", \"2019-12-23 05:00:00.0000000\", \"2019-12-23 06:00:00.0000000\", \"2019-12-23 07:00:00.0000000\", \"2019-12-23 08:00:00.0000000\", \"2019-12-23 09:00:00.0000000\", \"2019-12-23 10:00:00.0000000\", \"2019-12-23 11:00:00.0000000\", \"2019-12-23 12:00:00.0000000\", \"2019-12-23 13:00:00.0000000\", \"2019-12-23 14:00:00.0000000\", \"2019-12-23 15:00:00.0000000\", \"2019-12-23 16:00:00.0000000\", \"2019-12-23 17:00:00.0000000\", \"2019-12-23 18:00:00.0000000\", \"2019-12-23 19:00:00.0000000\", \"2019-12-23 20:00:00.0000000\", \"2019-12-23 22:00:00.0000000\", \"2019-12-24 00:00:00.0000000\", \"2019-12-24 20:00:00.0000000\", \"2019-12-25 08:00:00.0000000\", \"2019-12-25 09:00:00.0000000\", \"2019-12-25 10:00:00.0000000\", \"2019-12-25 11:00:00.0000000\", \"2019-12-25 12:00:00.0000000\", \"2019-12-25 13:00:00.0000000\", \"2019-12-25 14:00:00.0000000\", \"2019-12-25 15:00:00.0000000\", \"2019-12-25 16:00:00.0000000\", \"2019-12-25 17:00:00.0000000\", \"2019-12-26 00:00:00.0000000\", \"2019-12-26 08:00:00.0000000\", \"2019-12-26 09:00:00.0000000\", \"2019-12-26 10:00:00.0000000\", \"2019-12-26 11:00:00.0000000\", \"2019-12-26 12:00:00.0000000\", \"2019-12-26 13:00:00.0000000\", \"2019-12-26 14:00:00.0000000\", \"2019-12-26 15:00:00.0000000\", \"2019-12-26 16:00:00.0000000\", \"2019-12-26 17:00:00.0000000\", \"2019-12-27 00:00:00.0000000\", \"2019-12-27 05:00:00.0000000\", \"2019-12-27 06:00:00.0000000\", \"2019-12-27 09:00:00.0000000\", \"2019-12-27 10:00:00.0000000\", \"2019-12-27 11:00:00.0000000\", \"2019-12-27 12:00:00.0000000\", \"2019-12-27 13:00:00.0000000\", \"2019-12-27 14:00:00.0000000\", \"2019-12-27 15:00:00.0000000\", \"2019-12-27 16:00:00.0000000\", \"2019-12-27 17:00:00.0000000\", \"2019-12-27 18:00:00.0000000\", \"2019-12-27 20:00:00.0000000\", \"2019-12-27 22:00:00.0000000\", \"2019-12-28 07:00:00.0000000\", \"2019-12-28 08:00:00.0000000\", \"2019-12-28 09:00:00.0000000\", \"2019-12-28 10:00:00.0000000\", \"2019-12-28 11:00:00.0000000\", \"2019-12-28 12:00:00.0000000\", \"2019-12-28 13:00:00.0000000\", \"2019-12-28 14:00:00.0000000\", \"2019-12-28 15:00:00.0000000\", \"2019-12-28 16:00:00.0000000\", \"2019-12-28 17:00:00.0000000\", \"2019-12-28 18:00:00.0000000\", \"2019-12-28 19:00:00.0000000\", \"2019-12-29 01:00:00.0000000\", \"2019-12-29 06:00:00.0000000\", \"2019-12-29 07:00:00.0000000\", \"2019-12-29 08:00:00.0000000\", \"2019-12-29 09:00:00.0000000\", \"2019-12-29 10:00:00.0000000\", \"2019-12-29 11:00:00.0000000\", \"2019-12-29 12:00:00.0000000\", \"2019-12-29 13:00:00.0000000\", \"2019-12-29 14:00:00.0000000\", \"2019-12-29 15:00:00.0000000\", \"2019-12-29 16:00:00.0000000\", \"2019-12-29 17:00:00.0000000\", \"2019-12-29 18:00:00.0000000\", \"2019-12-29 19:00:00.0000000\", \"2019-12-29 22:00:00.0000000\", \"2019-12-30 02:00:00.0000000\", \"2019-12-30 03:00:00.0000000\", \"2019-12-30 04:00:00.0000000\", \"2019-12-30 05:00:00.0000000\", \"2019-12-30 06:00:00.0000000\", \"2019-12-30 07:00:00.0000000\", \"2019-12-30 08:00:00.0000000\", \"2019-12-30 09:00:00.0000000\", \"2019-12-30 10:00:00.0000000\", \"2019-12-30 11:00:00.0000000\", \"2019-12-30 12:00:00.0000000\", \"2019-12-30 13:00:00.0000000\", \"2019-12-30 14:00:00.0000000\", \"2019-12-30 15:00:00.0000000\", \"2019-12-30 16:00:00.0000000\", \"2019-12-30 17:00:00.0000000\", \"2019-12-30 18:00:00.0000000\", \"2019-12-30 19:00:00.0000000\", \"2019-12-30 20:00:00.0000000\", \"2019-12-30 21:00:00.0000000\", \"2019-12-30 23:00:00.0000000\"], \"xaxis\": \"x\", \"y\": [2.0, 4.0, 6.0, 39.0, 15.0, 2.0, 39.0, 4.0, 4.0, 2.0, 3.0, 3.0, 20.0, 23.0, 8.0, 18.0, 6.0, 16.0, 44.0, 4.0, 25.0, 23.0, 15.0, 19.0, 2.0, 2.0, 10.0, 7.0, 12.0, 4.0, 25.0, 52.0, 55.0, 23.0, 1.0, 54.0, 7.0, 29.0, 10.0, 8.0, 6.0, 29.0, 6.0, 34.0, 19.0, 26.0, 48.0, 12.0, 14.0, 38.0, 34.0, 26.0, 34.0, 6.0, 2.0, 9.0, 42.0, 16.0, 4.0, 22.0, 30.0, 21.0, 23.0, 8.0, 26.0, 14.0, 4.0, 5.0, 28.0, 1.0, 28.0, 46.0, 6.0, 12.0, 56.0, 7.0, 19.0, 42.0, 11.0, 2.0, 6.0, 26.0, 12.0, 7.0, 7.0, 6.0, 20.0, 50.0, 2.0, 48.0, 12.0, 80.0, 75.0, 23.0, 75.0, 3.0, 10.0, 1.0, 10.0, 2.0, 35.0, 17.0, 44.0, 38.0, 53.0, 55.0, 6.0, 27.0, 45.0, 65.0, 114.0, 4.0, 55.0, 28.0, 39.0, 2.0, 11.0, 6.0, 24.0, 32.0, 75.0, 4.0, 39.0, 64.0, 22.0, 35.0, 71.0, 42.0, 76.0, 56.0, 37.0, 48.0, 4.0, 3.0, 9.0, 22.0, 9.0, 32.0, 28.0, 19.0, 46.0, 65.0, 41.0, 34.0, 45.0, 65.0, 91.0, 5.0, 39.0, 46.0, 22.0, 19.0, 18.0, 50.0, 21.0, 31.0, 14.0, 100.0, 8.0, 34.0, 34.0, 51.0, 43.0, 46.0, 61.0, 8.0, 10.0, 19.0, 12.0, 5.0, 34.0, 57.0, 22.0, 39.0, 20.0, 18.0, 20.0, 34.0, 30.0, 10.0, 1.0, 7.0, 25.0, 51.0, 31.0, 16.0, 18.0, 3.0, 60.0, 20.0, 68.0, 40.0, 12.0, 4.0, 34.0, 3.0, 6.0, 14.0, 10.0, 31.0, 3.0, 7.0, 46.0, 26.0, 14.0, 40.0, 57.0, 90.0, 8.0, 36.0, 79.0, 59.0, 2.0, 8.0, 5.0, 1.0, 14.0, 8.0, 34.0, 33.0, 2.0, 82.0, 34.0, 45.0, 39.0, 25.0, 60.0, 67.0, 53.0, 58.0, 46.0, 45.0, 11.0, 1.0, 1.0, 6.0, 12.0, 12.0, 2.0, 14.0, 27.0, 59.0, 5.0, 66.0, 31.0, 31.0, 41.0, 58.0, 63.0, 48.0, 31.0, 32.0, 7.0, 14.0, 2.0, 7.0, 1.0, 12.0, 2.0, 13.0, 20.0, 39.0, 36.0, 51.0, 37.0, 12.0, 24.0, 75.0, 35.0, 71.0, 99.0, 39.0, 24.0, 29.0, 2.0, 12.0, 6.0, 30.0, 10.0, 12.0, 42.0, 60.0, 62.0, 26.0, 32.0, 54.0, 65.0, 44.0, 5.0, 16.0, 3.0, 13.0, 4.0, 17.0, 30.0, 52.0, 10.0, 41.0, 28.0, 40.0, 21.0, 38.0, 37.0, 22.0, 1.0, 11.0, 1.0, 1.0, 1.0, 3.0, 22.0, 19.0, 18.0, 50.0, 2.0, 21.0, 67.0, 26.0, 46.0, 39.0, 22.0, 5.0, 18.0, 4.0, 24.0, 16.0, 6.0, 26.0, 27.0, 49.0, 58.0, 45.0, 19.0, 89.0, 10.0, 61.0, 37.0, 108.0, 20.0, 53.0, 27.0, 9.0, 1.0, 1.0, 2.0, 17.0, 28.0, 52.0, 34.0, 46.0, 42.0, 87.0, 49.0, 8.0, 118.0, 8.0, 75.0, 93.0, 9.0, 37.0, 1.0, 21.0, 2.0, 30.0, 21.0, 4.0, 23.0, 52.0, 41.0, 70.0, 43.0, 31.0, 43.0, 40.0, 58.0, 68.0, 42.0, 26.0, 30.0, 2.0, 0.0, 1.0, 15.0, 3.0, 8.0, 7.0, 22.0, 35.0, 17.0, 68.0, 10.0, 52.0, 35.0, 14.0, 48.0, 43.0, 75.0, 63.0, 50.0, 27.0, 28.0, 0.0, 1.0, 12.0, 17.0, 18.0, 19.0, 38.0, 31.0, 44.0, 48.0, 6.0, 15.0, 55.0, 46.0, 51.0, 27.0, 15.0, 3.0, 7.0, 6.0, 1.0, 1.0, 14.0, 4.0, 41.0, 64.0, 30.0, 63.0, 23.0, 14.0, 49.0, 70.0, 18.0, 1.0, 2.0, 1.0, 7.0, 5.0, 2.0, 4.0, 33.0, 22.0, 51.0, 42.0, 4.0, 17.0, 54.0, 64.0, 19.0, 52.0, 30.0, 21.0, 20.0, 4.0, 41.0, 24.0, 51.0, 65.0, 12.0, 96.0, 15.0, 11.0, 141.0, 6.0, 72.0, 82.0, 43.0, 52.0, 15.0, 3.0, 18.0, 3.0, 24.0, 5.0, 54.0, 59.0, 29.0, 49.0, 39.0, 121.0, 55.0, 68.0, 40.0, 40.0, 30.0, 13.0, 17.0, 23.0, 39.0, 26.0, 42.0, 18.0, 43.0, 80.0, 1.0, 27.0, 69.0, 61.0, 135.0, 5.0, 53.0, 28.0, 10.0, 27.0, 1.0, 19.0, 18.0, 30.0, 52.0, 28.0, 54.0, 37.0, 17.0, 58.0, 42.0, 82.0, 32.0, 42.0, 32.0, 34.0, 9.0, 11.0, 31.0, 45.0, 29.0, 31.0, 44.0, 36.0, 65.0, 53.0, 7.0, 51.0, 83.0, 15.0, 37.0, 6.0, 13.0, 11.0, 3.0, 1.0, 14.0, 34.0, 33.0, 50.0, 44.0, 1.0, 39.0, 4.0, 29.0, 13.0, 11.0, 4.0, 19.0, 7.0, 18.0, 40.0, 46.0, 23.0, 22.0, 34.0, 52.0, 51.0, 36.0, 25.0, 2.0, 6.0, 12.0, 18.0, 4.0, 10.0, 8.0, 36.0, 28.0, 106.0, 1.0, 59.0, 2.0, 66.0, 85.0, 51.0, 77.0, 68.0, 18.0, 50.0, 0.0, 6.0, 32.0, 31.0, 18.0, 31.0, 35.0, 85.0, 27.0, 61.0, 38.0, 58.0, 61.0, 70.0, 87.0, 38.0, 46.0, 17.0, 19.0, 10.0, 5.0, 41.0, 6.0, 71.0, 2.0, 43.0, 13.0, 74.0, 79.0, 27.0, 62.0, 53.0, 58.0, 47.0, 46.0, 35.0, 25.0, 0.0, 2.0, 9.0, 11.0, 10.0, 13.0, 28.0, 29.0, 79.0, 20.0, 16.0, 71.0, 34.0, 118.0, 55.0, 31.0, 25.0, 33.0, 11.0, 11.0, 14.0, 39.0, 9.0, 2.0, 9.0, 39.0, 54.0, 35.0, 54.0, 14.0, 68.0, 48.0, 29.0, 38.0, 15.0, 11.0, 0.0, 11.0, 18.0, 7.0, 41.0, 84.0, 43.0, 26.0, 10.0, 23.0, 21.0, 29.0, 12.0, 32.0, 1.0, 3.0, 2.0, 2.0, 5.0, 15.0, 31.0, 6.0, 37.0, 25.0, 57.0, 2.0, 45.0, 61.0, 61.0, 53.0, 8.0, 38.0, 11.0, 5.0, 3.0, 19.0, 24.0, 47.0, 12.0, 55.0, 37.0, 40.0, 19.0, 23.0, 53.0, 98.0, 41.0, 48.0, 72.0, 50.0, 13.0, 3.0, 22.0, 18.0, 6.0, 10.0, 26.0, 57.0, 21.0, 90.0, 15.0, 48.0, 54.0, 74.0, 55.0, 48.0, 57.0, 27.0, 22.0, 2.0, 28.0, 3.0, 43.0, 32.0, 62.0, 47.0, 1.0, 56.0, 26.0, 53.0, 31.0, 60.0, 48.0, 74.0, 38.0, 53.0, 8.0, 14.0, 12.0, 2.0, 19.0, 13.0, 36.0, 41.0, 43.0, 53.0, 11.0, 100.0, 7.0, 35.0, 84.0, 31.0, 46.0, 8.0, 40.0, 3.0, 19.0, 30.0, 12.0, 3.0, 31.0, 52.0, 50.0, 51.0, 3.0, 45.0, 64.0, 40.0, 32.0, 20.0, 7.0, 6.0, 0.0, 4.0, 6.0, 15.0, 43.0, 65.0, 30.0, 34.0, 44.0, 25.0, 44.0, 61.0, 16.0, 14.0, 6.0, 10.0, 7.0, 5.0, 25.0, 20.0, 55.0, 24.0, 15.0, 38.0, 48.0, 29.0, 40.0, 38.0, 28.0, 5.0, 4.0, 0.0, 14.0, 11.0, 7.0, 16.0, 18.0, 3.0, 39.0, 73.0, 6.0, 33.0, 25.0, 65.0, 65.0, 55.0, 67.0, 76.0, 60.0, 6.0, 0.0, 19.0, 20.0, 2.0, 18.0, 23.0, 1.0, 28.0, 90.0, 29.0, 5.0, 33.0, 51.0, 85.0, 80.0, 59.0, 61.0, 72.0, 2.0, 0.0, 26.0, 2.0, 24.0, 65.0, 15.0, 32.0, 17.0, 59.0, 43.0, 24.0, 66.0, 59.0, 68.0, 96.0, 4.0, 15.0, 10.0, 0.0, 4.0, 9.0, 4.0, 18.0, 9.0, 22.0, 12.0, 38.0, 53.0, 46.0, 11.0, 48.0, 69.0, 52.0, 85.0, 25.0, 12.0, 39.0, 1.0, 1.0, 6.0, 15.0, 9.0, 18.0, 19.0, 16.0, 48.0, 85.0, 35.0, 8.0, 102.0, 55.0, 81.0, 12.0, 7.0, 26.0, 0.0, 3.0, 1.0, 3.0, 28.0, 15.0, 63.0, 47.0, 59.0, 23.0, 17.0, 20.0, 26.0, 65.0, 8.0, 10.0, 12.0, 37.0, 3.0, 28.0, 73.0, 56.0, 30.0, 35.0, 50.0, 11.0, 94.0, 2.0, 20.0, 3.0, 3.0, 1.0, 21.0, 20.0, 31.0, 1.0, 75.0, 7.0, 15.0, 37.0, 50.0, 41.0, 4.0, 57.0, 77.0, 35.0, 70.0, 57.0, 85.0, 16.0, 0.0, 3.0, 10.0, 27.0, 12.0, 30.0, 23.0, 31.0, 54.0, 48.0, 3.0, 19.0, 62.0, 53.0, 64.0, 91.0, 52.0, 45.0, 29.0, 0.0, 2.0, 26.0, 16.0, 14.0, 27.0, 47.0, 26.0, 35.0, 39.0, 16.0, 27.0, 66.0, 57.0, 74.0, 60.0, 34.0, 45.0, 9.0, 13.0, 0.0, 25.0, 15.0, 16.0, 5.0, 32.0, 34.0, 36.0, 31.0, 16.0, 37.0, 60.0, 66.0, 48.0, 66.0, 48.0, 14.0, 0.0, 12.0, 18.0, 3.0, 14.0, 31.0, 24.0, 40.0, 54.0, 43.0, 36.0, 17.0, 59.0, 50.0, 54.0, 24.0, 8.0, 2.0, 24.0, 3.0, 53.0, 91.0, 27.0, 58.0, 58.0, 14.0, 5.0, 40.0, 2.0, 22.0, 22.0, 4.0, 5.0, 21.0, 6.0, 27.0, 55.0, 11.0, 19.0, 15.0, 17.0, 23.0, 48.0, 18.0, 23.0, 60.0, 26.0, 11.0, 0.0, 22.0, 11.0, 2.0, 19.0, 11.0, 2.0, 38.0, 45.0, 44.0, 3.0, 52.0, 21.0, 83.0, 59.0, 58.0, 61.0, 42.0, 15.0, 5.0, 11.0, 7.0, 9.0, 11.0, 34.0, 24.0, 37.0, 23.0, 46.0, 5.0, 22.0, 41.0, 59.0, 66.0, 61.0, 56.0, 34.0, 28.0, 10.0, 4.0, 4.0, 61.0, 2.0, 16.0, 14.0, 26.0, 54.0, 48.0, 39.0, 5.0, 56.0, 60.0, 53.0, 52.0, 72.0, 20.0, 4.0, 16.0, 20.0, 5.0, 14.0, 8.0, 9.0, 13.0, 19.0, 53.0, 23.0, 23.0, 74.0, 6.0, 79.0, 85.0, 46.0, 20.0, 7.0, 7.0, 11.0, 39.0, 42.0, 62.0, 29.0, 14.0, 40.0, 65.0, 44.0, 38.0, 65.0, 33.0, 44.0, 23.0, 8.0, 2.0, 7.0, 0.0, 2.0, 10.0, 6.0, 15.0, 105.0, 4.0, 49.0, 71.0, 6.0, 28.0, 34.0, 41.0, 5.0, 0.0, 8.0, 4.0, 27.0, 16.0, 69.0, 18.0, 21.0, 13.0, 33.0, 27.0, 53.0, 26.0, 46.0, 15.0, 2.0, 10.0, 9.0, 24.0, 92.0, 24.0, 7.0, 27.0, 80.0, 33.0, 25.0, 41.0, 109.0, 24.0, 82.0, 46.0, 28.0, 31.0, 5.0, 0.0, 25.0, 12.0, 37.0, 36.0, 31.0, 29.0, 55.0, 48.0, 30.0, 19.0, 14.0, 56.0, 56.0, 94.0, 56.0, 39.0, 11.0, 19.0, 2.0, 0.0, 6.0, 37.0, 13.0, 29.0, 51.0, 57.0, 42.0, 62.0, 47.0, 39.0, 53.0, 56.0, 70.0, 38.0, 66.0, 27.0, 31.0, 3.0, 27.0, 1.0, 14.0, 11.0, 42.0, 43.0, 43.0, 10.0, 45.0, 61.0, 98.0, 49.0, 38.0, 56.0, 4.0, 1.0, 21.0, 27.0, 24.0, 28.0, 90.0, 25.0, 39.0, 44.0, 53.0, 60.0, 66.0, 76.0, 12.0, 2.0, 24.0, 3.0, 4.0, 8.0, 18.0, 3.0, 44.0, 62.0, 26.0, 35.0, 23.0, 20.0, 25.0, 33.0, 24.0, 10.0, 6.0, 2.0, 6.0, 3.0, 8.0, 17.0, 1.0, 12.0, 55.0, 11.0, 20.0, 10.0, 42.0, 28.0, 31.0, 90.0, 26.0, 34.0, 4.0, 13.0, 19.0, 16.0, 18.0, 47.0, 8.0, 47.0, 57.0, 47.0, 23.0, 49.0, 98.0, 12.0, 67.0, 28.0, 37.0, 15.0, 9.0, 11.0, 20.0, 21.0, 21.0, 59.0, 34.0, 46.0, 39.0, 3.0, 22.0, 69.0, 96.0, 81.0, 60.0, 37.0, 63.0, 13.0, 14.0, 12.0, 2.0, 28.0, 36.0, 73.0, 45.0, 47.0, 51.0, 58.0, 36.0, 60.0, 55.0, 61.0, 63.0, 70.0, 25.0, 9.0, 1.0, 11.0, 24.0, 31.0, 19.0, 41.0, 41.0, 14.0, 56.0, 59.0, 76.0, 64.0, 41.0, 42.0, 2.0, 38.0, 52.0, 25.0, 40.0, 28.0, 39.0, 55.0, 8.0, 33.0, 71.0, 48.0, 47.0, 36.0, 38.0, 12.0, 0.0, 4.0, 4.0, 18.0, 46.0, 55.0, 57.0, 67.0, 22.0, 46.0, 27.0, 26.0, 12.0, 3.0, 9.0, 3.0, 3.0, 4.0, 30.0, 23.0, 47.0, 16.0, 23.0, 23.0, 59.0, 29.0, 40.0, 29.0, 15.0, 29.0, 2.0, 13.0, 43.0, 7.0, 27.0, 35.0, 3.0, 40.0, 63.0, 42.0, 11.0, 42.0, 66.0, 54.0, 59.0, 1.0, 59.0, 8.0, 23.0, 4.0, 35.0, 27.0, 50.0, 18.0, 57.0, 67.0, 19.0, 25.0, 34.0, 49.0, 75.0, 74.0, 34.0, 31.0, 20.0, 8.0, 32.0, 8.0, 38.0, 35.0, 60.0, 49.0, 37.0, 34.0, 33.0, 68.0, 49.0, 69.0, 65.0, 25.0, 38.0, 9.0, 20.0, 3.0, 11.0, 19.0, 38.0, 2.0, 31.0, 81.0, 5.0, 18.0, 47.0, 79.0, 32.0, 37.0, 19.0, 29.0, 10.0, 10.0, 0.0, 0.0, 0.0, 13.0, 36.0, 2.0, 27.0, 53.0, 3.0, 28.0, 99.0, 38.0, 30.0, 38.0, 35.0, 32.0, 22.0, 14.0, 34.0, 27.0, 4.0, 101.0, 39.0, 46.0, 12.0, 10.0, 25.0, 13.0, 42.0, 11.0, 4.0, 2.0, 9.0, 0.0, 10.0, 0.0, 0.0, 0.0, 0.0, 0.0, 4.0, 0.0, 12.0, 14.0, 10.0, 30.0, 13.0, 24.0, 2.0, 39.0, 41.0, 47.0, 68.0, 2.0, 4.0, 1.0, 12.0, 4.0, 17.0, 34.0, 25.0, 2.0, 15.0, 34.0, 15.0, 23.0, 4.0, 66.0, 62.0, 25.0, 55.0, 64.0, 49.0, 11.0, 11.0, 2.0, 8.0, 39.0, 36.0, 15.0, 54.0, 38.0, 52.0, 25.0, 19.0, 64.0, 77.0, 69.0, 69.0, 73.0, 45.0, 12.0, 16.0, 6.0, 33.0, 9.0, 25.0, 28.0, 19.0, 38.0, 42.0, 32.0, 12.0, 57.0, 102.0, 30.0, 65.0, 51.0, 42.0, 2.0, 0.0, 5.0, 6.0, 2.0, 21.0, 23.0, 4.0, 27.0, 19.0, 42.0, 18.0, 11.0, 43.0, 73.0, 45.0, 34.0, 58.0, 39.0, 35.0, 18.0, 5.0, 24.0, 31.0, 28.0, 22.0, 25.0, 42.0, 48.0, 26.0, 57.0, 17.0, 57.0, 41.0, 46.0, 2.0, 4.0, 14.0, 11.0, 5.0, 35.0, 36.0, 47.0, 51.0, 64.0, 6.0, 32.0, 29.0, 0.0, 37.0, 5.0, 19.0, 20.0, 1.0, 14.0, 23.0, 18.0, 19.0, 32.0, 37.0, 72.0, 7.0, 24.0, 54.0, 3.0, 2.0, 18.0, 5.0, 35.0, 35.0, 30.0, 46.0, 16.0, 59.0, 67.0, 11.0, 49.0, 58.0, 91.0, 76.0, 7.0, 63.0, 14.0, 6.0, 27.0, 5.0, 24.0, 46.0, 9.0, 42.0, 61.0, 79.0, 21.0, 41.0, 9.0, 82.0, 59.0, 77.0, 48.0, 52.0, 23.0, 20.0, 2.0, 29.0, 36.0, 15.0, 91.0, 19.0, 59.0, 32.0, 17.0, 58.0, 83.0, 52.0, 44.0, 70.0, 31.0, 9.0, 5.0, 18.0, 1.0, 25.0, 18.0, 28.0, 24.0, 23.0, 43.0, 20.0, 9.0, 31.0, 62.0, 31.0, 54.0, 37.0, 25.0, 40.0, 0.0, 0.0, 11.0, 0.0, 0.0, 0.0, 0.0, 3.0, 26.0, 36.0, 58.0, 4.0, 45.0, 20.0, 54.0, 35.0, 4.0, 70.0, 49.0, 38.0, 12.0, 19.0, 2.0, 6.0, 4.0, 0.0, 2.0, 29.0, 1.0, 43.0, 45.0, 34.0, 57.0, 19.0, 3.0, 27.0, 7.0, 13.0, 3.0, 13.0, 7.0, 2.0, 6.0, 0.0, 37.0, 38.0, 7.0, 25.0, 32.0, 14.0, 53.0, 25.0, 20.0, 39.0, 14.0, 14.0, 15.0, 17.0, 2.0, 5.0, 6.0, 30.0, 25.0, 12.0, 22.0, 48.0, 2.0, 18.0, 42.0, 13.0, 28.0, 48.0, 36.0, 88.0, 1.0, 13.0, 13.0, 27.0, 2.0, 20.0, 21.0, 15.0, 42.0, 46.0, 18.0, 9.0, 6.0, 42.0, 44.0, 85.0, 53.0, 63.0, 6.0, 11.0, 15.0, 22.0, 13.0, 2.0, 14.0, 23.0, 25.0, 11.0, 45.0, 12.0, 41.0, 2.0, 33.0, 45.0, 27.0, 28.0, 40.0, 34.0, 1.0, 13.0, 9.0, 12.0, 4.0, 18.0, 45.0, 2.0, 58.0, 2.0, 8.0, 33.0, 37.0, 6.0, 14.0, 4.0, 13.0, 2.0, 27.0, 23.0, 36.0, 9.0, 3.0, 33.0, 8.0, 14.0, 12.0, 5.0, 5.0, 5.0, 11.0, 33.0, 18.0, 30.0, 13.0, 8.0, 3.0, 2.0, 10.0, 2.0, 4.0, 5.0, 3.0, 3.0, 4.0, 11.0, 33.0, 30.0, 6.0, 2.0, 4.0, 28.0, 17.0, 18.0, 4.0, 6.0, 10.0, 2.0, 17.0, 14.0, 20.0, 40.0, 14.0, 1.0, 18.0, 21.0, 20.0, 33.0, 2.0, 5.0, 36.0, 32.0, 5.0, 18.0, 43.0, 3.0, 29.0, 38.0, 2.0, 9.0, 43.0, 66.0, 33.0, 79.0, 22.0, 60.0, 20.0, 0.0, 0.0, 0.0, 0.0, 11.0, 13.0, 21.0, 45.0, 81.0, 18.0, 45.0, 18.0, 35.0, 21.0, 38.0, 40.0, 41.0, 36.0, 64.0, 7.0, 14.0, 17.0, 8.0, 7.0, 23.0, 6.0, 9.0, 39.0, 22.0, 14.0, 60.0, 2.0, 47.0, 62.0, 82.0, 8.0, 15.0, 37.0, 3.0, 18.0, 17.0, 35.0, 24.0, 31.0, 29.0, 38.0, 50.0, 28.0, 47.0, 25.0, 40.0, 33.0, 17.0, 2.0, 15.0, 2.0, 8.0, 23.0, 30.0, 50.0, 36.0, 19.0, 7.0, 22.0, 33.0, 10.0, 5.0, 0.0, 16.0, 7.0, 0.0, 10.0, 2.0, 23.0, 32.0, 21.0, 32.0, 3.0, 15.0, 29.0, 57.0, 77.0, 8.0, 22.0, 14.0, 0.0, 21.0, 0.0, 0.0, 15.0, 14.0, 4.0, 16.0, 45.0, 44.0, 25.0, 31.0, 42.0, 32.0, 31.0, 48.0, 91.0, 39.0, 93.0, 7.0, 23.0, 2.0, 11.0, 14.0, 19.0, 26.0, 31.0, 32.0, 15.0, 45.0, 23.0, 25.0, 45.0, 2.0, 18.0, 34.0, 2.0, 2.0, 7.0, 4.0, 17.0, 45.0, 35.0, 19.0, 24.0, 7.0, 24.0, 30.0, 22.0, 9.0, 5.0, 24.0, 17.0, 2.0, 40.0, 13.0, 5.0, 29.0, 47.0, 44.0, 30.0, 2.0, 32.0, 112.0, 5.0, 44.0, 52.0, 58.0, 46.0, 6.0, 23.0, 12.0, 39.0, 18.0, 20.0, 23.0, 49.0, 45.0, 36.0, 3.0, 110.0, 3.0, 40.0, 35.0, 16.0, 15.0, 2.0, 2.0, 19.0, 46.0, 93.0, 11.0, 56.0, 15.0, 9.0, 18.0, 22.0, 23.0, 30.0, 4.0, 4.0, 2.0, 9.0, 5.0, 32.0, 27.0, 17.0, 40.0, 22.0, 30.0, 37.0, 54.0, 22.0, 62.0, 6.0, 26.0, 10.0, 0.0, 18.0, 11.0, 11.0, 6.0, 24.0, 35.0, 39.0, 35.0, 25.0, 7.0, 44.0, 60.0, 26.0, 98.0, 78.0, 4.0, 34.0, 11.0, 5.0, 0.0, 0.0, 0.0, 0.0, 31.0, 1.0, 18.0, 23.0, 14.0, 63.0, 38.0, 28.0, 6.0, 51.0, 86.0, 45.0, 67.0, 74.0, 6.0, 6.0, 11.0, 4.0, 40.0, 3.0, 20.0, 14.0, 27.0, 55.0, 40.0, 21.0, 24.0, 52.0, 12.0, 92.0, 52.0, 39.0, 3.0, 25.0, 10.0, 8.0, 9.0, 17.0, 13.0, 5.0, 30.0, 20.0, 65.0, 5.0, 9.0, 51.0, 40.0, 29.0, 37.0, 62.0, 0.0, 13.0, 2.0, 0.0, 10.0, 0.0, 3.0, 14.0, 39.0, 18.0, 9.0, 54.0, 43.0, 44.0, 1.0, 25.0, 77.0, 73.0, 1.0, 13.0, 6.0, 2.0, 0.0, 0.0, 0.0, 0.0, 9.0, 0.0, 0.0, 0.0, 2.0, 0.0, 30.0, 4.0, 67.0, 71.0, 40.0, 30.0, 6.0, 22.0, 62.0, 2.0, 3.0, 13.0, 4.0, 7.0, 43.0, 7.0, 19.0, 9.0, 20.0, 31.0, 21.0, 42.0, 32.0, 40.0, 6.0, 23.0, 28.0, 4.0, 24.0, 7.0, 20.0, 36.0, 1.0, 14.0, 63.0, 4.0, 54.0, 47.0, 54.0, 51.0, 41.0, 33.0, 15.0, 8.0, 6.0, 15.0, 10.0, 13.0, 10.0, 17.0, 65.0, 16.0, 6.0, 33.0, 12.0, 61.0, 43.0, 84.0, 60.0, 34.0, 21.0, 1.0, 19.0, 1.0, 34.0, 32.0, 30.0, 58.0, 9.0, 66.0, 10.0, 42.0, 62.0, 59.0, 88.0, 10.0, 14.0, 1.0, 20.0, 4.0, 12.0, 13.0, 24.0, 8.0, 27.0, 38.0, 20.0, 1.0, 54.0, 43.0, 55.0, 39.0, 41.0, 51.0, 19.0, 29.0, 3.0, 23.0, 6.0, 53.0, 18.0, 30.0, 45.0, 18.0, 24.0, 54.0, 33.0, 36.0, 3.0, 13.0, 3.0, 13.0, 6.0, 3.0, 28.0, 23.0, 38.0, 50.0, 6.0, 15.0, 2.0, 10.0, 6.0, 16.0, 4.0, 18.0, 2.0, 28.0, 26.0, 14.0, 25.0, 4.0, 9.0, 13.0, 34.0, 17.0, 5.0, 22.0, 3.0, 3.0, 22.0, 19.0, 30.0, 10.0, 41.0, 16.0, 24.0, 7.0, 48.0, 45.0, 33.0, 64.0, 31.0, 18.0, 2.0, 3.0, 36.0, 4.0, 17.0, 14.0, 12.0, 44.0, 17.0, 3.0, 24.0, 31.0, 92.0, 14.0, 27.0, 19.0, 12.0, 12.0, 2.0, 2.0, 20.0, 26.0, 8.0, 19.0, 29.0, 41.0, 8.0, 46.0, 23.0, 28.0, 50.0, 25.0, 46.0, 19.0, 22.0, 0.0, 1.0, 20.0, 1.0, 32.0, 9.0, 1.0, 18.0, 17.0, 30.0, 16.0, 4.0, 34.0, 82.0, 1.0, 45.0, 56.0, 39.0, 1.0, 0.0, 0.0, 5.0, 14.0, 4.0, 19.0, 20.0, 20.0, 38.0, 64.0, 29.0, 13.0, 20.0, 92.0, 9.0, 39.0, 36.0, 13.0, 2.0, 24.0, 65.0, 5.0, 54.0, 20.0, 0.0, 0.0, 6.0, 13.0, 11.0, 12.0, 9.0, 2.0, 0.0, 0.0, 2.0, 19.0, 3.0, 23.0, 35.0, 19.0, 21.0, 12.0, 39.0, 25.0, 36.0, 6.0, 5.0, 5.0, 7.0, 7.0, 4.0, 15.0, 17.0, 14.0, 15.0, 16.0, 23.0, 45.0, 2.0, 11.0, 10.0, 62.0, 12.0, 32.0, 31.0, 30.0, 3.0, 7.0, 2.0, 10.0, 3.0, 18.0, 25.0, 14.0, 10.0, 32.0, 51.0, 3.0, 7.0, 83.0, 6.0, 56.0, 47.0, 44.0, 47.0, 12.0, 0.0, 8.0, 2.0, 9.0, 25.0, 6.0, 7.0, 5.0, 51.0, 35.0, 32.0, 3.0, 27.0, 14.0, 39.0, 55.0, 49.0, 6.0, 32.0, 10.0, 3.0, 42.0, 9.0, 28.0, 97.0, 20.0, 6.0, 27.0, 9.0, 15.0, 6.0, 7.0, 2.0, 8.0, 3.0, 2.0, 11.0, 13.0, 23.0, 49.0, 28.0, 1.0, 25.0, 31.0, 1.0, 9.0, 8.0, 10.0, 3.0, 40.0, 35.0, 36.0, 28.0, 9.0, 8.0, 14.0, 5.0, 26.0, 4.0, 2.0, 2.0, 15.0, 11.0, 2.0, 8.0, 3.0, 6.0, 36.0, 20.0, 29.0, 47.0, 7.0, 4.0, 8.0, 9.0, 24.0, 3.0, 16.0, 62.0, 22.0, 11.0, 2.0, 20.0, 27.0, 41.0, 44.0, 22.0, 22.0, 12.0, 2.0, 2.0, 22.0, 6.0, 16.0, 24.0, 32.0, 49.0, 43.0, 5.0, 4.0, 6.0, 41.0, 55.0, 26.0, 19.0, 4.0, 16.0, 2.0, 13.0, 2.0, 17.0, 23.0, 44.0, 20.0, 1.0, 17.0, 20.0, 9.0, 31.0, 18.0, 24.0, 24.0, 1.0, 6.0, 0.0, 2.0, 0.0, 7.0, 11.0, 40.0, 38.0, 32.0, 3.0, 5.0, 36.0, 2.0, 8.0, 2.0, 24.0, 0.0, 0.0, 0.0, 2.0, 16.0, 2.0, 23.0, 18.0, 37.0, 15.0, 59.0, 2.0, 10.0, 11.0, 14.0, 34.0, 6.0, 32.0, 0.0, 12.0, 0.0, 0.0, 0.0, 0.0, 3.0, 0.0, 15.0, 3.0, 32.0, 12.0, 16.0, 15.0, 3.0, 36.0, 2.0, 0.0, 2.0, 0.0, 30.0, 4.0, 18.0, 36.0, 7.0, 0.0, 1.0, 17.0, 16.0, 53.0, 25.0, 24.0, 2.0, 0.0, 0.0, 0.0, 3.0, 9.0, 13.0, 29.0, 35.0, 1.0, 33.0, 64.0, 6.0, 4.0, 25.0, 16.0, 37.0, 44.0, 40.0, 4.0, 15.0, 0.0, 0.0, 0.0, 2.0, 10.0, 13.0, 10.0, 22.0, 16.0, 41.0, 41.0, 21.0, 5.0, 9.0, 32.0, 26.0, 34.0, 31.0, 1.0, 11.0, 0.0, 5.0, 25.0, 3.0, 19.0, 8.0, 4.0, 34.0, 33.0, 4.0, 5.0, 35.0, 4.0, 31.0, 23.0, 22.0, 26.0, 4.0, 3.0, 12.0, 3.0, 21.0, 36.0, 4.0, 11.0, 38.0, 23.0, 15.0, 23.0, 7.0, 3.0, 20.0, 1.0, 23.0, 3.0, 27.0, 23.0, 23.0, 31.0, 3.0, 35.0, 21.0, 33.0, 4.0, 8.0, 7.0, 14.0, 4.0, 17.0, 14.0, 46.0, 0.0, 3.0, 7.0, 5.0, 2.0, 4.0, 26.0, 0.0, 7.0, 0.0, 0.0, 0.0, 30.0, 0.0, 1.0, 15.0, 6.0, 3.0, 18.0, 12.0, 35.0, 2.0, 40.0, 5.0, 0.0, 3.0, 6.0, 11.0, 21.0, 7.0, 5.0, 3.0, 34.0, 20.0, 1.0, 13.0, 9.0, 45.0, 71.0, 21.0, 0.0, 0.0, 7.0, 0.0, 2.0, 24.0, 3.0, 7.0, 11.0, 59.0, 19.0, 13.0, 5.0, 32.0, 27.0, 17.0, 41.0, 2.0, 3.0, 14.0, 3.0, 6.0, 8.0, 11.0, 11.0, 6.0, 3.0, 59.0, 14.0, 2.0, 10.0, 31.0, 63.0, 43.0, 21.0, 25.0, 6.0, 11.0, 4.0, 0.0, 9.0, 0.0, 11.0, 35.0, 20.0, 38.0, 2.0, 22.0, 23.0, 21.0, 24.0, 17.0, 12.0, 0.0, 0.0, 0.0, 0.0, 0.0, 0.0, 0.0, 0.0, 0.0, 0.0, 0.0, 0.0, 0.0, 0.0, 0.0, 0.0, 0.0, 0.0, 0.0, 0.0, 0.0, 2.0, 0.0, 0.0, 0.0, 0.0, 0.0, 0.0, 0.0, 0.0, 0.0, 0.0, 0.0, 0.0, 0.0, 0.0, 0.0, 0.0, 0.0, 0.0, 0.0, 0.0, 0.0, 0.0, 0.0, 2.0, 0.0, 30.0, 14.0, 4.0, 3.0, 9.0, 7.0, 3.0, 32.0, 15.0, 21.0, 21.0, 1.0, 0.0, 7.0, 0.0, 0.0, 0.0, 2.0, 10.0, 13.0, 27.0, 25.0, 3.0, 2.0, 5.0, 56.0, 24.0, 28.0, 11.0, 20.0, 2.0, 0.0, 0.0, 2.0, 18.0, 13.0, 7.0, 13.0, 5.0, 7.0, 19.0, 16.0, 11.0, 3.0, 42.0, 11.0, 49.0, 5.0, 2.0, 6.0, 12.0, 25.0, 9.0, 2.0, 20.0, 14.0, 7.0, 2.0, 47.0, 14.0, 29.0, 59.0, 8.0, 32.0, 19.0, 6.0, 16.0, 5.0, 46.0, 9.0, 7.0, 16.0, 29.0, 14.0, 51.0, 24.0, 1.0, 19.0, 14.0, 2.0, 15.0, 4.0, 7.0, 7.0, 26.0, 11.0, 25.0, 1.0, 32.0, 29.0, 6.0, 0.0, 4.0, 13.0, 3.0, 35.0, 15.0, 27.0, 1.0, 3.0, 30.0, 0.0, 1.0, 2.0, 10.0, 4.0, 15.0, 16.0, 15.0, 11.0, 11.0, 37.0, 3.0, 28.0, 20.0, 28.0, 8.0, 14.0, 6.0, 4.0, 15.0, 14.0, 12.0, 4.0, 34.0, 17.0, 15.0, 13.0, 26.0, 16.0, 66.0, 23.0, 23.0, 18.0, 18.0, 19.0, 7.0, 13.0, 3.0, 10.0, 17.0, 3.0, 26.0, 26.0, 13.0, 1.0, 5.0, 54.0, 20.0, 20.0, 31.0, 28.0, 2.0, 11.0, 4.0, 7.0, 4.0, 14.0, 25.0, 13.0, 10.0, 45.0, 6.0, 7.0, 0.0, 4.0, 23.0, 34.0, 38.0, 16.0, 0.0, 10.0, 0.0, 2.0, 3.0, 17.0, 2.0, 15.0, 9.0, 64.0, 2.0, 10.0, 8.0, 15.0, 24.0, 48.0, 17.0, 23.0, 10.0, 2.0, 7.0, 18.0, 15.0, 3.0, 9.0, 30.0, 39.0, 2.0, 6.0, 35.0, 44.0, 19.0, 6.0, 11.0, 20.0, 14.0, 24.0, 8.0, 34.0, 17.0, 11.0, 18.0, 1.0, 3.0, 18.0, 1.0, 17.0, 20.0, 2.0, 3.0, 0.0, 2.0, 4.0, 2.0, 18.0, 17.0, 30.0, 12.0, 35.0, 1.0, 42.0, 31.0, 18.0, 4.0, 3.0, 3.0, 2.0, 12.0, 0.0, 3.0, 14.0, 10.0, 7.0, 8.0, 20.0, 12.0, 40.0, 9.0, 4.0, 4.0, 13.0, 44.0, 32.0, 28.0, 8.0, 2.0, 4.0, 2.0, 0.0, 0.0, 5.0, 16.0, 8.0, 14.0, 18.0, 32.0, 8.0, 9.0, 18.0, 14.0, 20.0, 19.0, 22.0, 57.0, 4.0, 11.0, 2.0, 8.0, 5.0, 1.0, 4.0, 6.0, 9.0, 10.0, 15.0, 33.0, 9.0, 24.0, 2.0, 26.0, 42.0, 35.0, 15.0, 13.0, 0.0, 0.0, 0.0, 0.0, 0.0, 7.0, 5.0, 0.0, 0.0, 8.0, 3.0, 5.0, 25.0, 3.0, 6.0, 22.0, 13.0, 9.0, 11.0, 53.0, 33.0, 21.0, 18.0, 25.0, 1.0, 5.0, 17.0, 11.0, 2.0, 16.0, 11.0, 29.0, 30.0, 14.0, 5.0, 21.0, 32.0, 12.0, 8.0, 2.0, 0.0, 5.0, 11.0, 18.0, 36.0, 23.0, 49.0, 1.0, 6.0, 15.0, 2.0, 6.0, 25.0, 0.0, 6.0, 6.0, 3.0, 9.0, 2.0, 18.0, 10.0, 2.0, 10.0, 31.0, 34.0, 43.0, 42.0, 3.0, 6.0, 2.0, 5.0, 7.0, 36.0, 16.0, 39.0, 18.0, 9.0, 2.0, 48.0, 38.0, 89.0, 11.0, 12.0, 9.0, 7.0, 1.0, 6.0, 20.0, 12.0, 15.0, 56.0, 11.0, 16.0, 9.0, 47.0, 14.0, 22.0, 9.0, 3.0, 0.0, 10.0, 0.0, 0.0, 0.0, 0.0, 0.0, 0.0, 6.0, 6.0, 13.0, 14.0, 23.0, 26.0, 10.0, 12.0, 22.0, 15.0, 44.0, 23.0, 12.0, 2.0, 0.0, 0.0, 13.0, 0.0, 3.0, 6.0, 23.0, 1.0, 9.0, 9.0, 2.0, 29.0, 12.0, 17.0, 29.0, 2.0, 20.0, 20.0, 36.0, 14.0, 0.0, 0.0, 3.0, 7.0, 0.0, 0.0, 0.0, 2.0, 13.0, 28.0, 5.0, 2.0, 26.0, 20.0, 63.0, 8.0, 1.0, 32.0, 35.0, 2.0, 0.0, 0.0, 0.0, 0.0, 0.0, 0.0, 0.0, 0.0, 0.0, 0.0, 0.0, 8.0, 21.0, 21.0, 23.0, 24.0, 3.0, 2.0, 0.0, 2.0, 5.0, 0.0, 23.0, 14.0, 2.0, 0.0, 0.0, 0.0, 2.0, 0.0, 0.0, 0.0, 4.0, 4.0, 6.0, 9.0, 10.0, 15.0, 13.0, 11.0, 36.0, 2.0, 22.0, 20.0, 7.0, 13.0, 12.0, 1.0, 12.0, 14.0, 2.0, 14.0, 2.0, 23.0, 2.0, 30.0, 13.0, 2.0, 0.0, 21.0, 72.0, 1.0, 38.0, 23.0, 2.0, 6.0, 8.0, 13.0, 4.0, 7.0, 4.0, 13.0, 24.0, 0.0, 13.0, 7.0, 18.0, 40.0, 11.0, 57.0, 2.0, 11.0, 3.0, 0.0, 0.0, 3.0, 3.0, 0.0, 0.0, 2.0, 15.0, 8.0, 25.0, 18.0, 6.0, 17.0, 17.0, 13.0, 2.0, 37.0, 31.0, 27.0, 28.0, 2.0, 20.0, 2.0, 0.0, 7.0, 2.0, 17.0, 6.0, 18.0, 31.0, 17.0, 8.0, 4.0, 17.0, 13.0, 9.0, 3.0, 13.0, 5.0, 4.0, 5.0, 6.0, 6.0, 3.0, 14.0, 23.0, 7.0, 27.0, 62.0, 1.0, 11.0, 2.0, 15.0, 23.0, 11.0, 2.0, 9.0, 5.0, 0.0, 7.0, 23.0, 17.0, 35.0, 25.0, 5.0, 2.0, 2.0, 5.0, 15.0, 3.0, 6.0, 0.0, 11.0, 9.0, 5.0, 13.0, 20.0, 9.0, 6.0, 34.0, 33.0, 29.0, 7.0, 4.0, 4.0, 12.0, 2.0, 6.0, 3.0, 2.0, 6.0, 15.0, 51.0, 17.0, 13.0, 2.0, 18.0, 10.0, 28.0, 29.0, 23.0, 2.0, 15.0, 2.0, 5.0, 8.0, 6.0, 17.0, 3.0, 16.0, 19.0, 41.0, 35.0, 11.0, 19.0, 36.0, 34.0, 18.0, 26.0, 9.0, 4.0, 4.0, 2.0, 4.0, 16.0, 4.0, 21.0, 4.0, 9.0, 22.0, 5.0, 6.0, 16.0, 47.0, 32.0, 35.0, 7.0, 16.0, 6.0, 2.0, 8.0, 7.0, 23.0, 1.0, 17.0, 17.0, 7.0, 5.0, 42.0, 10.0, 27.0, 3.0, 13.0, 19.0, 43.0, 15.0, 16.0, 18.0, 12.0, 5.0, 1.0, 2.0, 7.0, 17.0, 25.0, 27.0, 26.0, 5.0, 32.0, 45.0, 61.0, 3.0, 8.0, 8.0, 30.0, 5.0, 16.0, 10.0, 36.0, 27.0, 5.0, 11.0, 28.0, 17.0, 18.0, 20.0, 2.0, 4.0, 7.0, 8.0, 11.0, 11.0, 12.0, 18.0, 2.0, 19.0, 18.0, 43.0, 30.0, 4.0, 4.0, 3.0, 3.0, 12.0, 5.0, 0.0, 14.0, 11.0, 9.0, 44.0, 23.0, 18.0, 4.0, 42.0, 47.0, 57.0, 29.0, 16.0, 10.0, 21.0, 8.0, 2.0, 0.0, 16.0, 9.0, 18.0, 22.0, 25.0, 52.0, 1.0, 17.0, 21.0, 38.0, 38.0, 4.0, 14.0, 14.0, 7.0, 13.0, 7.0, 6.0, 2.0, 8.0, 9.0, 16.0, 35.0, 25.0, 2.0, 8.0, 19.0, 8.0, 25.0, 39.0, 34.0, 12.0, 0.0, 0.0, 12.0, 0.0, 0.0, 0.0, 7.0, 9.0, 2.0, 6.0, 18.0, 31.0, 36.0, 21.0, 7.0, 15.0, 19.0, 32.0, 35.0, 16.0, 17.0, 19.0, 4.0, 0.0, 0.0, 5.0, 44.0, 2.0, 9.0, 36.0, 8.0, 30.0, 32.0, 36.0, 9.0, 27.0, 2.0, 38.0, 17.0, 17.0, 3.0, 5.0, 7.0, 6.0, 9.0, 9.0, 42.0, 29.0, 32.0, 4.0, 10.0, 6.0, 4.0, 5.0, 7.0, 2.0, 5.0, 10.0, 0.0, 2.0, 18.0, 5.0, 11.0, 38.0, 27.0, 24.0, 4.0, 41.0, 43.0, 51.0, 15.0, 6.0, 24.0, 0.0, 0.0, 0.0, 4.0, 11.0, 17.0, 10.0, 6.0, 8.0, 3.0, 36.0, 65.0, 11.0, 3.0, 43.0, 20.0, 70.0, 49.0, 48.0, 31.0, 13.0, 0.0, 0.0, 0.0, 0.0, 11.0, 1.0, 23.0, 3.0, 17.0, 21.0, 26.0, 40.0, 2.0, 3.0, 18.0, 55.0, 70.0, 32.0, 39.0, 13.0, 21.0, 1.0, 7.0, 10.0, 14.0, 3.0, 6.0, 32.0, 53.0, 35.0, 1.0, 28.0, 41.0, 68.0, 33.0, 13.0, 25.0, 13.0, 1.0, 18.0, 9.0, 27.0, 43.0, 38.0, 3.0, 18.0, 28.0, 24.0, 50.0, 56.0, 68.0, 7.0, 17.0, 2.0, 27.0, 11.0, 24.0, 6.0, 50.0, 50.0, 31.0, 14.0, 32.0, 24.0, 35.0, 18.0, 2.0, 5.0, 0.0, 2.0, 16.0, 21.0, 42.0, 24.0, 33.0, 3.0, 6.0, 15.0, 16.0, 2.0, 28.0, 3.0, 16.0, 19.0, 0.0, 3.0, 1.0, 5.0, 23.0, 30.0, 34.0, 46.0, 12.0, 8.0, 48.0, 34.0, 32.0, 9.0, 12.0, 26.0, 1.0, 18.0, 8.0, 63.0, 1.0, 14.0, 31.0, 40.0, 56.0, 19.0, 12.0, 30.0, 62.0, 35.0, 51.0, 50.0, 18.0, 4.0, 8.0, 2.0, 2.0, 12.0, 61.0, 15.0, 68.0, 19.0, 19.0, 33.0, 57.0, 37.0, 68.0, 48.0, 19.0, 15.0, 11.0, 4.0, 18.0, 20.0, 15.0, 13.0, 67.0, 39.0, 15.0, 2.0, 33.0, 31.0, 65.0, 68.0, 43.0, 18.0, 11.0, 4.0, 22.0, 6.0, 48.0, 10.0, 6.0, 35.0, 38.0, 48.0, 9.0, 14.0, 49.0, 10.0, 71.0, 49.0, 26.0, 27.0, 2.0, 2.0, 19.0, 2.0, 25.0, 30.0, 3.0, 20.0, 29.0, 108.0, 30.0, 6.0, 59.0, 32.0, 42.0, 3.0, 8.0, 15.0, 4.0, 15.0, 35.0, 20.0, 15.0, 33.0, 2.0, 2.0, 2.0, 4.0, 11.0, 19.0, 12.0, 3.0, 22.0, 50.0, 42.0, 42.0, 18.0, 17.0, 50.0, 24.0, 36.0, 23.0, 11.0, 9.0, 5.0, 20.0, 26.0, 28.0, 33.0, 40.0, 44.0, 16.0, 8.0, 17.0, 37.0, 59.0, 46.0, 41.0, 16.0, 9.0, 11.0, 6.0, 12.0, 7.0, 31.0, 4.0, 52.0, 62.0, 23.0, 7.0, 14.0, 83.0, 8.0, 40.0, 11.0, 18.0, 5.0, 5.0, 7.0, 12.0, 14.0, 15.0, 22.0, 12.0, 36.0, 19.0, 10.0, 18.0, 29.0, 71.0, 24.0, 29.0, 28.0, 26.0, 4.0, 3.0, 8.0, 28.0, 1.0, 21.0, 17.0, 12.0, 36.0, 41.0, 50.0, 19.0, 11.0, 17.0, 29.0, 55.0, 17.0, 23.0, 42.0, 2.0, 12.0, 13.0, 12.0, 13.0, 18.0, 30.0, 45.0, 90.0, 12.0, 30.0, 41.0, 36.0, 49.0, 51.0, 19.0, 0.0, 0.0, 7.0, 10.0, 3.0, 2.0, 42.0, 24.0, 27.0, 17.0, 6.0, 15.0, 16.0, 10.0, 18.0, 5.0, 5.0, 0.0, 1.0, 19.0, 31.0, 49.0, 20.0, 10.0, 40.0, 13.0, 50.0, 50.0, 47.0, 4.0, 6.0, 5.0, 4.0, 12.0, 27.0, 11.0, 13.0, 39.0, 35.0, 32.0, 60.0, 61.0, 14.0, 93.0, 60.0, 42.0, 58.0, 55.0, 33.0, 11.0, 30.0, 9.0, 12.0, 41.0, 27.0, 8.0, 33.0, 64.0, 36.0, 37.0, 16.0, 40.0, 54.0, 72.0, 51.0, 57.0, 10.0, 35.0, 14.0, 37.0, 16.0, 38.0, 52.0, 22.0, 56.0, 41.0, 41.0, 5.0, 85.0, 57.0, 69.0, 60.0, 40.0, 45.0, 15.0, 20.0, 20.0, 13.0, 2.0, 24.0, 21.0, 43.0, 54.0, 30.0, 20.0, 29.0, 56.0, 61.0, 88.0, 33.0, 57.0, 14.0, 22.0, 19.0, 18.0, 30.0, 13.0, 6.0, 80.0, 30.0, 76.0, 23.0, 80.0, 31.0, 67.0, 8.0, 42.0, 6.0, 15.0, 9.0, 3.0, 6.0, 33.0, 26.0, 73.0, 35.0, 52.0, 20.0, 16.0, 32.0, 22.0, 28.0, 15.0, 11.0, 6.0, 0.0, 0.0, 0.0, 6.0, 0.0, 0.0, 8.0, 15.0, 30.0, 29.0, 36.0, 38.0, 14.0, 52.0, 44.0, 5.0, 31.0, 28.0, 25.0, 3.0, 14.0, 8.0, 26.0, 1.0, 13.0, 16.0, 40.0, 40.0, 39.0, 47.0, 49.0, 4.0, 107.0, 21.0, 66.0, 77.0, 63.0, 71.0, 35.0, 16.0, 2.0, 15.0, 11.0, 8.0, 32.0, 5.0, 7.0, 51.0, 27.0, 89.0, 33.0, 1.0, 76.0, 179.0, 23.0, 106.0, 58.0, 39.0, 6.0, 4.0, 36.0, 2.0, 54.0, 64.0, 3.0, 19.0, 39.0, 46.0, 47.0, 30.0, 113.0, 13.0, 111.0, 20.0, 66.0, 2.0, 9.0, 4.0, 14.0, 7.0, 25.0, 15.0, 46.0, 29.0, 96.0, 8.0, 29.0, 12.0, 60.0, 35.0, 75.0, 53.0, 47.0, 49.0, 11.0, 2.0, 26.0, 3.0, 19.0, 9.0, 6.0, 21.0, 53.0, 36.0, 45.0, 16.0, 73.0, 23.0, 39.0, 34.0, 24.0, 1.0, 8.0, 8.0, 40.0, 56.0, 20.0, 56.0, 23.0, 23.0, 14.0, 11.0, 3.0, 10.0, 15.0, 3.0, 7.0, 3.0, 7.0, 3.0, 29.0, 33.0, 36.0, 39.0, 8.0, 12.0, 47.0, 44.0, 41.0, 54.0, 25.0, 16.0, 24.0, 16.0, 2.0, 4.0, 17.0, 19.0, 41.0, 45.0, 29.0, 88.0, 1.0, 38.0, 43.0, 75.0, 47.0, 57.0, 45.0, 75.0, 6.0, 513.0, 29.0, 46.0, 39.0, 7.0, 8.0, 8.0, 61.0, 38.0, 13.0, 30.0, 17.0, 75.0, 2.0, 14.0, 32.0, 49.0, 82.0, 30.0, 82.0, 15.0, 12.0, 11.0, 12.0, 14.0, 4.0, 22.0, 1.0, 51.0, 2.0, 25.0, 53.0, 45.0, 16.0, 17.0, 92.0, 6.0, 71.0, 66.0, 34.0, 40.0, 2.0, 9.0, 0.0, 20.0, 2.0, 30.0, 17.0, 9.0, 19.0, 25.0, 52.0, 6.0, 65.0, 37.0, 54.0, 33.0, 26.0, 11.0, 4.0, 6.0, 0.0, 1.0, 8.0, 23.0, 74.0, 25.0, 50.0, 39.0, 23.0, 29.0, 13.0, 98.0, 11.0, 26.0, 2.0, 7.0, 5.0, 3.0, 1.0, 6.0, 19.0, 36.0, 41.0, 36.0, 6.0, 9.0, 31.0, 64.0, 22.0, 53.0, 36.0, 32.0, 12.0, 4.0, 6.0, 15.0, 3.0, 27.0, 68.0, 42.0, 23.0, 40.0, 2.0, 41.0, 57.0, 113.0, 24.0, 61.0, 64.0, 47.0, 30.0, 11.0, 6.0, 5.0, 24.0, 21.0, 7.0, 37.0, 21.0, 21.0, 21.0, 46.0, 36.0, 88.0, 65.0, 71.0, 50.0, 55.0, 11.0, 2.0, 4.0, 17.0, 1.0, 18.0, 12.0, 42.0, 19.0, 26.0, 63.0, 23.0, 11.0, 61.0, 47.0, 86.0, 48.0, 65.0, 29.0, 29.0, 8.0, 0.0, 0.0, 0.0, 6.0, 16.0, 6.0, 17.0, 17.0, 32.0, 43.0, 52.0, 35.0, 8.0, 50.0, 57.0, 95.0, 8.0, 42.0, 28.0, 7.0, 6.0, 4.0, 13.0, 3.0, 22.0, 22.0, 10.0, 38.0, 27.0, 49.0, 52.0, 54.0, 7.0, 55.0, 17.0, 12.0, 5.0, 2.0, 18.0, 2.0, 2.0, 0.0, 9.0, 8.0, 94.0, 13.0, 36.0, 34.0, 51.0, 5.0, 12.0, 40.0, 16.0, 4.0, 2.0, 14.0, 4.0, 6.0, 10.0, 46.0, 32.0, 69.0, 3.0, 36.0, 21.0, 37.0, 66.0, 20.0, 50.0, 30.0, 26.0, 7.0, 0.0, 0.0, 0.0, 15.0, 0.0, 0.0, 0.0, 2.0, 11.0, 29.0, 37.0, 44.0, 16.0, 32.0, 67.0, 38.0, 13.0, 56.0, 70.0, 42.0, 88.0, 53.0, 66.0, 32.0, 2.0, 3.0, 6.0, 0.0, 0.0, 1.0, 7.0, 6.0, 27.0, 72.0, 2.0, 27.0, 33.0, 53.0, 20.0, 71.0, 34.0, 76.0, 69.0, 72.0, 44.0, 11.0, 21.0, 2.0, 5.0, 37.0, 1.0, 55.0, 13.0, 32.0, 21.0, 13.0, 65.0, 30.0, 35.0, 39.0, 87.0, 51.0, 67.0, 28.0, 45.0, 2.0, 27.0, 14.0, 5.0, 17.0, 38.0, 40.0, 24.0, 61.0, 37.0, 54.0, 74.0, 95.0, 86.0, 42.0, 58.0, 21.0, 27.0, 2.0, 19.0, 42.0, 4.0, 25.0, 34.0, 46.0, 62.0, 54.0, 53.0, 59.0, 23.0, 40.0, 113.0, 6.0, 33.0, 2.0, 8.0, 2.0, 3.0, 27.0, 46.0, 29.0, 70.0, 74.0, 13.0, 19.0, 18.0, 22.0, 7.0, 12.0, 3.0, 4.0, 2.0, 4.0, 2.0, 4.0, 34.0, 8.0, 18.0, 26.0, 19.0, 11.0, 56.0, 2.0, 33.0, 50.0, 37.0, 8.0, 17.0, 4.0, 13.0, 0.0, 11.0, 3.0, 21.0, 16.0, 50.0, 35.0, 40.0, 53.0, 3.0, 24.0, 104.0, 76.0, 69.0, 52.0, 75.0, 66.0, 29.0, 2.0, 7.0, 8.0, 29.0, 5.0, 29.0, 3.0, 34.0, 92.0, 24.0, 32.0, 30.0, 36.0, 87.0, 50.0, 79.0, 33.0, 36.0, 8.0, 32.0, 1.0, 41.0, 15.0, 44.0, 30.0, 35.0, 57.0, 33.0, 26.0, 67.0, 38.0, 82.0, 98.0, 64.0, 33.0, 8.0, 1.0, 8.0, 7.0, 11.0, 25.0, 56.0, 34.0, 41.0, 43.0, 60.0, 51.0, 436.0, 15.0, 84.0, 8.0, 90.0, 35.0, 39.0, 54.0, 62.0, 59.0, 49.0, 6.0, 8.0, 11.0, 36.0, 77.0, 20.0, 52.0, 25.0, 28.0, 36.0, 1.0, 10.0, 20.0, 3.0, 0.0, 0.0, 2.0, 11.0, 10.0, 8.0, 41.0, 46.0, 77.0, 40.0, 36.0, 42.0, 3.0, 65.0, 34.0, 32.0, 43.0, 23.0, 18.0, 2.0, 0.0, 11.0, 2.0, 66.0, 1.0, 36.0, 42.0, 14.0, 62.0, 27.0, 26.0, 56.0, 72.0, 49.0, 55.0, 85.0, 45.0, 44.0, 0.0, 22.0, 14.0, 4.0, 38.0, 13.0, 38.0, 59.0, 29.0, 36.0, 1.0, 75.0, 41.0, 63.0, 93.0, 71.0, 26.0, 16.0, 12.0, 11.0, 15.0, 8.0, 36.0, 30.0, 4.0, 19.0, 57.0, 55.0, 5.0, 17.0, 42.0, 36.0, 91.0, 69.0, 60.0, 26.0, 30.0, 0.0, 0.0, 8.0, 4.0, 15.0, 41.0, 11.0, 37.0, 34.0, 19.0, 46.0, 64.0, 22.0, 83.0, 26.0, 98.0, 19.0, 87.0, 33.0, 49.0, 28.0, 8.0, 1.0, 45.0, 11.0, 51.0, 5.0, 35.0, 81.0, 47.0, 37.0, 54.0, 91.0, 13.0, 56.0, 58.0, 11.0, 5.0, 12.0, 15.0, 1.0, 38.0, 44.0, 49.0, 93.0, 35.0, 37.0, 46.0, 29.0, 32.0, 26.0, 10.0, 11.0, 39.0, 10.0, 68.0, 17.0, 66.0, 27.0, 42.0, 55.0, 33.0, 32.0, 51.0, 40.0, 17.0, 10.0, 8.0, 19.0, 26.0, 41.0, 15.0, 70.0, 14.0, 61.0, 39.0, 5.0, 35.0, 53.0, 56.0, 61.0, 61.0, 57.0, 56.0, 31.0, 2.0, 21.0, 8.0, 24.0, 33.0, 28.0, 22.0, 50.0, 47.0, 14.0, 37.0, 107.0, 6.0, 74.0, 56.0, 66.0, 22.0, 28.0, 2.0, 5.0, 12.0, 2.0, 34.0, 20.0, 52.0, 54.0, 47.0, 73.0, 37.0, 47.0, 61.0, 44.0, 97.0, 63.0, 32.0, 32.0, 11.0, 2.0, 2.0, 2.0, 18.0, 2.0, 13.0, 30.0, 25.0, 18.0, 39.0, 51.0, 46.0, 21.0, 27.0, 64.0, 94.0, 64.0, 45.0, 81.0, 41.0, 33.0, 3.0, 4.0, 6.0, 4.0, 48.0, 6.0, 9.0, 35.0, 44.0, 39.0, 53.0, 7.0, 18.0, 57.0, 108.0, 22.0, 21.0, 14.0, 8.0, 0.0, 5.0, 7.0, 7.0, 12.0, 45.0, 70.0, 53.0, 32.0, 26.0, 18.0, 15.0, 27.0, 31.0, 8.0, 1.0, 18.0, 19.0, 1.0, 37.0, 43.0, 41.0, 35.0, 22.0, 47.0, 3.0, 37.0, 49.0, 26.0, 28.0, 10.0, 4.0, 0.0, 6.0, 4.0, 13.0, 23.0, 18.0, 12.0, 10.0, 26.0, 44.0, 43.0, 23.0, 51.0, 54.0, 53.0, 72.0, 110.0, 27.0, 0.0, 5.0, 11.0, 17.0, 13.0, 40.0, 36.0, 16.0, 51.0, 68.0, 10.0, 34.0, 41.0, 60.0, 68.0, 65.0, 79.0, 15.0, 34.0, 0.0, 4.0, 35.0, 7.0, 31.0, 21.0, 2.0, 38.0, 35.0, 43.0, 29.0, 5.0, 35.0, 71.0, 52.0, 77.0, 49.0, 29.0, 12.0, 2.0, 6.0, 11.0, 26.0, 9.0, 19.0, 25.0, 55.0, 32.0, 5.0, 5.0, 28.0, 70.0, 45.0, 54.0, 76.0, 24.0, 1.0, 13.0, 17.0, 4.0, 19.0, 10.0, 8.0, 49.0, 56.0, 55.0, 27.0, 18.0, 41.0, 78.0, 28.0, 52.0, 20.0, 2.0, 14.0, 0.0, 6.0, 7.0, 81.0, 44.0, 26.0, 54.0, 19.0, 27.0, 26.0, 39.0, 26.0, 0.0, 2.0, 5.0, 16.0, 4.0, 41.0, 50.0, 2.0, 19.0, 4.0, 49.0, 35.0, 38.0, 52.0, 47.0, 28.0, 21.0, 8.0, 0.0, 21.0, 6.0, 29.0, 56.0, 22.0, 26.0, 38.0, 50.0, 22.0, 19.0, 140.0, 27.0, 68.0, 59.0, 90.0, 32.0, 32.0, 5.0, 14.0, 2.0, 4.0, 61.0, 1.0, 11.0, 16.0, 57.0, 84.0, 4.0, 16.0, 44.0, 106.0, 19.0, 72.0, 71.0, 57.0, 65.0, 12.0, 9.0, 0.0, 21.0, 13.0, 33.0, 36.0, 52.0, 14.0, 41.0, 48.0, 17.0, 14.0, 45.0, 43.0, 90.0, 62.0, 71.0, 40.0, 6.0, 4.0, 2.0, 33.0, 16.0, 44.0, 42.0, 13.0, 44.0, 49.0, 22.0, 31.0, 63.0, 50.0, 58.0, 66.0, 64.0, 49.0, 34.0, 0.0, 8.0, 32.0, 4.0, 33.0, 10.0, 26.0, 39.0, 85.0, 35.0, 22.0, 42.0, 87.0, 12.0, 13.0, 5.0, 19.0, 3.0, 2.0, 3.0, 16.0, 45.0, 55.0, 48.0, 52.0, 18.0, 49.0, 6.0, 39.0, 9.0, 10.0, 9.0, 13.0, 3.0, 19.0, 16.0, 40.0, 18.0, 57.0, 32.0, 35.0, 35.0, 43.0, 52.0, 33.0, 51.0, 4.0, 9.0, 5.0, 14.0, 4.0, 23.0, 22.0, 86.0, 6.0, 36.0, 37.0, 19.0, 25.0, 52.0, 37.0, 62.0, 54.0, 52.0, 83.0, 29.0, 5.0, 4.0, 29.0, 29.0, 9.0, 16.0, 16.0, 39.0, 46.0, 41.0, 33.0, 33.0, 34.0, 86.0, 97.0, 80.0, 43.0, 37.0, 17.0, 20.0, 11.0, 2.0, 7.0, 14.0, 23.0, 22.0, 30.0, 28.0, 57.0, 57.0, 26.0, 44.0, 47.0, 96.0, 74.0, 97.0, 37.0, 8.0, 6.0, 30.0, 23.0, 3.0, 17.0, 21.0, 28.0, 48.0, 54.0, 36.0, 67.0, 31.0, 58.0, 90.0, 45.0, 71.0, 9.0, 28.0, 0.0, 1.0, 14.0, 16.0, 11.0, 21.0, 25.0, 37.0, 68.0, 54.0, 71.0, 86.0, 5.0, 60.0, 48.0, 25.0, 7.0, 32.0, 18.0, 13.0, 92.0, 10.0, 101.0, 2.0, 30.0, 53.0, 33.0, 58.0, 22.0, 7.0, 7.0, 4.0, 1.0, 13.0, 15.0, 5.0, 31.0, 48.0, 36.0, 42.0, 9.0, 13.0, 74.0, 66.0, 78.0, 37.0, 4.0, 12.0, 16.0, 1.0, 5.0, 14.0, 21.0, 10.0, 23.0, 11.0, 23.0, 52.0, 64.0, 0.0, 29.0, 58.0, 42.0, 71.0, 91.0, 31.0, 45.0, 11.0, 5.0, 14.0, 5.0, 24.0, 23.0, 1.0, 18.0, 56.0, 55.0, 16.0, 28.0, 64.0, 88.0, 142.0, 6.0, 44.0, 70.0, 2.0, 0.0, 0.0, 0.0, 0.0, 0.0, 13.0, 2.0, 44.0, 20.0, 22.0, 34.0, 47.0, 38.0, 96.0, 34.0, 60.0, 35.0, 51.0, 62.0, 64.0, 29.0, 29.0, 2.0, 2.0, 4.0, 0.0, 14.0, 2.0, 32.0, 15.0, 22.0, 53.0, 42.0, 60.0, 51.0, 50.0, 63.0, 69.0, 52.0, 133.0, 4.0, 35.0, 33.0, 3.0, 10.0, 2.0, 33.0, 26.0, 24.0, 35.0, 42.0, 67.0, 36.0, 25.0, 61.0, 110.0, 98.0, 2.0, 28.0, 9.0, 4.0, 13.0, 2.0, 7.0, 52.0, 56.0, 111.0, 4.0, 23.0, 20.0, 33.0, 19.0, 17.0, 14.0, 10.0, 4.0, 7.0, 0.0, 14.0, 1.0, 18.0, 49.0, 29.0, 41.0, 17.0, 48.0, 52.0, 91.0, 5.0, 44.0, 24.0, 9.0, 3.0, 8.0, 6.0, 14.0, 14.0, 14.0, 55.0, 15.0, 79.0, 13.0, 37.0, 80.0, 3.0, 58.0, 97.0, 37.0, 63.0, 35.0, 42.0, 7.0, 33.0, 53.0, 2.0, 30.0, 1.0, 33.0, 61.0, 13.0, 2.0, 18.0, 51.0, 96.0, 92.0, 74.0, 54.0, 19.0, 12.0, 9.0, 9.0, 35.0, 7.0, 29.0, 63.0, 32.0, 61.0, 75.0, 65.0, 25.0, 42.0, 71.0, 46.0, 105.0, 65.0, 41.0, 24.0, 19.0, 4.0, 23.0, 35.0, 49.0, 11.0, 16.0, 78.0, 30.0, 27.0, 50.0, 126.0, 40.0, 57.0, 53.0, 32.0, 10.0, 11.0, 19.0, 9.0, 10.0, 31.0, 25.0, 46.0, 51.0, 48.0, 35.0, 29.0, 49.0, 104.0, 8.0, 31.0, 10.0, 8.0, 0.0, 4.0, 31.0, 44.0, 35.0, 112.0, 1.0, 24.0, 31.0, 13.0, 61.0, 19.0, 2.0, 13.0, 12.0, 11.0, 0.0, 8.0, 20.0, 2.0, 31.0, 22.0, 2.0, 24.0, 21.0, 50.0, 38.0, 78.0, 48.0, 26.0, 33.0, 3.0, 22.0, 4.0, 17.0, 27.0, 4.0, 17.0, 39.0, 55.0, 15.0, 29.0, 48.0, 66.0, 60.0, 66.0, 48.0, 83.0, 6.0, 9.0, 2.0, 31.0, 44.0, 14.0, 9.0, 24.0, 75.0, 30.0, 35.0, 32.0, 44.0, 55.0, 93.0, 48.0, 56.0, 35.0, 17.0, 6.0, 30.0, 5.0, 22.0, 73.0, 15.0, 31.0, 60.0, 68.0, 14.0, 36.0, 16.0, 69.0, 60.0, 112.0, 62.0, 16.0, 11.0, 5.0, 7.0, 21.0, 13.0, 27.0, 23.0, 40.0, 42.0, 83.0, 15.0, 37.0, 64.0, 51.0, 53.0, 45.0, 39.0, 12.0, 40.0, 2.0, 24.0, 2.0, 50.0, 61.0, 59.0, 43.0, 56.0, 43.0, 52.0, 85.0, 93.0, 21.0, 63.0, 8.0, 21.0, 1.0, 6.0, 11.0, 12.0, 25.0, 67.0, 50.0, 66.0, 8.0, 44.0, 28.0, 29.0, 9.0, 3.0, 13.0, 3.0, 0.0, 0.0, 0.0, 7.0, 0.0, 0.0, 0.0, 0.0, 0.0, 0.0, 19.0, 5.0, 36.0, 36.0, 67.0, 7.0, 48.0, 55.0, 80.0, 45.0, 5.0, 32.0, 5.0, 6.0, 14.0, 11.0, 1.0, 26.0, 1.0, 20.0, 33.0, 72.0, 6.0, 59.0, 10.0, 18.0, 70.0, 59.0, 125.0, 21.0, 20.0, 46.0, 9.0, 2.0, 9.0, 2.0, 22.0, 35.0, 10.0, 9.0, 32.0, 20.0, 35.0, 51.0, 19.0, 19.0, 49.0, 41.0, 81.0, 57.0, 62.0, 24.0, 26.0, 0.0, 3.0, 10.0, 28.0, 22.0, 35.0, 27.0, 39.0, 28.0, 51.0, 66.0, 2.0, 50.0, 33.0, 70.0, 24.0, 21.0, 11.0, 0.0, 32.0, 2.0, 19.0, 21.0, 24.0, 34.0, 61.0, 72.0, 25.0, 87.0, 9.0, 91.0, 53.0, 76.0, 53.0, 13.0, 24.0, 17.0, 0.0, 28.0, 2.0, 14.0, 7.0, 29.0, 76.0, 20.0, 54.0, 68.0, 18.0, 42.0, 59.0, 62.0, 22.0, 9.0, 11.0, 0.0, 7.0, 11.0, 73.0, 63.0, 73.0, 60.0, 2.0, 40.0, 47.0, 44.0, 25.0, 2.0, 21.0, 11.0, 6.0, 38.0, 9.0, 87.0, 32.0, 49.0, 4.0, 23.0, 69.0, 48.0, 75.0, 11.0, 58.0, 1.0, 41.0, 6.0, 4.0, 6.0, 74.0, 2.0, 37.0, 42.0, 25.0, 78.0, 41.0, 67.0, 26.0, 63.0, 86.0, 55.0, 76.0, 64.0, 42.0, 9.0, 6.0, 8.0, 14.0, 20.0, 36.0, 16.0, 30.0, 24.0, 74.0, 46.0, 72.0, 8.0, 46.0, 70.0, 69.0, 58.0, 67.0, 46.0, 4.0, 4.0, 9.0, 7.0, 12.0, 23.0, 50.0, 27.0, 24.0, 89.0, 28.0, 73.0, 47.0, 13.0, 110.0, 7.0, 72.0, 80.0, 31.0, 34.0, 6.0, 2.0, 10.0, 2.0, 1.0, 24.0, 26.0, 39.0, 41.0, 32.0, 44.0, 76.0, 11.0, 23.0, 35.0, 76.0, 33.0, 86.0, 7.0, 29.0, 16.0, 12.0, 0.0, 11.0, 2.0, 8.0, 20.0, 10.0, 5.0, 34.0, 41.0, 4.0, 17.0, 41.0, 63.0, 26.0, 8.0, 2.0, 2.0, 11.0, 0.0, 1.0, 40.0, 15.0, 38.0, 66.0, 9.0, 39.0, 21.0, 15.0, 8.0, 4.0, 8.0, 3.0, 6.0, 6.0, 13.0, 0.0, 38.0, 38.0, 29.0, 38.0, 3.0, 33.0, 3.0, 20.0, 40.0, 4.0, 7.0, 9.0, 2.0, 11.0, 10.0, 10.0, 1.0, 1.0, 12.0, 13.0, 17.0, 33.0, 24.0, 2.0, 27.0, 32.0, 28.0, 27.0, 2.0, 5.0, 3.0, 6.0, 0.0, 1.0, 6.0, 56.0, 57.0, 60.0, 41.0, 10.0, 28.0, 17.0, 8.0, 8.0, 14.0, 17.0, 63.0, 74.0, 3.0, 20.0, 37.0, 56.0, 2.0, 30.0, 12.0, 9.0, 2.0, 5.0, 24.0, 19.0, 83.0, 5.0, 12.0, 22.0, 40.0, 30.0, 25.0, 4.0, 2.0, 12.0, 3.0, 32.0, 32.0, 62.0, 2.0, 20.0, 12.0, 12.0, 5.0, 24.0, 9.0, 8.0, 5.0, 4.0, 17.0, 1.0, 23.0, 52.0, 51.0, 12.0, 19.0, 64.0, 5.0, 27.0, 47.0, 9.0, 5.0, 5.0, 0.0, 0.0, 0.0, 1.0, 18.0, 0.0, 2.0, 0.0, 9.0, 15.0, 47.0, 46.0, 7.0, 22.0, 42.0, 32.0, 27.0, 24.0, 9.0, 3.0, 9.0], \"yaxis\": \"y\"}],\n",
              "                        {\"legend\": {\"tracegroupgap\": 0}, \"template\": {\"data\": {\"bar\": [{\"error_x\": {\"color\": \"#2a3f5f\"}, \"error_y\": {\"color\": \"#2a3f5f\"}, \"marker\": {\"line\": {\"color\": \"#E5ECF6\", \"width\": 0.5}}, \"type\": \"bar\"}], \"barpolar\": [{\"marker\": {\"line\": {\"color\": \"#E5ECF6\", \"width\": 0.5}}, \"type\": \"barpolar\"}], \"carpet\": [{\"aaxis\": {\"endlinecolor\": \"#2a3f5f\", \"gridcolor\": \"white\", \"linecolor\": \"white\", \"minorgridcolor\": \"white\", \"startlinecolor\": \"#2a3f5f\"}, \"baxis\": {\"endlinecolor\": \"#2a3f5f\", \"gridcolor\": \"white\", \"linecolor\": \"white\", \"minorgridcolor\": \"white\", \"startlinecolor\": \"#2a3f5f\"}, \"type\": \"carpet\"}], \"choropleth\": [{\"colorbar\": {\"outlinewidth\": 0, \"ticks\": \"\"}, \"type\": \"choropleth\"}], \"contour\": [{\"colorbar\": {\"outlinewidth\": 0, \"ticks\": \"\"}, \"colorscale\": [[0.0, \"#0d0887\"], [0.1111111111111111, \"#46039f\"], [0.2222222222222222, \"#7201a8\"], [0.3333333333333333, \"#9c179e\"], [0.4444444444444444, \"#bd3786\"], [0.5555555555555556, \"#d8576b\"], [0.6666666666666666, \"#ed7953\"], [0.7777777777777778, \"#fb9f3a\"], [0.8888888888888888, \"#fdca26\"], [1.0, \"#f0f921\"]], \"type\": \"contour\"}], \"contourcarpet\": [{\"colorbar\": {\"outlinewidth\": 0, \"ticks\": \"\"}, \"type\": \"contourcarpet\"}], \"heatmap\": [{\"colorbar\": {\"outlinewidth\": 0, \"ticks\": \"\"}, \"colorscale\": [[0.0, \"#0d0887\"], [0.1111111111111111, \"#46039f\"], [0.2222222222222222, \"#7201a8\"], [0.3333333333333333, \"#9c179e\"], [0.4444444444444444, \"#bd3786\"], [0.5555555555555556, \"#d8576b\"], [0.6666666666666666, \"#ed7953\"], [0.7777777777777778, \"#fb9f3a\"], [0.8888888888888888, \"#fdca26\"], [1.0, \"#f0f921\"]], \"type\": \"heatmap\"}], \"heatmapgl\": [{\"colorbar\": {\"outlinewidth\": 0, \"ticks\": \"\"}, \"colorscale\": [[0.0, \"#0d0887\"], [0.1111111111111111, \"#46039f\"], [0.2222222222222222, \"#7201a8\"], [0.3333333333333333, \"#9c179e\"], [0.4444444444444444, \"#bd3786\"], [0.5555555555555556, \"#d8576b\"], [0.6666666666666666, \"#ed7953\"], [0.7777777777777778, \"#fb9f3a\"], [0.8888888888888888, \"#fdca26\"], [1.0, \"#f0f921\"]], \"type\": \"heatmapgl\"}], \"histogram\": [{\"marker\": {\"colorbar\": {\"outlinewidth\": 0, \"ticks\": \"\"}}, \"type\": \"histogram\"}], \"histogram2d\": [{\"colorbar\": {\"outlinewidth\": 0, \"ticks\": \"\"}, \"colorscale\": [[0.0, \"#0d0887\"], [0.1111111111111111, \"#46039f\"], [0.2222222222222222, \"#7201a8\"], [0.3333333333333333, \"#9c179e\"], [0.4444444444444444, \"#bd3786\"], [0.5555555555555556, \"#d8576b\"], [0.6666666666666666, \"#ed7953\"], [0.7777777777777778, \"#fb9f3a\"], [0.8888888888888888, \"#fdca26\"], [1.0, \"#f0f921\"]], \"type\": \"histogram2d\"}], \"histogram2dcontour\": [{\"colorbar\": {\"outlinewidth\": 0, \"ticks\": \"\"}, \"colorscale\": [[0.0, \"#0d0887\"], [0.1111111111111111, \"#46039f\"], [0.2222222222222222, \"#7201a8\"], [0.3333333333333333, \"#9c179e\"], [0.4444444444444444, \"#bd3786\"], [0.5555555555555556, \"#d8576b\"], [0.6666666666666666, \"#ed7953\"], [0.7777777777777778, \"#fb9f3a\"], [0.8888888888888888, \"#fdca26\"], [1.0, \"#f0f921\"]], \"type\": \"histogram2dcontour\"}], \"mesh3d\": [{\"colorbar\": {\"outlinewidth\": 0, \"ticks\": \"\"}, \"type\": \"mesh3d\"}], \"parcoords\": [{\"line\": {\"colorbar\": {\"outlinewidth\": 0, \"ticks\": \"\"}}, \"type\": \"parcoords\"}], \"pie\": [{\"automargin\": true, \"type\": \"pie\"}], \"scatter\": [{\"marker\": {\"colorbar\": {\"outlinewidth\": 0, \"ticks\": \"\"}}, \"type\": \"scatter\"}], \"scatter3d\": [{\"line\": {\"colorbar\": {\"outlinewidth\": 0, \"ticks\": \"\"}}, \"marker\": {\"colorbar\": {\"outlinewidth\": 0, \"ticks\": \"\"}}, \"type\": \"scatter3d\"}], \"scattercarpet\": [{\"marker\": {\"colorbar\": {\"outlinewidth\": 0, \"ticks\": \"\"}}, \"type\": \"scattercarpet\"}], \"scattergeo\": [{\"marker\": {\"colorbar\": {\"outlinewidth\": 0, \"ticks\": \"\"}}, \"type\": \"scattergeo\"}], \"scattergl\": [{\"marker\": {\"colorbar\": {\"outlinewidth\": 0, \"ticks\": \"\"}}, \"type\": \"scattergl\"}], \"scattermapbox\": [{\"marker\": {\"colorbar\": {\"outlinewidth\": 0, \"ticks\": \"\"}}, \"type\": \"scattermapbox\"}], \"scatterpolar\": [{\"marker\": {\"colorbar\": {\"outlinewidth\": 0, \"ticks\": \"\"}}, \"type\": \"scatterpolar\"}], \"scatterpolargl\": [{\"marker\": {\"colorbar\": {\"outlinewidth\": 0, \"ticks\": \"\"}}, \"type\": \"scatterpolargl\"}], \"scatterternary\": [{\"marker\": {\"colorbar\": {\"outlinewidth\": 0, \"ticks\": \"\"}}, \"type\": \"scatterternary\"}], \"surface\": [{\"colorbar\": {\"outlinewidth\": 0, \"ticks\": \"\"}, \"colorscale\": [[0.0, \"#0d0887\"], [0.1111111111111111, \"#46039f\"], [0.2222222222222222, \"#7201a8\"], [0.3333333333333333, \"#9c179e\"], [0.4444444444444444, \"#bd3786\"], [0.5555555555555556, \"#d8576b\"], [0.6666666666666666, \"#ed7953\"], [0.7777777777777778, \"#fb9f3a\"], [0.8888888888888888, \"#fdca26\"], [1.0, \"#f0f921\"]], \"type\": \"surface\"}], \"table\": [{\"cells\": {\"fill\": {\"color\": \"#EBF0F8\"}, \"line\": {\"color\": \"white\"}}, \"header\": {\"fill\": {\"color\": \"#C8D4E3\"}, \"line\": {\"color\": \"white\"}}, \"type\": \"table\"}]}, \"layout\": {\"annotationdefaults\": {\"arrowcolor\": \"#2a3f5f\", \"arrowhead\": 0, \"arrowwidth\": 1}, \"coloraxis\": {\"colorbar\": {\"outlinewidth\": 0, \"ticks\": \"\"}}, \"colorscale\": {\"diverging\": [[0, \"#8e0152\"], [0.1, \"#c51b7d\"], [0.2, \"#de77ae\"], [0.3, \"#f1b6da\"], [0.4, \"#fde0ef\"], [0.5, \"#f7f7f7\"], [0.6, \"#e6f5d0\"], [0.7, \"#b8e186\"], [0.8, \"#7fbc41\"], [0.9, \"#4d9221\"], [1, \"#276419\"]], \"sequential\": [[0.0, \"#0d0887\"], [0.1111111111111111, \"#46039f\"], [0.2222222222222222, \"#7201a8\"], [0.3333333333333333, \"#9c179e\"], [0.4444444444444444, \"#bd3786\"], [0.5555555555555556, \"#d8576b\"], [0.6666666666666666, \"#ed7953\"], [0.7777777777777778, \"#fb9f3a\"], [0.8888888888888888, \"#fdca26\"], [1.0, \"#f0f921\"]], \"sequentialminus\": [[0.0, \"#0d0887\"], [0.1111111111111111, \"#46039f\"], [0.2222222222222222, \"#7201a8\"], [0.3333333333333333, \"#9c179e\"], [0.4444444444444444, \"#bd3786\"], [0.5555555555555556, \"#d8576b\"], [0.6666666666666666, \"#ed7953\"], [0.7777777777777778, \"#fb9f3a\"], [0.8888888888888888, \"#fdca26\"], [1.0, \"#f0f921\"]]}, \"colorway\": [\"#636efa\", \"#EF553B\", \"#00cc96\", \"#ab63fa\", \"#FFA15A\", \"#19d3f3\", \"#FF6692\", \"#B6E880\", \"#FF97FF\", \"#FECB52\"], \"font\": {\"color\": \"#2a3f5f\"}, \"geo\": {\"bgcolor\": \"white\", \"lakecolor\": \"white\", \"landcolor\": \"#E5ECF6\", \"showlakes\": true, \"showland\": true, \"subunitcolor\": \"white\"}, \"hoverlabel\": {\"align\": \"left\"}, \"hovermode\": \"closest\", \"mapbox\": {\"style\": \"light\"}, \"paper_bgcolor\": \"white\", \"plot_bgcolor\": \"#E5ECF6\", \"polar\": {\"angularaxis\": {\"gridcolor\": \"white\", \"linecolor\": \"white\", \"ticks\": \"\"}, \"bgcolor\": \"#E5ECF6\", \"radialaxis\": {\"gridcolor\": \"white\", \"linecolor\": \"white\", \"ticks\": \"\"}}, \"scene\": {\"xaxis\": {\"backgroundcolor\": \"#E5ECF6\", \"gridcolor\": \"white\", \"gridwidth\": 2, \"linecolor\": \"white\", \"showbackground\": true, \"ticks\": \"\", \"zerolinecolor\": \"white\"}, \"yaxis\": {\"backgroundcolor\": \"#E5ECF6\", \"gridcolor\": \"white\", \"gridwidth\": 2, \"linecolor\": \"white\", \"showbackground\": true, \"ticks\": \"\", \"zerolinecolor\": \"white\"}, \"zaxis\": {\"backgroundcolor\": \"#E5ECF6\", \"gridcolor\": \"white\", \"gridwidth\": 2, \"linecolor\": \"white\", \"showbackground\": true, \"ticks\": \"\", \"zerolinecolor\": \"white\"}}, \"shapedefaults\": {\"line\": {\"color\": \"#2a3f5f\"}}, \"ternary\": {\"aaxis\": {\"gridcolor\": \"white\", \"linecolor\": \"white\", \"ticks\": \"\"}, \"baxis\": {\"gridcolor\": \"white\", \"linecolor\": \"white\", \"ticks\": \"\"}, \"bgcolor\": \"#E5ECF6\", \"caxis\": {\"gridcolor\": \"white\", \"linecolor\": \"white\", \"ticks\": \"\"}}, \"title\": {\"x\": 0.05}, \"xaxis\": {\"automargin\": true, \"gridcolor\": \"white\", \"linecolor\": \"white\", \"ticks\": \"\", \"title\": {\"standoff\": 15}, \"zerolinecolor\": \"white\", \"zerolinewidth\": 2}, \"yaxis\": {\"automargin\": true, \"gridcolor\": \"white\", \"linecolor\": \"white\", \"ticks\": \"\", \"title\": {\"standoff\": 15}, \"zerolinecolor\": \"white\", \"zerolinewidth\": 2}}}, \"title\": {\"text\": \"peopleCounter No. 1931 at Location 234\"}, \"xaxis\": {\"anchor\": \"y\", \"domain\": [0.0, 1.0], \"rangeselector\": {\"buttons\": [{\"count\": 1, \"label\": \"1mon\", \"step\": \"month\", \"stepmode\": \"backward\"}, {\"count\": 2, \"label\": \"2mon\", \"step\": \"month\", \"stepmode\": \"backward\"}, {\"step\": \"all\"}]}, \"rangeslider\": {\"visible\": true}, \"title\": {\"text\": \"timestamp\"}}, \"yaxis\": {\"anchor\": \"x\", \"domain\": [0.0, 1.0], \"title\": {\"text\": \"diff\"}}},\n",
              "                        {\"responsive\": true}\n",
              "                    ).then(function(){\n",
              "                            \n",
              "var gd = document.getElementById('86d786fc-8028-4c95-8c4c-ace44bdf3c6b');\n",
              "var x = new MutationObserver(function (mutations, observer) {{\n",
              "        var display = window.getComputedStyle(gd).display;\n",
              "        if (!display || display === 'none') {{\n",
              "            console.log([gd, 'removed!']);\n",
              "            Plotly.purge(gd);\n",
              "            observer.disconnect();\n",
              "        }}\n",
              "}});\n",
              "\n",
              "// Listen for the removal of the full notebook cells\n",
              "var notebookContainer = gd.closest('#notebook-container');\n",
              "if (notebookContainer) {{\n",
              "    x.observe(notebookContainer, {childList: true});\n",
              "}}\n",
              "\n",
              "// Listen for the clearing of the current output cell\n",
              "var outputEl = gd.closest('.output');\n",
              "if (outputEl) {{\n",
              "    x.observe(outputEl, {childList: true});\n",
              "}}\n",
              "\n",
              "                        })\n",
              "                };\n",
              "                \n",
              "            </script>\n",
              "        </div>\n",
              "</body>\n",
              "</html>"
            ]
          },
          "metadata": {
            "tags": []
          }
        }
      ]
    },
    {
      "cell_type": "code",
      "metadata": {
        "id": "G6TpMqyGfb1V"
      },
      "source": [
        "vru_1931_new  = vru_1931_new.set_index(['timestamp'])"
      ],
      "execution_count": null,
      "outputs": []
    },
    {
      "cell_type": "markdown",
      "metadata": {
        "id": "AuV3_QGoPvEB"
      },
      "source": [
        "### Get timestamp of the dispenser(No.287) at that particular location"
      ]
    },
    {
      "cell_type": "code",
      "metadata": {
        "id": "vYeZLjtNzr9c"
      },
      "source": [
        "def day_prior(x):\n",
        "  x = x.split(' ')\n",
        "  lst = [re.split('-|:',s) for s in x]\n",
        "  lst_overall = lst[0] + lst[1]\n",
        "  for i, e in enumerate(lst_overall):\n",
        "    if e.startswith('0'):\n",
        "      lst_overall[i] = e[1:] \n",
        "    if i == len(lst_overall) - 1:\n",
        "      e = lst_overall[i]\n",
        "      lst_overall[i] = e.split('.')[0]\n",
        "\n",
        "  date = datetime.datetime(int(lst_overall[0]),int(lst_overall[1]),int(lst_overall[2]),\n",
        "                         int(lst_overall[3]),int(lst_overall[4]),int(lst_overall[5]))\n",
        "  date -= datetime.timedelta(days=1)\n",
        "  time_str = date.strftime(\"%Y-%m-%d %H:%M:%S.%f0\")\n",
        "\n",
        "  return time_str"
      ],
      "execution_count": null,
      "outputs": []
    },
    {
      "cell_type": "code",
      "metadata": {
        "id": "cqbjLSOnL0vR"
      },
      "source": [
        "scu = files_dic['scu_log_df']\n",
        "# timestamp for Dispenser No.287\n",
        "scu_filter = scu[(scu['DispenserId'] == 484) | (scu['DispenserId'] == 512) | (scu['DispenserId'] == 1204)]\n",
        "#scu_287 = scu_287.set_index(['timestamp'])"
      ],
      "execution_count": 14,
      "outputs": []
    },
    {
      "cell_type": "code",
      "metadata": {
        "id": "UCpBJgmUc82r"
      },
      "source": [
        "scu_filter_484 = scu_filter[scu_filter['DispenserId'] == 484]\n",
        "scu_id = scu_filter_484['scu_id'].unique()\n",
        "scu_filter_484_1 = scu_filter_484[scu_filter_484['scu_id'] == scu_id[0]]\n",
        "scu_filter_484_2 = scu_filter_484[scu_filter_484['scu_id'] == scu_id[1]]\n",
        "\n",
        "\n",
        "scu_filter_512 = scu_filter[scu_filter['DispenserId'] == 512]\n",
        "scu_id = scu_filter_512['scu_id'].unique()\n",
        "scu_filter_51_1 = scu_filter_512[scu_filter_512['scu_id'] == scu_id[0]]\n",
        "scu_filter_51_2 = scu_filter_512[scu_filter_512['scu_id'] == scu_id[1]]\n",
        "scu_filter_51_3 = scu_filter_512[scu_filter_512['scu_id'] == scu_id[2]]\n",
        "\n",
        "scu_filter_1204 = scu_filter[scu_filter['DispenserId'] == 1204]\n",
        "scu_id = scu_filter_1204['scu_id'].unique()\n",
        "scu_filter_1204_1 = scu_filter_1204[scu_filter_1204['scu_id'] == scu_id[0]]\n",
        "scu_filter_1204_2 = scu_filter_1204[scu_filter_1204['scu_id'] == scu_id[1]]"
      ],
      "execution_count": 15,
      "outputs": []
    },
    {
      "cell_type": "code",
      "metadata": {
        "id": "lmpmhXcOZz45"
      },
      "source": [
        "scu_filter = scu_filter[['sensor1','sensor2','dispenser_type','scuStatus']]"
      ],
      "execution_count": 16,
      "outputs": []
    },
    {
      "cell_type": "code",
      "metadata": {
        "id": "rTBKkGIIENoZ"
      },
      "source": [
        "scu_filter = scu_filter.sample(frac=1).rename(columns={'scuStatus':'label'}).reset_index().drop(columns=['index']).drop_duplicates()"
      ],
      "execution_count": 17,
      "outputs": []
    },
    {
      "cell_type": "code",
      "metadata": {
        "id": "6lMFmyKLmhoW"
      },
      "source": [
        "scu_filter['dispenser_type'] = scu_filter['dispenser_type'].apply(lambda x: 0 if x=='T6' else 1 if x=='H2' else 2)\n",
        "scu_filter['label'] = scu_filter['label'].apply(lambda x: 0 if x=='Green' else 1 if x=='Yellow' else 2)\n",
        "#data['label'] = data['label'].apply(lambda x: 0 if x=='Green' else 1)"
      ],
      "execution_count": 18,
      "outputs": []
    },
    {
      "cell_type": "markdown",
      "metadata": {
        "id": "4KJdWzQn9pdu"
      },
      "source": [
        "### Random Forest and Neural Network"
      ]
    },
    {
      "cell_type": "code",
      "metadata": {
        "id": "mrY87gPXUD8K"
      },
      "source": [
        "train_size = int(len(scu_filter) * 0.70)\n",
        "test_size = len(scu_filter) - train_size\n",
        "train = scu_filter[:train_size]\n",
        "test =  scu_filter[train_size:]\n",
        "x_train = train.drop(columns=['label'])\n",
        "x_test  = test.drop(columns=['label'])\n",
        "y_train = train['label'].values\n",
        "y_test = test['label'].values"
      ],
      "execution_count": null,
      "outputs": []
    },
    {
      "cell_type": "code",
      "metadata": {
        "id": "y1GS6Uq7S-Nq"
      },
      "source": [
        "\n",
        "scaler_train = StandardScaler()\n",
        "scaler_train.fit(x_train)\n",
        "x_train_normalized = scaler_train.transform(x_train).copy()\n",
        "\n",
        "scaler_test = StandardScaler()\n",
        "scaler_test.fit(x_test)\n",
        "x_test_normalized = scaler_test.transform(x_test).copy()"
      ],
      "execution_count": null,
      "outputs": []
    },
    {
      "cell_type": "code",
      "metadata": {
        "colab": {
          "base_uri": "https://localhost:8080/"
        },
        "id": "bPrzyZD9WY86",
        "outputId": "3647931d-a1d8-4cb8-fe30-1e68d5d91a00"
      },
      "source": [
        "clf1 = RandomForestClassifier(n_jobs=-1, random_state=5, n_estimators=50)\n",
        "clf1.fit(x_train_normalized,y_train)\n",
        "print(clf1.score(x_train_normalized,y_train))\n",
        "print(clf1.score(x_test_normalized,y_test))\n",
        "pred_rf = clf1.predict(x_test_normalized)"
      ],
      "execution_count": null,
      "outputs": [
        {
          "output_type": "stream",
          "text": [
            "1.0\n",
            "0.9987985582699239\n"
          ],
          "name": "stdout"
        }
      ]
    },
    {
      "cell_type": "code",
      "metadata": {
        "colab": {
          "base_uri": "https://localhost:8080/",
          "height": 283
        },
        "id": "8PEqpvjEQdH1",
        "outputId": "3363db1a-0fc5-409f-e014-e57496ed2775"
      },
      "source": [
        "final_array = sklearn.metrics.confusion_matrix(y_test, pred_rf)\n",
        "final_array = pd.DataFrame(final_array, index=['Green','Yellow','Red'],columns=['Green','Yellow','Red'])\n",
        "final_array = final_array.apply(lambda x :x/final_array.sum(axis=1))\n",
        "plt_rf = sns.heatmap(final_array, annot=True)\n",
        "plt_rf.set_xlabel('Predicted Class')\n",
        "plt_rf.set_ylabel('Actual Class')\n",
        "plt.show()"
      ],
      "execution_count": null,
      "outputs": [
        {
          "output_type": "display_data",
          "data": {
            "image/png": "[encoded data removed]",
            "text/plain": [
              "<Figure size 432x288 with 2 Axes>"
            ]
          },
          "metadata": {
            "tags": [],
            "needs_background": "light"
          }
        }
      ]
    },
    {
      "cell_type": "code",
      "metadata": {
        "colab": {
          "base_uri": "https://localhost:8080/"
        },
        "id": "hLXh50LfvUY_",
        "outputId": "7866c98f-5809-49ac-84ba-7f49385a870b"
      },
      "source": [
        "from sklearn.metrics import confusion_matrix\n",
        "\n",
        "print(\"confusion matrix (count):\\n\",confusion_matrix(y_test, pred_rf))"
      ],
      "execution_count": null,
      "outputs": [
        {
          "output_type": "stream",
          "text": [
            "confusion matrix (count):\n",
            " [[2366    0    1]\n",
            " [   0   96    0]\n",
            " [   2    0   32]]\n"
          ],
          "name": "stdout"
        }
      ]
    },
    {
      "cell_type": "code",
      "metadata": {
        "colab": {
          "base_uri": "https://localhost:8080/"
        },
        "id": "dsmcvUUgtagn",
        "outputId": "d7a61834-5079-42b3-a965-2a63ef196e3a"
      },
      "source": [
        "TP = 47 \n",
        "FP = 0\n",
        "FN = 1\n",
        "TN = 2449\n",
        "\n",
        "#Recall : 0.75\n",
        "recall = TP/(TP+FN)\n",
        "print('Recall',recall)\n",
        "#Specificity: 1\n",
        "specificity = TN/(TN + FP)\n",
        "print('Specificity',specificity)\n",
        "#Precision: 1\n",
        "precision = TP/(TP+FP)\n",
        "print('Precision',precision)\n",
        "# F1 score:\n",
        "F1_score = 2*precision*recall / (precision + recall)\n",
        "print('F1 score',F1_score)"
      ],
      "execution_count": null,
      "outputs": [
        {
          "output_type": "stream",
          "text": [
            "Recall 0.9791666666666666\n",
            "Specificity 1.0\n",
            "Precision 1.0\n",
            "F1 score 0.9894736842105264\n"
          ],
          "name": "stdout"
        }
      ]
    },
    {
      "cell_type": "code",
      "metadata": {
        "id": "IxSAVl5AcZxk",
        "colab": {
          "base_uri": "https://localhost:8080/"
        },
        "outputId": "1d05f181-6ea8-4299-d089-a3f2f779864a"
      },
      "source": [
        "from sklearn.neural_network import MLPClassifier\n",
        "clf_neural = MLPClassifier(verbose=1)\n",
        "from sklearn.model_selection import GridSearchCV\n",
        "para = {'activation': ['logistic','relu','identity'], 'hidden_layer_sizes':[(1024),(1024,256),(1024,256,64)],'max_iter':[50] }\n",
        "cv = GridSearchCV(clf_neural, para, n_jobs = -1, cv = 3, verbose=1)\n",
        "cv.fit(x_train_normalized, y_train)\n",
        "cv.best_estimator_"
      ],
      "execution_count": null,
      "outputs": [
        {
          "output_type": "stream",
          "text": [
            "Fitting 3 folds for each of 9 candidates, totalling 27 fits\n"
          ],
          "name": "stdout"
        },
        {
          "output_type": "stream",
          "text": [
            "[Parallel(n_jobs=-1)]: Using backend LokyBackend with 2 concurrent workers.\n",
            "[Parallel(n_jobs=-1)]: Done  27 out of  27 | elapsed:  3.7min finished\n"
          ],
          "name": "stderr"
        },
        {
          "output_type": "stream",
          "text": [
            "Iteration 1, loss = 0.10518242\n",
            "Iteration 2, loss = 0.00601219\n",
            "Iteration 3, loss = 0.00507756\n",
            "Iteration 4, loss = 0.00546218\n",
            "Iteration 5, loss = 0.00535840\n",
            "Iteration 6, loss = 0.00767031\n",
            "Iteration 7, loss = 0.00510859\n",
            "Iteration 8, loss = 0.00433931\n",
            "Iteration 9, loss = 0.00441506\n",
            "Iteration 10, loss = 0.00466617\n",
            "Iteration 11, loss = 0.00378428\n",
            "Iteration 12, loss = 0.00440124\n",
            "Iteration 13, loss = 0.00465318\n",
            "Iteration 14, loss = 0.00453895\n",
            "Iteration 15, loss = 0.00486682\n",
            "Iteration 16, loss = 0.00412029\n",
            "Iteration 17, loss = 0.00379858\n",
            "Iteration 18, loss = 0.00414799\n",
            "Iteration 19, loss = 0.00491358\n",
            "Iteration 20, loss = 0.00507262\n",
            "Iteration 21, loss = 0.00387484\n",
            "Iteration 22, loss = 0.00404629\n",
            "Training loss did not improve more than tol=0.000100 for 10 consecutive epochs. Stopping.\n"
          ],
          "name": "stdout"
        },
        {
          "output_type": "execute_result",
          "data": {
            "text/plain": [
              "MLPClassifier(activation='identity', alpha=0.0001, batch_size='auto',\n",
              "              beta_1=0.9, beta_2=0.999, early_stopping=False, epsilon=1e-08,\n",
              "              hidden_layer_sizes=(1024, 256), learning_rate='constant',\n",
              "              learning_rate_init=0.001, max_fun=15000, max_iter=50,\n",
              "              momentum=0.9, n_iter_no_change=10, nesterovs_momentum=True,\n",
              "              power_t=0.5, random_state=None, shuffle=True, solver='adam',\n",
              "              tol=0.0001, validation_fraction=0.1, verbose=1, warm_start=False)"
            ]
          },
          "metadata": {
            "tags": []
          },
          "execution_count": 29
        }
      ]
    },
    {
      "cell_type": "code",
      "metadata": {
        "id": "yt7XmDx9cimd",
        "colab": {
          "base_uri": "https://localhost:8080/"
        },
        "outputId": "eaf16f34-e3df-46d7-bb13-ad93d1c14b02"
      },
      "source": [
        "cv.best_estimator_.fit(x_train_normalized, y_train)"
      ],
      "execution_count": null,
      "outputs": [
        {
          "output_type": "stream",
          "text": [
            "Iteration 1, loss = 0.10103585\n",
            "Iteration 2, loss = 0.00629089\n",
            "Iteration 3, loss = 0.00567589\n",
            "Iteration 4, loss = 0.00501176\n",
            "Iteration 5, loss = 0.00463225\n",
            "Iteration 6, loss = 0.00480224\n",
            "Iteration 7, loss = 0.00393775\n",
            "Iteration 8, loss = 0.00460728\n",
            "Iteration 9, loss = 0.00440864\n",
            "Iteration 10, loss = 0.00419026\n",
            "Iteration 11, loss = 0.00540812\n",
            "Iteration 12, loss = 0.00446434\n",
            "Iteration 13, loss = 0.00449108\n",
            "Iteration 14, loss = 0.00459173\n",
            "Iteration 15, loss = 0.00482416\n",
            "Iteration 16, loss = 0.00365310\n",
            "Iteration 17, loss = 0.00487706\n",
            "Iteration 18, loss = 0.00441507\n",
            "Iteration 19, loss = 0.00552399\n",
            "Iteration 20, loss = 0.00509835\n",
            "Iteration 21, loss = 0.00423945\n",
            "Iteration 22, loss = 0.00424787\n",
            "Iteration 23, loss = 0.00413372\n",
            "Iteration 24, loss = 0.00439029\n",
            "Iteration 25, loss = 0.00410491\n",
            "Iteration 26, loss = 0.00405034\n",
            "Iteration 27, loss = 0.00358047\n",
            "Training loss did not improve more than tol=0.000100 for 10 consecutive epochs. Stopping.\n"
          ],
          "name": "stdout"
        },
        {
          "output_type": "execute_result",
          "data": {
            "text/plain": [
              "MLPClassifier(activation='identity', alpha=0.0001, batch_size='auto',\n",
              "              beta_1=0.9, beta_2=0.999, early_stopping=False, epsilon=1e-08,\n",
              "              hidden_layer_sizes=(1024, 256), learning_rate='constant',\n",
              "              learning_rate_init=0.001, max_fun=15000, max_iter=50,\n",
              "              momentum=0.9, n_iter_no_change=10, nesterovs_momentum=True,\n",
              "              power_t=0.5, random_state=None, shuffle=True, solver='adam',\n",
              "              tol=0.0001, validation_fraction=0.1, verbose=1, warm_start=False)"
            ]
          },
          "metadata": {
            "tags": []
          },
          "execution_count": 30
        }
      ]
    },
    {
      "cell_type": "code",
      "metadata": {
        "id": "6mEscTv_ckh1",
        "colab": {
          "base_uri": "https://localhost:8080/"
        },
        "outputId": "9ee01186-54c8-491b-862f-5692e3fae7a7"
      },
      "source": [
        "cv.score(x_test_normalized, y_test)"
      ],
      "execution_count": null,
      "outputs": [
        {
          "output_type": "execute_result",
          "data": {
            "text/plain": [
              "0.9891870244293152"
            ]
          },
          "metadata": {
            "tags": []
          },
          "execution_count": 31
        }
      ]
    },
    {
      "cell_type": "code",
      "metadata": {
        "id": "0PZ_zLyocmMB",
        "colab": {
          "base_uri": "https://localhost:8080/",
          "height": 283
        },
        "outputId": "f2406278-694d-4261-e76b-3e01c26df66c"
      },
      "source": [
        " # test data confusion matrix\n",
        "pred_nn = cv.predict(x_test_normalized)\n",
        "final_array = sklearn.metrics.confusion_matrix(y_test, pred_nn)\n",
        "final_array = pd.DataFrame(final_array, index=['Green','Yellow','Red'],columns=['Green','Yellow','Red'])\n",
        "final_array = final_array.apply(lambda x :x/final_array.sum(axis=1))\n",
        "plt_svm_test = sns.heatmap(final_array, annot=True)\n",
        "plt_svm_test.set_xlabel('Predicted Class')\n",
        "plt_svm_test.set_ylabel('Actual Class')\n",
        "plt.show()"
      ],
      "execution_count": null,
      "outputs": [
        {
          "output_type": "display_data",
          "data": {
            "image/png": "[encoded data removed]",
            "text/plain": [
              "<Figure size 432x288 with 2 Axes>"
            ]
          },
          "metadata": {
            "tags": [],
            "needs_background": "light"
          }
        }
      ]
    },
    {
      "cell_type": "code",
      "metadata": {
        "id": "dFLFNGIqcpO1",
        "colab": {
          "base_uri": "https://localhost:8080/"
        },
        "outputId": "70af8e57-565e-430f-ea70-53e7e74d1a47"
      },
      "source": [
        "from sklearn.metrics import confusion_matrix\n",
        "\n",
        "print(\"confusion matrix (count):\\n\",confusion_matrix(y_test, pred_rf))"
      ],
      "execution_count": null,
      "outputs": [
        {
          "output_type": "stream",
          "text": [
            "confusion matrix (count):\n",
            " [[2366    0    1]\n",
            " [   0   96    0]\n",
            " [   2    0   32]]\n"
          ],
          "name": "stdout"
        }
      ]
    },
    {
      "cell_type": "code",
      "metadata": {
        "id": "CZMNmjLocpkw",
        "colab": {
          "base_uri": "https://localhost:8080/"
        },
        "outputId": "6d336088-3480-415f-f7c3-d57a60205a7d"
      },
      "source": [
        "TP = 47 \n",
        "FP = 0\n",
        "FN = 1\n",
        "TN = 2449\n",
        "\n",
        "#Recall : 0.75\n",
        "recall = TP/(TP+FN)\n",
        "print('Recall',recall)\n",
        "#Specificity: 1\n",
        "specificity = TN/(TN + FP)\n",
        "print('Specificity',specificity)\n",
        "#Precision: 1\n",
        "precision = TP/(TP+FP)\n",
        "print('Precision',precision)\n",
        "# F1 score:\n",
        "F1_score = 2*precision*recall / (precision + recall)\n",
        "print('F1 score',F1_score)"
      ],
      "execution_count": null,
      "outputs": [
        {
          "output_type": "stream",
          "text": [
            "Recall 0.9791666666666666\n",
            "Specificity 1.0\n",
            "Precision 1.0\n",
            "F1 score 0.9894736842105264\n"
          ],
          "name": "stdout"
        }
      ]
    },
    {
      "cell_type": "markdown",
      "metadata": {
        "id": "O5TJTctL9vB4"
      },
      "source": [
        "### LSTM Network"
      ]
    },
    {
      "cell_type": "code",
      "metadata": {
        "id": "v1vdo9ljGSEf"
      },
      "source": [
        "import torch\n",
        "import torch.utils.data\n",
        "import torch.nn.functional as F\n",
        "from torch.autograd import Variable\n",
        "import numpy as np\n",
        "from sklearn.preprocessing import StandardScaler\n",
        "import matplotlib.pyplot as plt\n",
        "import timeit"
      ],
      "execution_count": 19,
      "outputs": []
    },
    {
      "cell_type": "code",
      "metadata": {
        "id": "ngMDxVs51-Qi"
      },
      "source": [
        "class LSTM:\n",
        "    # Initialize the class\n",
        "    def __init__(self, X, Y, hidden_dim):\n",
        "        \n",
        "        # Check if there is a GPU available\n",
        "        if torch.cuda.is_available() == True:\n",
        "            self.dtype = torch.cuda.FloatTensor\n",
        "        else:\n",
        "            self.dtype = torch.FloatTensor\n",
        "            \n",
        "        # X has the form lags x data x dim\n",
        "        # Y has the form data x dim\n",
        "\n",
        "        # Define PyTorch variables\n",
        "        self.X = torch.from_numpy(X).type(self.dtype)\n",
        "        self.Y = torch.from_numpy(Y).type(self.dtype)\n",
        "        #self.X = Variable(X, requires_grad=False)\n",
        "        #self.Y = Variable(Y, requires_grad=False)\n",
        "                 \n",
        "        self.X_dim = X.shape[-1]\n",
        "        self.Y_dim = Y.shape[-1]\n",
        "        self.hidden_dim = hidden_dim\n",
        "        self.lags = X.shape[0]\n",
        "        \n",
        "        # Initialize network weights and biases        \n",
        "        self.U_f, self.b_f, self.W_f, self.U_i, self.b_i, self.W_i, self.U_s, self.b_s, self.W_s, self.U_o, self.b_o, self.W_o, self.V, self.c = self.initialize_RNN()\n",
        "                \n",
        "        # Store loss values\n",
        "        self.training_loss = []\n",
        "      \n",
        "        # Define optimizer\n",
        "        self.optimizer = torch.optim.Adam([self.U_f, self.b_f, self.W_f, self.U_i, self.b_i, self.W_i, self.U_s, self.b_s, self.W_s, self.U_o, self.b_o, self.W_o, self.V, self.c], lr=1e-3)\n",
        "    \n",
        "    \n",
        "    # Initialize network weights and biases using Xavier initialization\n",
        "    def initialize_RNN(self):      \n",
        "        # Xavier initialization\n",
        "        def xavier_init(size):\n",
        "            in_dim = size[0]\n",
        "            out_dim = size[1]\n",
        "            xavier_stddev = np.sqrt(2.0/(in_dim + out_dim))\n",
        "            return Variable(xavier_stddev*torch.randn(in_dim, out_dim).type(self.dtype), requires_grad=True)\n",
        "        \n",
        "        U_f = xavier_init(size=[self.X_dim, self.hidden_dim])\n",
        "        U_i = xavier_init(size=[self.X_dim, self.hidden_dim])\n",
        "        U_s = xavier_init(size=[self.X_dim, self.hidden_dim])\n",
        "        U_o = xavier_init(size=[self.X_dim, self.hidden_dim])\n",
        "\n",
        "        b_f = Variable(torch.zeros(1,self.hidden_dim).type(self.dtype), requires_grad=True)\n",
        "        b_i = Variable(torch.zeros(1,self.hidden_dim).type(self.dtype), requires_grad=True)\n",
        "        b_s = Variable(torch.zeros(1,self.hidden_dim).type(self.dtype), requires_grad=True)\n",
        "        b_o = Variable(torch.zeros(1,self.hidden_dim).type(self.dtype), requires_grad=True)\n",
        "            \n",
        "        W_f = Variable(torch.eye(self.hidden_dim).type(self.dtype), requires_grad=True)\n",
        "        W_i = Variable(torch.eye(self.hidden_dim).type(self.dtype), requires_grad=True)\n",
        "        W_s = Variable(torch.eye(self.hidden_dim).type(self.dtype), requires_grad=True)\n",
        "        W_o = Variable(torch.eye(self.hidden_dim).type(self.dtype), requires_grad=True)\n",
        "        \n",
        "        V = xavier_init(size=[self.hidden_dim, self.Y_dim])\n",
        "        c = Variable(torch.zeros(1,self.Y_dim).type(self.dtype), requires_grad=True)\n",
        "        \n",
        "        return U_f, b_f, W_f,U_i, b_i, W_i,U_s, b_s, W_s,U_o, b_o, W_o, V, c\n",
        "       \n",
        "           \n",
        "    # Evaluates the forward pass\n",
        "    def forward_pass(self, X):\n",
        "        H = torch.zeros(X.shape[1], self.hidden_dim).type(self.dtype)\n",
        "        C_gate = torch.zeros(X.shape[1], self.hidden_dim).type(self.dtype)\n",
        "        for i in range(0, self.lags):\n",
        "          X_input = X[i,:,:]\n",
        "\n",
        "          Forget_gate = torch.sigmoid(torch.matmul(H,self.W_f) + torch.matmul(X_input,self.U_f) + self.b_f)\n",
        "          Input_gate = torch.sigmoid(torch.matmul(H,self.W_i) + torch.matmul(X_input,self.U_i) + self.b_i)\n",
        "          Candidate_gate = torch.tanh(torch.matmul(H,self.W_s) + torch.matmul(X_input,self.U_s) + self.b_s)\n",
        "          C_gate = Forget_gate * C_gate + Input_gate * Candidate_gate\n",
        "          Output_gate = torch.sigmoid(torch.matmul(H,self.W_o) + torch.matmul(X_input,self.U_o) + self.b_o)\n",
        "          H = Output_gate * torch.tanh(C_gate)\n",
        "\n",
        "        H = torch.matmul(H,self.V) + self.c\n",
        "\n",
        "\n",
        "\n",
        "        return H\n",
        "  \n",
        "\n",
        "    # Computes the mean square error loss\n",
        "    def compute_loss(self, X, Y):\n",
        "        loss = torch.mean((Y - self.forward_pass(X))**2)\n",
        "        return loss\n",
        "        \n",
        "    # Fetches a mini-batch of data\n",
        "    def fetch_minibatch(self,X, y, N_batch):\n",
        "        N = X.shape[1]\n",
        "        idx = torch.randperm(N)[0:N_batch]\n",
        "        X_batch = X[:,idx,:]\n",
        "        y_batch = y[idx,:]      \n",
        "        return X_batch, y_batch\n",
        "    \n",
        "    \n",
        "    # Trains the model by minimizing the MSE loss\n",
        "    def train(self, nIter = 30000, batch_size = 256):\n",
        "        \n",
        "        start_time = timeit.default_timer()\n",
        "        for it in range(nIter):\n",
        "            # Fetch mini-batch\n",
        "            X_batch, Y_batch = self.fetch_minibatch(self.X, self.Y, batch_size)\n",
        "            \n",
        "            loss = self.compute_loss(X_batch, Y_batch)\n",
        "            \n",
        "            # Store loss value\n",
        "            self.training_loss.append(loss)\n",
        "            \n",
        "            # Backward pass\n",
        "            loss.backward()\n",
        "            \n",
        "            # update parameters\n",
        "            self.optimizer.step()\n",
        "            \n",
        "            # Reset gradients for next step\n",
        "            self.optimizer.zero_grad()\n",
        "            \n",
        "            # Print\n",
        "            if it % 100 == 0:\n",
        "                elapsed = timeit.default_timer() - start_time\n",
        "                print('It: %d, Loss: %.3e, Time: %.2f' % \n",
        "                      (it, loss.cpu().data.numpy(), elapsed))\n",
        "                start_time = timeit.default_timer()\n",
        "    \n",
        "    \n",
        "   # Evaluates predictions at test points    \n",
        "    def predict(self, X_star):\n",
        "        X_star = torch.from_numpy(X_star).type(self.dtype)\n",
        "        y_star = self.forward_pass(X_star)\n",
        "        y_star = y_star.cpu().data.numpy()\n",
        "        return y_star"
      ],
      "execution_count": 20,
      "outputs": []
    },
    {
      "cell_type": "code",
      "metadata": {
        "colab": {
          "base_uri": "https://localhost:8080/"
        },
        "id": "_V9lLNteEqet",
        "outputId": "d18c7b52-6928-4b2f-d6a0-8a52f9398931"
      },
      "source": [
        "new_df = scu_filter_51_1[['sensor1','sensor2','scuStatus']]\n",
        "new_df['scuStatus'] = new_df['scuStatus'].apply(lambda x: 0 if x=='Green' else 1 if x=='Yellow' else 2)\n",
        "data = new_df[['sensor1','sensor2']].to_numpy()"
      ],
      "execution_count": 21,
      "outputs": [
        {
          "output_type": "stream",
          "text": [
            "/usr/local/lib/python3.6/dist-packages/ipykernel_launcher.py:2: SettingWithCopyWarning: \n",
            "A value is trying to be set on a copy of a slice from a DataFrame.\n",
            "Try using .loc[row_indexer,col_indexer] = value instead\n",
            "\n",
            "See the caveats in the documentation: https://pandas.pydata.org/pandas-docs/stable/user_guide/indexing.html#returning-a-view-versus-a-copy\n",
            "  \n"
          ],
          "name": "stderr"
        }
      ]
    },
    {
      "cell_type": "code",
      "metadata": {
        "id": "3ZJw5-n3Cb9O"
      },
      "source": [
        "def create_dataset(data, lags):\n",
        "    N = len(data)-lags\n",
        "    data_dim = data.shape[1]\n",
        "    X = np.zeros((lags, N, data_dim))\n",
        "    Y = np.zeros((N, data_dim))\n",
        "    for i in range(0,N):\n",
        "        X[:,i,:] = data[i:(i+lags), :]\n",
        "        Y[i,:] = data[i + lags, :]\n",
        "    return X, Y\n",
        "    "
      ],
      "execution_count": 31,
      "outputs": []
    },
    {
      "cell_type": "code",
      "metadata": {
        "colab": {
          "base_uri": "https://localhost:8080/"
        },
        "id": "J35Pm0iKGnsC",
        "outputId": "9379f5a9-95e7-4363-f808-c2c2ba0ea714"
      },
      "source": [
        "norm_solution = (data - np.mean(data,axis=0))/(np.std(data,axis=0))\n",
        "length = int(len(norm_solution)*(4/5))\n",
        "train = norm_solution[0:length]\n",
        "train.shape"
      ],
      "execution_count": 32,
      "outputs": [
        {
          "output_type": "execute_result",
          "data": {
            "text/plain": [
              "(1838, 2)"
            ]
          },
          "metadata": {
            "tags": []
          },
          "execution_count": 32
        }
      ]
    },
    {
      "cell_type": "code",
      "metadata": {
        "id": "fgGQCMiVHRrw"
      },
      "source": [
        "lags = 15\n",
        "X, Y = create_dataset(train, lags)"
      ],
      "execution_count": 33,
      "outputs": []
    },
    {
      "cell_type": "code",
      "metadata": {
        "colab": {
          "base_uri": "https://localhost:8080/"
        },
        "id": "QIAj7ysZFX_7",
        "outputId": "209dbd7e-463f-4830-a852-1754db541837"
      },
      "source": [
        "hidden_dim = 50\n",
        "model = LSTM(X, Y, hidden_dim)\n",
        "model.train(nIter = 20000, batch_size = 128)"
      ],
      "execution_count": 34,
      "outputs": [
        {
          "output_type": "stream",
          "text": [
            "It: 0, Loss: 1.072e+00, Time: 0.02\n",
            "It: 100, Loss: 8.430e-01, Time: 1.49\n",
            "It: 200, Loss: 7.185e-01, Time: 1.52\n",
            "It: 300, Loss: 6.051e-01, Time: 1.51\n",
            "It: 400, Loss: 5.460e-01, Time: 1.51\n",
            "It: 500, Loss: 7.382e-01, Time: 1.48\n",
            "It: 600, Loss: 6.119e-01, Time: 1.49\n",
            "It: 700, Loss: 6.943e-01, Time: 1.46\n",
            "It: 800, Loss: 4.738e-01, Time: 1.48\n",
            "It: 900, Loss: 6.453e-01, Time: 1.47\n",
            "It: 1000, Loss: 4.343e-01, Time: 1.46\n",
            "It: 1100, Loss: 4.745e-01, Time: 1.48\n",
            "It: 1200, Loss: 5.271e-01, Time: 1.45\n",
            "It: 1300, Loss: 4.749e-01, Time: 1.48\n",
            "It: 1400, Loss: 2.739e-01, Time: 1.51\n",
            "It: 1500, Loss: 5.382e-01, Time: 1.48\n",
            "It: 1600, Loss: 2.713e-01, Time: 1.50\n",
            "It: 1700, Loss: 2.838e-01, Time: 1.52\n",
            "It: 1800, Loss: 2.707e-01, Time: 1.45\n",
            "It: 1900, Loss: 2.317e-01, Time: 1.54\n",
            "It: 2000, Loss: 2.534e-01, Time: 1.51\n",
            "It: 2100, Loss: 1.679e-01, Time: 1.49\n",
            "It: 2200, Loss: 1.173e-01, Time: 1.46\n",
            "It: 2300, Loss: 1.720e-01, Time: 1.48\n",
            "It: 2400, Loss: 1.341e-01, Time: 1.55\n",
            "It: 2500, Loss: 2.558e-01, Time: 1.50\n",
            "It: 2600, Loss: 1.512e-01, Time: 1.48\n",
            "It: 2700, Loss: 9.458e-02, Time: 1.48\n",
            "It: 2800, Loss: 9.551e-02, Time: 1.49\n",
            "It: 2900, Loss: 1.643e-01, Time: 1.48\n",
            "It: 3000, Loss: 1.455e-01, Time: 1.46\n",
            "It: 3100, Loss: 2.820e-01, Time: 1.50\n",
            "It: 3200, Loss: 1.218e-01, Time: 1.50\n",
            "It: 3300, Loss: 1.163e-01, Time: 1.49\n",
            "It: 3400, Loss: 9.765e-02, Time: 1.47\n",
            "It: 3500, Loss: 1.382e-01, Time: 1.45\n",
            "It: 3600, Loss: 7.525e-02, Time: 1.45\n",
            "It: 3700, Loss: 2.066e-01, Time: 1.49\n",
            "It: 3800, Loss: 1.497e-01, Time: 1.53\n",
            "It: 3900, Loss: 1.255e-01, Time: 1.49\n",
            "It: 4000, Loss: 9.494e-02, Time: 1.49\n",
            "It: 4100, Loss: 1.119e-01, Time: 1.47\n",
            "It: 4200, Loss: 5.340e-02, Time: 1.47\n",
            "It: 4300, Loss: 9.539e-02, Time: 1.47\n",
            "It: 4400, Loss: 9.553e-02, Time: 1.47\n",
            "It: 4500, Loss: 4.959e-02, Time: 1.55\n",
            "It: 4600, Loss: 4.758e-02, Time: 1.50\n",
            "It: 4700, Loss: 8.213e-02, Time: 1.55\n",
            "It: 4800, Loss: 7.610e-02, Time: 1.50\n",
            "It: 4900, Loss: 8.723e-02, Time: 1.50\n",
            "It: 5000, Loss: 5.675e-02, Time: 1.47\n",
            "It: 5100, Loss: 4.505e-02, Time: 1.53\n",
            "It: 5200, Loss: 1.033e-01, Time: 1.54\n",
            "It: 5300, Loss: 6.225e-02, Time: 1.50\n",
            "It: 5400, Loss: 2.935e-02, Time: 1.51\n",
            "It: 5500, Loss: 1.008e-01, Time: 1.45\n",
            "It: 5600, Loss: 1.486e-01, Time: 1.46\n",
            "It: 5700, Loss: 1.166e-01, Time: 1.50\n",
            "It: 5800, Loss: 8.204e-02, Time: 1.52\n",
            "It: 5900, Loss: 3.891e-02, Time: 1.47\n",
            "It: 6000, Loss: 1.456e-01, Time: 1.47\n",
            "It: 6100, Loss: 1.032e-01, Time: 1.47\n",
            "It: 6200, Loss: 1.859e-01, Time: 1.48\n",
            "It: 6300, Loss: 3.113e-02, Time: 1.50\n",
            "It: 6400, Loss: 7.443e-02, Time: 1.50\n",
            "It: 6500, Loss: 1.171e-01, Time: 1.54\n",
            "It: 6600, Loss: 9.105e-02, Time: 1.47\n",
            "It: 6700, Loss: 3.628e-02, Time: 1.50\n",
            "It: 6800, Loss: 1.158e-01, Time: 1.51\n",
            "It: 6900, Loss: 8.012e-02, Time: 1.49\n",
            "It: 7000, Loss: 7.501e-02, Time: 1.48\n",
            "It: 7100, Loss: 2.164e-02, Time: 1.49\n",
            "It: 7200, Loss: 9.431e-02, Time: 1.46\n",
            "It: 7300, Loss: 8.816e-02, Time: 1.51\n",
            "It: 7400, Loss: 4.975e-02, Time: 1.52\n",
            "It: 7500, Loss: 1.235e-01, Time: 1.47\n",
            "It: 7600, Loss: 5.649e-02, Time: 1.50\n",
            "It: 7700, Loss: 9.652e-02, Time: 1.48\n",
            "It: 7800, Loss: 1.464e-01, Time: 1.49\n",
            "It: 7900, Loss: 7.076e-02, Time: 1.49\n",
            "It: 8000, Loss: 5.219e-02, Time: 1.50\n",
            "It: 8100, Loss: 7.485e-02, Time: 1.47\n",
            "It: 8200, Loss: 6.425e-02, Time: 1.49\n",
            "It: 8300, Loss: 1.602e-02, Time: 1.51\n",
            "It: 8400, Loss: 8.252e-02, Time: 1.47\n",
            "It: 8500, Loss: 6.746e-02, Time: 1.47\n",
            "It: 8600, Loss: 1.166e-01, Time: 1.47\n",
            "It: 8700, Loss: 7.322e-02, Time: 1.47\n",
            "It: 8800, Loss: 5.381e-02, Time: 1.51\n",
            "It: 8900, Loss: 1.542e-02, Time: 1.47\n",
            "It: 9000, Loss: 6.284e-02, Time: 1.50\n",
            "It: 9100, Loss: 6.344e-02, Time: 1.47\n",
            "It: 9200, Loss: 7.898e-02, Time: 1.49\n",
            "It: 9300, Loss: 6.462e-02, Time: 1.45\n",
            "It: 9400, Loss: 1.960e-02, Time: 1.47\n",
            "It: 9500, Loss: 1.819e-01, Time: 1.47\n",
            "It: 9600, Loss: 8.716e-02, Time: 1.46\n",
            "It: 9700, Loss: 1.157e-01, Time: 1.51\n",
            "It: 9800, Loss: 7.015e-02, Time: 1.54\n",
            "It: 9900, Loss: 4.948e-02, Time: 1.52\n",
            "It: 10000, Loss: 2.521e-02, Time: 1.56\n",
            "It: 10100, Loss: 5.095e-02, Time: 1.51\n",
            "It: 10200, Loss: 1.046e-01, Time: 1.48\n",
            "It: 10300, Loss: 1.668e-01, Time: 1.51\n",
            "It: 10400, Loss: 3.004e-02, Time: 1.51\n",
            "It: 10500, Loss: 8.184e-02, Time: 1.50\n",
            "It: 10600, Loss: 1.795e-02, Time: 1.52\n",
            "It: 10700, Loss: 1.087e-01, Time: 1.47\n",
            "It: 10800, Loss: 1.441e-02, Time: 1.51\n",
            "It: 10900, Loss: 8.977e-02, Time: 1.50\n",
            "It: 11000, Loss: 4.922e-02, Time: 1.48\n",
            "It: 11100, Loss: 6.578e-02, Time: 1.50\n",
            "It: 11200, Loss: 1.280e-01, Time: 1.55\n",
            "It: 11300, Loss: 7.204e-02, Time: 1.48\n",
            "It: 11400, Loss: 2.433e-02, Time: 1.50\n",
            "It: 11500, Loss: 6.476e-02, Time: 1.48\n",
            "It: 11600, Loss: 5.597e-02, Time: 1.49\n",
            "It: 11700, Loss: 1.163e-01, Time: 1.47\n",
            "It: 11800, Loss: 4.287e-02, Time: 1.50\n",
            "It: 11900, Loss: 2.326e-02, Time: 1.45\n",
            "It: 12000, Loss: 1.075e-01, Time: 1.46\n",
            "It: 12100, Loss: 3.282e-02, Time: 1.46\n",
            "It: 12200, Loss: 9.168e-02, Time: 1.48\n",
            "It: 12300, Loss: 8.697e-02, Time: 1.47\n",
            "It: 12400, Loss: 6.367e-02, Time: 1.50\n",
            "It: 12500, Loss: 8.619e-02, Time: 1.51\n",
            "It: 12600, Loss: 1.423e-02, Time: 1.48\n",
            "It: 12700, Loss: 4.257e-02, Time: 1.49\n",
            "It: 12800, Loss: 7.173e-02, Time: 1.53\n",
            "It: 12900, Loss: 2.039e-02, Time: 1.47\n",
            "It: 13000, Loss: 1.253e-01, Time: 1.45\n",
            "It: 13100, Loss: 2.495e-02, Time: 1.51\n",
            "It: 13200, Loss: 3.993e-02, Time: 1.51\n",
            "It: 13300, Loss: 1.292e-02, Time: 1.50\n",
            "It: 13400, Loss: 4.451e-02, Time: 1.52\n",
            "It: 13500, Loss: 1.267e-01, Time: 1.53\n",
            "It: 13600, Loss: 9.591e-02, Time: 1.49\n",
            "It: 13700, Loss: 1.583e-01, Time: 1.51\n",
            "It: 13800, Loss: 2.624e-02, Time: 1.50\n",
            "It: 13900, Loss: 9.147e-02, Time: 1.49\n",
            "It: 14000, Loss: 3.888e-02, Time: 1.46\n",
            "It: 14100, Loss: 6.427e-02, Time: 1.48\n",
            "It: 14200, Loss: 5.879e-02, Time: 1.49\n",
            "It: 14300, Loss: 9.478e-02, Time: 1.48\n",
            "It: 14400, Loss: 5.745e-02, Time: 1.48\n",
            "It: 14500, Loss: 1.145e-01, Time: 1.55\n",
            "It: 14600, Loss: 5.838e-02, Time: 1.49\n",
            "It: 14700, Loss: 1.790e-01, Time: 1.51\n",
            "It: 14800, Loss: 1.099e-01, Time: 1.48\n",
            "It: 14900, Loss: 1.046e-01, Time: 1.48\n",
            "It: 15000, Loss: 1.161e-01, Time: 1.48\n",
            "It: 15100, Loss: 1.217e-02, Time: 1.50\n",
            "It: 15200, Loss: 1.208e-01, Time: 1.46\n",
            "It: 15300, Loss: 5.629e-02, Time: 1.46\n",
            "It: 15400, Loss: 1.887e-02, Time: 1.46\n",
            "It: 15500, Loss: 1.984e-02, Time: 1.50\n",
            "It: 15600, Loss: 7.154e-02, Time: 1.49\n",
            "It: 15700, Loss: 1.035e-01, Time: 1.48\n",
            "It: 15800, Loss: 5.498e-02, Time: 1.51\n",
            "It: 15900, Loss: 1.226e-01, Time: 1.50\n",
            "It: 16000, Loss: 9.749e-02, Time: 1.49\n",
            "It: 16100, Loss: 7.082e-02, Time: 1.46\n",
            "It: 16200, Loss: 1.213e-02, Time: 1.47\n",
            "It: 16300, Loss: 9.302e-02, Time: 1.48\n",
            "It: 16400, Loss: 6.094e-02, Time: 1.53\n",
            "It: 16500, Loss: 3.185e-02, Time: 1.56\n",
            "It: 16600, Loss: 3.657e-02, Time: 1.47\n",
            "It: 16700, Loss: 1.026e-01, Time: 1.48\n",
            "It: 16800, Loss: 1.492e-02, Time: 1.47\n",
            "It: 16900, Loss: 5.081e-02, Time: 1.49\n",
            "It: 17000, Loss: 6.760e-02, Time: 1.48\n",
            "It: 17100, Loss: 6.876e-02, Time: 1.47\n",
            "It: 17200, Loss: 8.322e-02, Time: 1.50\n",
            "It: 17300, Loss: 1.381e-01, Time: 1.48\n",
            "It: 17400, Loss: 1.226e-02, Time: 1.48\n",
            "It: 17500, Loss: 1.066e-01, Time: 1.48\n",
            "It: 17600, Loss: 4.561e-02, Time: 1.50\n",
            "It: 17700, Loss: 4.039e-02, Time: 1.49\n",
            "It: 17800, Loss: 6.112e-02, Time: 1.53\n",
            "It: 17900, Loss: 1.234e-01, Time: 1.48\n",
            "It: 18000, Loss: 6.211e-02, Time: 1.46\n",
            "It: 18100, Loss: 1.429e-01, Time: 1.47\n",
            "It: 18200, Loss: 4.208e-02, Time: 1.46\n",
            "It: 18300, Loss: 5.246e-02, Time: 1.53\n",
            "It: 18400, Loss: 7.923e-03, Time: 1.50\n",
            "It: 18500, Loss: 1.350e-02, Time: 1.56\n",
            "It: 18600, Loss: 2.581e-02, Time: 1.53\n",
            "It: 18700, Loss: 2.197e-02, Time: 1.46\n",
            "It: 18800, Loss: 5.061e-02, Time: 1.48\n",
            "It: 18900, Loss: 3.416e-02, Time: 1.45\n",
            "It: 19000, Loss: 1.278e-01, Time: 1.48\n",
            "It: 19100, Loss: 9.457e-02, Time: 1.48\n",
            "It: 19200, Loss: 1.067e-01, Time: 1.50\n",
            "It: 19300, Loss: 8.324e-02, Time: 1.48\n",
            "It: 19400, Loss: 8.451e-03, Time: 1.49\n",
            "It: 19500, Loss: 8.490e-02, Time: 1.52\n",
            "It: 19600, Loss: 7.277e-02, Time: 1.49\n",
            "It: 19700, Loss: 6.608e-02, Time: 1.49\n",
            "It: 19800, Loss: 7.829e-02, Time: 1.46\n",
            "It: 19900, Loss: 1.098e-01, Time: 1.50\n"
          ],
          "name": "stdout"
        }
      ]
    },
    {
      "cell_type": "code",
      "metadata": {
        "colab": {
          "base_uri": "https://localhost:8080/",
          "height": 282
        },
        "id": "ZeOZNrIcUkRW",
        "outputId": "912ba75e-79f3-47e6-df28-1b13a2b44956"
      },
      "source": [
        "plt.plot(model.training_loss)"
      ],
      "execution_count": 35,
      "outputs": [
        {
          "output_type": "execute_result",
          "data": {
            "text/plain": [
              "[<matplotlib.lines.Line2D at 0x7f38337170b8>]"
            ]
          },
          "metadata": {
            "tags": []
          },
          "execution_count": 35
        },
        {
          "output_type": "display_data",
          "data": {
            "image/png": "[encoded data removed]",
            "text/plain": [
              "<Figure size 432x288 with 1 Axes>"
            ]
          },
          "metadata": {
            "tags": [],
            "needs_background": "light"
          }
        }
      ]
    },
    {
      "cell_type": "code",
      "metadata": {
        "id": "uUzaCNHYHf21"
      },
      "source": [
        "x1_test, X1_test = create_dataset(norm_solution, lags)"
      ],
      "execution_count": 36,
      "outputs": []
    },
    {
      "cell_type": "code",
      "metadata": {
        "id": "3xtIPxEqKOe5"
      },
      "source": [
        "pred = np.zeros((len(norm_solution)-lags, X1_test.shape[-1]))\n",
        "#pred = np.zeros((len(norm_solution)-lags, Y.shape[-1]))\n",
        "\n",
        "X_tmp =  np.copy(x1_test[:,0:1,:])\n",
        "for i in range(0, len(norm_solution)-lags):\n",
        "  pred[i] = model.predict(X_tmp)\n",
        "  X_tmp[:-1,:,:] = X_tmp[1:,:,:] \n",
        "  X_tmp[-1,:,:] = pred[i]   "
      ],
      "execution_count": 37,
      "outputs": []
    },
    {
      "cell_type": "code",
      "metadata": {
        "colab": {
          "base_uri": "https://localhost:8080/"
        },
        "id": "6awQhKhcMuqN",
        "outputId": "61ba236e-116a-482c-b036-8067125c2946"
      },
      "source": [
        "np.linalg.norm(norm_solution[lags:][:,0] - pred[:,0])"
      ],
      "execution_count": 39,
      "outputs": [
        {
          "output_type": "execute_result",
          "data": {
            "text/plain": [
              "78.09412451376593"
            ]
          },
          "metadata": {
            "tags": []
          },
          "execution_count": 39
        }
      ]
    }
  ]
}